{
 "cells": [
  {
   "cell_type": "markdown",
   "metadata": {},
   "source": [
    "<style>\n",
    "@media print\n",
    "{\n",
    "h2 {page-break-before:always}\n",
    "}\n",
    "</style>\n",
    "\n",
    "# Homework 03\n",
    "\n",
    "### Brown University  \n",
    "### DATA 1010  \n",
    "### Fall 2019"
   ]
  },
  {
   "cell_type": "markdown",
   "metadata": {},
   "source": [
    "## Problem 1\n",
    "\n",
    "Eytan applied gradient descent to the function $f(x) = (x-3)(x-1)(x+2)(x+3)$ starting from $x_0 = -4$, and he found that his algorithm failed to converge because $x_2 = -4$, $x_4 = -4$, and so on. In other words, the iterates alternated between $-4$ and another value. What learning rate did he use?\n",
    "\n",
    "Hint: set up an equation for $\\epsilon$ and use SymPy to solve it."
   ]
  },
  {
   "cell_type": "markdown",
   "metadata": {},
   "source": [
    "**Solution**. We set $x_0 = -4$ and determine $x_2$ as a function of $\\epsilon$: "
   ]
  },
  {
   "cell_type": "code",
   "execution_count": null,
   "metadata": {},
   "outputs": [],
   "source": [
    "# solution\n",
    "using SymPy\n",
    "@vars ϵ\n",
    "df(x) = 4x^3 + 3x^2 - 22x - 9\n",
    "x0 = -4\n",
    "x1 = x0 - ϵ*df(x0)\n",
    "x2 = x1 - ϵ*df(x1)"
   ]
  },
  {
   "cell_type": "markdown",
   "metadata": {},
   "source": [
    "We set this expression equal to $-4$ and solve: "
   ]
  },
  {
   "cell_type": "code",
   "execution_count": null,
   "metadata": {},
   "outputs": [],
   "source": [
    "float.(solve(x2 + 4, ϵ))"
   ]
  },
  {
   "cell_type": "markdown",
   "metadata": {},
   "source": [
    "Only one of those values makes sense as a learning rate, so the answer is approximately $0.05849$. "
   ]
  },
  {
   "cell_type": "markdown",
   "metadata": {},
   "source": [
    "## Problem 2\n",
    "\n",
    "Consider the following random experiment: you flip a coin, and if it turns up heads, you roll a die. If it turns up tails, then you draw a ball from an urn containing balls labeled 1 to 11.\n",
    "\n",
    "Define a sample space $\\Omega$ for this random experiment."
   ]
  },
  {
   "cell_type": "markdown",
   "metadata": {},
   "source": [
    "**Solution**. The set of outcomes is\n",
    "  $$\n",
    "    \\Omega = \\{\n",
    "    (\\texttt{H},1),\n",
    "    (\\texttt{H},2), \n",
    "    (\\texttt{H},3), \n",
    "    (\\texttt{H},4), \n",
    "    (\\texttt{H},5), \n",
    "    (\\texttt{H},6), \n",
    "    (\\texttt{T},1),\n",
    "    (\\texttt{T},2), \n",
    "    (\\texttt{T},3), \n",
    "    (\\texttt{T},4), \n",
    "    (\\texttt{T},5), \n",
    "    (\\texttt{T},6),\n",
    "    (\\texttt{T},7),\n",
    "    (\\texttt{T},8),\n",
    "    (\\texttt{T},9),\n",
    "    (\\texttt{T},10),\n",
    "    (\\texttt{T},11)\n",
    "    \\}. \n",
    "  $$"
   ]
  },
  {
   "cell_type": "markdown",
   "metadata": {},
   "source": [
    "## Problem 3\n",
    "\n",
    "Suppose that $E$, $F$, and $G$ are events. Come up with events $E$, $F$, and $G$ which are pairwise disjoint and which satisfy \n",
    "\n",
    "$$\n",
    "E = \\tilde{E}, E\\cup F = \\tilde{E}\\cup\\tilde{F}\\text{, and }E \\cup F \\cup G = \\tilde{E}\\cup\\tilde{F}\\cup\\tilde{G}.\n",
    "$$"
   ]
  },
  {
   "cell_type": "markdown",
   "metadata": {},
   "source": [
    "**Solution**. The idea is to remove from each set any elements that belong to preceding sets: we define $\\widetilde{E} = E$, $\\widetilde{F} = F \\setminus E$, and $\\widetilde{G} = G \\setminus (F \\cup E)$. These sets are pairwise disjoint, since any $\\omega \\in E \\cup F \\cup G$ appears in exactly one of the sets $\\widetilde{E}, \\widetilde{F}, \\widetilde{G}$ (namely, the first one it appears in, with respect to the order $E,F,G$)."
   ]
  },
  {
   "cell_type": "markdown",
   "metadata": {},
   "source": [
    "## Problem 4\n",
    "\n",
    "Suppose that $A$ is the event that the high temperature in Providence next Tuesday is at least $65$ degrees Fahrenheit, let $B$ be the event that the high temperature in Providence next Tuesday is at least $60$ degrees Fahrenheit, and let $C$ be the event that it rains in Providence next Tuesday. Write each of the following events using the sets $A$, $B$, and $C$ and the operations $\\cap$, $\\cup$, and $ ^\\mathrm{c}$.\n",
    "\n",
    "(a) It will be less than $60$ degrees all day and rainy next Tuesday in Providence.\n",
    "\n",
    "(b) The high temperature in Providence next Tuesday will be at least $60$ degrees but not as high as $65$ degrees.\n",
    "\n",
    "(c) In Providence next Tuesday,it will either be dry or warm (where warm is defined to mean \"daily high of at least $65$ degrees\").\n",
    "\n",
    "(d) The daily high temperature in Providence next Tuesday will be higher than $65$ degrees and less than $60$ degrees."
   ]
  },
  {
   "cell_type": "markdown",
   "metadata": {},
   "source": [
    "**Solution**.  \n",
    "(a) Since $B^\\mathrm{c}$ and $C$ must both occur, this event is\n",
    "    $B^\\mathrm{c} \\cap C$.  \n",
    "(b) Since $B$ must occur and $A$ must not, this event is $B\n",
    "    \\setminus A$.  \n",
    "(c) We require either $C^\\mathrm{c}$ or $A$ to occur. Therefore,\n",
    "    this event is $A \\cup C^\\mathrm{c}$.  \n",
    "(d) We require both $A$ and $B^\\mathrm{c}$, so this event is\n",
    "    $A \\cap B^\\mathrm{c}$. In this instance, $A \\subset B$, so\n",
    "    $A \\cap B^\\mathrm{c} = \\emptyset$ (either answer is acceptable). "
   ]
  },
  {
   "cell_type": "markdown",
   "metadata": {},
   "source": [
    "## Problem 5\n",
    "\n",
    "Write a Julia program to find the exact value of the probability that in eight flips of a fair coin, no two consecutive flips turn up heads.\n",
    "\n",
    "Two hints: (i) you can write a recursive function to generate all possible outcomes, and (ii) if you store your flip sequences as strings, you can use the function `occursin` to check for the substring `HH` ."
   ]
  },
  {
   "cell_type": "code",
   "execution_count": null,
   "metadata": {},
   "outputs": [],
   "source": [
    "# solution\n",
    "\"\"\"\n",
    "Returns an array of all of the length-n\n",
    "strings with characters in {H,T} \n",
    "\"\"\"\n",
    "function flipsequences(n) \n",
    "    if n == 1\n",
    "        [\"H\",\"T\"]\n",
    "    else\n",
    "        [c*s for s in flipsequences(n-1) for c in (\"H\",\"T\")]\n",
    "    end\n",
    "end\n",
    "# we count up the number of sequences containing HH:\n",
    "sum([occursin(\"HH\",s) for s in flipsequences(8)])//length(flipsequences(8))"
   ]
  },
  {
   "cell_type": "markdown",
   "metadata": {},
   "source": [
    "## Problem 6\n",
    "\n",
    "The 52 cards in a standard deck (13 spades, 13 clubs, 13 diamonds, 13 hearts), are dealt into four hands of 13 cards each. What is the probability that one of the hands all of the hearts?"
   ]
  },
  {
   "cell_type": "markdown",
   "metadata": {},
   "source": [
    "**Solution.** The number of ways to deal the four hands is $\\binom{52}{13}\\binom{39}{13}\\binom{26}{13}\\binom{13}{13}$, since there are $\\binom{52}{13}$ ways of dealing the first hand, then $\\binom{39}{13}$ ways of dealing the second hand given any particular dealing of the first hand, and so on.\n",
    "\n",
    "The number of dealings that have all of the hearts in the first hand is $1\\binom{39}{13}\\binom{26}{13}\\binom{13}{13}$, since there is one way to put all of the hearts in the first hand, then $\\binom{39}{13}$ ways to put 13 of the remaining cards in the second hand, and so on. The number of ways to deal all of the hearts to the second hand is the same, and similarly for the third and fourth hands.\n",
    "\n",
    "So the ratio of the number of dealings where someone gets all of the hearts to the total number of dealings is\n",
    "$$\n",
    "\\frac{4}{\\binom{52}{13}} = 6.3 \\times 10^{-12}. \n",
    "$$"
   ]
  },
  {
   "cell_type": "markdown",
   "metadata": {},
   "source": [
    "## Problem 7\n",
    "\n",
    "Consider a random independent sequence of letters uniformly distributed in {a, b, . . . , z}. Use Monte Carlo simulation to estimate the expected number of letters that appear in the sequence up to the first appearance of aa.\n",
    "Repeat with ab in place of aa. Based on your findings, is the expected time to the first aa different from the expected time to the first ab?\n",
    " "
   ]
  },
  {
   "cell_type": "markdown",
   "metadata": {},
   "source": [
    "**Solution**. Using the Monte Carlo results below, we estimate the mean of the number of letters till `aa` around 700 and the mean of the\n",
    "  number of letters till `ab` around 680. \n",
    "```julia\n",
    "function rand_letters_till(word::AbstractString)\n",
    "    letters = String([rand(collect('a':'z')) for i=1:length(word)])\n",
    "    ctr = length(word)\n",
    "    while letters[end-length(word)+1:end] ≠ word\n",
    "        letters = letters[2:end] * rand(collect('a':'z'))\n",
    "        ctr += 1\n",
    "    end\n",
    "    ctr\n",
    "end\n",
    "mean(rand_letters_till(\"aa\") for i=1:10^5) # returns ~700\n",
    "mean(rand_letters_till(\"ab\") for i=1:10^5) # returns ~680\n",
    "```\n",
    "  If we run this block repeatedly, the `aa` estimate is\n",
    "  consistently 20-30 letters larger than the `ab`\n",
    "  estimate. This gives us confidence that the mean is genuinely\n",
    "  larger.\n",
    "\n",
    "**BONUS**: One way to see that the mean should be larger for `aa` is to\n",
    "  think about it progressively: you wait for an `aa` to appear,\n",
    "  and then you hope the next letter is `aa`. If it isn't, you're\n",
    "  back where you started. For `aa`, you're hoping the next\n",
    "  letter after the first `aa` you see is `aa`, but if it\n",
    "  isn't, there's a chance that it's another `aa`. In that case,\n",
    "  you're in much better position hoping the next letter is `aa`\n",
    "  than you would be if you were starting over from scratch.\n",
    "\n",
    "  We can actually calculate the expectations exactly. Imagine\n",
    "  infinitely many bettors, one for each integer $n \\geq 1$, placing a\n",
    "  wager on whether the $n$th letter is `aa`. The $n$th bettor\n",
    "  pays one dollar to receive 26 dollars if they win and nothing if\n",
    "  they lose. If the bettor wins (and if the game isn't over yet), then\n",
    "  they wager all of their winnings on the next letter being an\n",
    "  `aa`. So they will end up with either $26^2$ dollars or zero\n",
    "  dollars in that case.\n",
    "\n",
    "  Once we have seen the first `aa` in positions $N-1$ and $N$,\n",
    "  the bettor on position $N-1$ will have won $26^2$ dollars, and the\n",
    "  bettor on position $N$ will have won 26 dollars. So the winnings\n",
    "  will be exactly $26^2 + 26 = 702$ dollars. Since each bet was fair,\n",
    "  the amount of money paid in by the bettors must be equal in\n",
    "  expectation to the winnings. Therefore, the expected number of\n",
    "  dollars paid in is 702.\n",
    "\n",
    "  If we switch from `aa` to `aa`, the same analysis\n",
    "  holds except that the final bettor loses. So the total winnings are\n",
    "  $26^2 = 676$, and therefore so is the expected number of letters\n",
    "  that have appeared when we see the first `aa`.\n",
    "\n",
    "  This argument uses a theorem called the *optional stopping\n",
    "    theorem*, which says that if you're playing a progressive game\n",
    "  which is fair at each step you decide to stop at some point, the\n",
    "  stopped game is still fair. Those who are interested may read about\n",
    "  this theorem in any book which covers martingales (my favorite is\n",
    "  David Williams' *Probability with Martingales*)."
   ]
  },
  {
   "cell_type": "markdown",
   "metadata": {},
   "source": [
    "## Problem 8\n",
    "\n",
    "Suppose that many independent samples are drawn from the joint distribution of two random variables $X$ and $Y$, and the results are as shown in the first figure below. Sketch, by shading, your best guess of the density function of the distribution of $(X,Y)$. Also sketch a graph of the function $x\\mapsto \\mathbb{E}[Y | X = x]$.\n",
    "\n",
    "<center>\n",
    "    <div class=\"row\">\n",
    "    <img src=\"images/scatter1.svg\" style=\"height: 250px;\">\n",
    "    <img src=\"images/scatter2.svg\" style=\"height: 250px;\">\n",
    "    <img src=\"images/scatter3.svg\" style=\"height: 250px;\">\n",
    "    <img src=\"images/scatter4.svg\" style=\"height: 250px;\">\n",
    "    </div>\n",
    "</center>\n",
    "\n",
    "Repeat the exercise for each of the remaining figures."
   ]
  },
  {
   "cell_type": "markdown",
   "metadata": {},
   "source": [
    "# solution\n",
    "\n",
    "**Solution**. We expect that the density is large where there are lots of points, and the density is small where there are fewer points. We get something like the following: \n",
    "<center>\n",
    "    <img src=\"images/scatter1-density.png\" style=\"height: 200px;\">\n",
    "    <img src=\"images/scatter2-density.svg\" style=\"height: 200px;\">\n",
    "    <img src=\"images/scatter3-density.svg\" style=\"height: 200px;\">\n",
    "    <img src=\"images/scatter4-density.svg\" style=\"height: 200px;\">\n",
    "</center>  "
   ]
  },
  {
   "cell_type": "markdown",
   "metadata": {},
   "source": [
    "<center>\n",
    "  The conditional expectation given $X = x$ is obtained by finding the\n",
    "  center of mass of the joint density along each vertical line. We\n",
    "  get (and these are exact, by the way): \n",
    "<center>\n",
    "    <img src=\"images/scatter1-sol.svg\" style=\"height: 200px;\">\n",
    "    <img src=\"images/scatter2-sol.svg\" style=\"height: 200px;\">\n",
    "    <img src=\"images/scatter3-sol.svg\" style=\"height: 200px;\">\n",
    "    <img src=\"images/scatter4-sol.svg\" style=\"height: 200px;\">\n",
    "</center>"
   ]
  }
 ],
 "metadata": {
  "kernel_info": {
   "name": "julia-1.1"
  },
  "kernelspec": {
   "display_name": "Julia 1.2.0",
   "language": "julia",
   "name": "julia-1.2"
  },
  "language_info": {
   "file_extension": ".jl",
   "mimetype": "application/julia",
   "name": "julia",
   "version": "1.2.0"
  },
  "nteract": {
   "version": "0.15.0"
  }
 },
 "nbformat": 4,
 "nbformat_minor": 4
}
