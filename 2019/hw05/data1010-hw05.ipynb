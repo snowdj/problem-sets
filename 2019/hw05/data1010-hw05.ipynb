{
 "cells": [
  {
   "cell_type": "markdown",
   "metadata": {},
   "source": [
    "<style>\n",
    "@media print\n",
    "{\n",
    "h2 {page-break-before:always}\n",
    "}\n",
    "</style>\n",
    "\n",
    "# Homework 05\n",
    "\n",
    "### Brown University  \n",
    "### DATA 1010  \n",
    "### Fall 2019"
   ]
  },
  {
   "cell_type": "markdown",
   "metadata": {},
   "source": [
    "## Problem 1\n",
    "\n",
    "Label each of the following four estimators as either (i) biased and\n",
    "  consistent, (ii) biased and inconsistent, (iii) unbiased and\n",
    "  consistent, or (iv) unbiased and inconsistent.  The matching will be\n",
    "  one-to-one.\n",
    "\n",
    "(a) $X_1, X_2, \\ldots$ are i.i.d. Bernoulli random variables with\n",
    "    unknown $p$ and estimator \n",
    "    $$\\widehat{p} = \\frac{1}{n}\\sum^n_{i=1}X_i$$\n",
    "\n",
    "(b) $X_1, X_2, \\ldots$ are i.i.d. $\\mathcal{N}(\\mu,\\sigma^2)$, with\n",
    "    unknown $\\mu$ and $\\sigma^2$ and estimator \n",
    "    $$\\widehat{\\sigma}^2 = \\frac{\\displaystyle{\\sum^n_{i=1}(X_i-\\bar{X})^2}}{n}$$\n",
    "\n",
    "(c) $X_1, X_2, \\ldots$ are i.i.d. uniform random variables on an\n",
    "    unknown bounded interval. For $n\\geq 100$ we estimate the\n",
    "    mean using\n",
    "    $$\\widehat{\\mu} = \\frac{\\displaystyle{\\sum^{100}_{i=1}X_i}}{100}$$\n",
    "    \n",
    "(d) $X_1, X_2, \\ldots$ are i.i.d. $\\mathcal{N}(\\mu,\\sigma^2)$, with\n",
    "    unknown $\\mu$ and $\\sigma^2$. For $n\\geq 100$ we estimate the\n",
    "    standard deviation using\n",
    "    $$\\widehat{\\sigma} = \\sqrt{\\frac{\\displaystyle{\\sum^{100}_{i=1}(X_i-\\overline{X})^2}}{99}}$$"
   ]
  },
  {
   "cell_type": "markdown",
   "metadata": {},
   "source": [
    "## Problem 2\n",
    "\n",
    "Suppose that $X_1, \\dots, X_n$ are independent\n",
    "  $\\mathrm{Unif}[0, \\theta]$ random variables, where $\\theta$ is an\n",
    "  unknown parameter, and consider the\n",
    "  following estimators for $\\theta$: \n",
    "  $$\\widehat{\\theta}_1 = \\max(X_1, \\dots, X_n),  \\qquad \\widehat{\\theta}_2 = 2 \\cdot \\frac{X_1 + \\cdots + X_n}{n}$$\n",
    "\n",
    "\n",
    "(a) Find the CDF of $\\widehat{\\theta}_1$. \n",
    "\n",
    "(b) Recall that if $F_{\\widehat{\\theta}_1}(x)$ and\n",
    "    $f_{\\widehat{\\theta}_1}(x)$ are the CDF and PDF of\n",
    "    $\\widehat{\\theta}_1$ respectively,\n",
    "    then $\n",
    "    \\displaystyle{\\frac{d}{dx}F_{\\widehat{\\theta}_1}(x) =\n",
    "      f_{\\widehat{\\theta}_1}(x)}$.\n",
    "    Differentiate your answer to (a) to find the PDF of $\\widehat{\\theta}_1$. \n",
    "\n",
    "(c) Show that $\\widehat{\\theta}_1$ is consistent. \n",
    "\n",
    "(d) Find $\\mathbb{E}\\left[{\\widehat{\\theta}_1}\\right]$ and\n",
    "    $\\mathbb{E}\\left[\\widehat{\\theta}_2\\right].$ Which estimator is biased? \n",
    "\n",
    "(e) Find $\\operatorname{Var}\\left({\\widehat{\\theta}_1}\\right)$ and\n",
    "    $\\operatorname{Var}\\left(\\widehat{\\theta}_2\\right).$ Which estimator has lower\n",
    "    variance? \n",
    "\n",
    "(f) Show that the mean squared error of $\\widehat{\\theta}_1$\n",
    "    is less than the mean squared error of $\\widehat{\\theta}_2$\n",
    "    whenever $n \\geq 3$. \n",
    "    \n",
    "Hint: this problem is pretty calculus intensive. SymPy is your friend."
   ]
  },
  {
   "cell_type": "markdown",
   "metadata": {},
   "source": [
    "## Problem 3\n",
    "\n",
    "(a) **Hoeffding's inequality** says that if\n",
    "    $Y_1, Y_2, \\ldots$ are independent random variables with the\n",
    "    property that $\\mathbb{E}[Y_i] = 0$ and $a_i \\leq Y_i \\leq b_i$ for all\n",
    "    $i$, then for all $\\epsilon>0$ and $t > 0$, we have\n",
    "    $$\\mathbb{P}\\left(Y_1 + Y_2 + \\cdots + Y_n \\geq \\epsilon \\right) \\leq\n",
    "      e^{-t \\epsilon} \\prod_{i=1}^n e^{t^2(b_i-a_i)^2/8}.$$\n",
    "    \n",
    "   Use Hoeffding's inequality to show that if $X_1, X_2, X_3, \\ldots$\n",
    "    is a sequence of independent $\\operatorname{Bernoulli}(p)$ random\n",
    "    variables, then for all $\\alpha > 0$, the interval\n",
    "    $\\left(\\overline{X}_n - \\sqrt{\\frac{1}{2n}\\log(2/\\alpha)},\n",
    "      \\overline{X}_n + \\sqrt{\\frac{1}{2n}\\log(2/\\alpha)}\\right)$ is a\n",
    "    confidence interval for $p$ with confidence level $1 -\n",
    "    \\alpha$. Explain what happens to the width of this confidence\n",
    "    interval if $n$ gets large, and also what happens to the width\n",
    "    if $\\alpha$ is made very small.\n",
    "    \n",
    "(b) As above, consider $n$ independent\n",
    "    $\\operatorname{Bernoulli}(p)$'s. Find the normal-approximation\n",
    "    confidence interval for $p$\n",
    "\n",
    "(c) As above, consider $n$ independent\n",
    "    $\\operatorname{Bernoulli}(p)$'s. Find the Chebyshev confidence\n",
    "    interval for $p$. (Chebyshev's inequality says that the probability of any random variable deviating from its mean by more than $k$ standard deviations is no more than $1/k^2$.)\n",
    "\n",
    "(d) Find the numerical values of the half-widths for each of the\n",
    "    above confidence intervals when $p = \\frac{1}{2}$, $n = 1000$, and\n",
    "    $\\alpha = 0.05$ (approximating $\\overline{X}$ as $p$). "
   ]
  },
  {
   "cell_type": "markdown",
   "metadata": {},
   "source": [
    "## Problem 4\n",
    "\n",
    "I drew 6 observations from an undisclosed distribution and obtained the following results:\n",
    "  `u = [6.19,7.048,6.143,5.459,4.603,4.335]`\n",
    "  \n",
    "I also drew 8 observations from another undisclosed distribution and got \n",
    "  `v = [8.924,4.698,6.095,4.223,3.643,1.624,1.444,6.309]`\n",
    "  \n",
    "(a) Determine whether the Wald hypothesis test (with significance $\\alpha = 0.05$) rejects the null hypothesis that the mean of the two distributions are equal. \n",
    "\n",
    "(b) Repeat with Welch's t-test in place of the the Wald test. "
   ]
  },
  {
   "cell_type": "markdown",
   "metadata": {},
   "source": [
    "## Problem 5\n",
    "\n",
    "Consider a distribution $\\nu$ which is known only via a dozen samples therefrom, the values of which are\n",
    "```julia\n",
    "    [8.924,4.698,6.095,4.223,3.643,1.624,1.444,6.309]\n",
    "```\n",
    "\n",
    "(a) Obtain a bootstrap estimate of the standard deviation of the\n",
    "    median of five independent samples from $\\nu$.\n",
    "\n",
    "(b) The actual standard deviation of the median of 5 samples from\n",
    "    $\\nu$ is approximately 2.14. How close is the value you found?\n",
    "    Could you have gotten as close as desired to this value by\n",
    "    choosing sufficiently many bootstrap re-samplings?"
   ]
  },
  {
   "cell_type": "markdown",
   "metadata": {},
   "source": [
    "## Problem 6\n",
    "\n",
    "Consider a population of patients who have had a recent heart attack. A randomized trial is conducted in which each patient is assigned with equal probability (and independently of any attribute of the patient) to either a heart medication regimen or a placebo. Each patient has a unknown genetic attribute $X$ which is uniformly distributed on $[0,1]$.\n",
    "\n",
    "Suppose that the probability that a patient will comply with the regimen (that is, take the medication as prescribed) is $(1+X)/2$. The conditional probability that they will survive the following decade, given $X$ and given that they take the drug, is $3X/4$. The conditional probability that they will survive the following decade is, given $X$ and given that they do not take the drug, is $(X+1)/4$.\n",
    "\n",
    "(a) Fill out the following tables, indicating the probability of each outcome. The eight numbers should sum to 1. \n",
    "\n",
    "<table>\n",
    "  <tr>\n",
    "    <th>Drug condition</th>\n",
    "    <td>survives</td>\n",
    "    <td>does not survive</td>\n",
    "  </tr>\n",
    "  <tr>\n",
    "    <td>complaint</td>\n",
    "    <td>_</td>\n",
    "    <td>_</td>\n",
    "  </tr>\n",
    "  <tr>\n",
    "    <td>non-compliant</td>\n",
    "    <td>_</td>\n",
    "    <td>_</td>\n",
    "  </tr>\n",
    "</table>\n",
    "<table>\n",
    "  <tr>\n",
    "    <th>Placebo condition</th>\n",
    "    <td>survives</td>\n",
    "    <td>does not survive</td>\n",
    "  </tr>\n",
    "  <tr>\n",
    "    <td>complaint</td>\n",
    "    <td>_</td>\n",
    "    <td>_</td>\n",
    "  </tr>\n",
    "  <tr>\n",
    "    <td>non-compliant</td>\n",
    "    <td>_</td>\n",
    "    <td>_</td>\n",
    "  </tr>\n",
    "</table>\n",
    "\n",
    "Hint: you want to work out the conditional probabilities of each event given $X$, and then find the expected value of the resulting conditional probability by integrating against the density of $X$. \n",
    "\n",
    "(b) Does a randomly selected patient have a higher conditional probability of surviving if they take the drug or if they do not? Does comparing the survival probabilities for the drug and placebo conditions give the correct answer to this question?\n",
    "\n",
    "(c) Suppose you know yourself well enough to be confident that you'd be relatively unlikely to comply with a prescription regimen if you had participated in this clinical trial. Based on the given probability model, should you take the drug? Would you get the right answer or the wrong answer if you just compared the survival rates for compliant and noncompliant patients?"
   ]
  },
  {
   "cell_type": "markdown",
   "metadata": {},
   "source": [
    "## Problem 7\n",
    "\n",
    "(a) Write a function which a distribution `D`, together with an $\\alpha$ value and a positive integer $n$ and returns `true` or `false` according to whether the empirical CDF for a random sample of size $n$ obeys the bound in the DKW inequality. \n",
    "\n",
    "(b) Run the function many times with `α = 0.05` and check that it returns `true` around 95% of the time. "
   ]
  },
  {
   "cell_type": "code",
   "execution_count": null,
   "metadata": {},
   "outputs": [],
   "source": [
    "function DKW_check(D, α, n)\n",
    "end"
   ]
  },
  {
   "cell_type": "code",
   "execution_count": null,
   "metadata": {},
   "outputs": [],
   "source": [
    "D = Uniform(0,1)\n",
    "α = 0.05\n",
    "n = 1000\n",
    "mean(DKW_check(D, α, n) for _ in 1:10000)"
   ]
  },
  {
   "cell_type": "markdown",
   "metadata": {},
   "source": [
    "## Problem 8\n",
    "\n",
    "Consider a family of distributions of the form $\\mathrm{Uniform}(\\theta, \\theta+1)$, where $\\theta$ is a parameter. Given a sample $X_1, \\ldots, X_n$, show that there isn't a unique maximum likelihood estimator for $\\theta$"
   ]
  }
 ],
 "metadata": {
  "jupytext": {
   "formats": "ipynb,md"
  },
  "kernelspec": {
   "display_name": "Julia 1.2.0",
   "language": "julia",
   "name": "julia-1.2"
  },
  "language_info": {
   "file_extension": ".jl",
   "mimetype": "application/julia",
   "name": "julia",
   "version": "1.2.0"
  }
 },
 "nbformat": 4,
 "nbformat_minor": 4
}
