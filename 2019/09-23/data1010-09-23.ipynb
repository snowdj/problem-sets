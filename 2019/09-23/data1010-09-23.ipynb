{
  "cells": [
    {
      "cell_type": "markdown",
      "source": [
        "## Probability Review\n",
        "\n",
        "#### *23 September 2019*\n",
        "#### *DATA 1010*\n",
        "\n",
        "We review fundamental concepts in probability, including: probability spaces, independence and conditional probability, expectation, and covariance. Note that there are way too many probabilty space questions and we cover this material in few days of lectures. The following problems do not make an exhaustive list."
      ],
      "metadata": {}
    },
    {
      "cell_type": "markdown",
      "source": [
        "## Probability Space"
      ],
      "metadata": {}
    },
    {
      "cell_type": "markdown",
      "source": [
        "### Problem 1   \n",
        "\n",
        "Let\n",
        "  $\\Omega = \\{(\\texttt{H},\\texttt{H}), (\\texttt{H},\\texttt{T}),\n",
        "  (\\texttt{T},\\texttt{H}), (\\texttt{T},\\texttt{T})\\},$ and let\n",
        "  $m(\\omega)=\\frac{1}{4}$ for each $\\omega \\in \\Omega$.\n",
        "  \n",
        "  Identify a mathematical object in the model $(\\Omega, m)$ which can\n",
        "  be said to correspond to the phrase 'the first flip turns up\n",
        "  heads'. Which of the following is true of this object?   \n",
        "  \n",
        "(i) It is one of the values of the function $m$   \n",
        "(ii) It is the set $\\Omega$   \n",
        "(iii) It is a subset of $\\Omega$   \n",
        "(iv) It is one of the elements of $\\Omega$"
      ],
      "metadata": {}
    },
    {
      "cell_type": "markdown",
      "source": [
        "*Write your solution here*"
      ],
      "metadata": {}
    },
    {
      "cell_type": "markdown",
      "source": [],
      "metadata": {}
    },
    {
      "cell_type": "markdown",
      "source": [
        "---\n",
        "\n",
        "### Problem 2\n",
        "\n",
        "Explain how to obtain the probability of an event from the probability mass function.\n",
        "\n",
        "For concreteness, consider $\\Omega = \\{(\\texttt{H},\\texttt{H}), (\\texttt{H},\\texttt{T}), (\\texttt{T},\\texttt{H}), (\\texttt{T},\\texttt{T})\\}$, a probability mass function which assigns mass $\\frac{1}{4}$ to each outcome, and the event $\\{(\\texttt{H},\\texttt{H}), (\\texttt{H},\\texttt{T})\\}$."
      ],
      "metadata": {}
    },
    {
      "cell_type": "markdown",
      "source": [
        "*Write your solution here*"
      ],
      "metadata": {}
    },
    {
      "cell_type": "markdown",
      "source": [],
      "metadata": {}
    },
    {
      "cell_type": "markdown",
      "source": [
        "---\n",
        "\n",
        "### Problem 3\n",
        "\n",
        "Match each term to its corresponding set-theoretic operation. Assume that $E$ and $F$ are events.\n",
        "\n",
        "For concreteness, you can think about the events 'first flip comes up heads' and 'second flip comes up heads' for the two-flip probability space we've been considering.\n",
        "\n",
        "| | |\n",
        "|---------------------------------------------------|--------------------------------------|\n",
        "| (a) the event that $E$ and $F$ both occur          | (i) the intersection $E \\cap F$       |\n",
        "| (b) the event that $E$ does not occur              | (ii) the union $E \\cup F$             |\n",
        "| (c) the event that either $E$ occurs or $F$ occurs | (iii) the complement $E^{\\mathsf{c}}$ |"
      ],
      "metadata": {}
    },
    {
      "cell_type": "markdown",
      "source": [
        "*Write your solution here*"
      ],
      "metadata": {}
    },
    {
      "cell_type": "markdown",
      "source": [],
      "metadata": {}
    },
    {
      "cell_type": "markdown",
      "source": [
        "---\n",
        "\n",
        "### Problem 4  \n",
        "\n",
        "Suppose a group of $n$ friends enter the lottery. For $i \\in \\{1, \\dots , n\\}$ let $E_i$ be the event that the $i$th friend wins. Express the following events using set notation. \n",
        "\n",
        "(1) At least one friend loses.   \n",
        "(2) All friends win.   \n",
        "(3) At least one friend wins."
      ],
      "metadata": {}
    },
    {
      "cell_type": "markdown",
      "source": [
        "*Write your solution here*"
      ],
      "metadata": {}
    },
    {
      "cell_type": "markdown",
      "source": [],
      "metadata": {}
    },
    {
      "cell_type": "markdown",
      "source": [
        "---\n",
        "\n",
        "### Problem 5   \n",
        "\n",
        "What is the cardinality of the domain of the function $\\mathbb{P}$ if\n",
        "$$ \\Omega = \\{(\\texttt{H},\\texttt{H}), (\\texttt{H},\\texttt{T}), (\\texttt{T},\\texttt{H}), (\\texttt{T},\\texttt{T})\\}? $$"
      ],
      "metadata": {}
    },
    {
      "cell_type": "markdown",
      "source": [
        "*Write your solution here*"
      ],
      "metadata": {}
    },
    {
      "cell_type": "markdown",
      "source": [],
      "metadata": {}
    },
    {
      "cell_type": "markdown",
      "source": [
        "---\n",
        "\n",
        "### Problem 6   \n",
        "\n",
        "Consider events $A$ and $B$ where the occurrence of $A$ implies the occurrence of $B$. For example, suppose $A$ is the event that the Red Sox outscore the Yankees by 5 runs or more, and let $B$ be the event that the Red Sox win the game. Which of the following is the set-theoretic relationship between the events $A$ and $B$? \n",
        "\n",
        "(a) $A \\cap B = \\emptyset$   \n",
        "(b) $A \\subset B$  \n",
        "(c) $B \\subset A$"
      ],
      "metadata": {}
    },
    {
      "cell_type": "markdown",
      "source": [
        "*Write your solution here*"
      ],
      "metadata": {}
    },
    {
      "cell_type": "markdown",
      "source": [],
      "metadata": {}
    },
    {
      "cell_type": "markdown",
      "source": [
        "---\n",
        "\n",
        "### Problem 7   \n",
        "\n",
        "Use the additivity property and the fact that $A = (A \\cap B) \\cup (A \\cap B^{\\mathsf{c}})$ to show that if $B \\subset A \\subset \\Omega,$ then $\\mathbb{P}(B) \\leq \\mathbb{P}(A)$"
      ],
      "metadata": {}
    },
    {
      "cell_type": "markdown",
      "source": [
        "*Write your solution here*"
      ],
      "metadata": {}
    },
    {
      "cell_type": "markdown",
      "source": [],
      "metadata": {}
    },
    {
      "cell_type": "markdown",
      "source": [
        "---\n",
        "\n",
        "### Problem 8   \n",
        "\n",
        "Show that $\\mathbb{P}(A \\cup B) \\leq \\mathbb{P}(A) + \\mathbb{P}(B)$ for all events $A$ and $B$.\n",
        "\n",
        "\n",
        "Use this property to show that if $A$ occurs with probability zero and $B$ occurs with probability zero, then the probability that $A$ *or* $B$ occurs is also zero."
      ],
      "metadata": {}
    },
    {
      "cell_type": "markdown",
      "source": [
        "*Write your solution here*"
      ],
      "metadata": {}
    },
    {
      "cell_type": "markdown",
      "source": [],
      "metadata": {}
    },
    {
      "cell_type": "markdown",
      "source": [
        "---\n",
        "\n",
        "## Expectation   "
      ],
      "metadata": {}
    },
    {
      "cell_type": "markdown",
      "source": [
        "### Problem 9 \n",
        "\n",
        "Find the expected value of $X + Y$, where $X$ and $Y$ are independent random variables whose distributions have constant probability mass functions on $\\{0,1,2,3\\}$. What is the relationship between $\\mathbb{E}[X + Y], \\mathbb{E}[X], $ and $\\mathbb{E}[Y]$? "
      ],
      "metadata": {}
    },
    {
      "cell_type": "code",
      "source": [
        "*Write your solution here*"
      ],
      "outputs": [],
      "execution_count": null,
      "metadata": {}
    },
    {
      "cell_type": "markdown",
      "source": [],
      "metadata": {}
    },
    {
      "cell_type": "markdown",
      "source": [
        "---\n",
        "\n",
        "### Problem 10\n",
        "\n",
        "Consider a uniformly random permutation of the integers $\\{1,2,3,4\\}$. Let $X$ be 3 if the first two numbers are 1 and 2, and let it be 2 otherwise. Let $Y$ be 6 if the second and third numbers are 2 and 3; let it be 4 if the second number is 2 and the third number is not 3; and let it be 0 if the second number is not 2.\n",
        "\n",
        "Find $\\mathbb{E}[X+Y], \\mathbb{E}[X],$ and $\\mathbb{E}[Y]$."
      ],
      "metadata": {}
    },
    {
      "cell_type": "markdown",
      "source": [
        "*Write your solution here*"
      ],
      "metadata": {}
    },
    {
      "cell_type": "markdown",
      "source": [],
      "metadata": {}
    },
    {
      "cell_type": "markdown",
      "source": [
        "---\n",
        "\n",
        "### Problem 11\n",
        "\n",
        "Consider two unfair coins: the first has probability $\\frac{3}{5}$ of coming up heads, and the second has probability $\\frac{1}{3}$ of coming up heads. We define $X$ to be 2 if the first coin is heads and $-1$ otherwise, and we define $Y$ to be 1 if the first coin is tails and the second coin is heads, and 2 otherwise.\n",
        "\n",
        "Show that $\\mathbb{E}[X+Y] = \\mathbb{E}[X] + \\mathbb{E}[Y]$. "
      ],
      "metadata": {}
    },
    {
      "cell_type": "markdown",
      "source": [
        "*Write your solution here*"
      ],
      "metadata": {}
    },
    {
      "cell_type": "markdown",
      "source": [],
      "metadata": {}
    },
    {
      "cell_type": "markdown",
      "source": [
        "---\n",
        "\n",
        "### Problem 12   \n",
        "\n",
        "Suppose a fair coin is flipped and a fair die is rolled. We let $X$ be 1 or 2 if the coin turns up tails or heads, respectively, and we let $Y$ be the value of the die roll.\n",
        "\n",
        "(a) Calculate $\\mathbb{E}[XY]$ as well as $\\mathbb{E}[X]$ and $\\mathbb{E}[Y]$. What is the relationship between these three? \n",
        "\n",
        "(b) Suppose that $X$ is equal to 1 with probability $\\frac{1}{2}$ and $-1$ with probability $\\frac{1}{2}$. Suppose also that $Y = X$. Is it true that $\\mathbb{E}[XY] = \\mathbb{E}[X]\\mathbb{E}[Y]$?"
      ],
      "metadata": {}
    },
    {
      "cell_type": "markdown",
      "source": [
        "*Write your solution here*"
      ],
      "metadata": {}
    },
    {
      "cell_type": "markdown",
      "source": [],
      "metadata": {}
    },
    {
      "cell_type": "markdown",
      "source": [
        "---\n",
        "\n",
        "### Problem 13\n",
        "\n",
        "Find the expectation of a random variable whose density is the function f(x) = 2x on $[0, 1]$."
      ],
      "metadata": {}
    },
    {
      "cell_type": "markdown",
      "source": [
        "*Write your solution here*"
      ],
      "metadata": {}
    },
    {
      "cell_type": "markdown",
      "source": [],
      "metadata": {}
    },
    {
      "cell_type": "markdown",
      "source": [
        "---\n",
        "\n",
        "## Conditional Probability   "
      ],
      "metadata": {}
    },
    {
      "cell_type": "markdown",
      "source": [
        "### Problem 14\n",
        "\n",
        "Suppose you're 90% sure that your package was delivered today and 75% sure that if it was delivered it would be on your door step rather than tucked away in your mailbox. When you arrive at home and do not see your package right away, what is the conditional probability, given the observed information, that you'll find it in your mailbox?   "
      ],
      "metadata": {}
    },
    {
      "cell_type": "code",
      "source": [
        "*Write your solution here*"
      ],
      "outputs": [],
      "execution_count": null,
      "metadata": {}
    },
    {
      "cell_type": "markdown",
      "source": [],
      "metadata": {}
    },
    {
      "cell_type": "markdown",
      "source": [
        "---\n",
        "\n",
        "## Covariance & Independence    "
      ],
      "metadata": {}
    },
    {
      "cell_type": "markdown",
      "source": [
        "### Problem 15\n",
        "\n",
        "Does $\\operatorname{Cov}(X,Y) = 0$ imply that $X$ and $Y$ are independent?\n",
        "  \n",
        "*Hint:* Consider a random variable $X$ which is uniformly distributed on $\\{1,2,3\\}$ and an independent random variable $Z$ which is uniformly distributed on $\\{-1,1\\}$. Set $Y = ZX$. Consider the pair $(X,Y)$."
      ],
      "metadata": {}
    },
    {
      "cell_type": "markdown",
      "source": [
        "*Write your solution here*"
      ],
      "metadata": {}
    },
    {
      "cell_type": "markdown",
      "source": [],
      "metadata": {}
    },
    {
      "cell_type": "markdown",
      "source": [
        "---\n",
        "\n",
        "### Problem 16\n",
        "\n",
        "Consider a pair of random variables $(X,Y)$ whose joint distribution is supported on $[0,1]^2$ with density $6x^2y$. Show that $X$ and $Y$ are independent. \n",
        "\n",
        "\n",
        "Now suppose the joint density is $\\frac{3}{2}(x^2 + y^2)$. Show that $X$ and $Y$ are not independent.  "
      ],
      "metadata": {}
    },
    {
      "cell_type": "markdown",
      "source": [
        "*Write your solution here*"
      ],
      "metadata": {}
    },
    {
      "cell_type": "markdown",
      "source": [],
      "metadata": {}
    },
    {
      "cell_type": "code",
      "source": [],
      "outputs": [],
      "execution_count": null,
      "metadata": {}
    }
  ],
  "metadata": {
    "kernelspec": {
      "name": "julia-1.2",
      "language": "julia",
      "display_name": "Julia 1.2.0"
    },
    "language_info": {
      "file_extension": ".jl",
      "name": "julia",
      "mimetype": "application/julia",
      "version": "1.2.0"
    },
    "kernel_info": {
      "name": "julia-1.2"
    },
    "nteract": {
      "version": "0.15.0"
    }
  },
  "nbformat": 4,
  "nbformat_minor": 4
}