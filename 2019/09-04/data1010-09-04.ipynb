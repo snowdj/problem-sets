{
  "cells": [
    {
      "cell_type": "markdown",
      "source": [
        "## Introduction to Programming in Julia\n",
        "\n",
        "#### *04 September 2019*\n",
        "#### *DATA 1010*\n",
        "\n",
        "Today we will practice programming in Julia. If you are already familiar with Python, R, or MATLAB, you are likely to find Julia to be familiar. The primary distinction between Julia and those languages is that your code is compiled down to machine code behind the scenes, rather than being run in an interpreter. This has major implications for performance:"
      ],
      "metadata": {}
    },
    {
      "cell_type": "code",
      "source": [
        "\"\"\"\n",
        "Calculate the nth term Σₖ₌₁ⁿ(1/k) of the harmonic series\n",
        "\"\"\"\n",
        "function harmonic(n)\n",
        "    s = 0.0\n",
        "    for k in 1:n\n",
        "        s += 1/k\n",
        "    end\n",
        "    s\n",
        "end"
      ],
      "outputs": [
        {
          "output_type": "execute_result",
          "execution_count": 36,
          "data": {
            "text/plain": [
              "harmonic"
            ]
          },
          "metadata": {}
        }
      ],
      "execution_count": 36,
      "metadata": {}
    },
    {
      "cell_type": "code",
      "source": [
        "@time harmonic(10^8)"
      ],
      "outputs": [
        {
          "output_type": "stream",
          "name": "stdout",
          "text": [
            "  0.133894 seconds (15.93 k allocations: 869.700 KiB)\n"
          ]
        },
        {
          "output_type": "execute_result",
          "execution_count": 37,
          "data": {
            "text/plain": [
              "18.997896413852555"
            ]
          },
          "metadata": {}
        }
      ],
      "execution_count": 37,
      "metadata": {}
    },
    {
      "cell_type": "markdown",
      "source": [
        "`@time` is an example of a **macro** in Julia. It allows us flexibility to do things with code other than just running it. You mostly won't need to think about the details of macros, but you will have occasion to use them.\n",
        "\n",
        "Let's compare to Python. We can run Python in a Julia notebook using triple-quoted or single-quoted strings with `py` prefixed. "
      ],
      "metadata": {}
    },
    {
      "cell_type": "code",
      "source": [
        "using PyCall\n",
        "py\"\"\"\n",
        "def harmonic(n):\n",
        "    s = 0.0\n",
        "    for k in range(1,n+1):\n",
        "        s += 1/k\n",
        "    return s\n",
        "\"\"\"\n",
        "@time py\"harmonic(10**8)\""
      ],
      "outputs": [
        {
          "output_type": "stream",
          "name": "stdout",
          "text": [
            "  4.815290 seconds (10 allocations: 320 bytes)\n"
          ]
        },
        {
          "output_type": "execute_result",
          "execution_count": 38,
          "data": {
            "text/plain": [
              "18.997896413852555"
            ]
          },
          "metadata": {}
        }
      ],
      "execution_count": 38,
      "metadata": {}
    },
    {
      "cell_type": "markdown",
      "source": [
        "We can see the exact instructions being handed to the CPU for execution when we call a Julia function with `@code_native`. It isn't really readable, but the point is that there aren't many instructions. The amount of code involved in evaluating the analogous Python code is vastly larger."
      ],
      "metadata": {}
    },
    {
      "cell_type": "code",
      "source": [
        "@code_native harmonic(10^8)"
      ],
      "outputs": [
        {
          "output_type": "stream",
          "name": "stdout",
          "text": [
            "\t.section\t__TEXT,__text,regular,pure_instructions\n",
            "; ┌ @ In[36]:6 within `harmonic'\n",
            "; │┌ @ range.jl:5 within `Colon'\n",
            "; ││┌ @ range.jl:274 within `Type'\n",
            "; │││┌ @ range.jl:279 within `unitrange_last'\n",
            "; ││││┌ @ operators.jl:333 within `>='\n",
            "; │││││┌ @ In[36]:5 within `<='\n",
            "\ttestq\t%rdi, %rdi\n",
            "; │└└└└└\n",
            "\tjle\tL64\n",
            "\tnegq\t%rdi\n",
            "\tvxorpd\t%xmm0, %xmm0, %xmm0\n",
            "\tmovl\t$1, %eax\n",
            "\tmovabsq\t$5177966944, %rcx       ## imm = 0x134A18160\n",
            "\tvmovsd\t(%rcx), %xmm1           ## xmm1 = mem[0],zero\n",
            "\tnop\n",
            "; │ @ In[36]:7 within `harmonic'\n",
            "; │┌ @ int.jl:59 within `/'\n",
            "; ││┌ @ float.jl:271 within `float'\n",
            "; │││┌ @ float.jl:256 within `Type' @ float.jl:60\n",
            "L32:\n",
            "\tvcvtsi2sdq\t%rax, %xmm3, %xmm2\n",
            "; │└└└\n",
            "; │┌ @ float.jl:401 within `/'\n",
            "\tvdivsd\t%xmm2, %xmm1, %xmm2\n",
            "; │└\n",
            "; │┌ @ float.jl:395 within `+'\n",
            "\tvaddsd\t%xmm2, %xmm0, %xmm0\n",
            "; │└\n",
            "; │┌ @ range.jl:594 within `iterate'\n",
            "; ││┌ @ promotion.jl:403 within `=='\n",
            "\tleaq\t(%rdi,%rax), %rcx\n",
            "\taddq\t$1, %rcx\n",
            "; │└└\n",
            "; │┌ @ int.jl:53 within `iterate'\n",
            "\taddq\t$1, %rax\n",
            "; │└\n",
            "; │┌ @ range.jl:594 within `iterate'\n",
            "; ││┌ @ promotion.jl:403 within `=='\n",
            "\tcmpq\t$1, %rcx\n",
            "; │└└\n",
            "\tjne\tL32\n",
            "; │ @ In[36]:9 within `harmonic'\n",
            "\tretq\n",
            "L64:\n",
            "\tvxorps\t%xmm0, %xmm0, %xmm0\n",
            "; │ @ In[36]:9 within `harmonic'\n",
            "\tretq\n",
            "\tnopw\t%cs:(%rax,%rax)\n",
            "; └\n"
          ]
        }
      ],
      "execution_count": 58,
      "metadata": {
        "collapsed": true,
        "jupyter": {
          "outputs_hidden": true
        }
      }
    },
    {
      "cell_type": "markdown",
      "source": [
        "The flip side of Julia's compilation is that a lot of work sometimes has to happen when packages are being loaded or when functions are being run for the first time. You should expect Python and R to be snappier when you're first loading up your session and you aren't doing anything heavy duty."
      ],
      "metadata": {}
    },
    {
      "cell_type": "markdown",
      "source": [
        "---\n",
        "\n",
        "## Exercises\n",
        "\n",
        "To make it easier to remember differences in syntax and common function names between Python and Julia, I recommend keeping a window open with the Julia-Python-R [cheatsheet](https://data1010.github.io/docs/cheatsheets/jpr-cheatsheet.pdf) (also linked from the course website). \n",
        "\n",
        "**Exercise 1**. Write a function with a single parameter `n` which outputs an `n × n` matrix like the one shown. (The cupcake ensemble was made for the famous mathematician and linear algebra educator [Gilbert Strang](http://www-math.mit.edu/~gs/)). "
      ],
      "metadata": {}
    },
    {
      "cell_type": "markdown",
      "source": [
        "![Tridiagonal matrix](cupcakes.png)"
      ],
      "metadata": {}
    },
    {
      "cell_type": "markdown",
      "source": [
        "**Solution**."
      ],
      "metadata": {}
    },
    {
      "cell_type": "markdown",
      "source": [
        "---\n",
        "\n",
        "**Exercise 2: Eigenvectors**. Consider a random symmetric $n \\times n$ matrix $A$ defined by\n",
        "\n",
        "```julia\n",
        "    n = 10\n",
        "    A = zeros(n,n)\n",
        "    for i=1:n\n",
        "        for j=1:i\n",
        "            A[i,j] = rand() # returns a Unif([0,1])\n",
        "            A[j,i] = A[i,j]\n",
        "        end\n",
        "    end\n",
        "```\n",
        "\n",
        "and define $\\mathbf{v}_0 = [1,0,\\ldots,0] \\in \\mathbb{R}^n$. For $k \\geq 0$, define $\\mathbf{v}_{k+1} = \\frac{A\\mathbf{v}_{k}}{|A\\mathbf{v}_{k}|}$. Then as $k\\to\\infty$,  $\\mathbf{v}_k$ converges to the eigenvector with the eigenvalue which is largest in absolute value.\n",
        "\n",
        "Implement this algorithm in Julia and compare the eigenvector you find to the ones returned by Julia's `eigen` function. "
      ],
      "metadata": {}
    },
    {
      "cell_type": "markdown",
      "source": [
        "**Solution.**"
      ],
      "metadata": {}
    },
    {
      "cell_type": "markdown",
      "source": [
        "---\n",
        "\n",
        "### Pointwise operations (broadcasting)\n",
        "In NumPy, operations are pointwise by default:"
      ],
      "metadata": {}
    },
    {
      "cell_type": "code",
      "source": [
        "py\"\"\"\n",
        "import numpy as np\n",
        "A = np.array([[1,2],[3,4]])\n",
        "\"\"\"\n",
        "py\"A*A\""
      ],
      "outputs": [
        {
          "output_type": "execute_result",
          "execution_count": 45,
          "data": {
            "text/plain": [
              "2×2 Array{Int64,2}:\n",
              " 1   4\n",
              " 9  16"
            ]
          },
          "metadata": {}
        }
      ],
      "execution_count": 45,
      "metadata": {}
    },
    {
      "cell_type": "markdown",
      "source": [
        "In Julia, operations correspond to their mathematical meaning by default, while pointwise operations are indicated with a dot:"
      ],
      "metadata": {}
    },
    {
      "cell_type": "code",
      "source": [
        "A = [1 2\n",
        "     3 4]\n",
        "A .* A"
      ],
      "outputs": [
        {
          "output_type": "execute_result",
          "execution_count": 48,
          "data": {
            "text/plain": [
              "2×2 Array{Int64,2}:\n",
              " 1   4\n",
              " 9  16"
            ]
          },
          "metadata": {}
        }
      ],
      "execution_count": 48,
      "metadata": {}
    },
    {
      "cell_type": "markdown",
      "source": [
        "The same is true for function application: `f.([1,2,3])` is essentially equivalent to `[f(1),f(2),f(3)]`.\n",
        "\n",
        "**Exercise 3**. Plot the function $f(x) = \\sin^2(x) + 1$ over the interval $[0,2\\pi]$ by applying $f$ to each element of the array `x`. Complete the lines below and uncomment them."
      ],
      "metadata": {}
    },
    {
      "cell_type": "markdown",
      "source": [
        "**Solution.**"
      ],
      "metadata": {}
    },
    {
      "cell_type": "code",
      "source": [
        "using Plots\n",
        "x = range(0, stop=2π, length=100)\n",
        "#y = \n",
        "#plot(x,y, legend=false)"
      ],
      "outputs": [
        {
          "output_type": "execute_result",
          "execution_count": 55,
          "data": {
            "text/plain": [
              "0.0:0.06346651825433926:6.283185307179586"
            ]
          },
          "metadata": {}
        }
      ],
      "execution_count": 55,
      "metadata": {
        "lines_to_next_cell": 2
      }
    },
    {
      "cell_type": "markdown",
      "source": [
        "---\n",
        "\n",
        "### Multiple dispatch\n",
        "\n",
        "In math, we frequently re-use the same notation for different operations. For example, $2\\cdot 3$ is real-number multiplication, while $\\mathbf{v} \\cdot \\mathbf{w}$ probably refers to a vector dot product. \n",
        "\n",
        "In Julia, we can do the same thing:"
      ],
      "metadata": {}
    },
    {
      "cell_type": "code",
      "source": [
        "mydot(a::Real, b::Real) = a * b\n",
        "mydot(v::Vector, w::Vector) = sum([a*b for (a,b) in zip(v,w)])"
      ],
      "outputs": [
        {
          "output_type": "execute_result",
          "execution_count": 74,
          "data": {
            "text/plain": [
              "mydot (generic function with 2 methods)"
            ]
          },
          "metadata": {}
        }
      ],
      "execution_count": 74,
      "metadata": {}
    },
    {
      "cell_type": "code",
      "source": [
        "mydot(2,3)"
      ],
      "outputs": [
        {
          "output_type": "execute_result",
          "execution_count": 75,
          "data": {
            "text/plain": [
              "6"
            ]
          },
          "metadata": {}
        }
      ],
      "execution_count": 75,
      "metadata": {}
    },
    {
      "cell_type": "code",
      "source": [
        "mydot([1,2,3],[4,5,6])"
      ],
      "outputs": [
        {
          "output_type": "execute_result",
          "execution_count": 76,
          "data": {
            "text/plain": [
              "32"
            ]
          },
          "metadata": {}
        }
      ],
      "execution_count": 76,
      "metadata": {}
    },
    {
      "cell_type": "markdown",
      "source": [
        "This feature of Julia is called **multiple dispatch**. If you're looking for more video content for evening entertainment, there's an [excellent half-hour discussion](https://www.youtube.com/watch?v=kc9HwsxE1OY) of how multiple dispatch is key to Julia's success and how it compares to the design patterns would would use instead in Python.\n",
        "\n",
        "You can define your own types in Julia (the type annotations are optional) like so: \n",
        "\n",
        "```julia\n",
        "struct Line\n",
        "    slope::Real\n",
        "    intercept::Real\n",
        "end\n",
        "\n",
        "L = Line(1,2) # represents the line y = x + 2\n",
        "L.slope # returns 1.0\n",
        "L.intercept # returns 2.0\n",
        "```"
      ],
      "metadata": {}
    },
    {
      "cell_type": "markdown",
      "source": [
        "**Exercise 4**. Write a function `intersect` which returns the intersection point of two `Line` objects."
      ],
      "metadata": {}
    },
    {
      "cell_type": "code",
      "source": [
        "struct Line\n",
        "    slope::Real\n",
        "    intercept::Real\n",
        "end\n",
        "\n",
        "function intersection(L::Line,M::Line)\n",
        "    # add code here\n",
        "end\n",
        "\n",
        "#@assert intersection(Line(1,1),Line(-1,2)) == (1,1)"
      ],
      "outputs": [
        {
          "output_type": "execute_result",
          "execution_count": 83,
          "data": {
            "text/plain": [
              "intersection (generic function with 1 method)"
            ]
          },
          "metadata": {}
        }
      ],
      "execution_count": 83,
      "metadata": {}
    },
    {
      "cell_type": "markdown",
      "source": [
        "---\n",
        "\n",
        "# "
      ],
      "metadata": {}
    }
  ],
  "metadata": {
    "jupytext": {
      "formats": "ipynb,md"
    },
    "kernelspec": {
      "name": "julia-1.1",
      "language": "julia",
      "display_name": "Julia 1.1.1"
    },
    "language_info": {
      "file_extension": ".jl",
      "name": "julia",
      "mimetype": "application/julia",
      "version": "1.1.1"
    },
    "kernel_info": {
      "name": "julia-1.1"
    },
    "nteract": {
      "version": "0.14.5"
    }
  },
  "nbformat": 4,
  "nbformat_minor": 4
}