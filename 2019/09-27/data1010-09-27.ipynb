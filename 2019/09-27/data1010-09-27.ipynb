{
 "cells": [
  {
   "cell_type": "markdown",
   "metadata": {},
   "source": [
    "# Common Distributions and Central Limit Theorem\n",
    "\n",
    "#### DATA 1010\n",
    "#### 27 September 2019"
   ]
  },
  {
   "cell_type": "markdown",
   "metadata": {},
   "source": [
    "---\n",
    "\n",
    "## Problem 1\n",
    "\n",
    "The **geometric distribution** with parameter $p \\in (0,1]$ is the distribution of the index of the first success in a sequence of independent Bernoulli trials.\n",
    " \n",
    "Find the probability mass function of the geometric distribution."
   ]
  },
  {
   "cell_type": "markdown",
   "metadata": {},
   "source": [
    "*Solution.*"
   ]
  },
  {
   "cell_type": "markdown",
   "metadata": {},
   "source": []
  },
  {
   "cell_type": "markdown",
   "metadata": {},
   "source": [
    "---\n",
    "\n",
    "## Problem 2"
   ]
  },
  {
   "cell_type": "markdown",
   "metadata": {},
   "source": [
    "Use Monte Carlo to approximate the mean and variance of the geometric distribution with parameter $p = 1/3$."
   ]
  },
  {
   "cell_type": "code",
   "execution_count": null,
   "metadata": {},
   "outputs": [],
   "source": [
    "using Distributions\n",
    "rand(Geometric(1/3),100_000)"
   ]
  },
  {
   "cell_type": "code",
   "execution_count": null,
   "metadata": {},
   "outputs": [],
   "source": []
  },
  {
   "cell_type": "markdown",
   "metadata": {},
   "source": [
    "---\n",
    "\n",
    "## Problem 3"
   ]
  },
  {
   "cell_type": "markdown",
   "metadata": {},
   "source": [
    "* Find the expected value of $S$, where $S$ is a sum of 1000\n",
    "    independent Bernoulli random variables with success probability\n",
    "    $p = \\frac{3}{1000}$.  \n",
    "* Find the probability mass function of $S$. \n",
    "    Hint: find an expression representing the probability mass at each\n",
    "    $k$ from 0 to 1000, and then use Julia to evaluate it. You will\n",
    "    need to define `n = big(1000)` and `p = big(3)/1000`\n",
    "    because arbitrary precision arithmetic is required to avoid\n",
    "    overflow issues.  \n",
    "* Compare your results to the probability mass function $m(k) =\n",
    "    \\frac{3^k}{k!}e^{-3}$ defined on $\\{0,1,2,\\ldots\\}$. "
   ]
  },
  {
   "cell_type": "markdown",
   "metadata": {},
   "source": [
    "\n",
    "*Solution.*"
   ]
  },
  {
   "cell_type": "markdown",
   "metadata": {},
   "source": []
  },
  {
   "cell_type": "markdown",
   "metadata": {},
   "source": [
    "---\n",
    "\n",
    "## Problem 4\n",
    "\n",
    "Suppose that the number of typos on a page is a Poisson random\n",
    "  variable with mean $\\lambda = \\frac{1}{3}$.\n",
    "  \n",
    "(i) Provide an explanation for why the Poisson distribution might\n",
    "    be a good approximation for the distribution of typos on a page.  \n",
    "(ii) Find the probability that a particular page is typo-free. \n"
   ]
  },
  {
   "cell_type": "markdown",
   "metadata": {},
   "source": [
    "\n",
    "*Solution.* "
   ]
  },
  {
   "cell_type": "markdown",
   "metadata": {},
   "source": []
  },
  {
   "cell_type": "markdown",
   "metadata": {},
   "source": [
    "---\n",
    "\n",
    "## Problem 5\n",
    "\n",
    "The covariance of two random variables $X$ and $Y$ is defined to be $\\operatorname{Cov}(X,Y) = \\mathbb{E}[(X-\\mathbb{E}(X))(Y-\\mathbb{E}(Y))]$. \n",
    "\n",
    "(a) Does mass in the joint distribution of $X$ and $Y$ count positively toward the covariance of $X$ and $Y$ when it is above and to the right (northeast) of the centroid $(\\mathbb{E}(X), \\mathbb{E}(Y))$? What about northwest, southwest, and southeast? \n",
    "\n",
    "(b) Write code to sample from a distribution on two random variables $X$ and $Y$ with positive covariance. Approximate the above expression using Monte Carlo and check that it is indeed positive.\n",
    "\n",
    "(c) The *covariance matrix* of a random vector $\\mathbf{X} = [X_1, X_2]$ is defined to be $\\mathbb{E}[(\\mathbf{X}-\\boldsymbol{\\mu})(\\mathbf{X}-\\boldsymbol{\\mu})']$, where $\\boldsymbol{\\mu} = [\\mathbb{E}(X_1), \\mathbb{E}(X_2)]$. Show that the $(i,j)$th entry of the covariance matrix is equal to the covariance of $X_i$ and $X_j$. "
   ]
  },
  {
   "cell_type": "markdown",
   "metadata": {},
   "source": [
    "*Solution.*"
   ]
  },
  {
   "cell_type": "code",
   "execution_count": null,
   "metadata": {},
   "outputs": [],
   "source": [
    "function sampleXY()\n",
    "    \n",
    "    (X,Y)\n",
    "end"
   ]
  },
  {
   "cell_type": "code",
   "execution_count": null,
   "metadata": {},
   "outputs": [],
   "source": []
  },
  {
   "cell_type": "markdown",
   "metadata": {},
   "source": [
    "---\n",
    "\n",
    "## Problem 6\n",
    "\n",
    "For each $i \\in \\{1,2,3\\}$, the $i$th point cloud below is obtained\n",
    "  by sampling 1000 times from $A_iZ + \\mu_i$, where $Z$ is a vector of\n",
    "  two independent normal random variables, $A_i$ is a $2 \\times 2$\n",
    "  matrix of constants, and $\\mu_i$ is a constant vector in\n",
    "  $\\mathbb{R}^2$. Approximate $(A_i,\\mu_i)$ for each $i \\in \\{1,2,3\\}$. (Note: $A_i$\n",
    "  is not uniquely determined, so just find an $A_i$ that works.)\n",
    "\n",
    "  For reference, a plot of 1000 independent samples from $Z$ is shown\n",
    "  in the fourth figure.\n",
    "  \n",
    "<center>  \n",
    "    <div class=\"row\">\n",
    "        <img src=\"scatter1.svg\" width=225>\n",
    "        <img src=\"scatter2.svg\" width=225>\n",
    "        <img src=\"scatter3.svg\" width=225>\n",
    "        <img src=\"scatter4.svg\" width=225>\n",
    "    </div>\n",
    "</center>"
   ]
  },
  {
   "cell_type": "code",
   "execution_count": null,
   "metadata": {},
   "outputs": [],
   "source": [
    "using Plots\n",
    "gr(legend=false, frame = :origin, size = (400,400), ratio = 1)\n",
    "A = [1 0\n",
    "     0 1]\n",
    "μ = [0, 0]\n",
    "points = [Tuple(A * randn(2) + μ) for _ in 1:1000]\n",
    "scatter(points, xlims = (-6,6), ylims = (-6,6), markersize = 1.2, markerstrokewidth = 0, color = :MidnightBlue)"
   ]
  },
  {
   "cell_type": "markdown",
   "metadata": {},
   "source": [
    "---\n",
    "\n",
    "## Problem 7\n",
    "\n",
    "The central limit theorem says that if $S_n$ is a sum of i.i.d.\n",
    "finite-variance random variables is approximately normally\n",
    "distributed with mean $\\mathbb{E}[S_n]$ and variance $\\operatorname{Var}(S_n)$. Also,\n",
    "about 95\\% of the probability mass of a normal distribution is\n",
    "within two standard deviations of the mean.\n",
    "\n",
    "If a million independent $\\operatorname{Unif}([a,b])$'s are added,\n",
    "approximate the shortest interval containing 95\\% of the probability\n",
    "mass of the distribution of the resulting sum? "
   ]
  },
  {
   "cell_type": "code",
   "execution_count": null,
   "metadata": {},
   "outputs": [],
   "source": [
    "# Exact symbolic calculation of variance:\n",
    "using PyCall, SymPy\n",
    "stats = pyimport(\"sympy.stats\")\n",
    "@vars a b\n",
    "factor(stats.variance(stats.Uniform(\"U\",a,b)))"
   ]
  },
  {
   "cell_type": "code",
   "execution_count": null,
   "metadata": {},
   "outputs": [],
   "source": [
    "using Distributions\n",
    "(a,b) = (3,5)\n",
    "sum(rand(Uniform(a,b), 10^6))"
   ]
  },
  {
   "cell_type": "code",
   "execution_count": null,
   "metadata": {},
   "outputs": [],
   "source": []
  },
  {
   "cell_type": "markdown",
   "metadata": {},
   "source": [
    "---\n",
    "\n",
    "## Problem 8\n",
    "\n",
    "The multivariate central limit theorem says that if $\\mathbf{X}_1,\n",
    "\\mathbf{X}_2, \\ldots$ is an independent sequence of random vectors\n",
    "with a common distribution on $\\mathbb{R}^n$, then the standardized mean\n",
    "$$\n",
    "\\mathbf{S}_n^* = \\frac{X_n - n\\mu}{\\sqrt{n}}\n",
    "$$\n",
    "converges in distribution to $\\mathcal{N}(\\boldsymbol{0},\\Sigma)$,\n",
    "where $\\Sigma$ is the covariance matrix of $\\mathbf{X}_1$.\n",
    "\n",
    "Investigate the multivariate central limit theorem using by making 2D\n",
    "histograms for i.i.d. sums of (i) uniform samples from the square,\n",
    "and (ii) samples from $((U+V)/2,V)$, where $(U,V)$ is uniformly\n",
    "sampled from the square. "
   ]
  },
  {
   "cell_type": "code",
   "execution_count": null,
   "metadata": {},
   "outputs": [],
   "source": [
    "using Plots\n",
    "function sample()\n",
    "    U, V = rand(), rand()\n",
    "    [(U + V)/2, V]\n",
    "end\n",
    "\n",
    "function standardized_sum(n)\n",
    "    X_sum, Y_sum = sum(sample() for i=1:n)\n",
    "    # ADD CODE HERE (return a tuple, not a vector)\n",
    "end\n",
    "\n",
    "n = 5\n",
    "numsamples = 10000\n",
    "histogram2d([standardized_sum(n) for i=1:numsamples],\n",
    "            bins=(60,60),\n",
    "            aspect_ratio=:equal,\n",
    "            xlims=(-1,2),\n",
    "            ylims=(-1,2),\n",
    "            fontfamily=\"Palatino\")"
   ]
  }
 ],
 "metadata": {
  "kernelspec": {
   "display_name": "Julia 1.2.0",
   "language": "julia",
   "name": "julia-1.2"
  },
  "language_info": {
   "file_extension": ".jl",
   "mimetype": "application/julia",
   "name": "julia",
   "version": "1.2.0"
  }
 },
 "nbformat": 4,
 "nbformat_minor": 4
}
