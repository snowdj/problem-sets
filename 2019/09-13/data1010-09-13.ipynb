{
  "cells": [
    {
      "cell_type": "markdown",
      "source": [
        "# DATA 1010\n",
        "\n",
        "#### 13 September 2019\n",
        "\n",
        "#### Matrix differentiation\n",
        "\n",
        "Just as elementary differentiation rules are helpful for optimizing single-variable functions, *matrix* differentiation rules are helpful for optimizing expressions written in matrix form. This technique is used often in statistics. \n",
        "\n",
        "Suppose $\\mathbf{f}$ is a function from $\\mathbb{R}^n$ to $\\mathbb{R}^m$. Writing $\\mathbf{f}(\\mathbf{x}) = \\mathbf{f}(x_1, \\ldots, x_n)$, we define the Jacobian matrix (or *derivative* matrix) to be \n",
        "\n",
        "$$\n",
        "\\frac{\\partial \\mathbf{f}}{\\partial \\mathbf{x}} = \\left[\n",
        "  \\begin{array}{cccc}\n",
        "    \\frac{\\partial f_1}{\\partial x_1} & \\frac{\\partial f_1}{\\partial x_2} & \\cdots & \\frac{\\partial f_1}{\\partial x_n}  \\\\ \n",
        "    \\frac{\\partial f_2}{\\partial x_1} & \\frac{\\partial f_2}{\\partial x_2} & \\cdots & \\frac{\\partial f_2}{\\partial x_n}  \\\\ \n",
        "    \\vdots & & \\ddots & \\vdots \\\\ \n",
        "    \\frac{\\partial f_m}{\\partial x_1} & \\frac{\\partial f_m}{\\partial x_2} & \\cdots & \\frac{\\partial f_m}{\\partial x_n}\n",
        "  \\end{array}\\right]\n",
        "$$"
      ],
      "metadata": {}
    },
    {
      "cell_type": "markdown",
      "source": [
        "### Problem 1\n",
        "(a) The derivative with respect to $\\mathbf{x}$ goes by a more common name when $m = 1$. What is it?\n",
        "\n",
        "(b) In single-variable calculus, we learn that $f(x+h) - f(x) \\approx f'(x)h$ if $f$ is differentiable. Show that the vector derivative behaves similarly: if $f:\\mathbb{R}^n \\to \\mathbb{R}$, then $f(\\mathbf{x}+\\mathbf{h}) - f(\\mathbf{x}) \\approx \\frac{\\partial f}{\\partial \\mathbf{x}} \\mathbf{h}$. Check this result numerically below."
      ],
      "metadata": {}
    },
    {
      "cell_type": "code",
      "source": [
        "f(x) = x[1]^2 + x[2]^2\n",
        "\n",
        "f([3.101,0.51]) - f([3.100,0.5])"
      ],
      "outputs": [
        {
          "output_type": "execute_result",
          "execution_count": 48,
          "data": {
            "text/plain": [
              "0.016300999999998567"
            ]
          },
          "metadata": {}
        }
      ],
      "execution_count": 48,
      "metadata": {
        "collapsed": false,
        "inputHidden": false,
        "jupyter": {
          "outputs_hidden": false
        },
        "outputHidden": false
      }
    },
    {
      "cell_type": "code",
      "source": [
        "# replace verbal descriptions:\n",
        "#dfdx(x) = [first component of derivative, second component]'\n",
        "#dfdx([base point]) * [vector representing how far we moved from the base point]"
      ],
      "outputs": [],
      "execution_count": 1,
      "metadata": {
        "collapsed": false,
        "inputHidden": false,
        "jupyter": {
          "outputs_hidden": false
        },
        "outputHidden": false
      }
    },
    {
      "cell_type": "markdown",
      "source": [
        "### Problem 2\n",
        "Show that if $A$ is a constant matrix, then \n",
        "\n",
        "$$\n",
        "\\begin{align*}\n",
        "\\frac{\\partial}{\\partial \\mathbf{x}} (A \\mathbf{x}) &= A\n",
        "\\end{align*}\n",
        "$$\n",
        "\n",
        "Hint: use the definition and work out the various partial derivatives with respect to $\\mathbf{x}$. If you feel stuck, make up a small example and try it."
      ],
      "metadata": {}
    },
    {
      "cell_type": "markdown",
      "source": [
        "### Problem 3\n",
        "\n",
        "Show that the Hessian of a function $f:\\mathbb{R}^n \\to \\mathbb{R}$ can be written as \n",
        "\n",
        "$$\n",
        "\\mathbf{H}(\\mathbf{x}) = \\frac{\\partial}{\\partial \\mathbf{x}}\n",
        "\\left(\\frac{\\partial f}{\\partial \\mathbf{x}}\\right)'.\n",
        "$$"
      ],
      "metadata": {}
    },
    {
      "cell_type": "markdown",
      "source": [
        "### Problem 4\n",
        "\n",
        "Let $Q: \\mathbb{R}^n \\to \\mathbb{R}$ be defined by $Q(\\mathbf{x}) = \\mathbf{x}' A \\mathbf{x}$ where $Q$ is a symmetric matrix. Find $\\frac{\\partial Q}{\\partial \\mathbf{x}}.$ \n",
        "\n",
        "Note: the product rule for vector differentiation says that $\\frac{\\partial}{\\partial \\mathbf{x}} (\\mathbf{u}' \\mathbf{v}) = \\mathbf{u}'\\frac{\\partial \\mathbf{v}}{\\partial \\mathbf{x}} + \\mathbf{v}'\\frac{\\partial \\mathbf{u}}{\\partial \\mathbf{x}}$ if $\\mathbf{u}$ and $\\mathbf{v}$ are vector-valued functions of $\\mathbf{x}$. "
      ],
      "metadata": {}
    },
    {
      "cell_type": "markdown",
      "source": [
        "### Problem 5\n",
        "\n",
        "One way to think about Taylor polynomials is to observe that they **match derivatives** of a function at a given base point. For example, given a function $f$ from $\\mathbb{R}$ to $\\mathbb{R}$, \n",
        "\n",
        "$$\n",
        "f(0) + f'(0)x + \\frac{1}{2} f''(0) x^2\n",
        "$$\n",
        "\n",
        "is the unique quadratic polynomial with the property that its zeroth, first, and second derivatives match those of $f$. \n",
        "\n",
        "Use matrix differentiation to show that the same is true for functions of multiple variables with the quadratic function\n",
        "\n",
        "$$\n",
        "f(\\mathbf{0}) + \\frac{\\partial f}{\\partial \\mathbf{x}}(\\mathbf{0})\\mathbf{x} + \\frac{1}{2}\\mathbf{x}'H(\\mathbf{0})\\mathbf{x}, \n",
        "$$\n",
        "\n",
        "where $H(\\mathbf{0})$ is the Hessian of $f$ evaluated at the origin."
      ],
      "metadata": {}
    },
    {
      "cell_type": "markdown",
      "source": [
        "### Problem 6\n",
        "\n",
        "Suppose that $A$ is an $m\\times n$ matrix, that $\\mathbf{b} \\in \\mathbb{R}^m$, and that $\\lambda > 0$. Find a formula for the value of $\\mathbf{x}$ which minimizes: $|A\\mathbf{x} - \\mathbf{b}|^2 + \\lambda |\\mathbf{x}|^2$\n",
        "\n",
        "(For any square matrices that you would like to invert, you may assume they are invertible).\n",
        "\n",
        "Describe what happens (either to the minimizer, or to the original optimization problem) as $\\lambda$ increases from 0."
      ],
      "metadata": {}
    },
    {
      "cell_type": "markdown",
      "source": [
        "### Problem 7\n",
        "The result from the previous problem has a valuable data science interpretation. If we're trying to model the relationship between $A$ and $\\mathbf{b}$ as linear, then we're looking to find $\\mathbf{x}$ so as to minimize $|A\\mathbf{x} - \\mathbf{b}|^2$. \n",
        "\n",
        "However, if the columns of $A$ are close to being linearly dependent, then minimizing $|A\\mathbf{x} - \\mathbf{b}|^2$ often means leveraging directions that wouldn't be present if the columns of $A$ were adjusted slightly to make them actually linearly dependent. This gives a better fit than is meaningfully possible. \n",
        "\n",
        "(a) Using the matrix $A$ and vector $\\mathbf{b}$ given below, solve $A\\mathbf{x} = \\mathbf{b}$. Try adjusting the entry 1.1 to be even closer to 1. What happens to the coefficients? \n"
      ],
      "metadata": {}
    },
    {
      "cell_type": "code",
      "source": [
        "A = [1.001 1\n",
        "      1  1]\n",
        "b = [0, 1]\n",
        "A \\ b\n"
      ],
      "outputs": [
        {
          "output_type": "execute_result",
          "execution_count": 54,
          "data": {
            "text/plain": [
              "2-element Array{Float64,1}:\n",
              " -1000.0000000001452\n",
              "  1001.0000000001452"
            ]
          },
          "metadata": {}
        }
      ],
      "execution_count": 54,
      "metadata": {
        "collapsed": false,
        "inputHidden": false,
        "jupyter": {
          "outputs_hidden": false
        },
        "outputHidden": false
      }
    },
    {
      "cell_type": "markdown",
      "source": [
        "(b) Adding the term $\\lambda|\\mathbf{x}|^2$ tempers the coefficients and enables us to get a more meaningful result. In the plot below, show the minimizer of $|A\\mathbf{x} - \\mathbf{b}|^2 + \\lambda |\\mathbf{x}|^2$ for various values of $\\lambda$. Find one that you think is pretty good."
      ],
      "metadata": {}
    },
    {
      "cell_type": "code",
      "source": [
        "using Plots, Interact\n",
        "gr(size=(400,400),linewidth=2.5)\n",
        "A = [1.1 1\n",
        "      1  1]\n",
        "b = [0, 1]\n",
        "function plot_A_and_b()\n",
        "    plot([(0,0),(A[1,1],A[2,1])], \n",
        "         label=\"first column of A\", \n",
        "         legend = :bottomright, \n",
        "         aspect_ratio = :equal)\n",
        "    plot!([(0,0),(A[1,2],A[2,2])], label=\"second column of A\")\n",
        "    plot!([(0,0),(b[1],b[2])], label=\"target (b)\")\n",
        "end\n",
        "@manipulate for k in -20:10\n",
        "    λ = 2.0^k\n",
        "    xₘᵢₙ = (A'*A + λ*I) \\ (A' * b)\n",
        "    bₘᵢₙ = A * xₘᵢₙ\n",
        "    plot_A_and_b()\n",
        "    plot!([(0,0),(bₘᵢₙ[1],bₘᵢₙ[2])],label=\"b_min\",linewidth=4)\n",
        "end"
      ],
      "outputs": [
        {
          "output_type": "execute_result",
          "execution_count": 55,
          "data": {
            "application/vnd.webio.node+json": {
              "children": [
                {
                  "children": [
                    {
                      "children": [
                        {
                          "children": [
                            {
                              "children": [
                                {
                                  "children": [
                                    "k"
                                  ],
                                  "instanceArgs": {
                                    "namespace": "html",
                                    "tag": "label"
                                  },
                                  "nodeType": "DOM",
                                  "props": {
                                    "className": "interact ",
                                    "style": {
                                      "padding": "5px 10px 0px 10px"
                                    }
                                  },
                                  "type": "node"
                                }
                              ],
                              "instanceArgs": {
                                "namespace": "html",
                                "tag": "div"
                              },
                              "nodeType": "DOM",
                              "props": {
                                "className": "interact-flex-row-left"
                              },
                              "type": "node"
                            },
                            {
                              "children": [
                                {
                                  "children": [],
                                  "instanceArgs": {
                                    "namespace": "html",
                                    "tag": "input"
                                  },
                                  "nodeType": "DOM",
                                  "props": {
                                    "attributes": {
                                      "data-bind": "numericValue: index, valueUpdate: 'input', event: {change: function (){this.changes(this.changes()+1)}}",
                                      "orient": "horizontal",
                                      "type": "range"
                                    },
                                    "className": "slider slider is-fullwidth",
                                    "max": 10,
                                    "min": -20,
                                    "step": 1,
                                    "style": {}
                                  },
                                  "type": "node"
                                }
                              ],
                              "instanceArgs": {
                                "namespace": "html",
                                "tag": "div"
                              },
                              "nodeType": "DOM",
                              "props": {
                                "className": "interact-flex-row-center"
                              },
                              "type": "node"
                            },
                            {
                              "children": [
                                {
                                  "children": [],
                                  "instanceArgs": {
                                    "namespace": "html",
                                    "tag": "p"
                                  },
                                  "nodeType": "DOM",
                                  "props": {
                                    "attributes": {
                                      "data-bind": "text: formatted_val"
                                    }
                                  },
                                  "type": "node"
                                }
                              ],
                              "instanceArgs": {
                                "namespace": "html",
                                "tag": "div"
                              },
                              "nodeType": "DOM",
                              "props": {
                                "className": "interact-flex-row-right"
                              },
                              "type": "node"
                            }
                          ],
                          "instanceArgs": {
                            "namespace": "html",
                            "tag": "div"
                          },
                          "nodeType": "DOM",
                          "props": {
                            "className": "interact-flex-row interact-widget"
                          },
                          "type": "node"
                        }
                      ],
                      "instanceArgs": {
                        "handlers": {
                          "changes": [
                            "(function (val){return (val!=this.model[\"changes\"]()) ? (this.valueFromJulia[\"changes\"]=true, this.model[\"changes\"](val)) : undefined})"
                          ],
                          "index": [
                            "(function (val){return (val!=this.model[\"index\"]()) ? (this.valueFromJulia[\"index\"]=true, this.model[\"index\"](val)) : undefined})"
                          ]
                        },
                        "id": "15668703228850791829",
                        "imports": {
                          "data": [
                            {
                              "name": "knockout",
                              "type": "js",
                              "url": "/assetserver/63e811729d8167e1a45a232b22fe440ab09be0f2-knockout.js"
                            },
                            {
                              "name": "knockout_punches",
                              "type": "js",
                              "url": "/assetserver/ed3bf001585dfa72027b862905c75082645e7abd-knockout_punches.js"
                            },
                            {
                              "name": null,
                              "type": "js",
                              "url": "/assetserver/598544c777da28189602fff0596b52a6594d94c1-all.js"
                            },
                            {
                              "name": null,
                              "type": "css",
                              "url": "/assetserver/4049cca8c0ee90fd7d5e652e81df80cea298e5b0-style.css"
                            },
                            {
                              "name": null,
                              "type": "css",
                              "url": "/assetserver/1b487ca88261a11b71d9787b3e4e06ed11c66932-bulma_confined.min.css"
                            }
                          ],
                          "type": "async_block"
                        },
                        "mount_callbacks": [
                          "function () {\n    var handler = (function (ko, koPunches) {\n    ko.punches.enableAll();\n    ko.bindingHandlers.numericValue = {\n        init: function(element, valueAccessor, allBindings, data, context) {\n            var stringified = ko.observable(ko.unwrap(valueAccessor()));\n            stringified.subscribe(function(value) {\n                var val = parseFloat(value);\n                if (!isNaN(val)) {\n                    valueAccessor()(val);\n                }\n            });\n            valueAccessor().subscribe(function(value) {\n                var str = JSON.stringify(value);\n                if ((str == \"0\") && ([\"-0\", \"-0.\"].indexOf(stringified()) >= 0))\n                     return;\n                 if ([\"null\", \"\"].indexOf(str) >= 0)\n                     return;\n                stringified(str);\n            });\n            ko.applyBindingsToNode(\n                element,\n                {\n                    value: stringified,\n                    valueUpdate: allBindings.get('valueUpdate'),\n                },\n                context,\n            );\n        }\n    };\n    var json_data = {\"formatted_vals\":[\"-20\",\"-19\",\"-18\",\"-17\",\"-16\",\"-15\",\"-14\",\"-13\",\"-12\",\"-11\",\"-10\",\"-9\",\"-8\",\"-7\",\"-6\",\"-5\",\"-4\",\"-3\",\"-2\",\"-1\",\"0\",\"1\",\"2\",\"3\",\"4\",\"5\",\"6\",\"7\",\"8\",\"9\",\"10\"],\"changes\":WebIO.getval({\"name\":\"changes\",\"scope\":\"15668703228850791829\",\"id\":\"ob_150\",\"type\":\"observable\"}),\"index\":WebIO.getval({\"name\":\"index\",\"scope\":\"15668703228850791829\",\"id\":\"ob_149\",\"type\":\"observable\"})};\n    var self = this;\n    function AppViewModel() {\n        for (var key in json_data) {\n            var el = json_data[key];\n            this[key] = Array.isArray(el) ? ko.observableArray(el) : ko.observable(el);\n        }\n        \n        [this[\"formatted_val\"]=ko.computed(    function(){\n        return this.formatted_vals()[parseInt(this.index())-(-20)];\n    }\n,this)]\n        [this[\"changes\"].subscribe((function (val){!(this.valueFromJulia[\"changes\"]) ? (WebIO.setval({\"name\":\"changes\",\"scope\":\"15668703228850791829\",\"id\":\"ob_150\",\"type\":\"observable\"},val)) : undefined; return this.valueFromJulia[\"changes\"]=false}),self),this[\"index\"].subscribe((function (val){!(this.valueFromJulia[\"index\"]) ? (WebIO.setval({\"name\":\"index\",\"scope\":\"15668703228850791829\",\"id\":\"ob_149\",\"type\":\"observable\"},val)) : undefined; return this.valueFromJulia[\"index\"]=false}),self)]\n        \n    }\n    self.model = new AppViewModel();\n    self.valueFromJulia = {};\n    for (var key in json_data) {\n        self.valueFromJulia[key] = false;\n    }\n    ko.applyBindings(self.model, self.dom);\n}\n);\n    (WebIO.importBlock({\"data\":[{\"name\":\"knockout\",\"type\":\"js\",\"url\":\"/assetserver/63e811729d8167e1a45a232b22fe440ab09be0f2-knockout.js\"},{\"name\":\"knockout_punches\",\"type\":\"js\",\"url\":\"/assetserver/ed3bf001585dfa72027b862905c75082645e7abd-knockout_punches.js\"}],\"type\":\"async_block\"})).then((imports) => handler.apply(this, imports));\n}\n"
                        ],
                        "observables": {
                          "changes": {
                            "id": "ob_150",
                            "sync": false,
                            "value": 0
                          },
                          "index": {
                            "id": "ob_149",
                            "sync": true,
                            "value": -5
                          }
                        },
                        "systemjs_options": null
                      },
                      "nodeType": "Scope",
                      "props": {},
                      "type": "node"
                    }
                  ],
                  "instanceArgs": {
                    "namespace": "html",
                    "tag": "div"
                  },
                  "nodeType": "DOM",
                  "props": {
                    "className": "field interact-widget"
                  },
                  "type": "node"
                },
                {
                  "children": [
                    {
                      "children": [],
                      "instanceArgs": {
                        "id": "ob_156",
                        "name": "obs-node"
                      },
                      "nodeType": "ObservableNode",
                      "props": {},
                      "type": "node"
                    }
                  ],
                  "instanceArgs": {
                    "handlers": {},
                    "id": "9866182961679215329",
                    "imports": {
                      "data": [],
                      "type": "async_block"
                    },
                    "mount_callbacks": [],
                    "observables": {
                      "obs-node": {
                        "id": "ob_156",
                        "sync": false,
                        "value": {
                          "children": [
                            {
                              "children": [],
                              "instanceArgs": {
                                "namespace": "html",
                                "tag": "div"
                              },
                              "nodeType": "DOM",
                              "props": {
                                "setInnerHtml": "<?xml version=\"1.0\" encoding=\"utf-8\"?>\n<svg xmlns=\"http://www.w3.org/2000/svg\" xmlns:xlink=\"http://www.w3.org/1999/xlink\" width=\"400\" height=\"400\" viewBox=\"0 0 1600 1600\">\n<defs>\n  <clipPath id=\"clip5600\">\n    <rect x=\"0\" y=\"0\" width=\"1600\" height=\"1600\"/>\n  </clipPath>\n</defs>\n<polygon clip-path=\"url(#clip5600)\" points=\"\n0,1600 1600,1600 1600,0 0,0 \n  \" fill=\"#ffffff\" fill-rule=\"evenodd\" fill-opacity=\"1\"/>\n<defs>\n  <clipPath id=\"clip5601\">\n    <rect x=\"320\" y=\"160\" width=\"1121\" height=\"1121\"/>\n  </clipPath>\n</defs>\n<polygon clip-path=\"url(#clip5600)\" points=\"\n172.66,1470.71 1552.76,1470.71 1552.76,47.2441 172.66,47.2441 \n  \" fill=\"#ffffff\" fill-rule=\"evenodd\" fill-opacity=\"1\"/>\n<defs>\n  <clipPath id=\"clip5602\">\n    <rect x=\"172\" y=\"47\" width=\"1381\" height=\"1424\"/>\n  </clipPath>\n</defs>\n<polyline clip-path=\"url(#clip5602)\" style=\"stroke:#000000; stroke-width:2; stroke-opacity:0.1; fill:none\" points=\"\n  211.72,1470.71 211.72,47.2441 \n  \"/>\n<polyline clip-path=\"url(#clip5602)\" style=\"stroke:#000000; stroke-width:2; stroke-opacity:0.1; fill:none\" points=\"\n  507.623,1470.71 507.623,47.2441 \n  \"/>\n<polyline clip-path=\"url(#clip5602)\" style=\"stroke:#000000; stroke-width:2; stroke-opacity:0.1; fill:none\" points=\"\n  803.527,1470.71 803.527,47.2441 \n  \"/>\n<polyline clip-path=\"url(#clip5602)\" style=\"stroke:#000000; stroke-width:2; stroke-opacity:0.1; fill:none\" points=\"\n  1099.43,1470.71 1099.43,47.2441 \n  \"/>\n<polyline clip-path=\"url(#clip5602)\" style=\"stroke:#000000; stroke-width:2; stroke-opacity:0.1; fill:none\" points=\"\n  1395.34,1470.71 1395.34,47.2441 \n  \"/>\n<polyline clip-path=\"url(#clip5602)\" style=\"stroke:#000000; stroke-width:2; stroke-opacity:0.1; fill:none\" points=\"\n  172.66,1350.78 1552.76,1350.78 \n  \"/>\n<polyline clip-path=\"url(#clip5602)\" style=\"stroke:#000000; stroke-width:2; stroke-opacity:0.1; fill:none\" points=\"\n  172.66,1054.88 1552.76,1054.88 \n  \"/>\n<polyline clip-path=\"url(#clip5602)\" style=\"stroke:#000000; stroke-width:2; stroke-opacity:0.1; fill:none\" points=\"\n  172.66,758.976 1552.76,758.976 \n  \"/>\n<polyline clip-path=\"url(#clip5602)\" style=\"stroke:#000000; stroke-width:2; stroke-opacity:0.1; fill:none\" points=\"\n  172.66,463.072 1552.76,463.072 \n  \"/>\n<polyline clip-path=\"url(#clip5602)\" style=\"stroke:#000000; stroke-width:2; stroke-opacity:0.1; fill:none\" points=\"\n  172.66,167.168 1552.76,167.168 \n  \"/>\n<polyline clip-path=\"url(#clip5600)\" style=\"stroke:#000000; stroke-width:4; stroke-opacity:1; fill:none\" points=\"\n  172.66,1470.71 1552.76,1470.71 \n  \"/>\n<polyline clip-path=\"url(#clip5600)\" style=\"stroke:#000000; stroke-width:4; stroke-opacity:1; fill:none\" points=\"\n  172.66,1470.71 172.66,47.2441 \n  \"/>\n<polyline clip-path=\"url(#clip5600)\" style=\"stroke:#000000; stroke-width:4; stroke-opacity:1; fill:none\" points=\"\n  211.72,1470.71 211.72,1449.36 \n  \"/>\n<polyline clip-path=\"url(#clip5600)\" style=\"stroke:#000000; stroke-width:4; stroke-opacity:1; fill:none\" points=\"\n  507.623,1470.71 507.623,1449.36 \n  \"/>\n<polyline clip-path=\"url(#clip5600)\" style=\"stroke:#000000; stroke-width:4; stroke-opacity:1; fill:none\" points=\"\n  803.527,1470.71 803.527,1449.36 \n  \"/>\n<polyline clip-path=\"url(#clip5600)\" style=\"stroke:#000000; stroke-width:4; stroke-opacity:1; fill:none\" points=\"\n  1099.43,1470.71 1099.43,1449.36 \n  \"/>\n<polyline clip-path=\"url(#clip5600)\" style=\"stroke:#000000; stroke-width:4; stroke-opacity:1; fill:none\" points=\"\n  1395.34,1470.71 1395.34,1449.36 \n  \"/>\n<polyline clip-path=\"url(#clip5600)\" style=\"stroke:#000000; stroke-width:4; stroke-opacity:1; fill:none\" points=\"\n  172.66,1350.78 193.362,1350.78 \n  \"/>\n<polyline clip-path=\"url(#clip5600)\" style=\"stroke:#000000; stroke-width:4; stroke-opacity:1; fill:none\" points=\"\n  172.66,1054.88 193.362,1054.88 \n  \"/>\n<polyline clip-path=\"url(#clip5600)\" style=\"stroke:#000000; stroke-width:4; stroke-opacity:1; fill:none\" points=\"\n  172.66,758.976 193.362,758.976 \n  \"/>\n<polyline clip-path=\"url(#clip5600)\" style=\"stroke:#000000; stroke-width:4; stroke-opacity:1; fill:none\" points=\"\n  172.66,463.072 193.362,463.072 \n  \"/>\n<polyline clip-path=\"url(#clip5600)\" style=\"stroke:#000000; stroke-width:4; stroke-opacity:1; fill:none\" points=\"\n  172.66,167.168 193.362,167.168 \n  \"/>\n<g clip-path=\"url(#clip5600)\">\n<text style=\"fill:#000000; fill-opacity:1; font-family:Arial,Helvetica Neue,Helvetica,sans-serif; font-size:48px; text-anchor:middle;\" transform=\"rotate(0, 211.72, 1520.71)\" x=\"211.72\" y=\"1520.71\">0.00</text>\n</g>\n<g clip-path=\"url(#clip5600)\">\n<text style=\"fill:#000000; fill-opacity:1; font-family:Arial,Helvetica Neue,Helvetica,sans-serif; font-size:48px; text-anchor:middle;\" transform=\"rotate(0, 507.623, 1520.71)\" x=\"507.623\" y=\"1520.71\">0.25</text>\n</g>\n<g clip-path=\"url(#clip5600)\">\n<text style=\"fill:#000000; fill-opacity:1; font-family:Arial,Helvetica Neue,Helvetica,sans-serif; font-size:48px; text-anchor:middle;\" transform=\"rotate(0, 803.527, 1520.71)\" x=\"803.527\" y=\"1520.71\">0.50</text>\n</g>\n<g clip-path=\"url(#clip5600)\">\n<text style=\"fill:#000000; fill-opacity:1; font-family:Arial,Helvetica Neue,Helvetica,sans-serif; font-size:48px; text-anchor:middle;\" transform=\"rotate(0, 1099.43, 1520.71)\" x=\"1099.43\" y=\"1520.71\">0.75</text>\n</g>\n<g clip-path=\"url(#clip5600)\">\n<text style=\"fill:#000000; fill-opacity:1; font-family:Arial,Helvetica Neue,Helvetica,sans-serif; font-size:48px; text-anchor:middle;\" transform=\"rotate(0, 1395.34, 1520.71)\" x=\"1395.34\" y=\"1520.71\">1.00</text>\n</g>\n<g clip-path=\"url(#clip5600)\">\n<text style=\"fill:#000000; fill-opacity:1; font-family:Arial,Helvetica Neue,Helvetica,sans-serif; font-size:48px; text-anchor:end;\" transform=\"rotate(0, 156.66, 1368.28)\" x=\"156.66\" y=\"1368.28\">0.00</text>\n</g>\n<g clip-path=\"url(#clip5600)\">\n<text style=\"fill:#000000; fill-opacity:1; font-family:Arial,Helvetica Neue,Helvetica,sans-serif; font-size:48px; text-anchor:end;\" transform=\"rotate(0, 156.66, 1072.38)\" x=\"156.66\" y=\"1072.38\">0.25</text>\n</g>\n<g clip-path=\"url(#clip5600)\">\n<text style=\"fill:#000000; fill-opacity:1; font-family:Arial,Helvetica Neue,Helvetica,sans-serif; font-size:48px; text-anchor:end;\" transform=\"rotate(0, 156.66, 776.476)\" x=\"156.66\" y=\"776.476\">0.50</text>\n</g>\n<g clip-path=\"url(#clip5600)\">\n<text style=\"fill:#000000; fill-opacity:1; font-family:Arial,Helvetica Neue,Helvetica,sans-serif; font-size:48px; text-anchor:end;\" transform=\"rotate(0, 156.66, 480.572)\" x=\"156.66\" y=\"480.572\">0.75</text>\n</g>\n<g clip-path=\"url(#clip5600)\">\n<text style=\"fill:#000000; fill-opacity:1; font-family:Arial,Helvetica Neue,Helvetica,sans-serif; font-size:48px; text-anchor:end;\" transform=\"rotate(0, 156.66, 184.668)\" x=\"156.66\" y=\"184.668\">1.00</text>\n</g>\n<polyline clip-path=\"url(#clip5602)\" style=\"stroke:#009af9; stroke-width:10; stroke-opacity:1; fill:none\" points=\"\n  211.72,1350.78 1513.7,167.168 \n  \"/>\n<polyline clip-path=\"url(#clip5602)\" style=\"stroke:#e26f46; stroke-width:10; stroke-opacity:1; fill:none\" points=\"\n  211.72,1350.78 1395.34,167.168 \n  \"/>\n<polyline clip-path=\"url(#clip5602)\" style=\"stroke:#3da44d; stroke-width:10; stroke-opacity:1; fill:none\" points=\"\n  211.72,1350.78 211.72,167.168 \n  \"/>\n<polyline clip-path=\"url(#clip5602)\" style=\"stroke:#c271d2; stroke-width:16; stroke-opacity:1; fill:none\" points=\"\n  211.72,1350.78 756.656,748.759 \n  \"/>\n<polygon clip-path=\"url(#clip5600)\" points=\"\n922.046,1374.71 1504.76,1374.71 1504.76,1072.31 922.046,1072.31 \n  \" fill=\"#ffffff\" fill-rule=\"evenodd\" fill-opacity=\"1\"/>\n<polyline clip-path=\"url(#clip5600)\" style=\"stroke:#000000; stroke-width:4; stroke-opacity:1; fill:none\" points=\"\n  922.046,1374.71 1504.76,1374.71 1504.76,1072.31 922.046,1072.31 922.046,1374.71 \n  \"/>\n<polyline clip-path=\"url(#clip5600)\" style=\"stroke:#009af9; stroke-width:10; stroke-opacity:1; fill:none\" points=\"\n  938.046,1132.79 1034.05,1132.79 \n  \"/>\n<g clip-path=\"url(#clip5600)\">\n<text style=\"fill:#000000; fill-opacity:1; font-family:Arial,Helvetica Neue,Helvetica,sans-serif; font-size:48px; text-anchor:start;\" transform=\"rotate(0, 1050.05, 1150.29)\" x=\"1050.05\" y=\"1150.29\">first column of A</text>\n</g>\n<polyline clip-path=\"url(#clip5600)\" style=\"stroke:#e26f46; stroke-width:10; stroke-opacity:1; fill:none\" points=\"\n  938.046,1193.27 1034.05,1193.27 \n  \"/>\n<g clip-path=\"url(#clip5600)\">\n<text style=\"fill:#000000; fill-opacity:1; font-family:Arial,Helvetica Neue,Helvetica,sans-serif; font-size:48px; text-anchor:start;\" transform=\"rotate(0, 1050.05, 1210.77)\" x=\"1050.05\" y=\"1210.77\">second column of A</text>\n</g>\n<polyline clip-path=\"url(#clip5600)\" style=\"stroke:#3da44d; stroke-width:10; stroke-opacity:1; fill:none\" points=\"\n  938.046,1253.75 1034.05,1253.75 \n  \"/>\n<g clip-path=\"url(#clip5600)\">\n<text style=\"fill:#000000; fill-opacity:1; font-family:Arial,Helvetica Neue,Helvetica,sans-serif; font-size:48px; text-anchor:start;\" transform=\"rotate(0, 1050.05, 1271.25)\" x=\"1050.05\" y=\"1271.25\">target (b)</text>\n</g>\n<polyline clip-path=\"url(#clip5600)\" style=\"stroke:#c271d2; stroke-width:16; stroke-opacity:1; fill:none\" points=\"\n  938.046,1314.23 1034.05,1314.23 \n  \"/>\n<g clip-path=\"url(#clip5600)\">\n<text style=\"fill:#000000; fill-opacity:1; font-family:Arial,Helvetica Neue,Helvetica,sans-serif; font-size:48px; text-anchor:start;\" transform=\"rotate(0, 1050.05, 1331.73)\" x=\"1050.05\" y=\"1331.73\">b_min</text>\n</g>\n</svg>\n"
                              },
                              "type": "node"
                            }
                          ],
                          "instanceArgs": {
                            "namespace": "html",
                            "tag": "div"
                          },
                          "nodeType": "DOM",
                          "props": {
                            "className": "interact-flex-row interact-widget"
                          },
                          "type": "node"
                        }
                      }
                    },
                    "systemjs_options": null
                  },
                  "nodeType": "Scope",
                  "props": {},
                  "type": "node"
                }
              ],
              "instanceArgs": {
                "namespace": "html",
                "tag": "div"
              },
              "nodeType": "DOM",
              "props": {},
              "type": "node"
            },
            "text/html": [
              "<div\n",
              "    class=\"webio-mountpoint\"\n",
              "    data-webio-mountpoint=\"5385539664834814382\"\n",
              ">\n",
              "    <script>\n",
              "    if (window.require && require.defined && require.defined(\"nbextensions/webio-jupyter-notebook\")) {\n",
              "        console.log(\"Jupyter WebIO extension detected, not mounting.\");\n",
              "    } else if (window.WebIO) {\n",
              "        WebIO.mount(\n",
              "            document.querySelector('[data-webio-mountpoint=\"5385539664834814382\"]'),\n",
              "            {\"props\":{},\"nodeType\":\"DOM\",\"type\":\"node\",\"instanceArgs\":{\"namespace\":\"html\",\"tag\":\"div\"},\"children\":[{\"props\":{\"className\":\"field interact-widget\"},\"nodeType\":\"DOM\",\"type\":\"node\",\"instanceArgs\":{\"namespace\":\"html\",\"tag\":\"div\"},\"children\":[{\"props\":{},\"nodeType\":\"Scope\",\"type\":\"node\",\"instanceArgs\":{\"imports\":{\"data\":[{\"name\":\"knockout\",\"type\":\"js\",\"url\":\"\\/assetserver\\/63e811729d8167e1a45a232b22fe440ab09be0f2-knockout.js\"},{\"name\":\"knockout_punches\",\"type\":\"js\",\"url\":\"\\/assetserver\\/ed3bf001585dfa72027b862905c75082645e7abd-knockout_punches.js\"},{\"name\":null,\"type\":\"js\",\"url\":\"\\/assetserver\\/598544c777da28189602fff0596b52a6594d94c1-all.js\"},{\"name\":null,\"type\":\"css\",\"url\":\"\\/assetserver\\/4049cca8c0ee90fd7d5e652e81df80cea298e5b0-style.css\"},{\"name\":null,\"type\":\"css\",\"url\":\"\\/assetserver\\/1b487ca88261a11b71d9787b3e4e06ed11c66932-bulma_confined.min.css\"}],\"type\":\"async_block\"},\"id\":\"15668703228850791829\",\"handlers\":{\"changes\":[\"(function (val){return (val!=this.model[\\\"changes\\\"]()) ? (this.valueFromJulia[\\\"changes\\\"]=true, this.model[\\\"changes\\\"](val)) : undefined})\"],\"index\":[\"(function (val){return (val!=this.model[\\\"index\\\"]()) ? (this.valueFromJulia[\\\"index\\\"]=true, this.model[\\\"index\\\"](val)) : undefined})\"]},\"systemjs_options\":null,\"mount_callbacks\":[\"function () {\\n    var handler = (function (ko, koPunches) {\\n    ko.punches.enableAll();\\n    ko.bindingHandlers.numericValue = {\\n        init: function(element, valueAccessor, allBindings, data, context) {\\n            var stringified = ko.observable(ko.unwrap(valueAccessor()));\\n            stringified.subscribe(function(value) {\\n                var val = parseFloat(value);\\n                if (!isNaN(val)) {\\n                    valueAccessor()(val);\\n                }\\n            });\\n            valueAccessor().subscribe(function(value) {\\n                var str = JSON.stringify(value);\\n                if ((str == \\\"0\\\") && ([\\\"-0\\\", \\\"-0.\\\"].indexOf(stringified()) >= 0))\\n                     return;\\n                 if ([\\\"null\\\", \\\"\\\"].indexOf(str) >= 0)\\n                     return;\\n                stringified(str);\\n            });\\n            ko.applyBindingsToNode(\\n                element,\\n                {\\n                    value: stringified,\\n                    valueUpdate: allBindings.get('valueUpdate'),\\n                },\\n                context,\\n            );\\n        }\\n    };\\n    var json_data = {\\\"formatted_vals\\\":[\\\"-20\\\",\\\"-19\\\",\\\"-18\\\",\\\"-17\\\",\\\"-16\\\",\\\"-15\\\",\\\"-14\\\",\\\"-13\\\",\\\"-12\\\",\\\"-11\\\",\\\"-10\\\",\\\"-9\\\",\\\"-8\\\",\\\"-7\\\",\\\"-6\\\",\\\"-5\\\",\\\"-4\\\",\\\"-3\\\",\\\"-2\\\",\\\"-1\\\",\\\"0\\\",\\\"1\\\",\\\"2\\\",\\\"3\\\",\\\"4\\\",\\\"5\\\",\\\"6\\\",\\\"7\\\",\\\"8\\\",\\\"9\\\",\\\"10\\\"],\\\"changes\\\":WebIO.getval({\\\"name\\\":\\\"changes\\\",\\\"scope\\\":\\\"15668703228850791829\\\",\\\"id\\\":\\\"ob_150\\\",\\\"type\\\":\\\"observable\\\"}),\\\"index\\\":WebIO.getval({\\\"name\\\":\\\"index\\\",\\\"scope\\\":\\\"15668703228850791829\\\",\\\"id\\\":\\\"ob_149\\\",\\\"type\\\":\\\"observable\\\"})};\\n    var self = this;\\n    function AppViewModel() {\\n        for (var key in json_data) {\\n            var el = json_data[key];\\n            this[key] = Array.isArray(el) ? ko.observableArray(el) : ko.observable(el);\\n        }\\n        \\n        [this[\\\"formatted_val\\\"]=ko.computed(    function(){\\n        return this.formatted_vals()[parseInt(this.index())-(-20)];\\n    }\\n,this)]\\n        [this[\\\"changes\\\"].subscribe((function (val){!(this.valueFromJulia[\\\"changes\\\"]) ? (WebIO.setval({\\\"name\\\":\\\"changes\\\",\\\"scope\\\":\\\"15668703228850791829\\\",\\\"id\\\":\\\"ob_150\\\",\\\"type\\\":\\\"observable\\\"},val)) : undefined; return this.valueFromJulia[\\\"changes\\\"]=false}),self),this[\\\"index\\\"].subscribe((function (val){!(this.valueFromJulia[\\\"index\\\"]) ? (WebIO.setval({\\\"name\\\":\\\"index\\\",\\\"scope\\\":\\\"15668703228850791829\\\",\\\"id\\\":\\\"ob_149\\\",\\\"type\\\":\\\"observable\\\"},val)) : undefined; return this.valueFromJulia[\\\"index\\\"]=false}),self)]\\n        \\n    }\\n    self.model = new AppViewModel();\\n    self.valueFromJulia = {};\\n    for (var key in json_data) {\\n        self.valueFromJulia[key] = false;\\n    }\\n    ko.applyBindings(self.model, self.dom);\\n}\\n);\\n    (WebIO.importBlock({\\\"data\\\":[{\\\"name\\\":\\\"knockout\\\",\\\"type\\\":\\\"js\\\",\\\"url\\\":\\\"\\/assetserver\\/63e811729d8167e1a45a232b22fe440ab09be0f2-knockout.js\\\"},{\\\"name\\\":\\\"knockout_punches\\\",\\\"type\\\":\\\"js\\\",\\\"url\\\":\\\"\\/assetserver\\/ed3bf001585dfa72027b862905c75082645e7abd-knockout_punches.js\\\"}],\\\"type\\\":\\\"async_block\\\"})).then((imports) => handler.apply(this, imports));\\n}\\n\"],\"observables\":{\"changes\":{\"sync\":false,\"id\":\"ob_150\",\"value\":0},\"index\":{\"sync\":true,\"id\":\"ob_149\",\"value\":-5}}},\"children\":[{\"props\":{\"className\":\"interact-flex-row interact-widget\"},\"nodeType\":\"DOM\",\"type\":\"node\",\"instanceArgs\":{\"namespace\":\"html\",\"tag\":\"div\"},\"children\":[{\"props\":{\"className\":\"interact-flex-row-left\"},\"nodeType\":\"DOM\",\"type\":\"node\",\"instanceArgs\":{\"namespace\":\"html\",\"tag\":\"div\"},\"children\":[{\"props\":{\"className\":\"interact \",\"style\":{\"padding\":\"5px 10px 0px 10px\"}},\"nodeType\":\"DOM\",\"type\":\"node\",\"instanceArgs\":{\"namespace\":\"html\",\"tag\":\"label\"},\"children\":[\"k\"]}]},{\"props\":{\"className\":\"interact-flex-row-center\"},\"nodeType\":\"DOM\",\"type\":\"node\",\"instanceArgs\":{\"namespace\":\"html\",\"tag\":\"div\"},\"children\":[{\"props\":{\"max\":10,\"min\":-20,\"attributes\":{\"type\":\"range\",\"data-bind\":\"numericValue: index, valueUpdate: 'input', event: {change: function (){this.changes(this.changes()+1)}}\",\"orient\":\"horizontal\"},\"step\":1,\"className\":\"slider slider is-fullwidth\",\"style\":{}},\"nodeType\":\"DOM\",\"type\":\"node\",\"instanceArgs\":{\"namespace\":\"html\",\"tag\":\"input\"},\"children\":[]}]},{\"props\":{\"className\":\"interact-flex-row-right\"},\"nodeType\":\"DOM\",\"type\":\"node\",\"instanceArgs\":{\"namespace\":\"html\",\"tag\":\"div\"},\"children\":[{\"props\":{\"attributes\":{\"data-bind\":\"text: formatted_val\"}},\"nodeType\":\"DOM\",\"type\":\"node\",\"instanceArgs\":{\"namespace\":\"html\",\"tag\":\"p\"},\"children\":[]}]}]}]}]},{\"props\":{},\"nodeType\":\"Scope\",\"type\":\"node\",\"instanceArgs\":{\"imports\":{\"data\":[],\"type\":\"async_block\"},\"id\":\"1547229636006611504\",\"handlers\":{},\"systemjs_options\":null,\"mount_callbacks\":[],\"observables\":{\"obs-node\":{\"sync\":false,\"id\":\"ob_154\",\"value\":{\"props\":{\"className\":\"interact-flex-row interact-widget\"},\"nodeType\":\"DOM\",\"type\":\"node\",\"instanceArgs\":{\"namespace\":\"html\",\"tag\":\"div\"},\"children\":[{\"props\":{\"setInnerHtml\":\"<?xml version=\\\"1.0\\\" encoding=\\\"utf-8\\\"?>\\n<svg xmlns=\\\"http:\\/\\/www.w3.org\\/2000\\/svg\\\" xmlns:xlink=\\\"http:\\/\\/www.w3.org\\/1999\\/xlink\\\" width=\\\"400\\\" height=\\\"400\\\" viewBox=\\\"0 0 1600 1600\\\">\\n<defs>\\n  <clipPath id=\\\"clip5200\\\">\\n    <rect x=\\\"0\\\" y=\\\"0\\\" width=\\\"1600\\\" height=\\\"1600\\\"\\/>\\n  <\\/clipPath>\\n<\\/defs>\\n<polygon clip-path=\\\"url(#clip5200)\\\" points=\\\"\\n0,1600 1600,1600 1600,0 0,0 \\n  \\\" fill=\\\"#ffffff\\\" fill-rule=\\\"evenodd\\\" fill-opacity=\\\"1\\\"\\/>\\n<defs>\\n  <clipPath id=\\\"clip5201\\\">\\n    <rect x=\\\"320\\\" y=\\\"160\\\" width=\\\"1121\\\" height=\\\"1121\\\"\\/>\\n  <\\/clipPath>\\n<\\/defs>\\n<polygon clip-path=\\\"url(#clip5200)\\\" points=\\\"\\n172.66,1470.71 1552.76,1470.71 1552.76,47.2441 172.66,47.2441 \\n  \\\" fill=\\\"#ffffff\\\" fill-rule=\\\"evenodd\\\" fill-opacity=\\\"1\\\"\\/>\\n<defs>\\n  <clipPath id=\\\"clip5202\\\">\\n    <rect x=\\\"172\\\" y=\\\"47\\\" width=\\\"1381\\\" height=\\\"1424\\\"\\/>\\n  <\\/clipPath>\\n<\\/defs>\\n<polyline clip-path=\\\"url(#clip5202)\\\" style=\\\"stroke:#000000; stroke-width:2; stroke-opacity:0.1; fill:none\\\" points=\\\"\\n  211.72,1470.71 211.72,47.2441 \\n  \\\"\\/>\\n<polyline clip-path=\\\"url(#clip5202)\\\" style=\\\"stroke:#000000; stroke-width:2; stroke-opacity:0.1; fill:none\\\" points=\\\"\\n  507.623,1470.71 507.623,47.2441 \\n  \\\"\\/>\\n<polyline clip-path=\\\"url(#clip5202)\\\" style=\\\"stroke:#000000; stroke-width:2; stroke-opacity:0.1; fill:none\\\" points=\\\"\\n  803.527,1470.71 803.527,47.2441 \\n  \\\"\\/>\\n<polyline clip-path=\\\"url(#clip5202)\\\" style=\\\"stroke:#000000; stroke-width:2; stroke-opacity:0.1; fill:none\\\" points=\\\"\\n  1099.43,1470.71 1099.43,47.2441 \\n  \\\"\\/>\\n<polyline clip-path=\\\"url(#clip5202)\\\" style=\\\"stroke:#000000; stroke-width:2; stroke-opacity:0.1; fill:none\\\" points=\\\"\\n  1395.34,1470.71 1395.34,47.2441 \\n  \\\"\\/>\\n<polyline clip-path=\\\"url(#clip5202)\\\" style=\\\"stroke:#000000; stroke-width:2; stroke-opacity:0.1; fill:none\\\" points=\\\"\\n  172.66,1350.78 1552.76,1350.78 \\n  \\\"\\/>\\n<polyline clip-path=\\\"url(#clip5202)\\\" style=\\\"stroke:#000000; stroke-width:2; stroke-opacity:0.1; fill:none\\\" points=\\\"\\n  172.66,1054.88 1552.76,1054.88 \\n  \\\"\\/>\\n<polyline clip-path=\\\"url(#clip5202)\\\" style=\\\"stroke:#000000; stroke-width:2; stroke-opacity:0.1; fill:none\\\" points=\\\"\\n  172.66,758.976 1552.76,758.976 \\n  \\\"\\/>\\n<polyline clip-path=\\\"url(#clip5202)\\\" style=\\\"stroke:#000000; stroke-width:2; stroke-opacity:0.1; fill:none\\\" points=\\\"\\n  172.66,463.072 1552.76,463.072 \\n  \\\"\\/>\\n<polyline clip-path=\\\"url(#clip5202)\\\" style=\\\"stroke:#000000; stroke-width:2; stroke-opacity:0.1; fill:none\\\" points=\\\"\\n  172.66,167.168 1552.76,167.168 \\n  \\\"\\/>\\n<polyline clip-path=\\\"url(#clip5200)\\\" style=\\\"stroke:#000000; stroke-width:4; stroke-opacity:1; fill:none\\\" points=\\\"\\n  172.66,1470.71 1552.76,1470.71 \\n  \\\"\\/>\\n<polyline clip-path=\\\"url(#clip5200)\\\" style=\\\"stroke:#000000; stroke-width:4; stroke-opacity:1; fill:none\\\" points=\\\"\\n  172.66,1470.71 172.66,47.2441 \\n  \\\"\\/>\\n<polyline clip-path=\\\"url(#clip5200)\\\" style=\\\"stroke:#000000; stroke-width:4; stroke-opacity:1; fill:none\\\" points=\\\"\\n  211.72,1470.71 211.72,1449.36 \\n  \\\"\\/>\\n<polyline clip-path=\\\"url(#clip5200)\\\" style=\\\"stroke:#000000; stroke-width:4; stroke-opacity:1; fill:none\\\" points=\\\"\\n  507.623,1470.71 507.623,1449.36 \\n  \\\"\\/>\\n<polyline clip-path=\\\"url(#clip5200)\\\" style=\\\"stroke:#000000; stroke-width:4; stroke-opacity:1; fill:none\\\" points=\\\"\\n  803.527,1470.71 803.527,1449.36 \\n  \\\"\\/>\\n<polyline clip-path=\\\"url(#clip5200)\\\" style=\\\"stroke:#000000; stroke-width:4; stroke-opacity:1; fill:none\\\" points=\\\"\\n  1099.43,1470.71 1099.43,1449.36 \\n  \\\"\\/>\\n<polyline clip-path=\\\"url(#clip5200)\\\" style=\\\"stroke:#000000; stroke-width:4; stroke-opacity:1; fill:none\\\" points=\\\"\\n  1395.34,1470.71 1395.34,1449.36 \\n  \\\"\\/>\\n<polyline clip-path=\\\"url(#clip5200)\\\" style=\\\"stroke:#000000; stroke-width:4; stroke-opacity:1; fill:none\\\" points=\\\"\\n  172.66,1350.78 193.362,1350.78 \\n  \\\"\\/>\\n<polyline clip-path=\\\"url(#clip5200)\\\" style=\\\"stroke:#000000; stroke-width:4; stroke-opacity:1; fill:none\\\" points=\\\"\\n  172.66,1054.88 193.362,1054.88 \\n  \\\"\\/>\\n<polyline clip-path=\\\"url(#clip5200)\\\" style=\\\"stroke:#000000; stroke-width:4; stroke-opacity:1; fill:none\\\" points=\\\"\\n  172.66,758.976 193.362,758.976 \\n  \\\"\\/>\\n<polyline clip-path=\\\"url(#clip5200)\\\" style=\\\"stroke:#000000; stroke-width:4; stroke-opacity:1; fill:none\\\" points=\\\"\\n  172.66,463.072 193.362,463.072 \\n  \\\"\\/>\\n<polyline clip-path=\\\"url(#clip5200)\\\" style=\\\"stroke:#000000; stroke-width:4; stroke-opacity:1; fill:none\\\" points=\\\"\\n  172.66,167.168 193.362,167.168 \\n  \\\"\\/>\\n<g clip-path=\\\"url(#clip5200)\\\">\\n<text style=\\\"fill:#000000; fill-opacity:1; font-family:Arial,Helvetica Neue,Helvetica,sans-serif; font-size:48px; text-anchor:middle;\\\" transform=\\\"rotate(0, 211.72, 1520.71)\\\" x=\\\"211.72\\\" y=\\\"1520.71\\\">0.00<\\/text>\\n<\\/g>\\n<g clip-path=\\\"url(#clip5200)\\\">\\n<text style=\\\"fill:#000000; fill-opacity:1; font-family:Arial,Helvetica Neue,Helvetica,sans-serif; font-size:48px; text-anchor:middle;\\\" transform=\\\"rotate(0, 507.623, 1520.71)\\\" x=\\\"507.623\\\" y=\\\"1520.71\\\">0.25<\\/text>\\n<\\/g>\\n<g clip-path=\\\"url(#clip5200)\\\">\\n<text style=\\\"fill:#000000; fill-opacity:1; font-family:Arial,Helvetica Neue,Helvetica,sans-serif; font-size:48px; text-anchor:middle;\\\" transform=\\\"rotate(0, 803.527, 1520.71)\\\" x=\\\"803.527\\\" y=\\\"1520.71\\\">0.50<\\/text>\\n<\\/g>\\n<g clip-path=\\\"url(#clip5200)\\\">\\n<text style=\\\"fill:#000000; fill-opacity:1; font-family:Arial,Helvetica Neue,Helvetica,sans-serif; font-size:48px; text-anchor:middle;\\\" transform=\\\"rotate(0, 1099.43, 1520.71)\\\" x=\\\"1099.43\\\" y=\\\"1520.71\\\">0.75<\\/text>\\n<\\/g>\\n<g clip-path=\\\"url(#clip5200)\\\">\\n<text style=\\\"fill:#000000; fill-opacity:1; font-family:Arial,Helvetica Neue,Helvetica,sans-serif; font-size:48px; text-anchor:middle;\\\" transform=\\\"rotate(0, 1395.34, 1520.71)\\\" x=\\\"1395.34\\\" y=\\\"1520.71\\\">1.00<\\/text>\\n<\\/g>\\n<g clip-path=\\\"url(#clip5200)\\\">\\n<text style=\\\"fill:#000000; fill-opacity:1; font-family:Arial,Helvetica Neue,Helvetica,sans-serif; font-size:48px; text-anchor:end;\\\" transform=\\\"rotate(0, 156.66, 1368.28)\\\" x=\\\"156.66\\\" y=\\\"1368.28\\\">0.00<\\/text>\\n<\\/g>\\n<g clip-path=\\\"url(#clip5200)\\\">\\n<text style=\\\"fill:#000000; fill-opacity:1; font-family:Arial,Helvetica Neue,Helvetica,sans-serif; font-size:48px; text-anchor:end;\\\" transform=\\\"rotate(0, 156.66, 1072.38)\\\" x=\\\"156.66\\\" y=\\\"1072.38\\\">0.25<\\/text>\\n<\\/g>\\n<g clip-path=\\\"url(#clip5200)\\\">\\n<text style=\\\"fill:#000000; fill-opacity:1; font-family:Arial,Helvetica Neue,Helvetica,sans-serif; font-size:48px; text-anchor:end;\\\" transform=\\\"rotate(0, 156.66, 776.476)\\\" x=\\\"156.66\\\" y=\\\"776.476\\\">0.50<\\/text>\\n<\\/g>\\n<g clip-path=\\\"url(#clip5200)\\\">\\n<text style=\\\"fill:#000000; fill-opacity:1; font-family:Arial,Helvetica Neue,Helvetica,sans-serif; font-size:48px; text-anchor:end;\\\" transform=\\\"rotate(0, 156.66, 480.572)\\\" x=\\\"156.66\\\" y=\\\"480.572\\\">0.75<\\/text>\\n<\\/g>\\n<g clip-path=\\\"url(#clip5200)\\\">\\n<text style=\\\"fill:#000000; fill-opacity:1; font-family:Arial,Helvetica Neue,Helvetica,sans-serif; font-size:48px; text-anchor:end;\\\" transform=\\\"rotate(0, 156.66, 184.668)\\\" x=\\\"156.66\\\" y=\\\"184.668\\\">1.00<\\/text>\\n<\\/g>\\n<polyline clip-path=\\\"url(#clip5202)\\\" style=\\\"stroke:#009af9; stroke-width:10; stroke-opacity:1; fill:none\\\" points=\\\"\\n  211.72,1350.78 1513.7,167.168 \\n  \\\"\\/>\\n<polyline clip-path=\\\"url(#clip5202)\\\" style=\\\"stroke:#e26f46; stroke-width:10; stroke-opacity:1; fill:none\\\" points=\\\"\\n  211.72,1350.78 1395.34,167.168 \\n  \\\"\\/>\\n<polyline clip-path=\\\"url(#clip5202)\\\" style=\\\"stroke:#3da44d; stroke-width:10; stroke-opacity:1; fill:none\\\" points=\\\"\\n  211.72,1350.78 211.72,167.168 \\n  \\\"\\/>\\n<polyline clip-path=\\\"url(#clip5202)\\\" style=\\\"stroke:#c271d2; stroke-width:16; stroke-opacity:1; fill:none\\\" points=\\\"\\n  211.72,1350.78 756.656,748.759 \\n  \\\"\\/>\\n<polygon clip-path=\\\"url(#clip5200)\\\" points=\\\"\\n922.046,1374.71 1504.76,1374.71 1504.76,1072.31 922.046,1072.31 \\n  \\\" fill=\\\"#ffffff\\\" fill-rule=\\\"evenodd\\\" fill-opacity=\\\"1\\\"\\/>\\n<polyline clip-path=\\\"url(#clip5200)\\\" style=\\\"stroke:#000000; stroke-width:4; stroke-opacity:1; fill:none\\\" points=\\\"\\n  922.046,1374.71 1504.76,1374.71 1504.76,1072.31 922.046,1072.31 922.046,1374.71 \\n  \\\"\\/>\\n<polyline clip-path=\\\"url(#clip5200)\\\" style=\\\"stroke:#009af9; stroke-width:10; stroke-opacity:1; fill:none\\\" points=\\\"\\n  938.046,1132.79 1034.05,1132.79 \\n  \\\"\\/>\\n<g clip-path=\\\"url(#clip5200)\\\">\\n<text style=\\\"fill:#000000; fill-opacity:1; font-family:Arial,Helvetica Neue,Helvetica,sans-serif; font-size:48px; text-anchor:start;\\\" transform=\\\"rotate(0, 1050.05, 1150.29)\\\" x=\\\"1050.05\\\" y=\\\"1150.29\\\">first column of A<\\/text>\\n<\\/g>\\n<polyline clip-path=\\\"url(#clip5200)\\\" style=\\\"stroke:#e26f46; stroke-width:10; stroke-opacity:1; fill:none\\\" points=\\\"\\n  938.046,1193.27 1034.05,1193.27 \\n  \\\"\\/>\\n<g clip-path=\\\"url(#clip5200)\\\">\\n<text style=\\\"fill:#000000; fill-opacity:1; font-family:Arial,Helvetica Neue,Helvetica,sans-serif; font-size:48px; text-anchor:start;\\\" transform=\\\"rotate(0, 1050.05, 1210.77)\\\" x=\\\"1050.05\\\" y=\\\"1210.77\\\">second column of A<\\/text>\\n<\\/g>\\n<polyline clip-path=\\\"url(#clip5200)\\\" style=\\\"stroke:#3da44d; stroke-width:10; stroke-opacity:1; fill:none\\\" points=\\\"\\n  938.046,1253.75 1034.05,1253.75 \\n  \\\"\\/>\\n<g clip-path=\\\"url(#clip5200)\\\">\\n<text style=\\\"fill:#000000; fill-opacity:1; font-family:Arial,Helvetica Neue,Helvetica,sans-serif; font-size:48px; text-anchor:start;\\\" transform=\\\"rotate(0, 1050.05, 1271.25)\\\" x=\\\"1050.05\\\" y=\\\"1271.25\\\">target (b)<\\/text>\\n<\\/g>\\n<polyline clip-path=\\\"url(#clip5200)\\\" style=\\\"stroke:#c271d2; stroke-width:16; stroke-opacity:1; fill:none\\\" points=\\\"\\n  938.046,1314.23 1034.05,1314.23 \\n  \\\"\\/>\\n<g clip-path=\\\"url(#clip5200)\\\">\\n<text style=\\\"fill:#000000; fill-opacity:1; font-family:Arial,Helvetica Neue,Helvetica,sans-serif; font-size:48px; text-anchor:start;\\\" transform=\\\"rotate(0, 1050.05, 1331.73)\\\" x=\\\"1050.05\\\" y=\\\"1331.73\\\">b_min<\\/text>\\n<\\/g>\\n<\\/svg>\\n\"},\"nodeType\":\"DOM\",\"type\":\"node\",\"instanceArgs\":{\"namespace\":\"html\",\"tag\":\"div\"},\"children\":[]}]}}}},\"children\":[{\"props\":{},\"nodeType\":\"ObservableNode\",\"type\":\"node\",\"instanceArgs\":{\"id\":\"ob_154\",\"name\":\"obs-node\"},\"children\":[]}]}]},\n",
              "            window,\n",
              "        );\n",
              "    } else {\n",
              "        document\n",
              "            .querySelector('[data-webio-mountpoint=\"5385539664834814382\"]')\n",
              "            .innerHTML = (\n",
              "                '<strong>WebIO not detected. Please read ' +\n",
              "                '<a href=\"https://juliagizmos.github.io/WebIO.jl/latest/troubleshooting/not-detected/\">the troubleshooting guide</a> ' +\n",
              "                'for more information on how to resolve this issue.' +\n",
              "                '</strong>'\n",
              "            );\n",
              "    }\n",
              "    </script>\n",
              "</div>\n"
            ],
            "text/plain": [
              "Node{WebIO.DOM}(WebIO.DOM(:html, :div), Any[Node{DOM}(DOM(:html, :div), Any[Scope(Node{DOM}(DOM(:html, :div), Any[Node{DOM}(DOM(:html, :div), Any[Node{DOM}(DOM(:html, :label), Any[\"k\"], Dict{Symbol,Any}(:className=>\"interact \",:style=>Dict{Any,Any}(:padding=>\"5px 10px 0px 10px\")))], Dict{Symbol,Any}(:className=>\"interact-flex-row-left\")), Node{DOM}(DOM(:html, :div), Any[Node{DOM}(DOM(:html, :input), Any[], Dict{Symbol,Any}(:max=>10,:min=>-20,:attributes=>Dict{Any,Any}(:type=>\"range\",Symbol(\"data-bind\")=>\"numericValue: index, valueUpdate: 'input', event: {change: function (){this.changes(this.changes()+1)}}\",\"orient\"=>\"horizontal\"),:step=>1,:className=>\"slider slider is-fullwidth\",:style=>Dict{Any,Any}()))], Dict{Symbol,Any}(:className=>\"interact-flex-row-center\")), Node{DOM}(DOM(:html, :div), Any[Node{DOM}(DOM(:html, :p), Any[], Dict{Symbol,Any}(:attributes=>Dict(\"data-bind\"=>\"text: formatted_val\")))], Dict{Symbol,Any}(:className=>\"interact-flex-row-right\"))], Dict{Symbol,Any}(:className=>\"interact-flex-row interact-widget\")), Dict{String,Tuple{Observables.AbstractObservable,Union{Nothing, Bool}}}(\"changes\"=>(Observable{Int64} with 1 listeners. Value:\n",
              "0, nothing),\"index\"=>(Observable{Int64} with 2 listeners. Value:\n",
              "-5, nothing)), Set(String[]), nothing, Asset[Asset(\"js\", \"knockout\", \"/Users/sswatson/.julia/packages/Knockout/1sDlc/src/../assets/knockout.js\"), Asset(\"js\", \"knockout_punches\", \"/Users/sswatson/.julia/packages/Knockout/1sDlc/src/../assets/knockout_punches.js\"), Asset(\"js\", nothing, \"/Users/sswatson/.julia/packages/InteractBase/9mFwe/src/../assets/all.js\"), Asset(\"css\", nothing, \"/Users/sswatson/.julia/packages/InteractBase/9mFwe/src/../assets/style.css\"), Asset(\"css\", nothing, \"/Users/sswatson/.julia/packages/Interact/SbgIk/src/../assets/bulma_confined.min.css\")], Dict{Any,Any}(\"changes\"=>Any[JSString(\"(function (val){return (val!=this.model[\\\"changes\\\"]()) ? (this.valueFromJulia[\\\"changes\\\"]=true, this.model[\\\"changes\\\"](val)) : undefined})\")],\"index\"=>Any[JSString(\"(function (val){return (val!=this.model[\\\"index\\\"]()) ? (this.valueFromJulia[\\\"index\\\"]=true, this.model[\\\"index\\\"](val)) : undefined})\")]), ConnectionPool(Channel{Any}(sz_max:32,sz_curr:0), Set(AbstractConnection[]), Condition(Any[Task (runnable) @0x0000000117e5bcd0])), WebIO.JSString[JSString(\"function () {\\n    var handler = (function (ko, koPunches) {\\n    ko.punches.enableAll();\\n    ko.bindingHandlers.numericValue = {\\n        init: function(element, valueAccessor, allBindings, data, context) {\\n            var stringified = ko.observable(ko.unwrap(valueAccessor()));\\n            stringified.subscribe(function(value) {\\n                var val = parseFloat(value);\\n                if (!isNaN(val)) {\\n                    valueAccessor()(val);\\n                }\\n            });\\n            valueAccessor().subscribe(function(value) {\\n                var str = JSON.stringify(value);\\n                if ((str == \\\"0\\\") && ([\\\"-0\\\", \\\"-0.\\\"].indexOf(stringified()) >= 0))\\n                     return;\\n                 if ([\\\"null\\\", \\\"\\\"].indexOf(str) >= 0)\\n                     return;\\n                stringified(str);\\n            });\\n            ko.applyBindingsToNode(\\n                element,\\n                {\\n                    value: stringified,\\n                    valueUpdate: allBindings.get('valueUpdate'),\\n                },\\n                context,\\n            );\\n        }\\n    };\\n    var json_data = {\\\"formatted_vals\\\":[\\\"-20\\\",\\\"-19\\\",\\\"-18\\\",\\\"-17\\\",\\\"-16\\\",\\\"-15\\\",\\\"-14\\\",\\\"-13\\\",\\\"-12\\\",\\\"-11\\\",\\\"-10\\\",\\\"-9\\\",\\\"-8\\\",\\\"-7\\\",\\\"-6\\\",\\\"-5\\\",\\\"-4\\\",\\\"-3\\\",\\\"-2\\\",\\\"-1\\\",\\\"0\\\",\\\"1\\\",\\\"2\\\",\\\"3\\\",\\\"4\\\",\\\"5\\\",\\\"6\\\",\\\"7\\\",\\\"8\\\",\\\"9\\\",\\\"10\\\"],\\\"changes\\\":WebIO.getval({\\\"name\\\":\\\"changes\\\",\\\"scope\\\":\\\"15668703228850791829\\\",\\\"id\\\":\\\"ob_150\\\",\\\"type\\\":\\\"observable\\\"}),\\\"index\\\":WebIO.getval({\\\"name\\\":\\\"index\\\",\\\"scope\\\":\\\"15668703228850791829\\\",\\\"id\\\":\\\"ob_149\\\",\\\"type\\\":\\\"observable\\\"})};\\n    var self = this;\\n    function AppViewModel() {\\n        for (var key in json_data) {\\n            var el = json_data[key];\\n            this[key] = Array.isArray(el) ? ko.observableArray(el) : ko.observable(el);\\n        }\\n        \\n        [this[\\\"formatted_val\\\"]=ko.computed(    function(){\\n        return this.formatted_vals()[parseInt(this.index())-(-20)];\\n    }\\n,this)]\\n        [this[\\\"changes\\\"].subscribe((function (val){!(this.valueFromJulia[\\\"changes\\\"]) ? (WebIO.setval({\\\"name\\\":\\\"changes\\\",\\\"scope\\\":\\\"15668703228850791829\\\",\\\"id\\\":\\\"ob_150\\\",\\\"type\\\":\\\"observable\\\"},val)) : undefined; return this.valueFromJulia[\\\"changes\\\"]=false}),self),this[\\\"index\\\"].subscribe((function (val){!(this.valueFromJulia[\\\"index\\\"]) ? (WebIO.setval({\\\"name\\\":\\\"index\\\",\\\"scope\\\":\\\"15668703228850791829\\\",\\\"id\\\":\\\"ob_149\\\",\\\"type\\\":\\\"observable\\\"},val)) : undefined; return this.valueFromJulia[\\\"index\\\"]=false}),self)]\\n        \\n    }\\n    self.model = new AppViewModel();\\n    self.valueFromJulia = {};\\n    for (var key in json_data) {\\n        self.valueFromJulia[key] = false;\\n    }\\n    ko.applyBindings(self.model, self.dom);\\n}\\n);\\n    (WebIO.importBlock({\\\"data\\\":[{\\\"name\\\":\\\"knockout\\\",\\\"type\\\":\\\"js\\\",\\\"url\\\":\\\"/assetserver/63e811729d8167e1a45a232b22fe440ab09be0f2-knockout.js\\\"},{\\\"name\\\":\\\"knockout_punches\\\",\\\"type\\\":\\\"js\\\",\\\"url\\\":\\\"/assetserver/ed3bf001585dfa72027b862905c75082645e7abd-knockout_punches.js\\\"}],\\\"type\\\":\\\"async_block\\\"})).then((imports) => handler.apply(this, imports));\\n}\\n\")])], Dict{Symbol,Any}(:className=>\"field interact-widget\")), Observable{Any} with 0 listeners. Value:\n",
              "Node{DOM}(DOM(:html, :div), Any[Plot{Plots.GRBackend() n=4}], Dict{Symbol,Any}(:className=>\"interact-flex-row interact-widget\"))], Dict{Symbol,Any}())"
            ]
          },
          "metadata": {
            "@webio": {
              "kernelId": "cedd5366-a023-43f6-9ce5-5027947ddb83"
            }
          }
        }
      ],
      "execution_count": 55,
      "metadata": {
        "collapsed": false,
        "inputHidden": false,
        "jupyter": {
          "outputs_hidden": false
        },
        "outputHidden": false
      }
    },
    {
      "cell_type": "markdown",
      "source": [
        "### Problem 8 (challenge)\n",
        "\n",
        "We can also differentiate functions with respect to higher-order arrays like matrices. Just as the derivative of a real-valued function with respect to a vector is a vector, the derivative of a real-valued function with respect to a matrix is a matrix: given $f:\\mathbb{R}^{m\\times n} \\to \\mathbb{R}$, we define\n",
        "  $$\n",
        "    \\frac{\\partial}{\\partial W}f(W) =\n",
        "    \\begin{bmatrix}\n",
        "      \\frac{\\partial f}{\\partial a_{1,1}} & \\cdots & \\frac{\\partial\n",
        "        f}{\\partial a_{1,n}} \\\\\n",
        "      \\vdots & \\ddots & \\vdots \\\\\n",
        "      \\frac{\\partial f}{\\partial a_{m,1}} & \\cdots & \\frac{\\partial\n",
        "        f}{\\partial a_{m,n}}\n",
        "    \\end{bmatrix}, \n",
        "  $$\n",
        "  where $a_{i,j}$ is the entry in the $i$th row and $j$th column of\n",
        "  $W$. Suppose that $\\mathbf{u}$ is a $1 \\times m$ row vector and\n",
        "  $\\mathbf{v}$ is an $n \\times 1$ column vector. Show that\n",
        "  $$\n",
        "  \\frac{\\partial}{\\partial W}(\\mathbf{u}W \\mathbf{v}) = \\mathbf{u}'\n",
        "    \\mathbf{v}'. \n",
        "  $$"
      ],
      "metadata": {}
    }
  ],
  "metadata": {
    "@webio": {
      "lastCommId": "bc2fa847-1478-4d3a-afd2-ab53b5be286c",
      "lastKernelId": "cedd5366-a023-43f6-9ce5-5027947ddb83"
    },
    "kernel_info": {
      "name": "julia-1.1"
    },
    "kernelspec": {
      "name": "julia-1.1",
      "language": "julia",
      "display_name": "Julia 1.1.1"
    },
    "language_info": {
      "file_extension": ".jl",
      "name": "julia",
      "mimetype": "application/julia",
      "version": "1.1.1"
    },
    "nteract": {
      "version": "0.14.5"
    }
  },
  "nbformat": 4,
  "nbformat_minor": 4
}