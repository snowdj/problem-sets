{
 "cells": [
  {
   "cell_type": "markdown",
   "metadata": {},
   "source": [
    "## Graphical Models and Expectation-Maximization (II)\n",
    "\n",
    "#### *22 November 2019*\n",
    "#### *DATA 1010*"
   ]
  },
  {
   "cell_type": "code",
   "execution_count": 1,
   "metadata": {},
   "outputs": [],
   "source": [
    "using Distributions, Plots, StatsBase, OffsetArrays\n",
    "gr(legend = :false, fontfamily = \"Palatino\");"
   ]
  },
  {
   "cell_type": "markdown",
   "metadata": {},
   "source": [
    "*Introduction*. Last time we talked about Expectation-Maximization in the context of Gaussian mixture models. With that concrete example in mind, we will discuss the general EM algorithm for Bayes net inference. \n",
    "\n",
    "Consider a Bayesian network for which some of the random variables are observed, while others are hidden. Suppose that the conditional distributions in the network are specified in some parametric way. We will look for parameters which maximize the likelihood of the model with respect to the observed data as follows, beginning with an arbitrary initial guess for the parameter values: \n",
    "\n",
    "(1) Assuming the current parameter values, we find the conditional distribution of the hidden variables for each observation.  \n",
    "(2) With respect to that distribution over the hidden variables, we work out the *expected* log likelihood and find the parameters which maximize it.\n",
    "\n",
    "We repeat these steps to convergence."
   ]
  },
  {
   "cell_type": "markdown",
   "metadata": {},
   "source": [
    "---\n",
    "\n",
    "## Problem 1\n",
    "\n",
    "Show that this algorithm generalizes the one we came up with last time for the Gaussian mixture model."
   ]
  },
  {
   "cell_type": "markdown",
   "metadata": {},
   "source": [
    "*Solution*. "
   ]
  },
  {
   "cell_type": "markdown",
   "metadata": {},
   "source": [
    "---\n",
    "\n",
    "Another common example of a Bayesian network is a **hidden Markov model**. The idea is that we have a Markov chain, but rather than getting to see its values directly, we see some other values which are corruptions of the actual values. "
   ]
  },
  {
   "cell_type": "markdown",
   "metadata": {},
   "source": [
    "Consider the following Markov chain Z. Come up with a way to estimate the transition matrix entries from the data."
   ]
  },
  {
   "cell_type": "code",
   "execution_count": 6,
   "metadata": {},
   "outputs": [
    {
     "data": {
      "text/plain": [
       "1×100 Adjoint{Int64,Array{Int64,1}}:\n",
       " 0  1  0  0  0  0  1  0  1  1  1  0  1  …  1  1  1  1  1  1  1  1  1  0  0  1"
      ]
     },
     "execution_count": 6,
     "metadata": {},
     "output_type": "execute_result"
    }
   ],
   "source": [
    "P = OffsetArray([0.2 0.8\n",
    "                 1/3 2/3], 0:1, 0:1)\n",
    "\n",
    "n = 100\n",
    "\n",
    "function markov_chain(P, n)\n",
    "    Z = [0]\n",
    "    for i in 1:n-1\n",
    "        current_state = Z[end]\n",
    "        push!(Z, rand() < P[current_state, 0] ? 0 : 1)\n",
    "    end\n",
    "    Z\n",
    "end\n",
    "Z = markov_chain(P, n)\n",
    "Z'"
   ]
  },
  {
   "cell_type": "markdown",
   "metadata": {},
   "source": [
    "Now suppose that instead of getting to see $Z$, we only see Z plus a standard normal random variable (which is independent for every observation of $Z$): "
   ]
  },
  {
   "cell_type": "code",
   "execution_count": 7,
   "metadata": {},
   "outputs": [
    {
     "data": {
      "text/plain": [
       "1×100 Adjoint{Float64,Array{Float64,1}}:\n",
       " -1.39693  1.04427  -0.524052  -0.590083  …  -0.0976308  -0.399623  0.0930442"
      ]
     },
     "execution_count": 7,
     "metadata": {},
     "output_type": "execute_result"
    }
   ],
   "source": [
    "X = Z + randn(n)\n",
    "X'"
   ]
  },
  {
   "cell_type": "code",
   "execution_count": 9,
   "metadata": {},
   "outputs": [
    {
     "data": {
      "image/svg+xml": [
       "<?xml version=\"1.0\" encoding=\"utf-8\"?>\n",
       "<svg xmlns=\"http://www.w3.org/2000/svg\" xmlns:xlink=\"http://www.w3.org/1999/xlink\" width=\"800\" height=\"200\" viewBox=\"0 0 3200 800\">\n",
       "<defs>\n",
       "  <clipPath id=\"clip4600\">\n",
       "    <rect x=\"0\" y=\"0\" width=\"3200\" height=\"800\"/>\n",
       "  </clipPath>\n",
       "</defs>\n",
       "<path clip-path=\"url(#clip4600)\" d=\"\n",
       "M0 800 L3200 800 L3200 0 L0 0  Z\n",
       "  \" fill=\"#ffffff\" fill-rule=\"evenodd\" fill-opacity=\"1\"/>\n",
       "<defs>\n",
       "  <clipPath id=\"clip4601\">\n",
       "    <rect x=\"640\" y=\"0\" width=\"2241\" height=\"800\"/>\n",
       "  </clipPath>\n",
       "</defs>\n",
       "<path clip-path=\"url(#clip4600)\" d=\"\n",
       "M138.228 722.091 L3152.76 722.091 L3152.76 47.2441 L138.228 47.2441  Z\n",
       "  \" fill=\"#ffffff\" fill-rule=\"evenodd\" fill-opacity=\"1\"/>\n",
       "<defs>\n",
       "  <clipPath id=\"clip4602\">\n",
       "    <rect x=\"138\" y=\"47\" width=\"3016\" height=\"676\"/>\n",
       "  </clipPath>\n",
       "</defs>\n",
       "<polyline clip-path=\"url(#clip4602)\" style=\"stroke:#000000; stroke-width:2; stroke-opacity:0.1; fill:none\" points=\"\n",
       "  194.819,722.091 194.819,47.2441 \n",
       "  \"/>\n",
       "<polyline clip-path=\"url(#clip4602)\" style=\"stroke:#000000; stroke-width:2; stroke-opacity:0.1; fill:none\" points=\"\n",
       "  912.974,722.091 912.974,47.2441 \n",
       "  \"/>\n",
       "<polyline clip-path=\"url(#clip4602)\" style=\"stroke:#000000; stroke-width:2; stroke-opacity:0.1; fill:none\" points=\"\n",
       "  1631.13,722.091 1631.13,47.2441 \n",
       "  \"/>\n",
       "<polyline clip-path=\"url(#clip4602)\" style=\"stroke:#000000; stroke-width:2; stroke-opacity:0.1; fill:none\" points=\"\n",
       "  2349.28,722.091 2349.28,47.2441 \n",
       "  \"/>\n",
       "<polyline clip-path=\"url(#clip4602)\" style=\"stroke:#000000; stroke-width:2; stroke-opacity:0.1; fill:none\" points=\"\n",
       "  3067.44,722.091 3067.44,47.2441 \n",
       "  \"/>\n",
       "<polyline clip-path=\"url(#clip4602)\" style=\"stroke:#000000; stroke-width:2; stroke-opacity:0.1; fill:none\" points=\"\n",
       "  138.228,722.091 3152.76,722.091 \n",
       "  \"/>\n",
       "<polyline clip-path=\"url(#clip4602)\" style=\"stroke:#000000; stroke-width:2; stroke-opacity:0.1; fill:none\" points=\"\n",
       "  138.228,553.379 3152.76,553.379 \n",
       "  \"/>\n",
       "<polyline clip-path=\"url(#clip4602)\" style=\"stroke:#000000; stroke-width:2; stroke-opacity:0.1; fill:none\" points=\"\n",
       "  138.228,384.667 3152.76,384.667 \n",
       "  \"/>\n",
       "<polyline clip-path=\"url(#clip4602)\" style=\"stroke:#000000; stroke-width:2; stroke-opacity:0.1; fill:none\" points=\"\n",
       "  138.228,215.956 3152.76,215.956 \n",
       "  \"/>\n",
       "<polyline clip-path=\"url(#clip4602)\" style=\"stroke:#000000; stroke-width:2; stroke-opacity:0.1; fill:none\" points=\"\n",
       "  138.228,47.2441 3152.76,47.2441 \n",
       "  \"/>\n",
       "<polyline clip-path=\"url(#clip4600)\" style=\"stroke:#000000; stroke-width:4; stroke-opacity:1; fill:none\" points=\"\n",
       "  138.228,722.091 3152.76,722.091 \n",
       "  \"/>\n",
       "<polyline clip-path=\"url(#clip4600)\" style=\"stroke:#000000; stroke-width:4; stroke-opacity:1; fill:none\" points=\"\n",
       "  138.228,722.091 138.228,47.2441 \n",
       "  \"/>\n",
       "<polyline clip-path=\"url(#clip4600)\" style=\"stroke:#000000; stroke-width:4; stroke-opacity:1; fill:none\" points=\"\n",
       "  194.819,722.091 194.819,711.968 \n",
       "  \"/>\n",
       "<polyline clip-path=\"url(#clip4600)\" style=\"stroke:#000000; stroke-width:4; stroke-opacity:1; fill:none\" points=\"\n",
       "  912.974,722.091 912.974,711.968 \n",
       "  \"/>\n",
       "<polyline clip-path=\"url(#clip4600)\" style=\"stroke:#000000; stroke-width:4; stroke-opacity:1; fill:none\" points=\"\n",
       "  1631.13,722.091 1631.13,711.968 \n",
       "  \"/>\n",
       "<polyline clip-path=\"url(#clip4600)\" style=\"stroke:#000000; stroke-width:4; stroke-opacity:1; fill:none\" points=\"\n",
       "  2349.28,722.091 2349.28,711.968 \n",
       "  \"/>\n",
       "<polyline clip-path=\"url(#clip4600)\" style=\"stroke:#000000; stroke-width:4; stroke-opacity:1; fill:none\" points=\"\n",
       "  3067.44,722.091 3067.44,711.968 \n",
       "  \"/>\n",
       "<polyline clip-path=\"url(#clip4600)\" style=\"stroke:#000000; stroke-width:4; stroke-opacity:1; fill:none\" points=\"\n",
       "  138.228,722.091 183.446,722.091 \n",
       "  \"/>\n",
       "<polyline clip-path=\"url(#clip4600)\" style=\"stroke:#000000; stroke-width:4; stroke-opacity:1; fill:none\" points=\"\n",
       "  138.228,553.379 183.446,553.379 \n",
       "  \"/>\n",
       "<polyline clip-path=\"url(#clip4600)\" style=\"stroke:#000000; stroke-width:4; stroke-opacity:1; fill:none\" points=\"\n",
       "  138.228,384.667 183.446,384.667 \n",
       "  \"/>\n",
       "<polyline clip-path=\"url(#clip4600)\" style=\"stroke:#000000; stroke-width:4; stroke-opacity:1; fill:none\" points=\"\n",
       "  138.228,215.956 183.446,215.956 \n",
       "  \"/>\n",
       "<polyline clip-path=\"url(#clip4600)\" style=\"stroke:#000000; stroke-width:4; stroke-opacity:1; fill:none\" points=\"\n",
       "  138.228,47.2441 183.446,47.2441 \n",
       "  \"/>\n",
       "<g clip-path=\"url(#clip4600)\">\n",
       "<text style=\"fill:#000000; fill-opacity:1; font-family:Book Antiqua,Palatino,Palatino Linotype,Palatino LT STD,Georgia,serif; font-size:50px; text-anchor:middle;\" transform=\"rotate(0, 194.819, 780.091)\" x=\"194.819\" y=\"780.091\">0</text>\n",
       "</g>\n",
       "<g clip-path=\"url(#clip4600)\">\n",
       "<text style=\"fill:#000000; fill-opacity:1; font-family:Book Antiqua,Palatino,Palatino Linotype,Palatino LT STD,Georgia,serif; font-size:50px; text-anchor:middle;\" transform=\"rotate(0, 912.974, 780.091)\" x=\"912.974\" y=\"780.091\">25</text>\n",
       "</g>\n",
       "<g clip-path=\"url(#clip4600)\">\n",
       "<text style=\"fill:#000000; fill-opacity:1; font-family:Book Antiqua,Palatino,Palatino Linotype,Palatino LT STD,Georgia,serif; font-size:50px; text-anchor:middle;\" transform=\"rotate(0, 1631.13, 780.091)\" x=\"1631.13\" y=\"780.091\">50</text>\n",
       "</g>\n",
       "<g clip-path=\"url(#clip4600)\">\n",
       "<text style=\"fill:#000000; fill-opacity:1; font-family:Book Antiqua,Palatino,Palatino Linotype,Palatino LT STD,Georgia,serif; font-size:50px; text-anchor:middle;\" transform=\"rotate(0, 2349.28, 780.091)\" x=\"2349.28\" y=\"780.091\">75</text>\n",
       "</g>\n",
       "<g clip-path=\"url(#clip4600)\">\n",
       "<text style=\"fill:#000000; fill-opacity:1; font-family:Book Antiqua,Palatino,Palatino Linotype,Palatino LT STD,Georgia,serif; font-size:50px; text-anchor:middle;\" transform=\"rotate(0, 3067.44, 780.091)\" x=\"3067.44\" y=\"780.091\">100</text>\n",
       "</g>\n",
       "<g clip-path=\"url(#clip4600)\">\n",
       "<text style=\"fill:#000000; fill-opacity:1; font-family:Book Antiqua,Palatino,Palatino Linotype,Palatino LT STD,Georgia,serif; font-size:50px; text-anchor:end;\" transform=\"rotate(0, 106.228, 739.591)\" x=\"106.228\" y=\"739.591\">-4</text>\n",
       "</g>\n",
       "<g clip-path=\"url(#clip4600)\">\n",
       "<text style=\"fill:#000000; fill-opacity:1; font-family:Book Antiqua,Palatino,Palatino Linotype,Palatino LT STD,Georgia,serif; font-size:50px; text-anchor:end;\" transform=\"rotate(0, 106.228, 570.879)\" x=\"106.228\" y=\"570.879\">-2</text>\n",
       "</g>\n",
       "<g clip-path=\"url(#clip4600)\">\n",
       "<text style=\"fill:#000000; fill-opacity:1; font-family:Book Antiqua,Palatino,Palatino Linotype,Palatino LT STD,Georgia,serif; font-size:50px; text-anchor:end;\" transform=\"rotate(0, 106.228, 402.167)\" x=\"106.228\" y=\"402.167\">0</text>\n",
       "</g>\n",
       "<g clip-path=\"url(#clip4600)\">\n",
       "<text style=\"fill:#000000; fill-opacity:1; font-family:Book Antiqua,Palatino,Palatino Linotype,Palatino LT STD,Georgia,serif; font-size:50px; text-anchor:end;\" transform=\"rotate(0, 106.228, 233.456)\" x=\"106.228\" y=\"233.456\">2</text>\n",
       "</g>\n",
       "<g clip-path=\"url(#clip4600)\">\n",
       "<text style=\"fill:#000000; fill-opacity:1; font-family:Book Antiqua,Palatino,Palatino Linotype,Palatino LT STD,Georgia,serif; font-size:50px; text-anchor:end;\" transform=\"rotate(0, 106.228, 64.7441)\" x=\"106.228\" y=\"64.7441\">4</text>\n",
       "</g>\n",
       "<polyline clip-path=\"url(#clip4602)\" style=\"stroke:#009af9; stroke-width:4; stroke-opacity:1; fill:none\" points=\"\n",
       "  223.545,384.667 252.271,300.312 280.997,384.667 309.724,384.667 338.45,384.667 367.176,384.667 395.902,300.312 424.628,384.667 453.355,300.312 482.081,300.312 \n",
       "  510.807,300.312 539.533,384.667 568.259,300.312 596.986,384.667 625.712,300.312 654.438,384.667 683.164,384.667 711.89,300.312 740.617,300.312 769.343,384.667 \n",
       "  798.069,300.312 826.795,300.312 855.521,300.312 884.248,384.667 912.974,300.312 941.7,384.667 970.426,300.312 999.152,384.667 1027.88,300.312 1056.6,300.312 \n",
       "  1085.33,300.312 1114.06,300.312 1142.78,384.667 1171.51,384.667 1200.24,300.312 1228.96,300.312 1257.69,384.667 1286.41,300.312 1315.14,384.667 1343.87,384.667 \n",
       "  1372.59,300.312 1401.32,300.312 1430.05,384.667 1458.77,384.667 1487.5,300.312 1516.22,384.667 1544.95,300.312 1573.68,300.312 1602.4,300.312 1631.13,300.312 \n",
       "  1659.86,300.312 1688.58,300.312 1717.31,300.312 1746.03,300.312 1774.76,300.312 1803.49,300.312 1832.21,300.312 1860.94,300.312 1889.66,300.312 1918.39,300.312 \n",
       "  1947.12,300.312 1975.84,384.667 2004.57,300.312 2033.3,300.312 2062.02,300.312 2090.75,300.312 2119.47,384.667 2148.2,384.667 2176.93,300.312 2205.65,300.312 \n",
       "  2234.38,300.312 2263.11,384.667 2291.83,300.312 2320.56,384.667 2349.28,300.312 2378.01,384.667 2406.74,300.312 2435.46,300.312 2464.19,300.312 2492.92,384.667 \n",
       "  2521.64,300.312 2550.37,300.312 2579.09,300.312 2607.82,384.667 2636.55,300.312 2665.27,384.667 2694,384.667 2722.72,300.312 2751.45,300.312 2780.18,300.312 \n",
       "  2808.9,300.312 2837.63,300.312 2866.36,300.312 2895.08,300.312 2923.81,300.312 2952.53,300.312 2981.26,300.312 3009.99,384.667 3038.71,384.667 3067.44,300.312 \n",
       "  \n",
       "  \"/>\n",
       "<polyline clip-path=\"url(#clip4602)\" style=\"stroke:#e26f46; stroke-width:4; stroke-opacity:1; fill:none\" points=\"\n",
       "  223.545,502.506 252.271,296.577 280.997,428.874 309.724,434.444 338.45,434.889 367.176,270.805 395.902,297.315 424.628,337.374 453.355,299.325 482.081,425.188 \n",
       "  510.807,259.65 539.533,357.822 568.259,258.317 596.986,330.589 625.712,328.249 654.438,474.73 683.164,279.753 711.89,154.693 740.617,185.419 769.343,590.663 \n",
       "  798.069,317.958 826.795,165.922 855.521,391.023 884.248,389.692 912.974,375.731 941.7,263.476 970.426,225.964 999.152,426.865 1027.88,319.316 1056.6,350.839 \n",
       "  1085.33,457.639 1114.06,250.507 1142.78,408.93 1171.51,265.342 1200.24,291.427 1228.96,258.334 1257.69,473.043 1286.41,334.091 1315.14,410.815 1343.87,474.574 \n",
       "  1372.59,216.803 1401.32,215.253 1430.05,289.659 1458.77,374.73 1487.5,165.924 1516.22,334.264 1544.95,370.046 1573.68,254.611 1602.4,340.23 1631.13,286.969 \n",
       "  1659.86,356.453 1688.58,368.937 1717.31,169.392 1746.03,344.482 1774.76,304.509 1803.49,359.854 1832.21,166.718 1860.94,339.673 1889.66,320.399 1918.39,222.763 \n",
       "  1947.12,163.307 1975.84,450.948 2004.57,319.001 2033.3,287.428 2062.02,352.731 2090.75,379.433 2119.47,408.185 2148.2,337.915 2176.93,255.943 2205.65,222.794 \n",
       "  2234.38,320.675 2263.11,329.892 2291.83,377.331 2320.56,431.277 2349.28,451.474 2378.01,427.005 2406.74,405.499 2435.46,304.186 2464.19,225.311 2492.92,388.363 \n",
       "  2521.64,269.742 2550.37,456.911 2579.09,268.877 2607.82,348.887 2636.55,394.51 2665.27,299.38 2694,476.882 2722.72,278.675 2751.45,236.188 2780.18,243.467 \n",
       "  2808.9,247.348 2837.63,330.586 2866.36,432.309 2895.08,391.526 2923.81,276.733 2952.53,310.654 2981.26,286.633 3009.99,392.903 3038.71,418.378 3067.44,376.818 \n",
       "  \n",
       "  \"/>\n",
       "</svg>\n"
      ]
     },
     "execution_count": 9,
     "metadata": {},
     "output_type": "execute_result"
    }
   ],
   "source": [
    "plot(Z, size = (800, 200), ylims = (-4, 4), label = \"original signal\", titlefont = 10)\n",
    "plot!(X, size = (800, 200), ylims = (-4, 4), label = \"corrupted signal\", titlefont = 10)"
   ]
  },
  {
   "cell_type": "markdown",
   "metadata": {},
   "source": [
    "## Problem 2\n",
    "\n",
    "Draw a Bayes net diagram illustrating the relationship between $Z_1, Z_2, \\ldots, Z_n, X_1, X_2, \\ldots, X_n$. "
   ]
  },
  {
   "cell_type": "markdown",
   "metadata": {},
   "source": [
    "*Solution*. "
   ]
  },
  {
   "cell_type": "markdown",
   "metadata": {},
   "source": [
    "## Problem 3\n",
    "\n",
    "Consider the following observed values for $X$. \n",
    "\n",
    "(a) Try to guess the values of $Z$, and then check your guess by running the cell. Repeat a few times to get a feel for how accurately you can predict $X$ from $Z$. "
   ]
  },
  {
   "cell_type": "code",
   "execution_count": 10,
   "metadata": {},
   "outputs": [
    {
     "data": {
      "text/plain": [
       "1×4 Adjoint{Float64,Array{Float64,1}}:\n",
       " -0.969794  1.76241  0.539808  -1.68232"
      ]
     },
     "execution_count": 10,
     "metadata": {},
     "output_type": "execute_result"
    }
   ],
   "source": [
    "Z = markov_chain(P, 4)\n",
    "X = Z + randn(4)\n",
    "X'"
   ]
  },
  {
   "cell_type": "code",
   "execution_count": 12,
   "metadata": {},
   "outputs": [
    {
     "data": {
      "text/plain": [
       "1×4 Adjoint{Int64,Array{Int64,1}}:\n",
       " 0  0  1  0"
      ]
     },
     "execution_count": 12,
     "metadata": {},
     "output_type": "execute_result"
    }
   ],
   "source": [
    "Z'"
   ]
  },
  {
   "cell_type": "markdown",
   "metadata": {},
   "source": [
    "(b) In playing the game in part (a), would it be helpful to consider the $X$ values in all positions when guessing the value of $Z_3$? \n",
    "\n",
    "(c) Come up with an example (by adjusting the parameters of the model) where accounting for the other $X$ values is clearly important."
   ]
  }
 ],
 "metadata": {
  "jupytext": {
   "formats": "ipynb"
  },
  "kernelspec": {
   "display_name": "Julia 1.2.0",
   "language": "julia",
   "name": "julia-1.2"
  },
  "language_info": {
   "file_extension": ".jl",
   "mimetype": "application/julia",
   "name": "julia",
   "version": "1.2.0"
  }
 },
 "nbformat": 4,
 "nbformat_minor": 4
}
