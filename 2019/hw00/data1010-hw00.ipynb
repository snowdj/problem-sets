{
  "cells": [
    {
      "cell_type": "markdown",
      "source": [
        "# Homework 0"
      ],
      "metadata": {}
    },
    {
      "cell_type": "markdown",
      "source": [
        "The purpose of this assignment is to give you a chance to practice generating homework documents and submitting them before the first substantive homework assignment.\n",
        "\n",
        "We are asking you to use a specific approach to completing your homework in this course. This is partly so that we can review your work in an efficient and uniform way, partly to equip you with new skills for producing documents, and partly to ensure that you don't have to waste time inventing your own system and refining your tooling. We can also help you troubleshoot much more effectively than if folks are using lots of different programs. Rest assured that this process represents a carefully considered tradeoff between quality of output and production efficiency."
      ],
      "metadata": {}
    },
    {
      "cell_type": "markdown",
      "source": [
        "**Problem 1**. Read the [page on the course website](https://data1010.github.io/hwsubmit/) with instructions for submitting homework. \n",
        "\n",
        "(a) In how many different places online will you be submitting your homework?  \n",
        "(b) Should you supress extremely long cell output that distracts from the narrative of your solutions?"
      ],
      "metadata": {}
    },
    {
      "cell_type": "markdown",
      "source": [
        "*Solution*."
      ],
      "metadata": {}
    },
    {
      "cell_type": "markdown",
      "source": [
        "**Problem 2**. Create a Markdown cell in Jupyter that looks pretty much like the image shown. All the features you'll need are documented in the Data Gymnasia Utilities course, except for [tables](https://github.com/adam-p/markdown-here/wiki/Markdown-Cheatsheet). "
      ],
      "metadata": {}
    },
    {
      "cell_type": "markdown",
      "source": [
        "![](images/md-1.png){width=4cm}\n",
        "![](images/md-2.png){width=4cm}"
      ],
      "metadata": {}
    },
    {
      "cell_type": "markdown",
      "source": [
        "**Problem 3**. Download Ipe to your computer and use it to create a figure that looks like the image below. You can see video demonstrating some of the basic features of Ipe [here](https://data1010.github.io/docs/videos/ipe-example.mp4). "
      ],
      "metadata": {}
    },
    {
      "cell_type": "markdown",
      "source": [
        "![](images/ipe-example.pdf){width=4cm}"
      ],
      "metadata": {}
    },
    {
      "cell_type": "markdown",
      "source": [
        "Now submit your work on GitHub classroom and on Gradescope! Instructions are on the course website."
      ],
      "metadata": {}
    },
    {
      "cell_type": "code",
      "source": [],
      "outputs": [],
      "execution_count": null,
      "metadata": {}
    }
  ],
  "metadata": {
    "kernelspec": {
      "name": "julia-1.1",
      "language": "julia",
      "display_name": "Julia 1.1.1"
    },
    "language_info": {
      "file_extension": ".jl",
      "name": "julia",
      "mimetype": "application/julia",
      "version": "1.1.1"
    },
    "kernel_info": {
      "name": "julia-1.1"
    },
    "nteract": {
      "version": "0.14.5"
    }
  },
  "nbformat": 4,
  "nbformat_minor": 4
}