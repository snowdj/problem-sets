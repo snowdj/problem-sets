{
  "cells": [
    {
      "cell_type": "markdown",
      "source": [
        "<style>\n",
        "@media print\n",
        "{\n",
        "h2 {page-break-before:always}\n",
        "}\n",
        "</style>\n",
        "\n",
        "# Homework 02\n",
        "\n",
        "Brown University  \n",
        "DATA 1010  \n",
        "Fall 2019\n",
        "\n",
        "## Problem 1\n",
        "\n",
        "Use matrix differentiation to find the vector $\\mathbf{x} \\in \\mathbb{R}^n$ which minimizes the expression $|W(A\\mathbf{x} − \\mathbf{b})|^2$, where A is an $m \\times n$ matrix and W is an $m \\times m$ matrix. You may assume that $WA$ is full-rank."
      ],
      "metadata": {}
    },
    {
      "cell_type": "markdown",
      "source": [
        "## Problem 2\n",
        "\n",
        "Find the derivative of $|\\mathbf{x}|$ with respect to $\\mathbf{x}$. Hint: write $|\\mathbf{x}|$ as $\\sqrt{\\mathbf{x}'\\mathbf{x}}$ and use the chain rule, which says that if $g: \\mathbb{R}_n \\rightarrow \\mathbb{R}$ and $f: \\mathbb{R} → \\mathbb{R}$, then\n",
        "\n",
        " $$\\frac{\\partial}{\\partial \\mathbf{x}}f(g(\\mathbf{x})) = \\frac{\\operatorname{d}f}{\\operatorname{d}t}(g(\\mathbf{x}))\\frac{\\partial g}{\\partial \\mathbf{x}}(\\mathbf{x}).$$\n",
        "\n",
        "Interpret your answer geometrically and explain why it makes sense."
      ],
      "metadata": {}
    },
    {
      "cell_type": "markdown",
      "source": [
        "## Problem 3\n",
        "\n",
        "(i) Find the line through the origin for which the sum of squared distances from the line to points in the set \n",
        "\n",
        "$$\\{(3, −1),(2, 4),(−1, −1),(−2, 2),(−3, 1),(5, −1),(−2, 4)\\}$$\n",
        "\n",
        "is as small as possible.\n",
        "\n",
        "(ii) Find the slope of the zero-intercept line of best fit for these points using the formula $m = (A'A)^{-1}A'\\mathbf{b}$, where $A$ is a column vector whose entries are the $x$ coordinates of the points and where $\\mathbf{b}$ is a column vector whose components are the $y$-components of the points (in the same order). Recall that this is the line which minimizes $\\sum_i(mx_i - y_i)^2$ where ($x_i$\n",
        ", $y_i$) ranges over the given points.\n",
        "\n",
        "(iii) Draw both of these lines and explain why they are not the same even though they both minimize a sum of squared distances.\n",
        "```Julia\n",
        "using Plots, LinearAlgebra\n",
        "A = [3 2 -1 -2 -3 5 -2; -1 4 -1 2 1 -1 4]\n",
        "scatter(A[1,:], A[2,:])\n",
        "```"
      ],
      "metadata": {}
    },
    {
      "cell_type": "markdown",
      "source": [
        "## Problem 4\n",
        "\n",
        "Find a value of $x$ which is less than $1$ and for which `1 + x + x + x > 1 + 3x` returns `true` . Explain this behavior."
      ],
      "metadata": {}
    },
    {
      "cell_type": "markdown",
      "source": [
        "## Problem 5\n",
        "\n",
        "Explain why the following function returns a value rather than running forever. Explain why it returns the particular value that it returns.\n",
        "\n",
        "```Julia\n",
        "function countdown()\n",
        "    x = 1.0\n",
        "    ctr = 0\n",
        "    while x > 0.0\n",
        "        x /= 2\n",
        "        ctr += 1\n",
        "    end\n",
        "    ctr\n",
        "end\n",
        "```"
      ],
      "metadata": {}
    },
    {
      "cell_type": "markdown",
      "source": [
        "## Problem 6\n",
        "\n",
        "Show that an invertible, square matrix and its inverse have the same condition number."
      ],
      "metadata": {}
    },
    {
      "cell_type": "markdown",
      "source": [
        "## Problem 7\n",
        "\n",
        "Consider the $n \\times n$ Frank matrix $F_n$, defined as shown in the code block below.\n",
        "\n",
        "```Julia\n",
        "function frankmatrix(n)\n",
        "    A = zeros(n,n)\n",
        "    for i=1:n\n",
        "        for j=1:n\n",
        "            if j == i-1\n",
        "                A[i,j] = n + 1 - i\n",
        "            elseif j ≥ i\n",
        "                A[i,j] = n + 1 - j\n",
        "            end\n",
        "        end\n",
        "    end\n",
        "    A\n",
        "end\n",
        "```\n",
        "\n",
        "Find $F^{-1}_n \\mathbf{v}$, where $\\mathbf{v} \\in \\mathbb{R}_n$ has all components equal to 1, by inspection. (Generate $F_n$ for some small values of $n$ and look at it).\n",
        "\n",
        "Evaluate ` frankmatrix(n) \\ ones(n) ` for $n \\in {10, 15, 20, 25, 30}$ and calculate the norm of the difference between this numerical solution and the true solution. Compare your result to the product of `eps()` (which equals $2^{−52}$, the gap between $1$ and the nearest representable $64$-bit floating point) and the condition number of $F_n$ (which can be calculated using the function `cond`). Hint: a good way to do this comparison is to plot the log of each of these quantities over the specified range of $n$ values.\n",
        "\n",
        "Based on your findings, comment on whether the algorithm being used for `\\` is stable."
      ],
      "metadata": {}
    },
    {
      "cell_type": "markdown",
      "source": [
        "## Problem 8\n",
        "\n",
        "\n",
        "Consider the function $f(x) = (x^4 - 2x^3 - x^2 + 3x - 1)\\operatorname{e}^{-x^2/4}$. Implement the gradient descent algorithm for finding the minimum of this function. \n",
        "\n",
        "<img src=\"polynomial-minimize.svg\" style=\"float: right;\" width=450px>\n",
        "\n",
        " * If the learning rate is $\\epsilon = 0.1$, which values of\n",
        "      $x_0$ have the property that $f(x_n)$ is close to the global\n",
        "      minimum of $f$ when $n$ is large? \n",
        " * Is there a starting value $x_0$ between $-2$ and $-1$ and a\n",
        "      learning rate $\\epsilon$ such that the gradient descent\n",
        "      algorithm does not reach the global minimum of $f$? Use\n",
        "      the graph for intuition.\n"
      ],
      "metadata": {}
    },
    {
      "cell_type": "markdown",
      "source": [
        "## Problem 9\n",
        "\n",
        "Calculate, by hand, the gradient and Hessian of the function shown below. Show that the values returned by the ForwardDiff package are correct.\n"
      ],
      "metadata": {}
    },
    {
      "cell_type": "code",
      "source": [
        "using ForwardDiff\n",
        "f(x,y) = x^2 + y^2 - 2y\n",
        "f(v::Vector) = f(v...) # equivalent to f(v[1],v[2]) x = [1.5,-3.25]\n",
        "ForwardDiff.gradient(f,x)\n",
        "ForwardDiff.hessian(f,x)"
      ],
      "outputs": [],
      "execution_count": null,
      "metadata": {
        "collapsed": false,
        "outputHidden": false,
        "inputHidden": false
      }
    },
    {
      "cell_type": "markdown",
      "source": [
        "## Problem 10\n",
        "\n",
        "Consider the following PRNG (which was actually widely used in the\n",
        "early 1970s): we begin with an odd positive integer $a_1$ less than\n",
        "$2^{31}$ and for all $n \\geq 2$, we define $a_n$ to be the\n",
        "remainder when dividing $65539a_{n-1}$ by $2^{31}$.\n",
        "\n",
        "Use Julia to calculate $9a_{3n+1} - 6 a_{3n+2} + a_{3n+3}$ for the\n",
        "first $10^6$ values of $n$, and show that there are only\n",
        "\\textit{15} unique values in the resulting list (!). Explain what\n",
        "you would see if you plotted many points of the form\n",
        "$(a_{3n+1},a_{3n+2},a_{3n+3})$ in three-dimensional space."
      ],
      "metadata": {}
    },
    {
      "cell_type": "markdown",
      "source": [],
      "metadata": {}
    }
  ],
  "metadata": {
    "kernelspec": {
      "display_name": "Julia 0.7.0",
      "language": "julia",
      "name": "julia-0.7"
    },
    "language_info": {
      "file_extension": ".jl",
      "mimetype": "application/julia",
      "name": "julia",
      "version": "0.7.0"
    },
    "nteract": {
      "version": "0.14.5"
    }
  },
  "nbformat": 4,
  "nbformat_minor": 2
}