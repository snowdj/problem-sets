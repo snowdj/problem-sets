{
  "cells": [
    {
      "cell_type": "code",
      "source": [
        "using LinearAlgebra, Statistics, Images, Colors, Interact\n",
        "images = [load(file) for file in readdir() if endswith(file,\".pgm\")];\n",
        "function imagedisplay(img) \n",
        "    newimg = img / maximum(abs.(img))\n",
        "    # if half or more of the pixel values are negative, flip the sign\n",
        "    if mean(newimg .> 0) < 1/2\n",
        "        sgn = -1\n",
        "    else\n",
        "        sgn = 1\n",
        "    end\n",
        "    Gray.(sgn .* newimg)\n",
        "end"
      ],
      "outputs": [
        {
          "output_type": "execute_result",
          "execution_count": 2,
          "data": {
            "text/plain": [
              "imagedisplay (generic function with 1 method)"
            ]
          },
          "metadata": {}
        }
      ],
      "execution_count": 2,
      "metadata": {}
    },
    {
      "cell_type": "code",
      "source": [
        "@manipulate for k=1:165\n",
        "    imagedisplay(images[k])\n",
        "end"
      ],
      "outputs": [],
      "execution_count": 4,
      "metadata": {}
    },
    {
      "cell_type": "code",
      "source": [
        "bigimagemat = hcat([img[:] for img in images]...)\n",
        "U, Σ, V = svd(bigimagemat); "
      ],
      "outputs": [],
      "execution_count": 6,
      "metadata": {}
    },
    {
      "cell_type": "code",
      "source": [
        "@manipulate for k = 1:10 \n",
        "    imagedisplay(reshape(U[:,k],size(images[1])))\n",
        "end"
      ],
      "outputs": [],
      "execution_count": 7,
      "metadata": {}
    },
    {
      "cell_type": "code",
      "source": [
        "@manipulate for k = 1:50\n",
        "    v = bigimagemat[:,1]\n",
        "    W = U[:,1:k]\n",
        "    imagedisplay(reshape(W * (W' * v), size(images[1])))\n",
        "end"
      ],
      "outputs": [],
      "execution_count": 8,
      "metadata": {}
    },
    {
      "cell_type": "code",
      "source": [],
      "outputs": [],
      "execution_count": null,
      "metadata": {}
    }
  ],
  "metadata": {
    "@webio": {
      "lastCommId": "abf9128c-0b89-462f-a0b3-1c387fae57eb",
      "lastKernelId": "3e01d0ac-e2d9-4ef1-9a1c-b931eb7c722e"
    },
    "kernelspec": {
      "name": "julia-1.1",
      "language": "julia",
      "display_name": "Julia 1.1.1"
    },
    "language_info": {
      "file_extension": ".jl",
      "name": "julia",
      "mimetype": "application/julia",
      "version": "1.1.1"
    },
    "kernel_info": {
      "name": "julia-1.1"
    },
    "nteract": {
      "version": "0.14.5"
    }
  },
  "nbformat": 4,
  "nbformat_minor": 4
}