{
 "cells": [
  {
   "cell_type": "markdown",
   "metadata": {},
   "source": [
    "## Linear Algebra Practice\n",
    "\n",
    "#### *06 September 2019*\n",
    "#### *DATA 1010*\n",
    "\n",
    "Today we'll do some linear algebra review. The pre-class preparation assignment is to watch the [linear algebra review video](https://www.youtube.com/watch?v=pz0WmaOU9Xg). Note that this video is very fast-paced, so you should prepare to use the pause button extensively. It's probably also worthwhile to have a tab open to the [course cheatsheet](https://data1010.github.io/docs/cheatsheets/data1010-cheatsheet.pdf) so you can reference the green linear algebra panels."
   ]
  },
  {
   "cell_type": "markdown",
   "metadata": {},
   "source": [
    "---\n",
    "\n",
    "##### **Problem 1** \n",
    "\n",
    "Consider a three-column spreadsheet of numerical data, with each entry in the third column computed to be the sum of the corresponding entries in the first two columns. Find a basis for the span of the three columns (assuming the first two columns are not multiples of one another), and find the coefficients all three columns with respect to this basis.\n",
    "\n",
    "| col1 | col2 | col3 |\n",
    "| -----:| -----:| -----:|\n",
    "| $0.7$ | $1.0$ | $1.7$ |\n",
    "| $1.3$ | $0.6$ | $1.9$ |\n",
    "| $0.4$ | $1.3$ | $1.7$ |\n",
    "| $1.4$ | $1.3$ | $2.7$ |\n",
    "| $0.7$ | $1.3$ | $2.0$ |\n",
    "| $0.7$ | $0.3$ | $1.0$ |"
   ]
  },
  {
   "cell_type": "markdown",
   "metadata": {},
   "source": [
    "*Solution*. The first two columns form a basis of the space spanned by all three columns. The coordinates of col1 are $[1,0]$. The coordinates of col2 are $[0,1]$. The coordinates of the third column are $[1,1]$. "
   ]
  },
  {
   "cell_type": "markdown",
   "metadata": {},
   "source": [
    "---\n",
    "\n",
    "##### **Problem 2** \n",
    "\n",
    "Find the rank of the linear transformation $L$ which maps each vector $[x,y]$ to the closest point $[a,2a]$ on the line $y = 2x$. "
   ]
  },
  {
   "cell_type": "markdown",
   "metadata": {},
   "source": [
    "*Solution*. The rank of a linear transformation is the dimension of its range. The range of $L$ is the line $y = 2x$. The dimension of a vector space is the number of vectors in any basis of that space. A line is spanned by (a set containing) one vector, so its dimension is 1. "
   ]
  },
  {
   "cell_type": "markdown",
   "metadata": {},
   "source": [
    "---\n",
    "\n",
    "##### **Problem 3** \n",
    "\n",
    "Suppose that $V$ and $W$ are subspaces of $\\mathbb{R}^{3}$ and that $V$ has dimension 1 and $W$ has dimension 1. What are the possible values of the dimension of $V \\cap W$? What if $V$ and $W$ each have dimension 2?\n",
    "\n",
    "Suppose that $V$ and $W$ are subspaces of $\\mathbb{R}^{10}$ and that $V$ has dimension 4 and $W$ has dimension 8. What are the possible values of the dimension of $V \\cap W$?"
   ]
  },
  {
   "cell_type": "markdown",
   "metadata": {},
   "source": [
    "*Solution*. Two one-dimensional spaces can intersect in a space of dimension 0 or 1. Two 2-dimensional spaces can intersect in a space of dimension 1 or 2.\n",
    "\n",
    "The intersection can't have dimension larger than 4. It can have dimension 2, 3, or 4, by taking a basis of $\\mathbb{R}^{10}$ and defining $V$ to be the span of the first four vectors and $W$ to be the span of the first 8, or 2 through 9, or 3 through 10. \n",
    "\n",
    "The dimension can't be smaller than 2, because if we apply the multiple extension principle assuming the intersection has dimension $d$, we find that $d + (8-d) + (4-d) \\leq 10$. Therefore $d \\geq 2$. "
   ]
  },
  {
   "cell_type": "markdown",
   "metadata": {},
   "source": [
    "---\n",
    "\n",
    "##### **Problem 4** \n",
    "\n",
    "In Julia, a set of 5 column vectors in $\\mathbb{R}^7$ with entries selected uniformly at random from $[0,1]$ may be generated using `rand(7,5)`. The dimension of the span of the columns of a matrix may then by computed using the function `rank`. What can you say about the rank of such a matrix?"
   ]
  },
  {
   "cell_type": "code",
   "execution_count": 12,
   "metadata": {},
   "outputs": [
    {
     "data": {
      "text/plain": [
       "Set([5, 4, 2, 3])"
      ]
     },
     "execution_count": 12,
     "metadata": {},
     "output_type": "execute_result"
    }
   ],
   "source": [
    "using LinearAlgebra, StatsBase\n",
    "Set([rank(rand(0:1,7,5)) for _ in 1:100_000])"
   ]
  },
  {
   "cell_type": "markdown",
   "metadata": {},
   "source": [
    "Next, try `rand(0:1,7,5)` in place of `rand(7,5)`. This generates random matrices whose entries are independent random elements of $\\{0,1\\}$. Try using the `countmap` function from `StatsBase`, which tallies the entries of an array.\n",
    "\n",
    "*Solution*. "
   ]
  },
  {
   "cell_type": "code",
   "execution_count": 11,
   "metadata": {},
   "outputs": [
    {
     "data": {
      "text/plain": [
       "Dict{Int64,Int64} with 4 entries:\n",
       "  4 => 15142\n",
       "  2 => 9\n",
       "  3 => 587\n",
       "  5 => 84262"
      ]
     },
     "execution_count": 11,
     "metadata": {},
     "output_type": "execute_result"
    }
   ],
   "source": [
    "countmap([rank(rand(0:1,7,5)) for _ in 1:100_000])"
   ]
  },
  {
   "cell_type": "markdown",
   "metadata": {},
   "source": [
    "---\n",
    "\n",
    "##### **Problem 5** \n",
    "\n",
    "The vectors $[1,1,\\sqrt{2}]$, $[1,1,-\\sqrt{2}]$, $[1,-1,0]$ meet at right angles at the origin (like the standard basis vectors in $\\mathbb{R}^3$). \n",
    "\n",
    "(a) Find the coordinates of the vector $[4,4,0]$ with respect to this basis. \n",
    "\n",
    "(b) Find the coordinates of $[3, -2, 7]$ with respect to this basis."
   ]
  },
  {
   "cell_type": "code",
   "execution_count": 14,
   "metadata": {},
   "outputs": [
    {
     "data": {
      "text/plain": [
       "3-element Array{Float64,1}:\n",
       " 2.0\n",
       " 2.0\n",
       " 0.0"
      ]
     },
     "execution_count": 14,
     "metadata": {},
     "output_type": "execute_result"
    }
   ],
   "source": [
    "B = [[1,1,√(2)],[1,1,-√(2)],[1,-1,0]]\n",
    "[u ⋅ [4, 4, 0] / norm(u)^2 for u in B]"
   ]
  },
  {
   "cell_type": "code",
   "execution_count": 15,
   "metadata": {},
   "outputs": [
    {
     "data": {
      "text/plain": [
       "3-element Array{Float64,1}:\n",
       "  2.7248737341529163\n",
       " -2.2248737341529163\n",
       "  2.4999999999999996"
      ]
     },
     "execution_count": 15,
     "metadata": {},
     "output_type": "execute_result"
    }
   ],
   "source": [
    "[u ⋅ [3, -2, 7] / norm(u)^2 for u in B]"
   ]
  },
  {
   "cell_type": "code",
   "execution_count": 17,
   "metadata": {},
   "outputs": [
    {
     "data": {
      "text/plain": [
       "3-element Array{Float64,1}:\n",
       "  2.7248737341529163\n",
       " -2.224873734152916 \n",
       "  2.5               "
      ]
     },
     "execution_count": 17,
     "metadata": {},
     "output_type": "execute_result"
    }
   ],
   "source": [
    "A = [1     1    1\n",
    "     1     1   -1\n",
    "     √(2) -√(2) 0]\n",
    "A \\ [3, -2, 7]"
   ]
  },
  {
   "cell_type": "markdown",
   "metadata": {},
   "source": [
    "---\n",
    "\n",
    "##### **Problem 6**\n",
    "\n",
    "Show that for any $m\\times n$ matrix $A$, the matrices $A'A$ and $A$ have the same null space and therefore also the same rank."
   ]
  },
  {
   "cell_type": "markdown",
   "metadata": {},
   "source": [
    "*Solution*. If $A x = 0$, then $A'(Ax) = A'0 = 0$. \n",
    "\n",
    "If $A'A x = 0$, then $x'A'A x = 0$, which implies that $(Ax)'(Ax) = 0$. This implies that $(Ax) \\cdot (Ax) = 0$. Therefore $Ax = 0$. \n",
    "\n",
    "This shows that the nullspace of $A'A$ and $A$ are the same. By the rank-nullity theorem, this implies that their ranks are also equal. "
   ]
  },
  {
   "cell_type": "markdown",
   "metadata": {},
   "source": [
    "---\n",
    "\n",
    "##### **Problem 7**\n",
    "\n",
    "The orthogonal complement of the span of the columns of a matrix $A$ is equal to the [   ] of [   ]. Fill in the first blank with \"range\" or \"null space\" and the second with $A$ or $A'$. Explain."
   ]
  },
  {
   "cell_type": "markdown",
   "metadata": {},
   "source": [
    "*Solution*. The correct answers are \"null space\" and \"$A'$\". To see this, note that the matrix product formula implies that $A'x = 0$ if and only if $x$ is orthogonal to every row of $A'$. Since $A'$'s rows are the columns of $A$, this shows that the vectors orthogonal to all of the columns of $A$ are the vectors in the null space of $A'$. "
   ]
  },
  {
   "cell_type": "markdown",
   "metadata": {},
   "source": [
    "---\n",
    "\n",
    "##### **Problem 8**\n",
    "\n",
    "The normal equation for the vector $x$ which makes $A\\mathbf{x}$ as close as possible to a given matrix $\\mathbf{b}$ is $\\mathbf{x} = (A'A)^{-1}A'\\mathbf{b}$. This formula assumes that the columns of $A$ are linearly independent.\n",
    "\n",
    "Use the code below to build a random 100 × 6 matrix whose first five columns are linearly dependent and whose sixth column is not in the span of the first five. Use the normal equation to try to solve for the weights of the linear combination of the first five columns which gets closest to the sixth column. Does anything break in the code? What should you bear in mind when interpreting the results?\n",
    "\n",
    "Note: `A \\ b` finds the vector `x` which minimizes $|A\\mathbf{x} - \\mathbf{b}|^2$ if $A$ is non-square, and it solves the equation $A\\mathbf{x} = \\mathbf{b}$ if $A$ is square.  "
   ]
  },
  {
   "cell_type": "code",
   "execution_count": 50,
   "metadata": {},
   "outputs": [],
   "source": [
    "M = rand(0:2, 100, 6)\n",
    "M[:,5] = M[:,4] + M[:,3];"
   ]
  },
  {
   "cell_type": "markdown",
   "metadata": {},
   "source": [
    "*Solution*.\n"
   ]
  },
  {
   "cell_type": "markdown",
   "metadata": {},
   "source": [
    "---\n",
    "\n",
    "##### **Problem 9**\n",
    "\n",
    "Visit https://shadanan.github.io/MatVis/ and set the matrix to $\\begin{bmatrix}\n",
    "    4 & 1 \\\\\n",
    "    1 & 4\n",
    "  \\end{bmatrix}$\n",
    "  \n",
    "a) Look for the eigenvectors of this matrix *visually* as you manipulate the slider. That is, look for vectors (with tails at the origin) that are not being turned at all by the matrix. Turn on the \"show eigenvectors\" checkbox to check your answer and verify using Julia.\n",
    "\n",
    "b) Repeat this exercise with $\\begin{bmatrix}\n",
    "  -2 & 1 \\\\\n",
    "  -1 & 2\n",
    "\\end{bmatrix}$ and $\\begin{bmatrix}\n",
    "  2 & 1 \\\\\n",
    "  -2 & 2\n",
    "\\end{bmatrix}$. \n",
    "\n",
    "*Solution*.\n"
   ]
  },
  {
   "cell_type": "code",
   "execution_count": null,
   "metadata": {},
   "outputs": [],
   "source": []
  }
 ],
 "metadata": {
  "jupytext": {
   "formats": "ipynb,md"
  },
  "kernelspec": {
   "display_name": "Julia 1.1.1",
   "language": "julia",
   "name": "julia-1.1"
  },
  "language_info": {
   "file_extension": ".jl",
   "mimetype": "application/julia",
   "name": "julia",
   "version": "1.1.1"
  }
 },
 "nbformat": 4,
 "nbformat_minor": 4
}
