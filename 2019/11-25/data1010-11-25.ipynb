{
  "cells": [
    {
      "cell_type": "markdown",
      "source": [
        "## Hidden Markov Models and Probabilistic Programming\n",
        "\n",
        "#### *25 November 2019*\n",
        "#### *DATA 1010*"
      ],
      "metadata": {}
    },
    {
      "cell_type": "code",
      "source": [
        "using Pkg; Pkg.activate(\".\")\n",
        "using Statistics, LinearAlgebra, Plots, Distributions, OffsetArrays, Random, Turing\n",
        "gr(fontfamily = \"Palatino\", legend = false);"
      ],
      "outputs": [],
      "execution_count": null,
      "metadata": {}
    },
    {
      "cell_type": "markdown",
      "source": [
        "---\n",
        "\n",
        "Today we'll continue looking at hidden Markov models. See the [notebook from last time](https://nbviewer.jupyter.org/github/data1010/problem-sets/blob/master/11-22/data1010-11-22.ipynb).\n",
        "\n",
        "## Problem 1\n",
        "\n",
        "Consider a hidden Markov model in which the Markov chain starts in state 0 or 1 with probability 1/2 each and has a transition matrix of the form\n",
        "\n",
        "$$\n",
        "P = \\left[ \\begin{matrix} q & 1-q \\\\ 1-q & q\\end{matrix} \\right], \n",
        "$$\n",
        "\n",
        "where $q \\in [0,1]$. Let's assume further that the conditional distribution of each random variable $X_j$ is a Gaussian with mean zero and unknown variance $\\sigma^2$. So we'll be trying to estimate $q$ and $\\sigma^2$ based on a series of observations of the values of $X$."
      ],
      "metadata": {}
    },
    {
      "cell_type": "code",
      "source": [
        "q = 0.8\n",
        "σ² = 0.5 \n",
        "P = OffsetArray([q 1-q; 1-q q], 0:1, 0:1)\n",
        "\n",
        "Random.seed!(1)\n",
        "\n",
        "function markov_chain(P, n)\n",
        "    Z = [0]\n",
        "    for i in 1:n-1\n",
        "        current_state = Z[end]\n",
        "        push!(Z, rand(Bernoulli(P[current_state, 0])) ? 0 : 1)\n",
        "    end\n",
        "    Z\n",
        "end\n",
        "\n",
        "Z = markov_chain(P, 100)\n",
        "X = Z + √(σ²)*randn(100)\n",
        "plot(Z, size = (500, 150), ylims = (-4, 4), title = \"original signal\", titlefont = 10)"
      ],
      "outputs": [
        {
          "output_type": "execute_result",
          "execution_count": 1,
          "data": {
            "image/svg+xml": [
              "<?xml version=\"1.0\" encoding=\"utf-8\"?>\n",
              "<svg xmlns=\"http://www.w3.org/2000/svg\" xmlns:xlink=\"http://www.w3.org/1999/xlink\" width=\"500\" height=\"150\" viewBox=\"0 0 2000 600\">\n",
              "<defs>\n",
              "  <clipPath id=\"clip2100\">\n",
              "    <rect x=\"0\" y=\"0\" width=\"2000\" height=\"600\"/>\n",
              "  </clipPath>\n",
              "</defs>\n",
              "<path clip-path=\"url(#clip2100)\" d=\"\n",
              "M0 600 L2000 600 L2000 0 L0 0  Z\n",
              "  \" fill=\"#ffffff\" fill-rule=\"evenodd\" fill-opacity=\"1\"/>\n",
              "<defs>\n",
              "  <clipPath id=\"clip2101\">\n",
              "    <rect x=\"400\" y=\"0\" width=\"1401\" height=\"600\"/>\n",
              "  </clipPath>\n",
              "</defs>\n",
              "<path clip-path=\"url(#clip2100)\" d=\"\n",
              "M138.228 514.632 L1952.76 514.632 L1952.76 83.4622 L138.228 83.4622  Z\n",
              "  \" fill=\"#ffffff\" fill-rule=\"evenodd\" fill-opacity=\"1\"/>\n",
              "<defs>\n",
              "  <clipPath id=\"clip2102\">\n",
              "    <rect x=\"138\" y=\"83\" width=\"1816\" height=\"432\"/>\n",
              "  </clipPath>\n",
              "</defs>\n",
              "<polyline clip-path=\"url(#clip2102)\" style=\"stroke:#000000; stroke-width:2; stroke-opacity:0.1; fill:none\" points=\"\n",
              "  172.292,514.632 172.292,83.4622 \n",
              "  \"/>\n",
              "<polyline clip-path=\"url(#clip2102)\" style=\"stroke:#000000; stroke-width:2; stroke-opacity:0.1; fill:none\" points=\"\n",
              "  604.569,514.632 604.569,83.4622 \n",
              "  \"/>\n",
              "<polyline clip-path=\"url(#clip2102)\" style=\"stroke:#000000; stroke-width:2; stroke-opacity:0.1; fill:none\" points=\"\n",
              "  1036.85,514.632 1036.85,83.4622 \n",
              "  \"/>\n",
              "<polyline clip-path=\"url(#clip2102)\" style=\"stroke:#000000; stroke-width:2; stroke-opacity:0.1; fill:none\" points=\"\n",
              "  1469.12,514.632 1469.12,83.4622 \n",
              "  \"/>\n",
              "<polyline clip-path=\"url(#clip2102)\" style=\"stroke:#000000; stroke-width:2; stroke-opacity:0.1; fill:none\" points=\"\n",
              "  1901.4,514.632 1901.4,83.4622 \n",
              "  \"/>\n",
              "<polyline clip-path=\"url(#clip2102)\" style=\"stroke:#000000; stroke-width:2; stroke-opacity:0.1; fill:none\" points=\"\n",
              "  138.228,514.632 1952.76,514.632 \n",
              "  \"/>\n",
              "<polyline clip-path=\"url(#clip2102)\" style=\"stroke:#000000; stroke-width:2; stroke-opacity:0.1; fill:none\" points=\"\n",
              "  138.228,406.839 1952.76,406.839 \n",
              "  \"/>\n",
              "<polyline clip-path=\"url(#clip2102)\" style=\"stroke:#000000; stroke-width:2; stroke-opacity:0.1; fill:none\" points=\"\n",
              "  138.228,299.047 1952.76,299.047 \n",
              "  \"/>\n",
              "<polyline clip-path=\"url(#clip2102)\" style=\"stroke:#000000; stroke-width:2; stroke-opacity:0.1; fill:none\" points=\"\n",
              "  138.228,191.255 1952.76,191.255 \n",
              "  \"/>\n",
              "<polyline clip-path=\"url(#clip2102)\" style=\"stroke:#000000; stroke-width:2; stroke-opacity:0.1; fill:none\" points=\"\n",
              "  138.228,83.4622 1952.76,83.4622 \n",
              "  \"/>\n",
              "<polyline clip-path=\"url(#clip2100)\" style=\"stroke:#000000; stroke-width:4; stroke-opacity:1; fill:none\" points=\"\n",
              "  138.228,514.632 1952.76,514.632 \n",
              "  \"/>\n",
              "<polyline clip-path=\"url(#clip2100)\" style=\"stroke:#000000; stroke-width:4; stroke-opacity:1; fill:none\" points=\"\n",
              "  138.228,514.632 138.228,83.4622 \n",
              "  \"/>\n",
              "<polyline clip-path=\"url(#clip2100)\" style=\"stroke:#000000; stroke-width:4; stroke-opacity:1; fill:none\" points=\"\n",
              "  172.292,514.632 172.292,508.164 \n",
              "  \"/>\n",
              "<polyline clip-path=\"url(#clip2100)\" style=\"stroke:#000000; stroke-width:4; stroke-opacity:1; fill:none\" points=\"\n",
              "  604.569,514.632 604.569,508.164 \n",
              "  \"/>\n",
              "<polyline clip-path=\"url(#clip2100)\" style=\"stroke:#000000; stroke-width:4; stroke-opacity:1; fill:none\" points=\"\n",
              "  1036.85,514.632 1036.85,508.164 \n",
              "  \"/>\n",
              "<polyline clip-path=\"url(#clip2100)\" style=\"stroke:#000000; stroke-width:4; stroke-opacity:1; fill:none\" points=\"\n",
              "  1469.12,514.632 1469.12,508.164 \n",
              "  \"/>\n",
              "<polyline clip-path=\"url(#clip2100)\" style=\"stroke:#000000; stroke-width:4; stroke-opacity:1; fill:none\" points=\"\n",
              "  1901.4,514.632 1901.4,508.164 \n",
              "  \"/>\n",
              "<polyline clip-path=\"url(#clip2100)\" style=\"stroke:#000000; stroke-width:4; stroke-opacity:1; fill:none\" points=\"\n",
              "  138.228,514.632 165.446,514.632 \n",
              "  \"/>\n",
              "<polyline clip-path=\"url(#clip2100)\" style=\"stroke:#000000; stroke-width:4; stroke-opacity:1; fill:none\" points=\"\n",
              "  138.228,406.839 165.446,406.839 \n",
              "  \"/>\n",
              "<polyline clip-path=\"url(#clip2100)\" style=\"stroke:#000000; stroke-width:4; stroke-opacity:1; fill:none\" points=\"\n",
              "  138.228,299.047 165.446,299.047 \n",
              "  \"/>\n",
              "<polyline clip-path=\"url(#clip2100)\" style=\"stroke:#000000; stroke-width:4; stroke-opacity:1; fill:none\" points=\"\n",
              "  138.228,191.255 165.446,191.255 \n",
              "  \"/>\n",
              "<polyline clip-path=\"url(#clip2100)\" style=\"stroke:#000000; stroke-width:4; stroke-opacity:1; fill:none\" points=\"\n",
              "  138.228,83.4622 165.446,83.4622 \n",
              "  \"/>\n",
              "<g clip-path=\"url(#clip2100)\">\n",
              "<text style=\"fill:#000000; fill-opacity:1; font-family:Book Antiqua,Palatino,Palatino Linotype,Palatino LT STD,Georgia,serif; font-size:50px; text-anchor:middle;\" transform=\"rotate(0, 172.292, 566.632)\" x=\"172.292\" y=\"566.632\">0</text>\n",
              "</g>\n",
              "<g clip-path=\"url(#clip2100)\">\n",
              "<text style=\"fill:#000000; fill-opacity:1; font-family:Book Antiqua,Palatino,Palatino Linotype,Palatino LT STD,Georgia,serif; font-size:50px; text-anchor:middle;\" transform=\"rotate(0, 604.569, 566.632)\" x=\"604.569\" y=\"566.632\">25</text>\n",
              "</g>\n",
              "<g clip-path=\"url(#clip2100)\">\n",
              "<text style=\"fill:#000000; fill-opacity:1; font-family:Book Antiqua,Palatino,Palatino Linotype,Palatino LT STD,Georgia,serif; font-size:50px; text-anchor:middle;\" transform=\"rotate(0, 1036.85, 566.632)\" x=\"1036.85\" y=\"566.632\">50</text>\n",
              "</g>\n",
              "<g clip-path=\"url(#clip2100)\">\n",
              "<text style=\"fill:#000000; fill-opacity:1; font-family:Book Antiqua,Palatino,Palatino Linotype,Palatino LT STD,Georgia,serif; font-size:50px; text-anchor:middle;\" transform=\"rotate(0, 1469.12, 566.632)\" x=\"1469.12\" y=\"566.632\">75</text>\n",
              "</g>\n",
              "<g clip-path=\"url(#clip2100)\">\n",
              "<text style=\"fill:#000000; fill-opacity:1; font-family:Book Antiqua,Palatino,Palatino Linotype,Palatino LT STD,Georgia,serif; font-size:50px; text-anchor:middle;\" transform=\"rotate(0, 1901.4, 566.632)\" x=\"1901.4\" y=\"566.632\">100</text>\n",
              "</g>\n",
              "<g clip-path=\"url(#clip2100)\">\n",
              "<text style=\"fill:#000000; fill-opacity:1; font-family:Book Antiqua,Palatino,Palatino Linotype,Palatino LT STD,Georgia,serif; font-size:50px; text-anchor:end;\" transform=\"rotate(0, 118.228, 532.132)\" x=\"118.228\" y=\"532.132\">-4</text>\n",
              "</g>\n",
              "<g clip-path=\"url(#clip2100)\">\n",
              "<text style=\"fill:#000000; fill-opacity:1; font-family:Book Antiqua,Palatino,Palatino Linotype,Palatino LT STD,Georgia,serif; font-size:50px; text-anchor:end;\" transform=\"rotate(0, 118.228, 424.339)\" x=\"118.228\" y=\"424.339\">-2</text>\n",
              "</g>\n",
              "<g clip-path=\"url(#clip2100)\">\n",
              "<text style=\"fill:#000000; fill-opacity:1; font-family:Book Antiqua,Palatino,Palatino Linotype,Palatino LT STD,Georgia,serif; font-size:50px; text-anchor:end;\" transform=\"rotate(0, 118.228, 316.547)\" x=\"118.228\" y=\"316.547\">0</text>\n",
              "</g>\n",
              "<g clip-path=\"url(#clip2100)\">\n",
              "<text style=\"fill:#000000; fill-opacity:1; font-family:Book Antiqua,Palatino,Palatino Linotype,Palatino LT STD,Georgia,serif; font-size:50px; text-anchor:end;\" transform=\"rotate(0, 118.228, 208.755)\" x=\"118.228\" y=\"208.755\">2</text>\n",
              "</g>\n",
              "<g clip-path=\"url(#clip2100)\">\n",
              "<text style=\"fill:#000000; fill-opacity:1; font-family:Book Antiqua,Palatino,Palatino Linotype,Palatino LT STD,Georgia,serif; font-size:50px; text-anchor:end;\" transform=\"rotate(0, 118.228, 100.962)\" x=\"118.228\" y=\"100.962\">4</text>\n",
              "</g>\n",
              "<g clip-path=\"url(#clip2100)\">\n",
              "<text style=\"fill:#000000; fill-opacity:1; font-family:Book Antiqua,Palatino,Palatino Linotype,Palatino LT STD,Georgia,serif; font-size:62px; text-anchor:middle;\" transform=\"rotate(0, 1045.49, 51.6)\" x=\"1045.49\" y=\"51.6\">original signal</text>\n",
              "</g>\n",
              "<polyline clip-path=\"url(#clip2102)\" style=\"stroke:#009af9; stroke-width:4; stroke-opacity:1; fill:none\" points=\"\n",
              "  189.583,299.047 206.874,299.047 224.165,299.047 241.456,299.047 258.747,299.047 276.038,299.047 293.329,299.047 310.62,245.151 327.912,245.151 345.203,245.151 \n",
              "  362.494,245.151 379.785,245.151 397.076,245.151 414.367,245.151 431.658,245.151 448.949,245.151 466.24,245.151 483.531,245.151 500.822,299.047 518.114,299.047 \n",
              "  535.405,245.151 552.696,299.047 569.987,299.047 587.278,245.151 604.569,245.151 621.86,245.151 639.151,245.151 656.442,299.047 673.733,245.151 691.025,299.047 \n",
              "  708.316,299.047 725.607,299.047 742.898,299.047 760.189,299.047 777.48,245.151 794.771,299.047 812.062,299.047 829.353,299.047 846.644,299.047 863.936,299.047 \n",
              "  881.227,299.047 898.518,299.047 915.809,245.151 933.1,245.151 950.391,245.151 967.682,299.047 984.973,299.047 1002.26,245.151 1019.56,245.151 1036.85,245.151 \n",
              "  1054.14,245.151 1071.43,245.151 1088.72,245.151 1106.01,245.151 1123.3,245.151 1140.59,299.047 1157.88,299.047 1175.18,299.047 1192.47,299.047 1209.76,299.047 \n",
              "  1227.05,299.047 1244.34,299.047 1261.63,245.151 1278.92,245.151 1296.21,245.151 1313.5,245.151 1330.8,245.151 1348.09,245.151 1365.38,245.151 1382.67,245.151 \n",
              "  1399.96,245.151 1417.25,245.151 1434.54,299.047 1451.83,299.047 1469.12,245.151 1486.42,245.151 1503.71,245.151 1521,245.151 1538.29,245.151 1555.58,245.151 \n",
              "  1572.87,245.151 1590.16,245.151 1607.45,245.151 1624.74,245.151 1642.03,245.151 1659.33,245.151 1676.62,245.151 1693.91,245.151 1711.2,245.151 1728.49,245.151 \n",
              "  1745.78,245.151 1763.07,245.151 1780.36,245.151 1797.65,245.151 1814.95,299.047 1832.24,299.047 1849.53,299.047 1866.82,299.047 1884.11,299.047 1901.4,299.047 \n",
              "  \n",
              "  \"/>\n",
              "</svg>\n"
            ]
          },
          "metadata": {}
        }
      ],
      "execution_count": 1,
      "metadata": {}
    },
    {
      "cell_type": "code",
      "source": [
        "plot(X, size = (500, 150), title = \"corrupted signal\", titlefont = 10, color = :DarkOrange, ylims = (-4, 4))"
      ],
      "outputs": [
        {
          "output_type": "execute_result",
          "execution_count": 2,
          "data": {
            "image/svg+xml": [
              "<?xml version=\"1.0\" encoding=\"utf-8\"?>\n",
              "<svg xmlns=\"http://www.w3.org/2000/svg\" xmlns:xlink=\"http://www.w3.org/1999/xlink\" width=\"500\" height=\"150\" viewBox=\"0 0 2000 600\">\n",
              "<defs>\n",
              "  <clipPath id=\"clip2500\">\n",
              "    <rect x=\"0\" y=\"0\" width=\"2000\" height=\"600\"/>\n",
              "  </clipPath>\n",
              "</defs>\n",
              "<path clip-path=\"url(#clip2500)\" d=\"\n",
              "M0 600 L2000 600 L2000 0 L0 0  Z\n",
              "  \" fill=\"#ffffff\" fill-rule=\"evenodd\" fill-opacity=\"1\"/>\n",
              "<defs>\n",
              "  <clipPath id=\"clip2501\">\n",
              "    <rect x=\"400\" y=\"0\" width=\"1401\" height=\"600\"/>\n",
              "  </clipPath>\n",
              "</defs>\n",
              "<path clip-path=\"url(#clip2500)\" d=\"\n",
              "M138.228 514.632 L1952.76 514.632 L1952.76 83.4622 L138.228 83.4622  Z\n",
              "  \" fill=\"#ffffff\" fill-rule=\"evenodd\" fill-opacity=\"1\"/>\n",
              "<defs>\n",
              "  <clipPath id=\"clip2502\">\n",
              "    <rect x=\"138\" y=\"83\" width=\"1816\" height=\"432\"/>\n",
              "  </clipPath>\n",
              "</defs>\n",
              "<polyline clip-path=\"url(#clip2502)\" style=\"stroke:#000000; stroke-width:2; stroke-opacity:0.1; fill:none\" points=\"\n",
              "  172.292,514.632 172.292,83.4622 \n",
              "  \"/>\n",
              "<polyline clip-path=\"url(#clip2502)\" style=\"stroke:#000000; stroke-width:2; stroke-opacity:0.1; fill:none\" points=\"\n",
              "  604.569,514.632 604.569,83.4622 \n",
              "  \"/>\n",
              "<polyline clip-path=\"url(#clip2502)\" style=\"stroke:#000000; stroke-width:2; stroke-opacity:0.1; fill:none\" points=\"\n",
              "  1036.85,514.632 1036.85,83.4622 \n",
              "  \"/>\n",
              "<polyline clip-path=\"url(#clip2502)\" style=\"stroke:#000000; stroke-width:2; stroke-opacity:0.1; fill:none\" points=\"\n",
              "  1469.12,514.632 1469.12,83.4622 \n",
              "  \"/>\n",
              "<polyline clip-path=\"url(#clip2502)\" style=\"stroke:#000000; stroke-width:2; stroke-opacity:0.1; fill:none\" points=\"\n",
              "  1901.4,514.632 1901.4,83.4622 \n",
              "  \"/>\n",
              "<polyline clip-path=\"url(#clip2502)\" style=\"stroke:#000000; stroke-width:2; stroke-opacity:0.1; fill:none\" points=\"\n",
              "  138.228,514.632 1952.76,514.632 \n",
              "  \"/>\n",
              "<polyline clip-path=\"url(#clip2502)\" style=\"stroke:#000000; stroke-width:2; stroke-opacity:0.1; fill:none\" points=\"\n",
              "  138.228,406.839 1952.76,406.839 \n",
              "  \"/>\n",
              "<polyline clip-path=\"url(#clip2502)\" style=\"stroke:#000000; stroke-width:2; stroke-opacity:0.1; fill:none\" points=\"\n",
              "  138.228,299.047 1952.76,299.047 \n",
              "  \"/>\n",
              "<polyline clip-path=\"url(#clip2502)\" style=\"stroke:#000000; stroke-width:2; stroke-opacity:0.1; fill:none\" points=\"\n",
              "  138.228,191.255 1952.76,191.255 \n",
              "  \"/>\n",
              "<polyline clip-path=\"url(#clip2502)\" style=\"stroke:#000000; stroke-width:2; stroke-opacity:0.1; fill:none\" points=\"\n",
              "  138.228,83.4622 1952.76,83.4622 \n",
              "  \"/>\n",
              "<polyline clip-path=\"url(#clip2500)\" style=\"stroke:#000000; stroke-width:4; stroke-opacity:1; fill:none\" points=\"\n",
              "  138.228,514.632 1952.76,514.632 \n",
              "  \"/>\n",
              "<polyline clip-path=\"url(#clip2500)\" style=\"stroke:#000000; stroke-width:4; stroke-opacity:1; fill:none\" points=\"\n",
              "  138.228,514.632 138.228,83.4622 \n",
              "  \"/>\n",
              "<polyline clip-path=\"url(#clip2500)\" style=\"stroke:#000000; stroke-width:4; stroke-opacity:1; fill:none\" points=\"\n",
              "  172.292,514.632 172.292,508.164 \n",
              "  \"/>\n",
              "<polyline clip-path=\"url(#clip2500)\" style=\"stroke:#000000; stroke-width:4; stroke-opacity:1; fill:none\" points=\"\n",
              "  604.569,514.632 604.569,508.164 \n",
              "  \"/>\n",
              "<polyline clip-path=\"url(#clip2500)\" style=\"stroke:#000000; stroke-width:4; stroke-opacity:1; fill:none\" points=\"\n",
              "  1036.85,514.632 1036.85,508.164 \n",
              "  \"/>\n",
              "<polyline clip-path=\"url(#clip2500)\" style=\"stroke:#000000; stroke-width:4; stroke-opacity:1; fill:none\" points=\"\n",
              "  1469.12,514.632 1469.12,508.164 \n",
              "  \"/>\n",
              "<polyline clip-path=\"url(#clip2500)\" style=\"stroke:#000000; stroke-width:4; stroke-opacity:1; fill:none\" points=\"\n",
              "  1901.4,514.632 1901.4,508.164 \n",
              "  \"/>\n",
              "<polyline clip-path=\"url(#clip2500)\" style=\"stroke:#000000; stroke-width:4; stroke-opacity:1; fill:none\" points=\"\n",
              "  138.228,514.632 165.446,514.632 \n",
              "  \"/>\n",
              "<polyline clip-path=\"url(#clip2500)\" style=\"stroke:#000000; stroke-width:4; stroke-opacity:1; fill:none\" points=\"\n",
              "  138.228,406.839 165.446,406.839 \n",
              "  \"/>\n",
              "<polyline clip-path=\"url(#clip2500)\" style=\"stroke:#000000; stroke-width:4; stroke-opacity:1; fill:none\" points=\"\n",
              "  138.228,299.047 165.446,299.047 \n",
              "  \"/>\n",
              "<polyline clip-path=\"url(#clip2500)\" style=\"stroke:#000000; stroke-width:4; stroke-opacity:1; fill:none\" points=\"\n",
              "  138.228,191.255 165.446,191.255 \n",
              "  \"/>\n",
              "<polyline clip-path=\"url(#clip2500)\" style=\"stroke:#000000; stroke-width:4; stroke-opacity:1; fill:none\" points=\"\n",
              "  138.228,83.4622 165.446,83.4622 \n",
              "  \"/>\n",
              "<g clip-path=\"url(#clip2500)\">\n",
              "<text style=\"fill:#000000; fill-opacity:1; font-family:Book Antiqua,Palatino,Palatino Linotype,Palatino LT STD,Georgia,serif; font-size:50px; text-anchor:middle;\" transform=\"rotate(0, 172.292, 566.632)\" x=\"172.292\" y=\"566.632\">0</text>\n",
              "</g>\n",
              "<g clip-path=\"url(#clip2500)\">\n",
              "<text style=\"fill:#000000; fill-opacity:1; font-family:Book Antiqua,Palatino,Palatino Linotype,Palatino LT STD,Georgia,serif; font-size:50px; text-anchor:middle;\" transform=\"rotate(0, 604.569, 566.632)\" x=\"604.569\" y=\"566.632\">25</text>\n",
              "</g>\n",
              "<g clip-path=\"url(#clip2500)\">\n",
              "<text style=\"fill:#000000; fill-opacity:1; font-family:Book Antiqua,Palatino,Palatino Linotype,Palatino LT STD,Georgia,serif; font-size:50px; text-anchor:middle;\" transform=\"rotate(0, 1036.85, 566.632)\" x=\"1036.85\" y=\"566.632\">50</text>\n",
              "</g>\n",
              "<g clip-path=\"url(#clip2500)\">\n",
              "<text style=\"fill:#000000; fill-opacity:1; font-family:Book Antiqua,Palatino,Palatino Linotype,Palatino LT STD,Georgia,serif; font-size:50px; text-anchor:middle;\" transform=\"rotate(0, 1469.12, 566.632)\" x=\"1469.12\" y=\"566.632\">75</text>\n",
              "</g>\n",
              "<g clip-path=\"url(#clip2500)\">\n",
              "<text style=\"fill:#000000; fill-opacity:1; font-family:Book Antiqua,Palatino,Palatino Linotype,Palatino LT STD,Georgia,serif; font-size:50px; text-anchor:middle;\" transform=\"rotate(0, 1901.4, 566.632)\" x=\"1901.4\" y=\"566.632\">100</text>\n",
              "</g>\n",
              "<g clip-path=\"url(#clip2500)\">\n",
              "<text style=\"fill:#000000; fill-opacity:1; font-family:Book Antiqua,Palatino,Palatino Linotype,Palatino LT STD,Georgia,serif; font-size:50px; text-anchor:end;\" transform=\"rotate(0, 118.228, 532.132)\" x=\"118.228\" y=\"532.132\">-4</text>\n",
              "</g>\n",
              "<g clip-path=\"url(#clip2500)\">\n",
              "<text style=\"fill:#000000; fill-opacity:1; font-family:Book Antiqua,Palatino,Palatino Linotype,Palatino LT STD,Georgia,serif; font-size:50px; text-anchor:end;\" transform=\"rotate(0, 118.228, 424.339)\" x=\"118.228\" y=\"424.339\">-2</text>\n",
              "</g>\n",
              "<g clip-path=\"url(#clip2500)\">\n",
              "<text style=\"fill:#000000; fill-opacity:1; font-family:Book Antiqua,Palatino,Palatino Linotype,Palatino LT STD,Georgia,serif; font-size:50px; text-anchor:end;\" transform=\"rotate(0, 118.228, 316.547)\" x=\"118.228\" y=\"316.547\">0</text>\n",
              "</g>\n",
              "<g clip-path=\"url(#clip2500)\">\n",
              "<text style=\"fill:#000000; fill-opacity:1; font-family:Book Antiqua,Palatino,Palatino Linotype,Palatino LT STD,Georgia,serif; font-size:50px; text-anchor:end;\" transform=\"rotate(0, 118.228, 208.755)\" x=\"118.228\" y=\"208.755\">2</text>\n",
              "</g>\n",
              "<g clip-path=\"url(#clip2500)\">\n",
              "<text style=\"fill:#000000; fill-opacity:1; font-family:Book Antiqua,Palatino,Palatino Linotype,Palatino LT STD,Georgia,serif; font-size:50px; text-anchor:end;\" transform=\"rotate(0, 118.228, 100.962)\" x=\"118.228\" y=\"100.962\">4</text>\n",
              "</g>\n",
              "<g clip-path=\"url(#clip2500)\">\n",
              "<text style=\"fill:#000000; fill-opacity:1; font-family:Book Antiqua,Palatino,Palatino Linotype,Palatino LT STD,Georgia,serif; font-size:62px; text-anchor:middle;\" transform=\"rotate(0, 1045.49, 51.6)\" x=\"1045.49\" y=\"51.6\">corrupted signal</text>\n",
              "</g>\n",
              "<polyline clip-path=\"url(#clip2502)\" style=\"stroke:#ff8c00; stroke-width:4; stroke-opacity:1; fill:none\" points=\"\n",
              "  189.583,305.346 206.874,293.094 224.165,330.081 241.456,364.211 258.747,241.884 276.038,303.96 293.329,316.204 310.62,304.097 327.912,320.104 345.203,190.84 \n",
              "  362.494,260.342 379.785,212.172 397.076,303.265 414.367,245.853 431.658,269.153 448.949,229.928 466.24,258.361 483.531,240.13 500.822,249.986 518.114,274.988 \n",
              "  535.405,292.169 552.696,331.768 569.987,289.204 587.278,300.792 604.569,225.733 621.86,292.633 639.151,295.901 656.442,350.905 673.733,224.46 691.025,399.429 \n",
              "  708.316,293.334 725.607,362.264 742.898,403.797 760.189,314.98 777.48,299.699 794.771,255.065 812.062,317.551 829.353,269.495 846.644,270.233 863.936,361.042 \n",
              "  881.227,335.049 898.518,273.958 915.809,262.26 933.1,199.986 950.391,170.012 967.682,301.868 984.973,306.75 1002.26,300.716 1019.56,176.653 1036.85,279.697 \n",
              "  1054.14,282.126 1071.43,274.455 1088.72,260.242 1106.01,227.041 1123.3,220.812 1140.59,314.243 1157.88,302.109 1175.18,260.867 1192.47,325.909 1209.76,353.699 \n",
              "  1227.05,282.478 1244.34,302.561 1261.63,262.837 1278.92,161.772 1296.21,223.08 1313.5,280.011 1330.8,251.06 1348.09,242.837 1365.38,255.473 1382.67,240.919 \n",
              "  1399.96,220.654 1417.25,286.817 1434.54,295.741 1451.83,301.744 1469.12,197.524 1486.42,239.388 1503.71,231.616 1521,280.416 1538.29,254.034 1555.58,193.297 \n",
              "  1572.87,217.285 1590.16,226.906 1607.45,222.089 1624.74,196.485 1642.03,298.36 1659.33,240.688 1676.62,221.268 1693.91,233.208 1711.2,207.564 1728.49,225.844 \n",
              "  1745.78,211.926 1763.07,218.49 1780.36,168.562 1797.65,239.331 1814.95,329.074 1832.24,260.987 1849.53,317.927 1866.82,285.181 1884.11,273.309 1901.4,276.147 \n",
              "  \n",
              "  \"/>\n",
              "</svg>\n"
            ]
          },
          "metadata": {}
        }
      ],
      "execution_count": 2,
      "metadata": {}
    },
    {
      "cell_type": "markdown",
      "source": [
        "Let's see how Expectation-Maximization works out in this context. Remember that our goal is to find good parameters of the model (which in this case we will know since we generated the data ourselves) based on the observed corrupted signal.\n",
        "\n",
        "We begin by working out the likelihood (trigger warning: the amount of math notation is about to get downright comical. This is how it's done, and I'm not sure how feasible it is to come up with something better. Try to focus on the meaning of each component, and don't worry too much about the particular choices of how each function is written down. Consider it practice for getting what you need out of a research paper.)\n",
        "\n",
        "$$\n",
        "\\begin{align*}\n",
        "p(x_1, \\ldots, x_n, z_1, \\ldots, z_n) &=\n",
        "\\frac{1}{2}\\prod_{j=2}^n [q\\mathbf{1}_{z_j = z_{j-1}} +\n",
        "(1-q)\\mathbf{1}_{z_j \\neq z_{j-1}}]\\prod_{j=1}^n \\log\\left(\\frac{1}{\\sqrt{2\\pi \\sigma^2}}\n",
        "  e^{-\\frac{(x_j-z_j)^2}{2\\sigma^2}}\\right)\n",
        "\\end{align*}\n",
        "$$\n",
        "\n",
        "(a) Explain where each factor in the expression above comes from.\n",
        "\n",
        "(b) What would it mean for this function to have an exceptionally small value?\n",
        "\n",
        "\n"
      ],
      "metadata": {}
    },
    {
      "cell_type": "code",
      "source": [],
      "outputs": [],
      "execution_count": null,
      "metadata": {}
    },
    {
      "cell_type": "markdown",
      "source": [
        "Now we take the log: \n",
        "\n",
        "$$\n",
        "\\begin{align*}\n",
        "&\\log(p(x_1, \\ldots, x_n, z_1, \\ldots, z_n)) =\n",
        "\\log(1/2) + \\sum_{j=2}^n\n",
        "\\log([q\\mathbf{1}_{z_j = z_{j-1}} + (1-q)\\mathbf{1}_{z_j \\neq z_{j-1}}])\n",
        "+ \\sum_{j=1}^n \\log\\left(\\frac{1}{\\sqrt{2\\pi \\sigma^2}}\n",
        "  e^{-\\frac{(x_j-z_j)^2}{2\\sigma^2}}\\right) \\\\\n",
        "&= \\log(1/2) + \\log(q)\\sum_{j=2}^n \\mathbf{1}_{z_j = z_{j-1}} +\n",
        "\\log(1-q) \\sum_{j=2}^n \\mathbf{1}_{z_j \\neq z_{j-1}} -\n",
        "\\frac{1}{2\\sigma^2}\\sum_{j=1}^n (x_j-z_j)^2 - \\frac{n}{2} \\log(2\\pi\\sigma^2).\n",
        "\\end{align*}\n",
        "$$\n",
        "\n",
        "And finally the expectation with respect to the conditional distribution of the $Z$ values given the observed $X$ values: \n",
        "\n",
        "$$\n",
        "\\begin{align*}\n",
        "&\\mathbb{E}\\left[\\log(1/2)\\right] +\n",
        "\\log(q)\\mathbb{E}\\left[\\sum_{j=2}^n \\mathbf{1}_{Z_j = Z_{j-1}}\\right] +\n",
        "\\log(1-q) \\mathbb{E}\\left[\\sum_{j=2}^n \\mathbf{1}_{Z_j \\neq Z_{j-1}}\\right] -\n",
        "\\frac{1}{2\\sigma^2}\\mathbb{E}\\left[\\sum_{j=1}^n (x_j-Z_j)^2\\right] -\n",
        "\\mathbb{E}\\left[\\frac{n}{2} \\log(2\\pi\\sigma^2)\\right] \\\\\n",
        "&=\n",
        "\\log(1/2) +\n",
        "\\log(q)\\underbrace{\\mathbb{E}\\left[\\sum_{j=2}^n \\mathbf{1}_{Z_j = Z_{j-1}}\\right]}_{a} +\n",
        "\\log(1-q) \\underbrace{\\mathbb{E}\\left[\\sum_{j=2}^n \\mathbf{1}_{Z_j \\neq Z_{j-1}}\\right]}_{b} -\n",
        "\\frac{1}{2\\sigma^2}\\underbrace{\\mathbb{E}\\left[\\sum_{j=1}^n (x_j-Z_j)^2\\right]}_{c} -\n",
        "\\frac{n}{2} \\log(2\\pi\\sigma^2) \\\\\n",
        "&=\n",
        "\\log(1/2) + a\\log(q) + b\\log(1-q) - \\frac{c}{2\\sigma^2} -\n",
        "\\frac{n}{2}\\log(2\\pi\\sigma^2).\n",
        "\\end{align*}\n",
        "$$\n",
        "\n",
        "We can differentiate this expression with respect to $q$ and with respect to $\\sigma^2$ to find that \n",
        "\n",
        "$$\n",
        "\\begin{align*}\n",
        "q &= \\frac{a}{a+b} \\\\\n",
        "\\sigma^2 &= \\frac{c}{n}\n",
        "\\end{align*}\n",
        "$$\n",
        "\n",
        "These will be the equations we use to update the parameters at each step of the EM algorithm. The remaining challenge is to estimate $a$, $b$, and $c$."
      ],
      "metadata": {}
    },
    {
      "cell_type": "code",
      "source": [],
      "outputs": [],
      "execution_count": null,
      "metadata": {}
    },
    {
      "cell_type": "markdown",
      "source": [
        "(c) Let's focus on $a$. Interpret its value. For which of the following observed $X$ values would it be larger? What are some strategies we could use for estimating it?"
      ],
      "metadata": {}
    },
    {
      "cell_type": "markdown",
      "source": [
        "<img src=\"corrupted1.svg\">\n",
        "\n",
        "<img src=\"corrupted2.svg\">"
      ],
      "metadata": {}
    },
    {
      "cell_type": "markdown",
      "source": [
        "(d) Let's use a variation on Metropolis-Hastings where our proposal distribution suggests a change of a single random variable at a time, and furthermore we cycle through the random variables rather than choosing a random one each time. This is called **Gibbs** sampling. \n",
        "\n",
        "For $j$ strictly between 1 and $n$, find the acceptance ratio for swithcing the value of $Z_j$."
      ],
      "metadata": {}
    },
    {
      "cell_type": "markdown",
      "source": [
        "(e) The script below contains a function called `gibbs_sampler` which does 75 passes through the 100 hidden random variables to draw an observation from their conditional distribution given the $X$'s. "
      ],
      "metadata": {}
    },
    {
      "cell_type": "code",
      "source": [
        "include(\"expectation-maximization.jl\")"
      ],
      "outputs": [
        {
          "output_type": "execute_result",
          "execution_count": 3,
          "data": {
            "text/plain": [
              "em_algorithm"
            ]
          },
          "metadata": {}
        }
      ],
      "execution_count": 3,
      "metadata": {}
    },
    {
      "cell_type": "code",
      "source": [
        "Normal(0,2)"
      ],
      "outputs": [
        {
          "output_type": "execute_result",
          "execution_count": 4,
          "data": {
            "text/plain": [
              "Normal{Float64}(μ=0.0, σ=2.0)"
            ]
          },
          "metadata": {}
        }
      ],
      "execution_count": 4,
      "metadata": {}
    },
    {
      "cell_type": "code",
      "source": [
        "n = 100 # number of Markov chain steps\n",
        "q = 0.8 # stickiness\n",
        "σ² = 0.25 # variance X - Z differences\n",
        "Z = markov_chain(OffsetArray([q 1-q; 1-q q], 0:1, 0:1), n)\n",
        "X = Z + √(σ²)*randn(n);"
      ],
      "outputs": [],
      "execution_count": 5,
      "metadata": {}
    },
    {
      "cell_type": "markdown",
      "source": [
        "Run the code cell a few times to see how the hidden variables vary jointly in their conditional distribution given the observed signal. "
      ],
      "metadata": {}
    },
    {
      "cell_type": "code",
      "source": [
        "θ = (q, σ²)\n",
        "Z = gibbs_sampler(X, θ)\n",
        "plot(HMObservation(Z, X))"
      ],
      "outputs": [
        {
          "output_type": "execute_result",
          "execution_count": 6,
          "data": {
            "image/svg+xml": [
              "<?xml version=\"1.0\" encoding=\"utf-8\"?>\n",
              "<svg xmlns=\"http://www.w3.org/2000/svg\" xmlns:xlink=\"http://www.w3.org/1999/xlink\" width=\"600\" height=\"200\" viewBox=\"0 0 2400 800\">\n",
              "<defs>\n",
              "  <clipPath id=\"clip4500\">\n",
              "    <rect x=\"0\" y=\"0\" width=\"2400\" height=\"800\"/>\n",
              "  </clipPath>\n",
              "</defs>\n",
              "<path clip-path=\"url(#clip4500)\" d=\"\n",
              "M0 800 L2400 800 L2400 0 L0 0  Z\n",
              "  \" fill=\"#ffffff\" fill-rule=\"evenodd\" fill-opacity=\"1\"/>\n",
              "<defs>\n",
              "  <clipPath id=\"clip4501\">\n",
              "    <rect x=\"480\" y=\"0\" width=\"1681\" height=\"800\"/>\n",
              "  </clipPath>\n",
              "</defs>\n",
              "<path clip-path=\"url(#clip4500)\" d=\"\n",
              "M142.228 710.812 L2352.76 710.812 L2352.76 47.2441 L142.228 47.2441  Z\n",
              "  \" fill=\"#ffffff\" fill-rule=\"evenodd\" fill-opacity=\"1\"/>\n",
              "<defs>\n",
              "  <clipPath id=\"clip4502\">\n",
              "    <rect x=\"142\" y=\"47\" width=\"2212\" height=\"665\"/>\n",
              "  </clipPath>\n",
              "</defs>\n",
              "<polyline clip-path=\"url(#clip4502)\" style=\"stroke:#000000; stroke-width:2; stroke-opacity:0.1; fill:none\" points=\"\n",
              "  183.726,710.812 183.726,47.2441 \n",
              "  \"/>\n",
              "<polyline clip-path=\"url(#clip4502)\" style=\"stroke:#000000; stroke-width:2; stroke-opacity:0.1; fill:none\" points=\"\n",
              "  710.343,710.812 710.343,47.2441 \n",
              "  \"/>\n",
              "<polyline clip-path=\"url(#clip4502)\" style=\"stroke:#000000; stroke-width:2; stroke-opacity:0.1; fill:none\" points=\"\n",
              "  1236.96,710.812 1236.96,47.2441 \n",
              "  \"/>\n",
              "<polyline clip-path=\"url(#clip4502)\" style=\"stroke:#000000; stroke-width:2; stroke-opacity:0.1; fill:none\" points=\"\n",
              "  1763.58,710.812 1763.58,47.2441 \n",
              "  \"/>\n",
              "<polyline clip-path=\"url(#clip4502)\" style=\"stroke:#000000; stroke-width:2; stroke-opacity:0.1; fill:none\" points=\"\n",
              "  2290.19,710.812 2290.19,47.2441 \n",
              "  \"/>\n",
              "<polyline clip-path=\"url(#clip4502)\" style=\"stroke:#000000; stroke-width:2; stroke-opacity:0.1; fill:none\" points=\"\n",
              "  142.228,710.812 2352.76,710.812 \n",
              "  \"/>\n",
              "<polyline clip-path=\"url(#clip4502)\" style=\"stroke:#000000; stroke-width:2; stroke-opacity:0.1; fill:none\" points=\"\n",
              "  142.228,544.92 2352.76,544.92 \n",
              "  \"/>\n",
              "<polyline clip-path=\"url(#clip4502)\" style=\"stroke:#000000; stroke-width:2; stroke-opacity:0.1; fill:none\" points=\"\n",
              "  142.228,379.028 2352.76,379.028 \n",
              "  \"/>\n",
              "<polyline clip-path=\"url(#clip4502)\" style=\"stroke:#000000; stroke-width:2; stroke-opacity:0.1; fill:none\" points=\"\n",
              "  142.228,213.136 2352.76,213.136 \n",
              "  \"/>\n",
              "<polyline clip-path=\"url(#clip4502)\" style=\"stroke:#000000; stroke-width:2; stroke-opacity:0.1; fill:none\" points=\"\n",
              "  142.228,47.2441 2352.76,47.2441 \n",
              "  \"/>\n",
              "<polyline clip-path=\"url(#clip4500)\" style=\"stroke:#000000; stroke-width:4; stroke-opacity:1; fill:none\" points=\"\n",
              "  142.228,710.812 2352.76,710.812 \n",
              "  \"/>\n",
              "<polyline clip-path=\"url(#clip4500)\" style=\"stroke:#000000; stroke-width:4; stroke-opacity:1; fill:none\" points=\"\n",
              "  142.228,710.812 142.228,47.2441 \n",
              "  \"/>\n",
              "<polyline clip-path=\"url(#clip4500)\" style=\"stroke:#000000; stroke-width:4; stroke-opacity:1; fill:none\" points=\"\n",
              "  183.726,710.812 183.726,700.859 \n",
              "  \"/>\n",
              "<polyline clip-path=\"url(#clip4500)\" style=\"stroke:#000000; stroke-width:4; stroke-opacity:1; fill:none\" points=\"\n",
              "  710.343,710.812 710.343,700.859 \n",
              "  \"/>\n",
              "<polyline clip-path=\"url(#clip4500)\" style=\"stroke:#000000; stroke-width:4; stroke-opacity:1; fill:none\" points=\"\n",
              "  1236.96,710.812 1236.96,700.859 \n",
              "  \"/>\n",
              "<polyline clip-path=\"url(#clip4500)\" style=\"stroke:#000000; stroke-width:4; stroke-opacity:1; fill:none\" points=\"\n",
              "  1763.58,710.812 1763.58,700.859 \n",
              "  \"/>\n",
              "<polyline clip-path=\"url(#clip4500)\" style=\"stroke:#000000; stroke-width:4; stroke-opacity:1; fill:none\" points=\"\n",
              "  2290.19,710.812 2290.19,700.859 \n",
              "  \"/>\n",
              "<polyline clip-path=\"url(#clip4500)\" style=\"stroke:#000000; stroke-width:4; stroke-opacity:1; fill:none\" points=\"\n",
              "  142.228,710.812 175.386,710.812 \n",
              "  \"/>\n",
              "<polyline clip-path=\"url(#clip4500)\" style=\"stroke:#000000; stroke-width:4; stroke-opacity:1; fill:none\" points=\"\n",
              "  142.228,544.92 175.386,544.92 \n",
              "  \"/>\n",
              "<polyline clip-path=\"url(#clip4500)\" style=\"stroke:#000000; stroke-width:4; stroke-opacity:1; fill:none\" points=\"\n",
              "  142.228,379.028 175.386,379.028 \n",
              "  \"/>\n",
              "<polyline clip-path=\"url(#clip4500)\" style=\"stroke:#000000; stroke-width:4; stroke-opacity:1; fill:none\" points=\"\n",
              "  142.228,213.136 175.386,213.136 \n",
              "  \"/>\n",
              "<polyline clip-path=\"url(#clip4500)\" style=\"stroke:#000000; stroke-width:4; stroke-opacity:1; fill:none\" points=\"\n",
              "  142.228,47.2441 175.386,47.2441 \n",
              "  \"/>\n",
              "<g clip-path=\"url(#clip4500)\">\n",
              "<text style=\"fill:#000000; fill-opacity:1; font-family:Book Antiqua,Palatino,Palatino Linotype,Palatino LT STD,Georgia,serif; font-size:50px; text-anchor:middle;\" transform=\"rotate(0, 183.726, 764.812)\" x=\"183.726\" y=\"764.812\">0</text>\n",
              "</g>\n",
              "<g clip-path=\"url(#clip4500)\">\n",
              "<text style=\"fill:#000000; fill-opacity:1; font-family:Book Antiqua,Palatino,Palatino Linotype,Palatino LT STD,Georgia,serif; font-size:50px; text-anchor:middle;\" transform=\"rotate(0, 710.343, 764.812)\" x=\"710.343\" y=\"764.812\">25</text>\n",
              "</g>\n",
              "<g clip-path=\"url(#clip4500)\">\n",
              "<text style=\"fill:#000000; fill-opacity:1; font-family:Book Antiqua,Palatino,Palatino Linotype,Palatino LT STD,Georgia,serif; font-size:50px; text-anchor:middle;\" transform=\"rotate(0, 1236.96, 764.812)\" x=\"1236.96\" y=\"764.812\">50</text>\n",
              "</g>\n",
              "<g clip-path=\"url(#clip4500)\">\n",
              "<text style=\"fill:#000000; fill-opacity:1; font-family:Book Antiqua,Palatino,Palatino Linotype,Palatino LT STD,Georgia,serif; font-size:50px; text-anchor:middle;\" transform=\"rotate(0, 1763.58, 764.812)\" x=\"1763.58\" y=\"764.812\">75</text>\n",
              "</g>\n",
              "<g clip-path=\"url(#clip4500)\">\n",
              "<text style=\"fill:#000000; fill-opacity:1; font-family:Book Antiqua,Palatino,Palatino Linotype,Palatino LT STD,Georgia,serif; font-size:50px; text-anchor:middle;\" transform=\"rotate(0, 2290.19, 764.812)\" x=\"2290.19\" y=\"764.812\">100</text>\n",
              "</g>\n",
              "<g clip-path=\"url(#clip4500)\">\n",
              "<text style=\"fill:#000000; fill-opacity:1; font-family:Book Antiqua,Palatino,Palatino Linotype,Palatino LT STD,Georgia,serif; font-size:50px; text-anchor:end;\" transform=\"rotate(0, 118.228, 728.312)\" x=\"118.228\" y=\"728.312\">-4</text>\n",
              "</g>\n",
              "<g clip-path=\"url(#clip4500)\">\n",
              "<text style=\"fill:#000000; fill-opacity:1; font-family:Book Antiqua,Palatino,Palatino Linotype,Palatino LT STD,Georgia,serif; font-size:50px; text-anchor:end;\" transform=\"rotate(0, 118.228, 562.42)\" x=\"118.228\" y=\"562.42\">-2</text>\n",
              "</g>\n",
              "<g clip-path=\"url(#clip4500)\">\n",
              "<text style=\"fill:#000000; fill-opacity:1; font-family:Book Antiqua,Palatino,Palatino Linotype,Palatino LT STD,Georgia,serif; font-size:50px; text-anchor:end;\" transform=\"rotate(0, 118.228, 396.528)\" x=\"118.228\" y=\"396.528\">0</text>\n",
              "</g>\n",
              "<g clip-path=\"url(#clip4500)\">\n",
              "<text style=\"fill:#000000; fill-opacity:1; font-family:Book Antiqua,Palatino,Palatino Linotype,Palatino LT STD,Georgia,serif; font-size:50px; text-anchor:end;\" transform=\"rotate(0, 118.228, 230.636)\" x=\"118.228\" y=\"230.636\">2</text>\n",
              "</g>\n",
              "<g clip-path=\"url(#clip4500)\">\n",
              "<text style=\"fill:#000000; fill-opacity:1; font-family:Book Antiqua,Palatino,Palatino Linotype,Palatino LT STD,Georgia,serif; font-size:50px; text-anchor:end;\" transform=\"rotate(0, 118.228, 64.7441)\" x=\"118.228\" y=\"64.7441\">4</text>\n",
              "</g>\n",
              "<polyline clip-path=\"url(#clip4502)\" style=\"stroke:#009af9; stroke-width:4; stroke-opacity:1; fill:none\" points=\"\n",
              "  204.79,379.028 225.855,379.028 246.92,379.028 267.984,379.028 289.049,379.028 310.114,296.082 331.178,296.082 352.243,379.028 373.308,379.028 394.372,379.028 \n",
              "  415.437,379.028 436.502,296.082 457.566,296.082 478.631,296.082 499.696,296.082 520.761,379.028 541.825,379.028 562.89,379.028 583.955,379.028 605.019,296.082 \n",
              "  626.084,296.082 647.149,296.082 668.213,296.082 689.278,296.082 710.343,379.028 731.407,379.028 752.472,379.028 773.537,296.082 794.601,296.082 815.666,296.082 \n",
              "  836.731,296.082 857.795,296.082 878.86,296.082 899.925,296.082 920.989,296.082 942.054,296.082 963.119,296.082 984.184,296.082 1005.25,296.082 1026.31,296.082 \n",
              "  1047.38,296.082 1068.44,379.028 1089.51,379.028 1110.57,379.028 1131.64,379.028 1152.7,379.028 1173.77,379.028 1194.83,296.082 1215.9,379.028 1236.96,379.028 \n",
              "  1258.02,379.028 1279.09,379.028 1300.15,296.082 1321.22,296.082 1342.28,296.082 1363.35,379.028 1384.41,379.028 1405.48,379.028 1426.54,379.028 1447.61,379.028 \n",
              "  1468.67,379.028 1489.74,379.028 1510.8,379.028 1531.87,379.028 1552.93,379.028 1573.99,379.028 1595.06,379.028 1616.12,379.028 1637.19,379.028 1658.25,379.028 \n",
              "  1679.32,379.028 1700.38,379.028 1721.45,379.028 1742.51,379.028 1763.58,379.028 1784.64,379.028 1805.71,379.028 1826.77,379.028 1847.84,379.028 1868.9,379.028 \n",
              "  1889.96,296.082 1911.03,379.028 1932.09,379.028 1953.16,296.082 1974.22,296.082 1995.29,379.028 2016.35,379.028 2037.42,379.028 2058.48,379.028 2079.55,379.028 \n",
              "  2100.61,379.028 2121.68,379.028 2142.74,296.082 2163.81,296.082 2184.87,379.028 2205.94,379.028 2227,379.028 2248.06,379.028 2269.13,379.028 2290.19,379.028 \n",
              "  \n",
              "  \"/>\n",
              "<polyline clip-path=\"url(#clip4502)\" style=\"stroke:#e26f46; stroke-width:4; stroke-opacity:1; fill:none\" points=\"\n",
              "  204.79,405.264 225.855,278.993 246.92,332.759 267.984,412.719 289.049,335.672 310.114,380.242 331.178,268.917 352.243,350.34 373.308,360.918 394.372,325.873 \n",
              "  415.437,343.355 436.502,368.704 457.566,304.378 478.631,249.352 499.696,281.806 520.761,412.935 541.825,372.991 562.89,360.078 583.955,302.913 605.019,285.991 \n",
              "  626.084,333.053 647.149,353.082 668.213,329.649 689.278,356.055 710.343,356.988 731.407,344.524 752.472,344.631 773.537,326.279 794.601,339.413 815.666,348.974 \n",
              "  836.731,313.878 857.795,250.888 878.86,316.457 899.925,272.129 920.989,280.043 942.054,290.596 963.119,309.01 984.184,297.734 1005.25,288.922 1026.31,316.946 \n",
              "  1047.38,296.153 1068.44,405.07 1089.51,369.198 1110.57,367.836 1131.64,455.628 1152.7,394.152 1173.77,338.862 1194.83,261.919 1215.9,394.306 1236.96,378.789 \n",
              "  1258.02,388.332 1279.09,313.527 1300.15,272.451 1321.22,264.752 1342.28,269.44 1363.35,428.319 1384.41,428.195 1405.48,350.884 1426.54,400.646 1447.61,329.955 \n",
              "  1468.67,378.92 1489.74,314.538 1510.8,378.265 1531.87,337.079 1552.93,369.517 1573.99,440.408 1595.06,387.354 1616.12,357.382 1637.19,423.722 1658.25,435.663 \n",
              "  1679.32,441.319 1700.38,372.433 1721.45,318.25 1742.51,313.832 1763.58,410.9 1784.64,342.291 1805.71,384.183 1826.77,394.584 1847.84,423.617 1868.9,377.274 \n",
              "  1889.96,295.632 1911.03,331.548 1932.09,225.096 1953.16,271.324 1974.22,283.79 1995.29,450.37 2016.35,323.448 2037.42,388.411 2058.48,394.549 2079.55,338.924 \n",
              "  2100.61,280.56 2121.68,375.401 2142.74,276.397 2163.81,269.842 2184.87,375.132 2205.94,326.737 2227,359.903 2248.06,375.42 2269.13,392.71 2290.19,449.19 \n",
              "  \n",
              "  \"/>\n",
              "</svg>\n"
            ]
          },
          "metadata": {}
        }
      ],
      "execution_count": 6,
      "metadata": {}
    },
    {
      "cell_type": "markdown",
      "source": [
        "(f) The script also included a function called `estimate_a_b_c` which uses 100 draws from the conditional distribution of the $Z$'s given the $X$'s to approximate $a$, $b$, and $c$. What should it be doing with the 100 values it gets for `[a,b,c]` on those 100 draws? Guess approximate values of $a$, $b$, and $c$ before running the code cell."
      ],
      "metadata": {}
    },
    {
      "cell_type": "code",
      "source": [
        "estimate_a_b_c(X, θ)"
      ],
      "outputs": [],
      "execution_count": null,
      "metadata": {}
    },
    {
      "cell_type": "markdown",
      "source": [
        "(g) Finally, we can run the EM algorithm. "
      ],
      "metadata": {}
    },
    {
      "cell_type": "code",
      "source": [
        "q, σ² = em_algorithm(X)"
      ],
      "outputs": [],
      "execution_count": null,
      "metadata": {}
    },
    {
      "cell_type": "markdown",
      "source": [
        "---\n",
        "\n",
        "# Probabilistic Programming"
      ],
      "metadata": {}
    },
    {
      "cell_type": "markdown",
      "source": [
        "Using MCMC to do Bayesian inference can be hard work, as we just saw. But the only thing the user really needs to specify are the priors, the structure of the model, and the sampler (e.g., in the example above, we used a Gibbs sampler with a bit-switching proposal distribution). The rest is calculation, which could in principle be handled internally. \n",
        "\n",
        "**Probabilistic programming** systems seek to automate Bayesian inference by allowing the user to specify model structure in the form of a *program*, choose samplers, and let the computer handle the rest. Here's an example with the data above:"
      ],
      "metadata": {}
    },
    {
      "cell_type": "code",
      "source": [
        "@model HMM(x) = begin\n",
        "    n = length(x)\n",
        "    z = tzeros(Int64, n)\n",
        "    q ~ Uniform(0, 1)\n",
        "    σ² ~ InverseGamma(1e-3, 1e-3)\n",
        "    P = OffsetArray([ q  1-q\n",
        "                     1-q  q ], 0:1, 0:1)\n",
        "    z[1] ~ DiscreteNonParametric(0:1, [0.5, 0.5])\n",
        "    x[1] ~ Normal(z[1], √(σ²))\n",
        "    for i in 2:n\n",
        "        z[i] ~ DiscreteNonParametric(0:1, collect(P[z[i-1],:]))\n",
        "        x[i] ~ Normal(z[i], √(σ²))\n",
        "    end\n",
        "end"
      ],
      "outputs": [
        {
          "output_type": "execute_result",
          "execution_count": 7,
          "data": {
            "text/plain": [
              "HMM (generic function with 2 methods)"
            ]
          },
          "metadata": {}
        }
      ],
      "execution_count": 7,
      "metadata": {}
    },
    {
      "cell_type": "markdown",
      "source": [
        "Next we choose samplers. In practice, Metropolis-Hastings with a naive proposal distribution can be very inefficient because the proposal it suggests often go in directions of much smaller probability density. Hamiltonian Monte Carlo differentiates (usually autodiffs) the density $f$ and uses some fairly advanced mathematical ideas to suggest moves which are much more likely to be in directions where the density isn't way smaller:\n",
        "\n",
        "<img src=\"hmc-figure.svg\">"
      ],
      "metadata": {}
    },
    {
      "cell_type": "markdown",
      "source": [
        "HMC is only appropriate for continuous random variables; other samplers are needed for discrete random variables like $Z_1, \\ldots, Z_n$. We'll use one called **particle Gibbs**, which keeps track of several values for each random variable at the same time. (Each of these values is conceived as a particle; hence the name.) \n",
        "\n",
        "We can combine HMC and PG into the same model by building a Gibbs sampler which uses HMC for the continuous variables and PG for the discrete ones:"
      ],
      "metadata": {}
    },
    {
      "cell_type": "code",
      "source": [
        "# choose parameters for samplers\n",
        "# 0.05 is a step size ϵ, while 10 is n_leapfrog, which we won't get into\n",
        "hmc = HMC(0.05, 10, :q, :σ²)\n",
        "# 20 particles\n",
        "pg = PG(20, :z)\n",
        "G = Gibbs(hmc, pg)\n",
        "\n",
        "chains = sample(HMM(X), G, 10)"
      ],
      "outputs": [],
      "execution_count": null,
      "metadata": {}
    },
    {
      "cell_type": "markdown",
      "source": [
        "Note that the probabilistic programming approach taken here is not the same as the EM approach taken above. Here we are treating $q$ and $\\sigma^2$ as Bayesian quantities to be estimated alongside the $Z$'s. For example, here are the values of $q$ found in the 10 runs sampled above:"
      ],
      "metadata": {}
    },
    {
      "cell_type": "code",
      "source": [
        "get_params(chains)[:q].data"
      ],
      "outputs": [],
      "execution_count": null,
      "metadata": {}
    },
    {
      "cell_type": "code",
      "source": [],
      "outputs": [],
      "execution_count": null,
      "metadata": {}
    }
  ],
  "metadata": {
    "@webio": {
      "lastCommId": "1021404a-f05c-41ad-a202-8108293367a7",
      "lastKernelId": "45f15129-ce4e-4df2-b576-f93302d77951"
    },
    "jupytext": {
      "formats": "ipynb"
    },
    "kernelspec": {
      "name": "julia-1.2",
      "language": "julia",
      "display_name": "Julia 1.2.0"
    },
    "language_info": {
      "file_extension": ".jl",
      "name": "julia",
      "mimetype": "application/julia",
      "version": "1.2.0"
    },
    "kernel_info": {
      "name": "julia-1.2"
    },
    "nteract": {
      "version": "0.15.0"
    }
  },
  "nbformat": 4,
  "nbformat_minor": 4
}