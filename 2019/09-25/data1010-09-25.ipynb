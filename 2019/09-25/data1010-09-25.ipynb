{
  "cells": [
    {
      "cell_type": "markdown",
      "source": [
        "## Conditional Probability\n",
        "\n",
        "#### *25 September 2019*\n",
        "#### *DATA 1010*\n",
        "\n",
        "We continue our review of probability theory. Today's topics include: independence, variance, Bayes' theorem and conditional expectation."
      ],
      "metadata": {}
    },
    {
      "cell_type": "markdown",
      "source": [
        "## Independence and variance  "
      ],
      "metadata": {}
    },
    {
      "cell_type": "markdown",
      "source": [
        "### Problem 1   \n",
        " \n",
        "Suppose that $X_1, \\ldots, X_n$ are independent random variables with the same distribution. Find the mean and variance of \n",
        "$$\\frac{X_1 + \\cdots + X_n}{n}$$"
      ],
      "metadata": {}
    },
    {
      "cell_type": "code",
      "source": [
        "using Distributions\n",
        "mean(rand(Exponential(1), 1000))"
      ],
      "outputs": [],
      "execution_count": null,
      "metadata": {}
    },
    {
      "cell_type": "markdown",
      "source": [
        "---\n",
        "\n",
        "## Bayes' Theorem"
      ],
      "metadata": {}
    },
    {
      "cell_type": "markdown",
      "source": [
        "### Problem 2\n",
        "\n",
        "Assume that the prevalance of a disease in a population is 3%. The *true positive rate* for a pathological test, i.e. the probability of a positive test result for an individual carrying the disease, is 98%. The *false positive rate*, i.e. the probability of a positive test result for an individual without the disease, is 4%. What is the likelihood of an individual having the disease if he/she tested positive twice?\n",
        "\n",
        "*Hint:* Consider the two tests independent."
      ],
      "metadata": {}
    },
    {
      "cell_type": "markdown",
      "source": [
        "---\n",
        "\n",
        "## Conditional expectation "
      ],
      "metadata": {}
    },
    {
      "cell_type": "markdown",
      "source": [
        "<img src=\"cond-discrete.png\" alt=\"p\" width=\"200\" align=right>\n",
        "\n",
        "### Problem 3  \n",
        "  \n",
        "Consider a pair of random variables $X$ and $Y$ with joint distribution $m$, where $m$ is the probability mass function shown. Find the conditional distribution of $Y$ given $X = x$ for each value of $x$.  "
      ],
      "metadata": {}
    },
    {
      "cell_type": "markdown",
      "source": [
        "---\n",
        "\n",
        "<img src=\"cond-exp-4.png\" alt=\"p\" width=\"200\" align=right> \n",
        "\n",
        "### Problem 4\n",
        "\n",
        "Given that $X$ and $Y$ have joint PDF $f(x,y) = \\frac{3}{2}(x^2 +y^2)$ on $[0,1]^2$, find the conditional expectation of $Y$ given $X$.\n",
        "    \n",
        "*Hint:* Begin by sketching an estimate of the conditional expectation on the graph shown."
      ],
      "metadata": {}
    },
    {
      "cell_type": "code",
      "source": [
        "using SymPy\n",
        "@vars x y \n",
        "f_XY = 3(x^2+y^2)/2"
      ],
      "outputs": [],
      "execution_count": null,
      "metadata": {}
    },
    {
      "cell_type": "markdown",
      "source": [
        "---\n",
        "\n",
        "<img src=\"cond-exp-5.png\" alt=\"p\" width=\"250\" align=right>\n",
        "\n",
        "### Problem 5   \n",
        "\n",
        "Given that $X$ and $Y$ have joint PDF shown in the figure, sketch an estimate of the conditional expectation of $Y$ given $X = x$."
      ],
      "metadata": {}
    },
    {
      "cell_type": "markdown",
      "source": [
        "---\n",
        "\n",
        "<img src=\"cond-exp-6.png\" alt=\"p\" width=\"250\" align=right>   \n",
        "\n",
        "### Problem 6   \n",
        "\n",
        "Given that $X$ and $Y$ have joint PDF $f(x,y) = \\frac{9}{5}(1-\\sqrt{xy})$ on $[0,1]^2$, find the conditional expectation of $Y$ given $X$.\n",
        "\n",
        "*Hint:* Begin by sketching an estimate of the conditional expectation on the graph shown."
      ],
      "metadata": {}
    },
    {
      "cell_type": "markdown",
      "source": [
        "---\n",
        "\n",
        "### Challenge Problem\n",
        "\n",
        "Imagine yourself working as a recruiter for a major tech company. You are tasked with finding the best candidate to fill a vacancy in a data scientist role. You have $n$ applicants to interview, one at a time, in a random order. However, you must make acceptance/rejection decisions immediately after each interview. Out of $n$ candidates, how many should you interview, before making an offer? You may assume that all candidates for the positon can be ranked unambigously from best to worst.\n",
        "\n",
        "- *Hint 1:* Consider that if you interview all candidates, then you must hire the last candidate regardless of their rank. Assume that you reject first $r-1$ candidates, and then select the next candidate that performs better than these $r-1$ candidate. Write down probability $\\mathbb{P}(r)$ for this interview policy.\n",
        "- *Hint 2:* Since candidates are randomly ordered, each candidate is equally likely to be the best hire for the role.\n",
        "- *Hint 3:* $\\mathbb{P}(r) = \\sum_{i=1}^n \\mathbb{P}(\\text{candidate i is selected|candidate i is the best})\\times\\mathbb{P}(\\text{candidate i is the best})$\n",
        "- *Hint 4:* You must approximate the sum as an integral to obtain a solution in terms of $r$ and $n$\n",
        "- *Hint 5:* For various values of $n$, find the optimal value of $r$ using Julia\n",
        "- *Hint 6*: Plot $\\mathbb{P}(r)$ vs. $n$ for optimal values of $r$. What do these values converge to? "
      ],
      "metadata": {}
    },
    {
      "cell_type": "code",
      "source": [],
      "outputs": [],
      "execution_count": null,
      "metadata": {}
    }
  ],
  "metadata": {
    "kernel_info": {
      "name": "julia-1.2"
    },
    "kernelspec": {
      "name": "julia-1.2",
      "language": "julia",
      "display_name": "Julia 1.2.0"
    },
    "language_info": {
      "file_extension": ".jl",
      "name": "julia",
      "mimetype": "application/julia",
      "version": "1.2.0"
    },
    "nteract": {
      "version": "0.15.0"
    }
  },
  "nbformat": 4,
  "nbformat_minor": 4
}