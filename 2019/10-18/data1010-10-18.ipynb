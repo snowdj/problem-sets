{
  "cells": [
    {
      "cell_type": "markdown",
      "source": [
        "## Likelihood ratio classification\n",
        "\n",
        "#### *18 October 2019*\n",
        "#### *DATA 1010*\n",
        "\n",
        "Consider a classification problem, wherein we have a probability measure on pairs of the form $(X,Y)$, where $X$ is a vector of features and $Y$ takes values in a finite set of categories. \n",
        "\n",
        "The **Bayes classifier** is the prediction function that minimizes the probability of misclassification. Given an observed feature vector, it returns the classification which is conditionally most probable given that feature vector."
      ],
      "metadata": {}
    },
    {
      "cell_type": "code",
      "source": [
        "using Plots, Distributions, Optim, Roots, LinearAlgebra, Statistics\n",
        "gr(fontfamily = \"Palatino\", size = (400,400))"
      ],
      "outputs": [],
      "execution_count": null,
      "metadata": {}
    },
    {
      "cell_type": "markdown",
      "source": [
        "## Problem 1\n",
        "\n",
        "Suppose that each email is associated with a continuous spam score, and you want to distinguish spam emails from legitimate emails based on this score. Suppose that the spam score of a spam message is normally distributed with mean 21 and standard deviation 3, while the spam score of a legitimate message is normally distributed with mean 12 and standard deviation 2. Suppose further that the proportion of legitimate emails is $p$. \n",
        "\n",
        "For what value of $p$ is the critical spam score value for the Bayes classifier equal to 17? Hint: just take a numerical approach with `find_zero`. "
      ],
      "metadata": {}
    },
    {
      "cell_type": "code",
      "source": [
        "plot(0:0.1:30, x -> 0.8pdf(Normal(21,3),x), fillrange = 0, fillopacity = 0.5, legend = :topleft,\n",
        "     label = \"non-spam\", xlabel = \"spam score\", ylabel = \"density\", size = (600,400))\n",
        "plot!(0:0.1:30, x -> 0.2pdf(Normal(12,2),x), fillrange = 0, fillopacity = 0.5, label = \"spam\")"
      ],
      "outputs": [],
      "execution_count": null,
      "metadata": {}
    },
    {
      "cell_type": "markdown",
      "source": [
        "*Solution*. "
      ],
      "metadata": {}
    },
    {
      "cell_type": "markdown",
      "source": [
        "## Problem 2\n",
        "\n",
        "Continuing with the setup from Problem 1, suppose that the proportion of legimate messages is $p = 20\\%$. \n",
        "\n",
        "If you want to penalize misclassifying a legitimate message as spam 5 times more than misclassifying a spam message as legitimate, what is the critical spam score value for the optimal classifier? Solve this problem in two different ways and show that your answers concur."
      ],
      "metadata": {}
    },
    {
      "cell_type": "markdown",
      "source": [
        "*Solution*. "
      ],
      "metadata": {}
    },
    {
      "cell_type": "code",
      "source": [
        "optimize(x-> weighted_misclassification(first(x)), [15.0], BFGS()).minimizer"
      ],
      "outputs": [],
      "execution_count": null,
      "metadata": {}
    },
    {
      "cell_type": "markdown",
      "source": [
        "--- \n",
        "\n",
        "The classifier you looked at in Problem 2 is an example of what's called a **likelihood ratio classifier** $h_t$: instead of comparing $\\frac{f_{+1}(\\mathbf{x})}{f_{-1}(\\mathbf{x})}$ to $p_{-1}/p_{+1}$, we compare it to some other value $t \\in (0,\\infty)$. We can consider the false alarm rate and detection rates of the $h_t$ to get a curve called the **receiver operating characteristic**. "
      ],
      "metadata": {}
    },
    {
      "cell_type": "markdown",
      "source": [
        "## Problem 3\n"
      ],
      "metadata": {}
    },
    {
      "cell_type": "markdown",
      "source": [
        "Consider the example from Data Gymnasia, where we consider class conditional densities given by unit-variance Gaussian distributions of means 0 and $\\mu > 0$, and where the two classes have equal total mass. "
      ],
      "metadata": {}
    },
    {
      "cell_type": "code",
      "source": [
        "xgrid = -4:0.01:8\n",
        "p = plot()\n",
        "for μ ∈ (1/4, 1, 4)\n",
        "    plot!(p, xgrid, x -> 0.5pdf(Normal(μ,1),x), fillrange = 0, fillopacity = 0.5, label = \"$μ\")\n",
        "end\n",
        "plot!(p, xgrid, x -> 0.5pdf(Normal(0,1),x), fillrange = 0, fillopacity = 0.5, color = :gray, label = \"\")\n",
        "\n",
        "FAR(μ,t) = 1-cdf(Normal(0,1),log(t)/μ + μ/2)\n",
        "DR(μ,t) = 1-cdf(Normal(μ,1),log(t)/μ + μ/2)\n",
        "ROC(μ) = [(FAR(μ,t),DR(μ,t))\n",
        "               for t in exp.(-20:0.1:20)]\n",
        "\n",
        "plot(xlabel = \"false alarm rate\", ylabel = \"detection rate\",\n",
        "     legend = :bottomright, aspect_ratio = 1)\n",
        "for μ ∈ (1/4, 1, 4)\n",
        "    plot!(ROC(μ),label=\"$μ\")\n",
        "end\n",
        "\n",
        "plot(current(), p, size = (1000,400), layout = @layout([a{0.4w} b{0.6w}]))"
      ],
      "outputs": [],
      "execution_count": null,
      "metadata": {}
    },
    {
      "cell_type": "markdown",
      "source": [
        "For $\\mu = 1$, plot the misclassification rate as a function of $t$, and observe that it has a minimum at $t = p_{-1}/p_{+1}$. "
      ],
      "metadata": {}
    },
    {
      "cell_type": "markdown",
      "source": [
        "*Solution*. "
      ],
      "metadata": {}
    },
    {
      "cell_type": "code",
      "source": [
        "function misclassification_probability(t)\n",
        "    \n",
        "end"
      ],
      "outputs": [],
      "execution_count": null,
      "metadata": {}
    },
    {
      "cell_type": "markdown",
      "source": [
        "## Problem 4\n",
        "\n",
        "One important practical point about the ROC is that you can plot an empirical approximation without using density estimations at all. \n",
        "\n",
        "Draw 100 observations from the joint distribution on features and labels in the previous paragraph (equally likely normal distributions with unit variance and means 0 and $\\mu = 2$), and approximate the ROC by finding the empirical detection rate and false alarm rate for various possible threshold feature values."
      ],
      "metadata": {}
    },
    {
      "cell_type": "markdown",
      "source": [
        "*Solution*. "
      ],
      "metadata": {}
    },
    {
      "cell_type": "code",
      "source": [],
      "outputs": [],
      "execution_count": null,
      "metadata": {}
    }
  ],
  "metadata": {
    "kernelspec": {
      "name": "julia-1.2",
      "language": "julia",
      "display_name": "Julia 1.2.0"
    },
    "language_info": {
      "file_extension": ".jl",
      "name": "julia",
      "mimetype": "application/julia",
      "version": "1.2.0"
    },
    "kernel_info": {
      "name": "julia-1.2"
    },
    "nteract": {
      "version": "0.15.0"
    }
  },
  "nbformat": 4,
  "nbformat_minor": 4
}