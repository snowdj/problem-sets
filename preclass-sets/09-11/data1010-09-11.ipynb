{
 "cells": [
  {
   "cell_type": "code",
   "execution_count": 1,
   "metadata": {
    "Collapsed": "false"
   },
   "outputs": [
    {
     "name": "stderr",
     "output_type": "stream",
     "text": [
      "\u001b[32m\u001b[1m Activating\u001b[22m\u001b[39m environment at `~/GitHub/problem-sets-1010/class-sets/09-09/Project.toml`\n"
     ]
    }
   ],
   "source": [
    "using Pkg; Pkg.activate(\".\")"
   ]
  },
  {
   "cell_type": "markdown",
   "metadata": {
    "Collapsed": "false"
   },
   "source": [
    "## Introduction to Programming in Julia\n",
    "\n",
    "#### *11 September 2020*\n",
    "#### *DATA 1010*\n",
    "\n",
    "Today we will practice programming in Julia. If you are already familiar with Python, R, or MATLAB, you are likely to find Julia to be familiar. The primary distinction between Julia and those languages is that your code is compiled down to machine code behind the scenes, rather than being run in an interpreter. This has major implications for performance:"
   ]
  },
  {
   "cell_type": "code",
   "execution_count": 2,
   "metadata": {
    "Collapsed": "false"
   },
   "outputs": [
    {
     "data": {
      "text/plain": [
       "harmonic"
      ]
     },
     "execution_count": 2,
     "metadata": {},
     "output_type": "execute_result"
    }
   ],
   "source": [
    "\"\"\"\n",
    "Calculate the nth term Σₖ₌₁ⁿ(1/k) of the harmonic series\n",
    "\"\"\"\n",
    "function harmonic(n)\n",
    "    s = 0.0\n",
    "    for k in 1:n\n",
    "        s += 1/k\n",
    "    end\n",
    "    s\n",
    "end"
   ]
  },
  {
   "cell_type": "code",
   "execution_count": 3,
   "metadata": {
    "Collapsed": "false"
   },
   "outputs": [
    {
     "name": "stdout",
     "output_type": "stream",
     "text": [
      "  0.095528 seconds\n"
     ]
    },
    {
     "data": {
      "text/plain": [
       "18.997896413852555"
      ]
     },
     "execution_count": 3,
     "metadata": {},
     "output_type": "execute_result"
    }
   ],
   "source": [
    "@time harmonic(10^8)"
   ]
  },
  {
   "cell_type": "markdown",
   "metadata": {
    "Collapsed": "false"
   },
   "source": [
    "`@time` is an example of a **macro** in Julia. It allows us flexibility to do things with code other than just running it. You mostly won't need to think about the details of macros, but you will have occasion to use them.\n",
    "\n",
    "Let's compare to Python. We can run Python in a Julia notebook using triple-quoted or single-quoted strings with `py` prefixed. "
   ]
  },
  {
   "cell_type": "code",
   "execution_count": 4,
   "metadata": {
    "Collapsed": "false"
   },
   "outputs": [
    {
     "name": "stdout",
     "output_type": "stream",
     "text": [
      "  4.927401 seconds (3.34 k allocations: 172.670 KiB)\n"
     ]
    },
    {
     "data": {
      "text/plain": [
       "18.997896413852555"
      ]
     },
     "execution_count": 4,
     "metadata": {},
     "output_type": "execute_result"
    }
   ],
   "source": [
    "using PyCall\n",
    "py\"\"\"\n",
    "def harmonic(n):\n",
    "    s = 0.0\n",
    "    for k in range(1,n+1):\n",
    "        s += 1/k\n",
    "    return s\n",
    "\"\"\"\n",
    "@time py\"harmonic(10**8)\""
   ]
  },
  {
   "cell_type": "markdown",
   "metadata": {
    "Collapsed": "false"
   },
   "source": [
    "We can see the exact instructions being handed to the CPU for execution when we call a Julia function with `@code_native`. It isn't really readable, but the point is that there aren't many instructions. The amount of code involved in evaluating the analogous Python code is vastly larger."
   ]
  },
  {
   "cell_type": "code",
   "execution_count": 5,
   "metadata": {
    "Collapsed": "false",
    "collapsed": true,
    "jupyter": {
     "outputs_hidden": true
    }
   },
   "outputs": [
    {
     "name": "stdout",
     "output_type": "stream",
     "text": [
      "\t.section\t__TEXT,__text,regular,pure_instructions\n",
      "; ┌ @ In[2]:6 within `harmonic'\n",
      "; │┌ @ range.jl:5 within `Colon'\n",
      "; ││┌ @ range.jl:280 within `UnitRange'\n",
      "; │││┌ @ range.jl:285 within `unitrange_last'\n",
      "; ││││┌ @ operators.jl:350 within `>='\n",
      "; │││││┌ @ int.jl:441 within `<='\n",
      "\ttestq\t%rdi, %rdi\n",
      "; │└└└└└\n",
      "\tjle\tL79\n",
      "\tmovq\t%rdi, %rax\n",
      "\tsarq\t$63, %rax\n",
      "\tandnq\t%rdi, %rax, %rax\n",
      "; │ @ In[2]:7 within `harmonic'\n",
      "\tnegq\t%rax\n",
      "\tmovl\t$1, %ecx\n",
      "\tvxorpd\t%xmm0, %xmm0, %xmm0\n",
      "\tmovabsq\t$5336010080, %rdx       ## imm = 0x13E0D0D60\n",
      "\tvmovsd\t(%rdx), %xmm1           ## xmm1 = mem[0],zero\n",
      "\tnopl\t(%rax,%rax)\n",
      "; │┌ @ int.jl:92 within `/'\n",
      "; ││┌ @ float.jl:277 within `float'\n",
      "; │││┌ @ float.jl:262 within `AbstractFloat'\n",
      "; ││││┌ @ float.jl:60 within `Float64'\n",
      "L48:\n",
      "\tvcvtsi2sd\t%rcx, %xmm3, %xmm2\n",
      "; ││└└└\n",
      "; ││ @ int.jl:92 within `/' @ float.jl:407\n",
      "\tvdivsd\t%xmm2, %xmm1, %xmm2\n",
      "; │└\n",
      "; │┌ @ float.jl:401 within `+'\n",
      "\tvaddsd\t%xmm2, %xmm0, %xmm0\n",
      "; │└\n",
      "; │┌ @ range.jl:624 within `iterate'\n",
      "; ││┌ @ promotion.jl:398 within `=='\n",
      "\tleaq\t(%rax,%rcx), %rdx\n",
      "\taddq\t$1, %rdx\n",
      "; ││└\n",
      "\tincq\t%rcx\n",
      "; ││┌ @ promotion.jl:398 within `=='\n",
      "\tcmpq\t$1, %rdx\n",
      "; │└└\n",
      "\tjne\tL48\n",
      "; │ @ In[2]:9 within `harmonic'\n",
      "\tretq\n",
      "L79:\n",
      "\tvxorps\t%xmm0, %xmm0, %xmm0\n",
      "; │ @ In[2]:9 within `harmonic'\n",
      "\tretq\n",
      "\tnopw\t%cs:(%rax,%rax)\n",
      "\tnop\n",
      "; └\n"
     ]
    }
   ],
   "source": [
    "@code_native harmonic(10^8)"
   ]
  },
  {
   "cell_type": "markdown",
   "metadata": {
    "Collapsed": "false"
   },
   "source": [
    "The flip side of Julia's compilation is that a lot of work sometimes has to happen when packages are being loaded or when functions are being run for the first time. You should expect Python and R to be snappier when you're first loading up your session and you aren't doing anything heavy duty."
   ]
  },
  {
   "cell_type": "markdown",
   "metadata": {
    "Collapsed": "false"
   },
   "source": [
    "---\n",
    "\n",
    "## Exercises\n",
    "\n",
    "To make it easier to remember differences in syntax and common function names between Python and Julia, I recommend keeping a window open with the Julia-Python-R [cheatsheet](https://data1010.github.io/docs/cheatsheets/jpr-cheatsheet.pdf) (also linked from the course website). \n",
    "\n",
    "**Exercise 1**. Write a function with a single parameter `n` which outputs an `n × n` matrix like the one shown. (The cupcake ensemble was made for the famous mathematician and linear algebra educator [Gilbert Strang](http://www-math.mit.edu/~gs/)). "
   ]
  },
  {
   "cell_type": "markdown",
   "metadata": {
    "Collapsed": "false"
   },
   "source": [
    "![Tridiagonal matrix](cupcakes.png)"
   ]
  },
  {
   "cell_type": "markdown",
   "metadata": {
    "Collapsed": "false"
   },
   "source": [
    "**Solution**."
   ]
  },
  {
   "cell_type": "markdown",
   "metadata": {
    "Collapsed": "false"
   },
   "source": [
    "---\n",
    "\n",
    "**Exercise 2: Eigenvectors**. Consider a random symmetric $n \\times n$ matrix $A$ defined by\n",
    "\n",
    "```julia\n",
    "    n = 10\n",
    "    A = zeros(n,n)\n",
    "    for i=1:n\n",
    "        for j=1:i\n",
    "            A[i,j] = rand() # returns a Unif([0,1])\n",
    "            A[j,i] = A[i,j]\n",
    "        end\n",
    "    end\n",
    "```\n",
    "\n",
    "and define $\\mathbf{v}_0 = [1,0,\\ldots,0] \\in \\mathbb{R}^n$. For $k \\geq 0$, define $\\mathbf{v}_{k+1} = \\frac{A\\mathbf{v}_{k}}{|A\\mathbf{v}_{k}|}$. Then as $k\\to\\infty$,  $\\mathbf{v}_k$ converges to the eigenvector with the eigenvalue which is largest in absolute value.\n",
    "\n",
    "Implement this algorithm in Julia and compare the eigenvector you find to the ones returned by Julia's `eigen` function. "
   ]
  },
  {
   "cell_type": "markdown",
   "metadata": {
    "Collapsed": "false"
   },
   "source": [
    "**Solution.**"
   ]
  },
  {
   "cell_type": "markdown",
   "metadata": {
    "Collapsed": "false"
   },
   "source": [
    "---\n",
    "\n",
    "### Pointwise operations (broadcasting)\n",
    "In NumPy, operations are pointwise by default:"
   ]
  },
  {
   "cell_type": "code",
   "execution_count": 6,
   "metadata": {
    "Collapsed": "false"
   },
   "outputs": [
    {
     "data": {
      "text/plain": [
       "2×2 Array{Int64,2}:\n",
       " 1   4\n",
       " 9  16"
      ]
     },
     "execution_count": 6,
     "metadata": {},
     "output_type": "execute_result"
    }
   ],
   "source": [
    "py\"\"\"\n",
    "import numpy as np\n",
    "A = np.array([[1,2],[3,4]])\n",
    "\"\"\"\n",
    "py\"A*A\""
   ]
  },
  {
   "cell_type": "markdown",
   "metadata": {
    "Collapsed": "false"
   },
   "source": [
    "In Julia, operations correspond to their mathematical meaning by default, while pointwise operations are indicated with a dot:"
   ]
  },
  {
   "cell_type": "code",
   "execution_count": 7,
   "metadata": {
    "Collapsed": "false"
   },
   "outputs": [
    {
     "data": {
      "text/plain": [
       "2×2 Array{Int64,2}:\n",
       " 1   4\n",
       " 9  16"
      ]
     },
     "execution_count": 7,
     "metadata": {},
     "output_type": "execute_result"
    }
   ],
   "source": [
    "A = [1 2\n",
    "     3 4]\n",
    "A .* A"
   ]
  },
  {
   "cell_type": "markdown",
   "metadata": {
    "Collapsed": "false"
   },
   "source": [
    "The same is true for function application: `f.([1,2,3])` is essentially equivalent to `[f(1),f(2),f(3)]`.\n",
    "\n",
    "**Exercise 3**. Plot the function $f(x) = \\sin^2(x) + 1$ over the interval $[0,2\\pi]$ by applying $f$ to each element of the array `x`. Complete the lines below and uncomment them."
   ]
  },
  {
   "cell_type": "markdown",
   "metadata": {
    "Collapsed": "false"
   },
   "source": [
    "**Solution.**"
   ]
  },
  {
   "cell_type": "code",
   "execution_count": 8,
   "metadata": {
    "Collapsed": "false",
    "lines_to_next_cell": 2
   },
   "outputs": [
    {
     "name": "stderr",
     "output_type": "stream",
     "text": [
      "┌ Info: Precompiling Plots [91a5bcdd-55d7-5caf-9e0b-520d859cae80]\n",
      "└ @ Base loading.jl:1278\n"
     ]
    },
    {
     "data": {
      "text/plain": [
       "0.0:0.06346651825433926:6.283185307179586"
      ]
     },
     "execution_count": 8,
     "metadata": {},
     "output_type": "execute_result"
    }
   ],
   "source": [
    "using Plots\n",
    "x = range(0, 2π, length=100)\n",
    "#y = \n",
    "#plot(x,y, legend=false)"
   ]
  },
  {
   "cell_type": "markdown",
   "metadata": {
    "Collapsed": "false"
   },
   "source": [
    "---\n",
    "\n",
    "### Multiple dispatch\n",
    "\n",
    "In math, we frequently re-use the same notation for different operations. For example, $2\\cdot 3$ is real-number multiplication, while $\\mathbf{v} \\cdot \\mathbf{w}$ probably refers to a vector dot product. \n",
    "\n",
    "In Julia, we can do the same thing:"
   ]
  },
  {
   "cell_type": "code",
   "execution_count": 9,
   "metadata": {
    "Collapsed": "false"
   },
   "outputs": [
    {
     "data": {
      "text/plain": [
       "mydot (generic function with 2 methods)"
      ]
     },
     "execution_count": 9,
     "metadata": {},
     "output_type": "execute_result"
    }
   ],
   "source": [
    "mydot(a::Real, b::Real) = a * b\n",
    "mydot(v::Vector, w::Vector) = sum([a*b for (a,b) in zip(v,w)])"
   ]
  },
  {
   "cell_type": "code",
   "execution_count": 10,
   "metadata": {
    "Collapsed": "false"
   },
   "outputs": [
    {
     "data": {
      "text/plain": [
       "6"
      ]
     },
     "execution_count": 10,
     "metadata": {},
     "output_type": "execute_result"
    }
   ],
   "source": [
    "mydot(2,3)"
   ]
  },
  {
   "cell_type": "code",
   "execution_count": 11,
   "metadata": {
    "Collapsed": "false"
   },
   "outputs": [
    {
     "data": {
      "text/plain": [
       "32"
      ]
     },
     "execution_count": 11,
     "metadata": {},
     "output_type": "execute_result"
    }
   ],
   "source": [
    "mydot([1,2,3],[4,5,6])"
   ]
  },
  {
   "cell_type": "markdown",
   "metadata": {
    "Collapsed": "false"
   },
   "source": [
    "This feature of Julia is called **multiple dispatch**. If you're looking for more video content for evening entertainment, there's an [excellent half-hour discussion](https://www.youtube.com/watch?v=kc9HwsxE1OY) of how multiple dispatch is key to Julia's success and how it compares to the design patterns would would use instead in Python.\n",
    "\n",
    "You can define your own types in Julia (the type annotations are optional) like so: \n",
    "\n",
    "```julia\n",
    "struct Line\n",
    "    slope::Real\n",
    "    intercept::Real\n",
    "end\n",
    "\n",
    "L = Line(1,2) # represents the line y = x + 2\n",
    "L.slope # returns 1.0\n",
    "L.intercept # returns 2.0\n",
    "```"
   ]
  },
  {
   "cell_type": "markdown",
   "metadata": {
    "Collapsed": "false"
   },
   "source": [
    "**Exercise 4**. Write a function `intersect` which returns the intersection point of two `Line` objects."
   ]
  },
  {
   "cell_type": "code",
   "execution_count": 12,
   "metadata": {
    "Collapsed": "false"
   },
   "outputs": [
    {
     "data": {
      "text/plain": [
       "intersection (generic function with 1 method)"
      ]
     },
     "execution_count": 12,
     "metadata": {},
     "output_type": "execute_result"
    }
   ],
   "source": [
    "struct Line\n",
    "    slope::Real\n",
    "    intercept::Real\n",
    "end\n",
    "\n",
    "function intersection(L::Line,M::Line)\n",
    "    # add code here\n",
    "end\n",
    "\n",
    "using Test\n",
    "@test intersection(Line(1,1),Line(-1,2)) == (1,1)"
   ]
  },
  {
   "cell_type": "markdown",
   "metadata": {
    "Collapsed": "false"
   },
   "source": [
    "---\n",
    "\n",
    "### Plotting\n",
    "\n",
    "**Exercise 5**. Approximately reproduce the figure below. \n",
    "\n",
    "Hint 1: check out the [Plots.jl cheatsheet](https://data1010.github.io/docs/cheatsheets/plotsjl-cheatsheet.pdf) to figure out what kind of visualization we're looking at.  \n",
    "Hint 2: the data you want to pass are x (a vector of x values), `y` (a vector of y values) and `z` (a *two*-dimensional array). To make a 2D array, use the two-dimensional array comprehension; e.g. `[f(x,y) for x in 1:10, y in 1:10]` returns a 100-entry matrix whose $(x,y)$ entry is $f(x,y)$."
   ]
  },
  {
   "cell_type": "code",
   "execution_count": null,
   "metadata": {
    "Collapsed": "false"
   },
   "outputs": [],
   "source": []
  },
  {
   "cell_type": "markdown",
   "metadata": {
    "Collapsed": "false"
   },
   "source": [
    "![](heatmap.svg)"
   ]
  },
  {
   "cell_type": "markdown",
   "metadata": {
    "Collapsed": "false"
   },
   "source": [
    "---\n",
    "\n",
    "**Exercise 6** (challenge problem). A *fixed point* of a function $f$ is a domain element $x$ satisfying $f(x) = x$. Banach's **fixed point theorem** says that if $f$ satisfies the property that for some $K < 1$, we have $|f(x) - f(y)| \\leq K |x-y|$ for all $x$ and $y$ in the domain of $f$, then $f$ has a unique fixed point. Furthermore, this fixed point is the limit of the sequence $x_0$, $f(x_0)$, $f(f(x_0))$, $f(f(f(x_0)))\\ldots$. \n",
    "\n",
    "Devise a scheme for using the fixed point theorem to solve the matrix equation $A\\mathbf{x} = \\mathbf{b}$ for $\\mathbf{x}$, where $A$ is a matrix, subject to constraints that you may stipulate, and $\\mathbf{b}$ is a vector."
   ]
  },
  {
   "cell_type": "code",
   "execution_count": null,
   "metadata": {
    "Collapsed": "false"
   },
   "outputs": [],
   "source": []
  }
 ],
 "metadata": {
  "jupytext": {
   "formats": "ipynb,md"
  },
  "kernel_info": {
   "name": "julia-1.1"
  },
  "kernelspec": {
   "display_name": "Julia 1.5.1",
   "language": "julia",
   "name": "julia-1.5"
  },
  "language_info": {
   "file_extension": ".jl",
   "mimetype": "application/julia",
   "name": "julia",
   "version": "1.5.1"
  },
  "nteract": {
   "version": "0.25.0"
  }
 },
 "nbformat": 4,
 "nbformat_minor": 4
}
