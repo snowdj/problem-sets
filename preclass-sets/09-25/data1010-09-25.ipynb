{
 "cells": [
  {
   "cell_type": "markdown",
   "metadata": {},
   "source": [
    "## Pseudorandom numbers and Automatic differentiation\n",
    "\n",
    "#### *25 September 2020*\n",
    "#### *DATA 1010*"
   ]
  },
  {
   "cell_type": "markdown",
   "metadata": {},
   "source": [
    "## Pseudorandom numbers\n",
    "\n",
    "### Problem 1 \n",
    "\n",
    "Consider the sequence $\\{\\mathrm{mod}(3\\cdot2^n,11)\\}_{n=1}^{100}$. Use Julia to show that each number from 1 to 10 appears exactly 10 times in this sequence. Also, use Julia to show that $a_{2k}$ is smaller than $a_{2k-1}$ for far more than half the values of $k$ from 1 to 50. Hint: `countmap(a)` tells you how many times each element in the collection `a` appears. To use this function, do `using StatsBase` first.\n",
    "\n",
    "Repeat these tests on the sequence whose $k$th term is the $k$th digit in the decimal representation of $\\pi$: `reverse(digits(floor(BigInt,big(10)^99*pi)))`. "
   ]
  },
  {
   "cell_type": "code",
   "execution_count": 20,
   "metadata": {},
   "outputs": [
    {
     "data": {
      "text/plain": [
       "27"
      ]
     },
     "execution_count": 20,
     "metadata": {},
     "output_type": "execute_result"
    }
   ],
   "source": [
    "using StatsBase\n",
    "a = [6]\n",
    "for _ in 2:100\n",
    "    push!(a, mod(2a[end],11))\n",
    "end\n",
    "countmap(a)\n",
    "sum(a[2i] == a[2i-1] for i = 1:length(a)÷2)\n",
    "a = rand(1:10,100)\n",
    "sum(a[2i] < a[2i-1] for i = 1:length(a)÷2)"
   ]
  },
  {
   "cell_type": "markdown",
   "metadata": {},
   "source": [
    "---\n",
    "\n",
    "### Problem 2\n",
    "\n",
    "Let $\\phi = (1+\\sqrt{5})/2$ be the golden ratio, and recall that the *fractional part* of a number $x$ is the difference between $x$ and the greatest integer less than or equal to $x$. Show that the sequence whose $k$th term is the fractional part of $\\phi^k$ does not work well as a $\\mathrm{Uniform}([0,1])$ pseudorandom number generator. "
   ]
  },
  {
   "cell_type": "code",
   "execution_count": 28,
   "metadata": {},
   "outputs": [
    {
     "data": {
      "image/svg+xml": [
       "<?xml version=\"1.0\" encoding=\"utf-8\"?>\n",
       "<svg xmlns=\"http://www.w3.org/2000/svg\" xmlns:xlink=\"http://www.w3.org/1999/xlink\" width=\"600\" height=\"400\" viewBox=\"0 0 2400 1600\">\n",
       "<defs>\n",
       "  <clipPath id=\"clip9600\">\n",
       "    <rect x=\"0\" y=\"0\" width=\"2400\" height=\"1600\"/>\n",
       "  </clipPath>\n",
       "</defs>\n",
       "<polygon clip-path=\"url(#clip9600)\" points=\"\n",
       "0,1600 2400,1600 2400,0 0,0 \n",
       "  \" fill=\"#ffffff\" fill-rule=\"evenodd\" fill-opacity=\"1\"/>\n",
       "<defs>\n",
       "  <clipPath id=\"clip9601\">\n",
       "    <rect x=\"480\" y=\"0\" width=\"1681\" height=\"1600\"/>\n",
       "  </clipPath>\n",
       "</defs>\n",
       "<polygon clip-path=\"url(#clip9600)\" points=\"\n",
       "140.517,1487.47 2352.76,1487.47 2352.76,47.2441 140.517,47.2441 \n",
       "  \" fill=\"#ffffff\" fill-rule=\"evenodd\" fill-opacity=\"1\"/>\n",
       "<defs>\n",
       "  <clipPath id=\"clip9602\">\n",
       "    <rect x=\"140\" y=\"47\" width=\"2213\" height=\"1441\"/>\n",
       "  </clipPath>\n",
       "</defs>\n",
       "<polyline clip-path=\"url(#clip9602)\" style=\"stroke:#000000; stroke-width:2; stroke-opacity:0.1; fill:none\" points=\"\n",
       "  262.194,1487.47 262.194,47.2441 \n",
       "  \"/>\n",
       "<polyline clip-path=\"url(#clip9602)\" style=\"stroke:#000000; stroke-width:2; stroke-opacity:0.1; fill:none\" points=\"\n",
       "  754.415,1487.47 754.415,47.2441 \n",
       "  \"/>\n",
       "<polyline clip-path=\"url(#clip9602)\" style=\"stroke:#000000; stroke-width:2; stroke-opacity:0.1; fill:none\" points=\"\n",
       "  1246.64,1487.47 1246.64,47.2441 \n",
       "  \"/>\n",
       "<polyline clip-path=\"url(#clip9602)\" style=\"stroke:#000000; stroke-width:2; stroke-opacity:0.1; fill:none\" points=\"\n",
       "  1738.86,1487.47 1738.86,47.2441 \n",
       "  \"/>\n",
       "<polyline clip-path=\"url(#clip9602)\" style=\"stroke:#000000; stroke-width:2; stroke-opacity:0.1; fill:none\" points=\"\n",
       "  2231.08,1487.47 2231.08,47.2441 \n",
       "  \"/>\n",
       "<polyline clip-path=\"url(#clip9602)\" style=\"stroke:#000000; stroke-width:2; stroke-opacity:0.1; fill:none\" points=\"\n",
       "  140.517,1446.71 2352.76,1446.71 \n",
       "  \"/>\n",
       "<polyline clip-path=\"url(#clip9602)\" style=\"stroke:#000000; stroke-width:2; stroke-opacity:0.1; fill:none\" points=\"\n",
       "  140.517,1047.09 2352.76,1047.09 \n",
       "  \"/>\n",
       "<polyline clip-path=\"url(#clip9602)\" style=\"stroke:#000000; stroke-width:2; stroke-opacity:0.1; fill:none\" points=\"\n",
       "  140.517,647.473 2352.76,647.473 \n",
       "  \"/>\n",
       "<polyline clip-path=\"url(#clip9602)\" style=\"stroke:#000000; stroke-width:2; stroke-opacity:0.1; fill:none\" points=\"\n",
       "  140.517,247.853 2352.76,247.853 \n",
       "  \"/>\n",
       "<polyline clip-path=\"url(#clip9600)\" style=\"stroke:#000000; stroke-width:4; stroke-opacity:1; fill:none\" points=\"\n",
       "  140.517,1487.47 2352.76,1487.47 \n",
       "  \"/>\n",
       "<polyline clip-path=\"url(#clip9600)\" style=\"stroke:#000000; stroke-width:4; stroke-opacity:1; fill:none\" points=\"\n",
       "  140.517,1487.47 140.517,47.2441 \n",
       "  \"/>\n",
       "<polyline clip-path=\"url(#clip9600)\" style=\"stroke:#000000; stroke-width:4; stroke-opacity:1; fill:none\" points=\"\n",
       "  262.194,1487.47 262.194,1465.87 \n",
       "  \"/>\n",
       "<polyline clip-path=\"url(#clip9600)\" style=\"stroke:#000000; stroke-width:4; stroke-opacity:1; fill:none\" points=\"\n",
       "  754.415,1487.47 754.415,1465.87 \n",
       "  \"/>\n",
       "<polyline clip-path=\"url(#clip9600)\" style=\"stroke:#000000; stroke-width:4; stroke-opacity:1; fill:none\" points=\"\n",
       "  1246.64,1487.47 1246.64,1465.87 \n",
       "  \"/>\n",
       "<polyline clip-path=\"url(#clip9600)\" style=\"stroke:#000000; stroke-width:4; stroke-opacity:1; fill:none\" points=\"\n",
       "  1738.86,1487.47 1738.86,1465.87 \n",
       "  \"/>\n",
       "<polyline clip-path=\"url(#clip9600)\" style=\"stroke:#000000; stroke-width:4; stroke-opacity:1; fill:none\" points=\"\n",
       "  2231.08,1487.47 2231.08,1465.87 \n",
       "  \"/>\n",
       "<polyline clip-path=\"url(#clip9600)\" style=\"stroke:#000000; stroke-width:4; stroke-opacity:1; fill:none\" points=\"\n",
       "  140.517,1446.71 173.7,1446.71 \n",
       "  \"/>\n",
       "<polyline clip-path=\"url(#clip9600)\" style=\"stroke:#000000; stroke-width:4; stroke-opacity:1; fill:none\" points=\"\n",
       "  140.517,1047.09 173.7,1047.09 \n",
       "  \"/>\n",
       "<polyline clip-path=\"url(#clip9600)\" style=\"stroke:#000000; stroke-width:4; stroke-opacity:1; fill:none\" points=\"\n",
       "  140.517,647.473 173.7,647.473 \n",
       "  \"/>\n",
       "<polyline clip-path=\"url(#clip9600)\" style=\"stroke:#000000; stroke-width:4; stroke-opacity:1; fill:none\" points=\"\n",
       "  140.517,247.853 173.7,247.853 \n",
       "  \"/>\n",
       "<g clip-path=\"url(#clip9600)\">\n",
       "<text style=\"fill:#000000; fill-opacity:1; font-family:Arial,Helvetica Neue,Helvetica,sans-serif; font-size:48px; text-anchor:middle;\" transform=\"rotate(0, 262.194, 1541.47)\" x=\"262.194\" y=\"1541.47\">0.00</text>\n",
       "</g>\n",
       "<g clip-path=\"url(#clip9600)\">\n",
       "<text style=\"fill:#000000; fill-opacity:1; font-family:Arial,Helvetica Neue,Helvetica,sans-serif; font-size:48px; text-anchor:middle;\" transform=\"rotate(0, 754.415, 1541.47)\" x=\"754.415\" y=\"1541.47\">0.25</text>\n",
       "</g>\n",
       "<g clip-path=\"url(#clip9600)\">\n",
       "<text style=\"fill:#000000; fill-opacity:1; font-family:Arial,Helvetica Neue,Helvetica,sans-serif; font-size:48px; text-anchor:middle;\" transform=\"rotate(0, 1246.64, 1541.47)\" x=\"1246.64\" y=\"1541.47\">0.50</text>\n",
       "</g>\n",
       "<g clip-path=\"url(#clip9600)\">\n",
       "<text style=\"fill:#000000; fill-opacity:1; font-family:Arial,Helvetica Neue,Helvetica,sans-serif; font-size:48px; text-anchor:middle;\" transform=\"rotate(0, 1738.86, 1541.47)\" x=\"1738.86\" y=\"1541.47\">0.75</text>\n",
       "</g>\n",
       "<g clip-path=\"url(#clip9600)\">\n",
       "<text style=\"fill:#000000; fill-opacity:1; font-family:Arial,Helvetica Neue,Helvetica,sans-serif; font-size:48px; text-anchor:middle;\" transform=\"rotate(0, 2231.08, 1541.47)\" x=\"2231.08\" y=\"1541.47\">1.00</text>\n",
       "</g>\n",
       "<g clip-path=\"url(#clip9600)\">\n",
       "<text style=\"fill:#000000; fill-opacity:1; font-family:Arial,Helvetica Neue,Helvetica,sans-serif; font-size:48px; text-anchor:end;\" transform=\"rotate(0, 116.517, 1464.21)\" x=\"116.517\" y=\"1464.21\">0</text>\n",
       "</g>\n",
       "<g clip-path=\"url(#clip9600)\">\n",
       "<text style=\"fill:#000000; fill-opacity:1; font-family:Arial,Helvetica Neue,Helvetica,sans-serif; font-size:48px; text-anchor:end;\" transform=\"rotate(0, 116.517, 1064.59)\" x=\"116.517\" y=\"1064.59\">10</text>\n",
       "</g>\n",
       "<g clip-path=\"url(#clip9600)\">\n",
       "<text style=\"fill:#000000; fill-opacity:1; font-family:Arial,Helvetica Neue,Helvetica,sans-serif; font-size:48px; text-anchor:end;\" transform=\"rotate(0, 116.517, 664.973)\" x=\"116.517\" y=\"664.973\">20</text>\n",
       "</g>\n",
       "<g clip-path=\"url(#clip9600)\">\n",
       "<text style=\"fill:#000000; fill-opacity:1; font-family:Arial,Helvetica Neue,Helvetica,sans-serif; font-size:48px; text-anchor:end;\" transform=\"rotate(0, 116.517, 265.353)\" x=\"116.517\" y=\"265.353\">30</text>\n",
       "</g>\n",
       "<polygon clip-path=\"url(#clip9602)\" points=\"\n",
       "262.194,327.777 262.194,1446.71 459.082,1446.71 459.082,327.777 262.194,327.777 262.194,327.777 \n",
       "  \" fill=\"#009af9\" fill-rule=\"evenodd\" fill-opacity=\"1\"/>\n",
       "<polyline clip-path=\"url(#clip9602)\" style=\"stroke:#000000; stroke-width:4; stroke-opacity:1; fill:none\" points=\"\n",
       "  262.194,327.777 262.194,1446.71 459.082,1446.71 459.082,327.777 262.194,327.777 \n",
       "  \"/>\n",
       "<polygon clip-path=\"url(#clip9602)\" points=\"\n",
       "459.082,327.777 459.082,1446.71 655.971,1446.71 655.971,327.777 459.082,327.777 459.082,327.777 \n",
       "  \" fill=\"#009af9\" fill-rule=\"evenodd\" fill-opacity=\"1\"/>\n",
       "<polyline clip-path=\"url(#clip9602)\" style=\"stroke:#000000; stroke-width:4; stroke-opacity:1; fill:none\" points=\"\n",
       "  459.082,327.777 459.082,1446.71 655.971,1446.71 655.971,327.777 459.082,327.777 \n",
       "  \"/>\n",
       "<polygon clip-path=\"url(#clip9602)\" points=\"\n",
       "655.971,167.929 655.971,1446.71 852.859,1446.71 852.859,167.929 655.971,167.929 655.971,167.929 \n",
       "  \" fill=\"#009af9\" fill-rule=\"evenodd\" fill-opacity=\"1\"/>\n",
       "<polyline clip-path=\"url(#clip9602)\" style=\"stroke:#000000; stroke-width:4; stroke-opacity:1; fill:none\" points=\"\n",
       "  655.971,167.929 655.971,1446.71 852.859,1446.71 852.859,167.929 655.971,167.929 \n",
       "  \"/>\n",
       "<polygon clip-path=\"url(#clip9602)\" points=\"\n",
       "852.859,167.929 852.859,1446.71 1049.75,1446.71 1049.75,167.929 852.859,167.929 852.859,167.929 \n",
       "  \" fill=\"#009af9\" fill-rule=\"evenodd\" fill-opacity=\"1\"/>\n",
       "<polyline clip-path=\"url(#clip9602)\" style=\"stroke:#000000; stroke-width:4; stroke-opacity:1; fill:none\" points=\"\n",
       "  852.859,167.929 852.859,1446.71 1049.75,1446.71 1049.75,167.929 852.859,167.929 \n",
       "  \"/>\n",
       "<polygon clip-path=\"url(#clip9602)\" points=\"\n",
       "1049.75,327.777 1049.75,1446.71 1246.64,1446.71 1246.64,327.777 1049.75,327.777 1049.75,327.777 \n",
       "  \" fill=\"#009af9\" fill-rule=\"evenodd\" fill-opacity=\"1\"/>\n",
       "<polyline clip-path=\"url(#clip9602)\" style=\"stroke:#000000; stroke-width:4; stroke-opacity:1; fill:none\" points=\"\n",
       "  1049.75,327.777 1049.75,1446.71 1246.64,1446.71 1246.64,327.777 1049.75,327.777 \n",
       "  \"/>\n",
       "<polygon clip-path=\"url(#clip9602)\" points=\"\n",
       "1246.64,247.853 1246.64,1446.71 1443.52,1446.71 1443.52,247.853 1246.64,247.853 1246.64,247.853 \n",
       "  \" fill=\"#009af9\" fill-rule=\"evenodd\" fill-opacity=\"1\"/>\n",
       "<polyline clip-path=\"url(#clip9602)\" style=\"stroke:#000000; stroke-width:4; stroke-opacity:1; fill:none\" points=\"\n",
       "  1246.64,247.853 1246.64,1446.71 1443.52,1446.71 1443.52,247.853 1246.64,247.853 \n",
       "  \"/>\n",
       "<polygon clip-path=\"url(#clip9602)\" points=\"\n",
       "1443.52,127.967 1443.52,1446.71 1640.41,1446.71 1640.41,127.967 1443.52,127.967 1443.52,127.967 \n",
       "  \" fill=\"#009af9\" fill-rule=\"evenodd\" fill-opacity=\"1\"/>\n",
       "<polyline clip-path=\"url(#clip9602)\" style=\"stroke:#000000; stroke-width:4; stroke-opacity:1; fill:none\" points=\"\n",
       "  1443.52,127.967 1443.52,1446.71 1640.41,1446.71 1640.41,127.967 1443.52,127.967 \n",
       "  \"/>\n",
       "<polygon clip-path=\"url(#clip9602)\" points=\"\n",
       "1640.41,367.739 1640.41,1446.71 1837.3,1446.71 1837.3,367.739 1640.41,367.739 1640.41,367.739 \n",
       "  \" fill=\"#009af9\" fill-rule=\"evenodd\" fill-opacity=\"1\"/>\n",
       "<polyline clip-path=\"url(#clip9602)\" style=\"stroke:#000000; stroke-width:4; stroke-opacity:1; fill:none\" points=\"\n",
       "  1640.41,367.739 1640.41,1446.71 1837.3,1446.71 1837.3,367.739 1640.41,367.739 \n",
       "  \"/>\n",
       "<polygon clip-path=\"url(#clip9602)\" points=\"\n",
       "1837.3,327.777 1837.3,1446.71 2034.19,1446.71 2034.19,327.777 1837.3,327.777 1837.3,327.777 \n",
       "  \" fill=\"#009af9\" fill-rule=\"evenodd\" fill-opacity=\"1\"/>\n",
       "<polyline clip-path=\"url(#clip9602)\" style=\"stroke:#000000; stroke-width:4; stroke-opacity:1; fill:none\" points=\"\n",
       "  1837.3,327.777 1837.3,1446.71 2034.19,1446.71 2034.19,327.777 1837.3,327.777 \n",
       "  \"/>\n",
       "<polygon clip-path=\"url(#clip9602)\" points=\"\n",
       "2034.19,88.0053 2034.19,1446.71 2231.08,1446.71 2231.08,88.0053 2034.19,88.0053 2034.19,88.0053 \n",
       "  \" fill=\"#009af9\" fill-rule=\"evenodd\" fill-opacity=\"1\"/>\n",
       "<polyline clip-path=\"url(#clip9602)\" style=\"stroke:#000000; stroke-width:4; stroke-opacity:1; fill:none\" points=\"\n",
       "  2034.19,88.0053 2034.19,1446.71 2231.08,1446.71 2231.08,88.0053 2034.19,88.0053 \n",
       "  \"/>\n",
       "</svg>\n"
      ]
     },
     "execution_count": 28,
     "metadata": {},
     "output_type": "execute_result"
    }
   ],
   "source": [
    "ϕ = MathConstants.φ\n",
    "setprecision(10000)\n",
    "using Plots\n",
    "histogram([mod(big(ϕ)^k,1) for k in 1:30], legend = false, bins = 12)\n",
    "histogram([mod(big(π)*k,1) for k in 1:300], legend = false, bins = 12)"
   ]
  },
  {
   "cell_type": "markdown",
   "metadata": {},
   "source": [
    "## Automatic differentiation\n",
    "\n",
    "### Problem 3 : Symbolic differentiation\n",
    "\n",
    "The most familiar way to differentiate a function is to retain the **entire function** throughout all differentiation steps, by treating the input value as a symbolic quantity. \n",
    "\n",
    "Use the code cell below to evaluate the derivative of the function $f(x) = (x^4 - 2x^3 - x^2 + 3x - 1)e^{-x^4/4}$. "
   ]
  },
  {
   "cell_type": "code",
   "execution_count": 30,
   "metadata": {
    "collapsed": false,
    "inputHidden": false,
    "jupyter": {
     "outputs_hidden": false
    },
    "outputHidden": false
   },
   "outputs": [
    {
     "data": {
      "text/latex": [
       "\\begin{equation*}- \\frac{x \\left(x^{4} - 2 x^{3} - x^{2} + 3 x - 1\\right) e^{- \\frac{x^{2}}{4}}}{2} + \\left(4 x^{3} - 6 x^{2} - 2 x + 3\\right) e^{- \\frac{x^{2}}{4}}\\end{equation*}"
      ],
      "text/plain": [
       "                                  2                                 \n",
       "                                -x                                2 \n",
       "                                ────                            -x  \n",
       "    ⎛ 4      3    2          ⎞   4                              ────\n",
       "  x⋅⎝x  - 2⋅x  - x  + 3⋅x - 1⎠⋅ℯ       ⎛   3      2          ⎞   4  \n",
       "- ────────────────────────────────── + ⎝4⋅x  - 6⋅x  - 2⋅x + 3⎠⋅ℯ    \n",
       "                  2                                                 "
      ]
     },
     "execution_count": 30,
     "metadata": {},
     "output_type": "execute_result"
    }
   ],
   "source": [
    "using SymPy\n",
    "f(t) = exp(-t^2/4)*(t^4 - 2t^3 - t^2 + 3t - 1)\n",
    "@vars x\n",
    "diff(f(x),x)"
   ]
  },
  {
   "cell_type": "markdown",
   "metadata": {},
   "source": [
    "Now substitute $x = 2$ to find the derivative of $f$ at $x=2$."
   ]
  },
  {
   "cell_type": "code",
   "execution_count": 36,
   "metadata": {
    "collapsed": false,
    "inputHidden": false,
    "jupyter": {
     "outputs_hidden": false
    },
    "outputHidden": false
   },
   "outputs": [
    {
     "data": {
      "text/plain": [
       "2.207276647028654"
      ]
     },
     "execution_count": 36,
     "metadata": {},
     "output_type": "execute_result"
    }
   ],
   "source": [
    "true_derivative = Float64(diff(f(x),x)(x=>2))"
   ]
  },
  {
   "cell_type": "markdown",
   "metadata": {},
   "source": [
    "---\n",
    "\n",
    "### Problem 4: Difference quotients\n",
    "\n",
    "Symbolic differentiation is typically not suitable for differentiating functions encountered in scientific computing (including machine learning), because the expression trees generated by substituting a symbolic variable into the function can grow very large very quickly. Consider the following small recursively defined function: \n",
    "\n",
    "\n"
   ]
  },
  {
   "cell_type": "code",
   "execution_count": 33,
   "metadata": {
    "collapsed": false,
    "inputHidden": false,
    "jupyter": {
     "outputs_hidden": false
    },
    "outputHidden": false
   },
   "outputs": [
    {
     "data": {
      "text/latex": [
       "\\begin{equation*}x + \\frac{1}{x + \\frac{1}{x + \\frac{1}{x + \\frac{1}{x + \\frac{1}{x}} + \\frac{1}{x}} + \\frac{1}{x + \\frac{1}{x}} + \\frac{1}{x}} + \\frac{1}{x + \\frac{1}{x + \\frac{1}{x}} + \\frac{1}{x}} + \\frac{1}{x + \\frac{1}{x}} + \\frac{1}{x}} + \\frac{1}{x + \\frac{1}{x + \\frac{1}{x + \\frac{1}{x}} + \\frac{1}{x}} + \\frac{1}{x + \\frac{1}{x}} + \\frac{1}{x}} + \\frac{1}{x + \\frac{1}{x + \\frac{1}{x}} + \\frac{1}{x}} + \\frac{1}{x + \\frac{1}{x}} + \\frac{1}{x}\\end{equation*}"
      ],
      "text/plain": [
       "                                  1                                           \n",
       "x + ───────────────────────────────────────────────────────────── + ──────────\n",
       "                      1                       1           1     1             \n",
       "    x + ───────────────────────────── + ───────────── + ───── + ─   x + ──────\n",
       "                  1           1     1         1     1       1   x             \n",
       "        x + ───────────── + ───── + ─   x + ───── + ─   x + ─           x + ──\n",
       "                  1     1       1   x           1   x       x                 \n",
       "            x + ───── + ─   x + ─           x + ─                           x \n",
       "                    1   x       x               x                             \n",
       "                x + ─                                                         \n",
       "                    x                                                         \n",
       "\n",
       "    1                       1           1     1\n",
       "─────────────────── + ───────────── + ───── + ─\n",
       "1           1     1         1     1       1   x\n",
       "─────── + ───── + ─   x + ───── + ─   x + ─    \n",
       "1     1       1   x           1   x       x    \n",
       "─── + ─   x + ─           x + ─                \n",
       "  1   x       x               x                \n",
       "+ ─                                            \n",
       "  x                                            \n",
       "                                               \n",
       "                                               "
      ]
     },
     "execution_count": 33,
     "metadata": {},
     "output_type": "execute_result"
    }
   ],
   "source": [
    "function g(x, n)\n",
    "    if n == 1\n",
    "        x\n",
    "    else\n",
    "        g(x,n-1) + 1/g(x,n-1)\n",
    "    end\n",
    "end\n",
    "\n",
    "@vars x\n",
    "g(x,6)"
   ]
  },
  {
   "cell_type": "markdown",
   "metadata": {},
   "source": [
    "The opposite approach to retaining the whole function through every step of the calculation is to retain the values only at a **single point** at a time, and recover the derivative using the approximation\n",
    "$$\n",
    "f'(x) \\approx \\frac{f(x+h) - f(x)}{h}.\n",
    "$$\n",
    "\n",
    "Approximate the derivative of $f(x) = (x^4 - 2x^3 - x^2 + 3x - 1)e^{-x^4/4}$ at $x = 2$ by computing and plotting difference quotients $(f(x+h)-f(x))/h$ for various values of $h$ (for example, the powers of $2$ from $2^{-60}$ to $2^{-20}$). What is the least error over these values of k? How does that error compare to machine epsilon?"
   ]
  },
  {
   "cell_type": "code",
   "execution_count": 39,
   "metadata": {},
   "outputs": [
    {
     "data": {
      "image/svg+xml": [
       "<?xml version=\"1.0\" encoding=\"utf-8\"?>\n",
       "<svg xmlns=\"http://www.w3.org/2000/svg\" xmlns:xlink=\"http://www.w3.org/1999/xlink\" width=\"600\" height=\"400\" viewBox=\"0 0 2400 1600\">\n",
       "<defs>\n",
       "  <clipPath id=\"clip0400\">\n",
       "    <rect x=\"0\" y=\"0\" width=\"2400\" height=\"1600\"/>\n",
       "  </clipPath>\n",
       "</defs>\n",
       "<polygon clip-path=\"url(#clip0400)\" points=\"\n",
       "0,1600 2400,1600 2400,0 0,0 \n",
       "  \" fill=\"#ffffff\" fill-rule=\"evenodd\" fill-opacity=\"1\"/>\n",
       "<defs>\n",
       "  <clipPath id=\"clip0401\">\n",
       "    <rect x=\"480\" y=\"0\" width=\"1681\" height=\"1600\"/>\n",
       "  </clipPath>\n",
       "</defs>\n",
       "<polygon clip-path=\"url(#clip0400)\" points=\"\n",
       "141.865,1487.47 2352.76,1487.47 2352.76,47.2441 141.865,47.2441 \n",
       "  \" fill=\"#ffffff\" fill-rule=\"evenodd\" fill-opacity=\"1\"/>\n",
       "<defs>\n",
       "  <clipPath id=\"clip0402\">\n",
       "    <rect x=\"141\" y=\"47\" width=\"2212\" height=\"1441\"/>\n",
       "  </clipPath>\n",
       "</defs>\n",
       "<polyline clip-path=\"url(#clip0402)\" style=\"stroke:#000000; stroke-width:2; stroke-opacity:0.1; fill:none\" points=\"\n",
       "  152.293,1487.47 152.293,47.2441 \n",
       "  \"/>\n",
       "<polyline clip-path=\"url(#clip0402)\" style=\"stroke:#000000; stroke-width:2; stroke-opacity:0.1; fill:none\" points=\"\n",
       "  673.73,1487.47 673.73,47.2441 \n",
       "  \"/>\n",
       "<polyline clip-path=\"url(#clip0402)\" style=\"stroke:#000000; stroke-width:2; stroke-opacity:0.1; fill:none\" points=\"\n",
       "  1195.17,1487.47 1195.17,47.2441 \n",
       "  \"/>\n",
       "<polyline clip-path=\"url(#clip0402)\" style=\"stroke:#000000; stroke-width:2; stroke-opacity:0.1; fill:none\" points=\"\n",
       "  1716.6,1487.47 1716.6,47.2441 \n",
       "  \"/>\n",
       "<polyline clip-path=\"url(#clip0402)\" style=\"stroke:#000000; stroke-width:2; stroke-opacity:0.1; fill:none\" points=\"\n",
       "  2238.04,1487.47 2238.04,47.2441 \n",
       "  \"/>\n",
       "<polyline clip-path=\"url(#clip0402)\" style=\"stroke:#000000; stroke-width:2; stroke-opacity:0.1; fill:none\" points=\"\n",
       "  141.865,1395.42 2352.76,1395.42 \n",
       "  \"/>\n",
       "<polyline clip-path=\"url(#clip0402)\" style=\"stroke:#000000; stroke-width:2; stroke-opacity:0.1; fill:none\" points=\"\n",
       "  141.865,1082.04 2352.76,1082.04 \n",
       "  \"/>\n",
       "<polyline clip-path=\"url(#clip0402)\" style=\"stroke:#000000; stroke-width:2; stroke-opacity:0.1; fill:none\" points=\"\n",
       "  141.865,768.654 2352.76,768.654 \n",
       "  \"/>\n",
       "<polyline clip-path=\"url(#clip0402)\" style=\"stroke:#000000; stroke-width:2; stroke-opacity:0.1; fill:none\" points=\"\n",
       "  141.865,455.269 2352.76,455.269 \n",
       "  \"/>\n",
       "<polyline clip-path=\"url(#clip0402)\" style=\"stroke:#000000; stroke-width:2; stroke-opacity:0.1; fill:none\" points=\"\n",
       "  141.865,141.885 2352.76,141.885 \n",
       "  \"/>\n",
       "<polyline clip-path=\"url(#clip0400)\" style=\"stroke:#000000; stroke-width:4; stroke-opacity:1; fill:none\" points=\"\n",
       "  141.865,1487.47 2352.76,1487.47 \n",
       "  \"/>\n",
       "<polyline clip-path=\"url(#clip0400)\" style=\"stroke:#000000; stroke-width:4; stroke-opacity:1; fill:none\" points=\"\n",
       "  141.865,1487.47 141.865,47.2441 \n",
       "  \"/>\n",
       "<polyline clip-path=\"url(#clip0400)\" style=\"stroke:#000000; stroke-width:4; stroke-opacity:1; fill:none\" points=\"\n",
       "  152.293,1487.47 152.293,1465.87 \n",
       "  \"/>\n",
       "<polyline clip-path=\"url(#clip0400)\" style=\"stroke:#000000; stroke-width:4; stroke-opacity:1; fill:none\" points=\"\n",
       "  673.73,1487.47 673.73,1465.87 \n",
       "  \"/>\n",
       "<polyline clip-path=\"url(#clip0400)\" style=\"stroke:#000000; stroke-width:4; stroke-opacity:1; fill:none\" points=\"\n",
       "  1195.17,1487.47 1195.17,1465.87 \n",
       "  \"/>\n",
       "<polyline clip-path=\"url(#clip0400)\" style=\"stroke:#000000; stroke-width:4; stroke-opacity:1; fill:none\" points=\"\n",
       "  1716.6,1487.47 1716.6,1465.87 \n",
       "  \"/>\n",
       "<polyline clip-path=\"url(#clip0400)\" style=\"stroke:#000000; stroke-width:4; stroke-opacity:1; fill:none\" points=\"\n",
       "  2238.04,1487.47 2238.04,1465.87 \n",
       "  \"/>\n",
       "<polyline clip-path=\"url(#clip0400)\" style=\"stroke:#000000; stroke-width:4; stroke-opacity:1; fill:none\" points=\"\n",
       "  141.865,1395.42 175.028,1395.42 \n",
       "  \"/>\n",
       "<polyline clip-path=\"url(#clip0400)\" style=\"stroke:#000000; stroke-width:4; stroke-opacity:1; fill:none\" points=\"\n",
       "  141.865,1082.04 175.028,1082.04 \n",
       "  \"/>\n",
       "<polyline clip-path=\"url(#clip0400)\" style=\"stroke:#000000; stroke-width:4; stroke-opacity:1; fill:none\" points=\"\n",
       "  141.865,768.654 175.028,768.654 \n",
       "  \"/>\n",
       "<polyline clip-path=\"url(#clip0400)\" style=\"stroke:#000000; stroke-width:4; stroke-opacity:1; fill:none\" points=\"\n",
       "  141.865,455.269 175.028,455.269 \n",
       "  \"/>\n",
       "<polyline clip-path=\"url(#clip0400)\" style=\"stroke:#000000; stroke-width:4; stroke-opacity:1; fill:none\" points=\"\n",
       "  141.865,141.885 175.028,141.885 \n",
       "  \"/>\n",
       "<g clip-path=\"url(#clip0400)\">\n",
       "<text style=\"fill:#000000; fill-opacity:1; font-family:Arial,Helvetica Neue,Helvetica,sans-serif; font-size:48px; text-anchor:middle;\" transform=\"rotate(0, 152.293, 1541.47)\" x=\"152.293\" y=\"1541.47\">0</text>\n",
       "</g>\n",
       "<g clip-path=\"url(#clip0400)\">\n",
       "<text style=\"fill:#000000; fill-opacity:1; font-family:Arial,Helvetica Neue,Helvetica,sans-serif; font-size:48px; text-anchor:middle;\" transform=\"rotate(0, 673.73, 1541.47)\" x=\"673.73\" y=\"1541.47\">10</text>\n",
       "</g>\n",
       "<g clip-path=\"url(#clip0400)\">\n",
       "<text style=\"fill:#000000; fill-opacity:1; font-family:Arial,Helvetica Neue,Helvetica,sans-serif; font-size:48px; text-anchor:middle;\" transform=\"rotate(0, 1195.17, 1541.47)\" x=\"1195.17\" y=\"1541.47\">20</text>\n",
       "</g>\n",
       "<g clip-path=\"url(#clip0400)\">\n",
       "<text style=\"fill:#000000; fill-opacity:1; font-family:Arial,Helvetica Neue,Helvetica,sans-serif; font-size:48px; text-anchor:middle;\" transform=\"rotate(0, 1716.6, 1541.47)\" x=\"1716.6\" y=\"1541.47\">30</text>\n",
       "</g>\n",
       "<g clip-path=\"url(#clip0400)\">\n",
       "<text style=\"fill:#000000; fill-opacity:1; font-family:Arial,Helvetica Neue,Helvetica,sans-serif; font-size:48px; text-anchor:middle;\" transform=\"rotate(0, 2238.04, 1541.47)\" x=\"2238.04\" y=\"1541.47\">40</text>\n",
       "</g>\n",
       "<g clip-path=\"url(#clip0400)\">\n",
       "<text style=\"fill:#000000; fill-opacity:1; font-family:Arial,Helvetica Neue,Helvetica,sans-serif; font-size:48px; text-anchor:end;\" transform=\"rotate(0, 117.865, 1412.92)\" x=\"117.865\" y=\"1412.92\">-8</text>\n",
       "</g>\n",
       "<g clip-path=\"url(#clip0400)\">\n",
       "<text style=\"fill:#000000; fill-opacity:1; font-family:Arial,Helvetica Neue,Helvetica,sans-serif; font-size:48px; text-anchor:end;\" transform=\"rotate(0, 117.865, 1099.54)\" x=\"117.865\" y=\"1099.54\">-6</text>\n",
       "</g>\n",
       "<g clip-path=\"url(#clip0400)\">\n",
       "<text style=\"fill:#000000; fill-opacity:1; font-family:Arial,Helvetica Neue,Helvetica,sans-serif; font-size:48px; text-anchor:end;\" transform=\"rotate(0, 117.865, 786.154)\" x=\"117.865\" y=\"786.154\">-4</text>\n",
       "</g>\n",
       "<g clip-path=\"url(#clip0400)\">\n",
       "<text style=\"fill:#000000; fill-opacity:1; font-family:Arial,Helvetica Neue,Helvetica,sans-serif; font-size:48px; text-anchor:end;\" transform=\"rotate(0, 117.865, 472.769)\" x=\"117.865\" y=\"472.769\">-2</text>\n",
       "</g>\n",
       "<g clip-path=\"url(#clip0400)\">\n",
       "<text style=\"fill:#000000; fill-opacity:1; font-family:Arial,Helvetica Neue,Helvetica,sans-serif; font-size:48px; text-anchor:end;\" transform=\"rotate(0, 117.865, 159.385)\" x=\"117.865\" y=\"159.385\">0</text>\n",
       "</g>\n",
       "<polyline clip-path=\"url(#clip0402)\" style=\"stroke:#009af9; stroke-width:4; stroke-opacity:1; fill:none\" points=\"\n",
       "  204.437,88.0053 256.581,88.0053 308.724,88.0053 360.868,88.0053 413.012,88.0053 465.155,88.0053 517.299,88.0053 569.443,88.0053 621.586,88.0053 673.73,201.289 \n",
       "  725.874,408.865 778.017,408.865 830.161,515.091 882.305,523.653 934.448,707.564 986.592,707.564 1038.74,707.564 1090.88,707.564 1143.02,1066.51 1195.17,1066.51 \n",
       "  1247.31,800.865 1299.45,1066.51 1351.6,891.205 1403.74,1066.51 1455.88,1066.51 1508.03,1066.51 1560.17,1163.35 1612.32,1201 1664.46,1268.77 1716.6,1279.54 \n",
       "  1768.75,1446.71 1820.89,1446.71 1873.03,1349.6 1925.18,1349.6 1977.32,1215.55 2029.47,1292.19 2081.61,1243.61 2133.75,1196.42 2185.9,1149.2 2238.04,1102.03 \n",
       "  2290.18,1054.85 \n",
       "  \"/>\n",
       "<polygon clip-path=\"url(#clip0400)\" points=\"\n",
       "1861.55,251.724 2280.76,251.724 2280.76,130.764 1861.55,130.764 \n",
       "  \" fill=\"#ffffff\" fill-rule=\"evenodd\" fill-opacity=\"1\"/>\n",
       "<polyline clip-path=\"url(#clip0400)\" style=\"stroke:#000000; stroke-width:4; stroke-opacity:1; fill:none\" points=\"\n",
       "  1861.55,251.724 2280.76,251.724 2280.76,130.764 1861.55,130.764 1861.55,251.724 \n",
       "  \"/>\n",
       "<polyline clip-path=\"url(#clip0400)\" style=\"stroke:#009af9; stroke-width:4; stroke-opacity:1; fill:none\" points=\"\n",
       "  1885.55,191.244 2029.55,191.244 \n",
       "  \"/>\n",
       "<g clip-path=\"url(#clip0400)\">\n",
       "<text style=\"fill:#000000; fill-opacity:1; font-family:Arial,Helvetica Neue,Helvetica,sans-serif; font-size:48px; text-anchor:start;\" transform=\"rotate(0, 2053.55, 208.744)\" x=\"2053.55\" y=\"208.744\">log error</text>\n",
       "</g>\n",
       "</svg>\n"
      ]
     },
     "execution_count": 39,
     "metadata": {},
     "output_type": "execute_result"
    }
   ],
   "source": [
    "plot([log10(abs(true_derivative - (f(2+2.0^k)-f(2))/2.0^k)) for k = -60:-20], label = \"log error\")"
   ]
  },
  {
   "cell_type": "markdown",
   "metadata": {},
   "source": [
    "---\n",
    "\n",
    "### Problem 5: Autodiff  \n",
    "\n",
    "Fortunately, there is an approach to differentiation that is both fast and accurate. The idea is to retain neither the whole function nor just the first term of the Taylor Series (that is, the function's value) through each step of the calculation, but rather the first **two** terms of the Taylor Series. \n",
    "\n",
    "We do this computationally by introducing a new object called a **dual number** which has two parts: the **value** and the **derivative**. You can think of a dual number as a tiny window into the graph of a function at a particular point. It allows you to see the function's value and how the graph is tilted there. \n",
    "\n",
    "<img src=\"autodiff.svg\" width=100%>\n",
    "\n",
    "We can define a new `DualNumber` object in Julia as follows:\n",
    "\n",
    "```julia\n",
    "struct DualNumber\n",
    "    value::Real\n",
    "    derivative::Real\n",
    "end\n",
    "```\n",
    "\n",
    "If we want to find the derivative of a function at $x = 2$, we can substitute `DualNumber(2,1)` into $f$ and read off the derivative field of the resulting output. The catch here is that all functions used by $f$ must be taught how to behave on dual numbers.\n",
    "\n",
    "Use automatic differentiation to find the derivative of $f(x) = (x^4 - 2x^3 - x^2 + 3x - 1)e^{-x^4/4}$ at the point $x = 2$. Compare your answer to the true value of $f'(2)$.\n",
    "  \n",
    "\n"
   ]
  },
  {
   "cell_type": "code",
   "execution_count": 52,
   "metadata": {},
   "outputs": [
    {
     "data": {
      "text/plain": [
       "DualNumber(0.36787944117144233, 2.207276647028654)"
      ]
     },
     "execution_count": 52,
     "metadata": {},
     "output_type": "execute_result"
    }
   ],
   "source": [
    "using LinearAlgebra\n",
    "f(t) = exp(-t^2/4)*(t^4 - 2t^3 - t^2 + 3t - 1)\n",
    "\n",
    "struct DualNumber\n",
    "    value::Real\n",
    "    derivative::Real\n",
    "end\n",
    "\n",
    "import Base: *, ^, +, -, /, exp\n",
    "\n",
    "DualNumber(x::Real) = DualNumber(x,0)\n",
    "-(x::DualNumber) = DualNumber(-x.value, -x.derivative)\n",
    "+(x::DualNumber, y::DualNumber) = DualNumber(x.value + y.value, x.derivative + y.derivative)\n",
    "-(x::DualNumber, y::DualNumber) = x + (-y)\n",
    "-(x::DualNumber, y::Real) = x - DualNumber(y)\n",
    "*(x::DualNumber, y::DualNumber) = DualNumber(x.value * y.value, \n",
    "                                             x.derivative * y.value + y.derivative * x.value)\n",
    "*(x::Real, y::DualNumber) = DualNumber(x) * y\n",
    "^(x::DualNumber, n::Integer) = Base.power_by_squaring(x, n)\n",
    "/(x::Real, y::DualNumber) = DualNumber(x/y.value, -x*y.derivative/y.value^2)\n",
    "/(x::DualNumber, y::DualNumber) = (1/y) * x\n",
    "/(x::DualNumber, y::Real) = (1/y) * x\n",
    "\n",
    "exp(x::DualNumber) = DualNumber(exp(x.value), exp(x.value) * x.derivative)\n",
    "\n",
    "f(DualNumber(2,1))"
   ]
  },
  {
   "cell_type": "markdown",
   "metadata": {},
   "source": [
    "Compare the derivative obtained using autodiff to the value obtained by differentiating symbolically (at the bit level!): "
   ]
  },
  {
   "cell_type": "code",
   "execution_count": 53,
   "metadata": {},
   "outputs": [
    {
     "name": "stdout",
     "output_type": "stream",
     "text": [
      "0100000000000001101010001000000010101000101000011011001101101010\n",
      "0100000000000001101010001000000010101000101000011011001101101010\n"
     ]
    }
   ],
   "source": [
    "println(bitstring(Float64(diff(f(x),x)(x=>2)))) # symbolic differentiation\n",
    "println(bitstring(f(DualNumber(2,1)).derivative)) # automatic differentiation"
   ]
  },
  {
   "cell_type": "code",
   "execution_count": null,
   "metadata": {},
   "outputs": [],
   "source": []
  }
 ],
 "metadata": {
  "kernel_info": {
   "name": "julia-1.2"
  },
  "kernelspec": {
   "display_name": "Julia 1.5.1",
   "language": "julia",
   "name": "julia-1.5"
  },
  "language_info": {
   "file_extension": ".jl",
   "mimetype": "application/julia",
   "name": "julia",
   "version": "1.5.1"
  },
  "nteract": {
   "version": "0.15.0"
  }
 },
 "nbformat": 4,
 "nbformat_minor": 4
}
