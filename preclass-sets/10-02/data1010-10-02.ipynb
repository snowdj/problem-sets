{
 "cells": [
  {
   "cell_type": "markdown",
   "metadata": {},
   "source": [
    "## Conditional Probability\n",
    "\n",
    "#### *02 Octorber 2020*\n",
    "#### *DATA 1010*\n",
    "\n",
    "We continue our review of probability theory. Today's topics include: independence, variance, Bayes' theorem and conditional expectation."
   ]
  },
  {
   "cell_type": "markdown",
   "metadata": {},
   "source": [
    "## Independence and variance  "
   ]
  },
  {
   "cell_type": "markdown",
   "metadata": {},
   "source": [
    "### Problem 1   \n",
    " \n",
    "Suppose that $X_1, \\ldots, X_n$ are independent random variables with the same distribution. Find the mean and variance of \n",
    "$$\\frac{X_1 + \\cdots + X_n}{n}$$"
   ]
  },
  {
   "cell_type": "code",
   "execution_count": 1,
   "metadata": {},
   "outputs": [
    {
     "name": "stderr",
     "output_type": "stream",
     "text": [
      "┌ Info: Precompiling Distributions [31c24e10-a181-5473-b8eb-7969acd0382f]\n",
      "└ @ Base loading.jl:1278\n"
     ]
    },
    {
     "data": {
      "text/plain": [
       "1.0096208704572291"
      ]
     },
     "execution_count": 1,
     "metadata": {},
     "output_type": "execute_result"
    }
   ],
   "source": [
    "using Distributions\n",
    "mean(rand(Exponential(1), 1000))"
   ]
  },
  {
   "cell_type": "markdown",
   "metadata": {},
   "source": [
    "---\n",
    "\n",
    "## Bayes' Theorem"
   ]
  },
  {
   "cell_type": "markdown",
   "metadata": {},
   "source": [
    "### Problem 2\n",
    "\n",
    "Assume that the prevalance of a disease in a population is 3%. The *true positive rate* for a pathological test, i.e. the probability of a positive test result for an individual carrying the disease, is 98%. The *false positive rate*, i.e. the probability of a positive test result for an individual without the disease, is 4%. What is the likelihood of an individual having the disease if he/she tested positive twice?\n",
    "\n",
    "*Hint:* Consider the two tests independent."
   ]
  },
  {
   "cell_type": "markdown",
   "metadata": {},
   "source": [
    "---\n",
    "\n",
    "## Conditional expectation "
   ]
  },
  {
   "cell_type": "markdown",
   "metadata": {},
   "source": [
    "\n",
    "<img src=\"cond-discrete.png\" alt=\"p\" width=\"200\" align=right>\n",
    "\n",
    "### Problem 3  \n",
    "  \n",
    "Consider a pair of random variables $X$ and $Y$ with joint distribution $m$, where $m$ is the probability mass function shown. Find the conditional distribution of $Y$ given $X = x$ for each value of $x$.  "
   ]
  },
  {
   "cell_type": "markdown",
   "metadata": {},
   "source": [
    "---\n",
    "<img src=\"cond-exp-4.png\" alt=\"p\" width=\"500\" align=right> \n",
    "\n",
    "### Problem 4\n",
    "\n",
    "Given that $X$ and $Y$ have joint PDF $f(x,y) = \\frac{3}{2}(x^2 +y^2)$ on $[0,1]^2$, find the conditional expectation of $Y$ given $X$.\n",
    "    \n",
    "*Hint:* Begin by sketching an estimate of the conditional expectation on the graph shown."
   ]
  },
  {
   "cell_type": "code",
   "execution_count": 2,
   "metadata": {},
   "outputs": [
    {
     "name": "stderr",
     "output_type": "stream",
     "text": [
      "┌ Info: Precompiling SymPy [24249f21-da20-56a4-8eb1-6a02cf4ae2e6]\n",
      "└ @ Base loading.jl:1278\n"
     ]
    },
    {
     "data": {
      "text/latex": [
       "\\begin{equation*}\\frac{3 \\left(2 x^{2} + 1\\right)}{4 \\left(3 x^{2} + 1\\right)}\\end{equation*}"
      ],
      "text/plain": [
       "  ⎛   2    ⎞\n",
       "3⋅⎝2⋅x  + 1⎠\n",
       "────────────\n",
       "  ⎛   2    ⎞\n",
       "4⋅⎝3⋅x  + 1⎠"
      ]
     },
     "execution_count": 2,
     "metadata": {},
     "output_type": "execute_result"
    }
   ],
   "source": [
    "using SymPy\n",
    "@vars x y \n",
    "f_XY = 3(x^2+y^2)/2\n",
    "f_X = integrate(f_XY, (y,0,1))\n",
    "simplify(integrate(y * f_XY / f_X, (y,0,1)))"
   ]
  },
  {
   "cell_type": "markdown",
   "metadata": {},
   "source": [
    "\n",
    "<img src=\"cond-exp-3.png\" alt=\"p\" width=\"500\" align=right>"
   ]
  },
  {
   "cell_type": "markdown",
   "metadata": {},
   "source": [
    "---\n",
    "<img src=\"cond-exp-5.png\" alt=\"p\" width=\"500\" align=right>\n",
    "\n",
    "### Problem 5   \n",
    "\n",
    "Given that $X$ and $Y$ have joint PDF shown in the figure, sketch an estimate of the conditional expectation of $Y$ given $X = x$."
   ]
  },
  {
   "cell_type": "markdown",
   "metadata": {},
   "source": [
    "\n",
    "<img src=\"cond-exp-8.png\" alt=\"p\" width=\"500\" align=right>"
   ]
  },
  {
   "cell_type": "markdown",
   "metadata": {},
   "source": [
    "---\n",
    "<img src=\"cond-exp-6.png\" alt=\"p\" width=\"500\" align=right>   \n",
    "\n",
    "### Problem 6   \n",
    "\n",
    "Given that $X$ and $Y$ have joint PDF $f(x,y) = \\frac{9}{5}(1-\\sqrt{xy})$ on $[0,1]^2$, find the conditional expectation of $Y$ given $X$.\n",
    "\n",
    "*Hint:* Begin by sketching an estimate of the conditional expectation on the graph shown."
   ]
  },
  {
   "cell_type": "code",
   "execution_count": 3,
   "metadata": {},
   "outputs": [
    {
     "data": {
      "text/latex": [
       "\\begin{equation*}\\frac{3 \\left(4 \\sqrt{x} - 5\\right)}{10 \\left(2 \\sqrt{x} - 3\\right)}\\end{equation*}"
      ],
      "text/plain": [
       " 3⋅(4⋅√x - 5)\n",
       "─────────────\n",
       "10⋅(2⋅√x - 3)"
      ]
     },
     "execution_count": 3,
     "metadata": {},
     "output_type": "execute_result"
    }
   ],
   "source": [
    "f_XY = 9(1-sqrt(x*y))/5\n",
    "f_X = integrate(f_XY, (y,0,1))\n",
    "simplify(integrate(y * f_XY / f_X, (y,0,1)))"
   ]
  },
  {
   "cell_type": "markdown",
   "metadata": {},
   "source": [
    "<img src=\"cond-exp-7.png\" alt=\"p\" width=\"500\" align=right>"
   ]
  },
  {
   "cell_type": "markdown",
   "metadata": {},
   "source": [
    "---\n",
    "\n",
    "### Challenge Problem\n",
    "\n",
    "Imagine yourself working as a recruiter for a major tech company. You are tasked with finding the best candidate to fill a vacancy in a data scientist role. You have $n$ applicants to interview, one at a time, in a random order. However, you must make acceptance/rejection decisions immediately after each interview. Out of $n$ candidates, how many should you interview, before making an offer? You may assume that all candidates for the positon can be ranked unambigously from best to worst.\n",
    "\n",
    "- *Hint 1:* Consider that if you interview all candidates, then you must hire the last candidate regardless of their rank. Assume that you reject first $r-1$ candidates, and then select the next candidate that performs better than these $r-1$ candidate. Write down probability $\\mathbb{P}(r)$ for this interview policy.\n",
    "- *Hint 2:* Since candidates are randomly ordered, each candidate is equally likely to be the best hire for the role.\n",
    "- *Hint 3:* $\\mathbb{P}(r) = \\sum_{i=1}^n \\mathbb{P}(\\text{candidate i is selected|candidate i is the best})\\times\\mathbb{P}(\\text{candidate i is the best})$\n",
    "- *Hint 4:* You must approximate the sum as an integral to obtain a solution in terms of $r$ and $n$\n",
    "- *Hint 5:* For various values of $n$, find the optimal value of $r$ using Julia\n",
    "- *Hint 6*: Plot $\\mathbb{P}(r)$ vs. $n$ for optimal values of $r$. What do these values converge to? "
   ]
  },
  {
   "cell_type": "code",
   "execution_count": null,
   "metadata": {},
   "outputs": [],
   "source": []
  }
 ],
 "metadata": {
  "kernel_info": {
   "name": "julia-1.2"
  },
  "kernelspec": {
   "display_name": "Julia 1.5.0",
   "language": "julia",
   "name": "julia-1.5"
  },
  "language_info": {
   "file_extension": ".jl",
   "mimetype": "application/julia",
   "name": "julia",
   "version": "1.5.0"
  },
  "nteract": {
   "version": "0.15.0"
  }
 },
 "nbformat": 4,
 "nbformat_minor": 4
}
