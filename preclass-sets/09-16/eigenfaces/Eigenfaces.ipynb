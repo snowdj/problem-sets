{
 "cells": [
  {
   "cell_type": "code",
   "execution_count": null,
   "metadata": {
    "Collapsed": "false"
   },
   "outputs": [],
   "source": [
    "using Pkg; Pkg.activate(\".\")"
   ]
  },
  {
   "cell_type": "code",
   "execution_count": null,
   "metadata": {
    "Collapsed": "false"
   },
   "outputs": [],
   "source": [
    "using LinearAlgebra, Statistics, Images, Colors, Interact\n",
    "images = [load(file) for file in readdir() if endswith(file, \".pgm\")];\n",
    "function imagedisplay(img) \n",
    "    newimg = img / maximum(abs.(img))\n",
    "    # if half or more of the pixel values are negative, flip the sign\n",
    "    sgn = mean(newimg .> 0) < 1/2 ? -1 : 1\n",
    "    Gray.(sgn .* newimg)\n",
    "end"
   ]
  },
  {
   "cell_type": "code",
   "execution_count": null,
   "metadata": {
    "Collapsed": "false"
   },
   "outputs": [],
   "source": [
    "@manipulate for k=1:165\n",
    "    imagedisplay(images[k])\n",
    "end"
   ]
  },
  {
   "cell_type": "code",
   "execution_count": null,
   "metadata": {
    "Collapsed": "false"
   },
   "outputs": [],
   "source": [
    "bigimagemat = hcat([img[:] for img in images]...)\n",
    "U, Σ, V = svd(bigimagemat); "
   ]
  },
  {
   "cell_type": "code",
   "execution_count": null,
   "metadata": {
    "Collapsed": "false"
   },
   "outputs": [],
   "source": [
    "@manipulate for k = 1:10 \n",
    "    imagedisplay(reshape(U[:,k],size(images[1])))\n",
    "end"
   ]
  },
  {
   "cell_type": "code",
   "execution_count": null,
   "metadata": {
    "Collapsed": "false"
   },
   "outputs": [],
   "source": [
    "@manipulate for k = 1:50\n",
    "    v = bigimagemat[:,1]\n",
    "    W = U[:,1:k]\n",
    "    imagedisplay(reshape(W * (W' * v), size(images[1])))\n",
    "end"
   ]
  }
 ],
 "metadata": {
  "@webio": {
   "lastCommId": "7c993d8a-696c-4a22-865b-1f42053445a1",
   "lastKernelId": "746a1437-aa73-4499-972f-9cf8d103e2e3"
  },
  "kernel_info": {
   "name": "julia-1.1"
  },
  "kernelspec": {
   "display_name": "Julia 1.5.1",
   "language": "julia",
   "name": "julia-1.5"
  },
  "language_info": {
   "file_extension": ".jl",
   "mimetype": "application/julia",
   "name": "julia",
   "version": "1.5.1"
  },
  "nteract": {
   "version": "0.14.5"
  }
 },
 "nbformat": 4,
 "nbformat_minor": 4
}
