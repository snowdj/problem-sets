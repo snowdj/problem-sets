{
 "cells": [
  {
   "cell_type": "markdown",
   "metadata": {},
   "source": [
    "# DATA 1010\n",
    "\n",
    "### 16 September 2020: Eigenanalysis\n",
    "### Classtime problem set"
   ]
  },
  {
   "cell_type": "markdown",
   "metadata": {},
   "source": [
    "## Problem 1\n",
    "Suppose we have an $n \\times n$ matrix $A$ (where $n \\geq 3$) and three of its eigenvectors $\\mathbf{v}_1$, $\\mathbf{v}_2$, and $\\mathbf{v}_3$. These three eigenvectors have corresponding eigenvalues of $2, 2,$ and $3$ respectively. Suppose that $\\mathbf{v}_1$ and $\\mathbf{v}_2$ are linearly independent.\n",
    "\n",
    "(a) What properties of $A$ are needed for showing that linear combination of $\\mathbf{v}_1$ and $\\mathbf{v}_2$ is also a eigenvector of $A$?"
   ]
  },
  {
   "cell_type": "markdown",
   "metadata": {},
   "source": [
    "(b) Is $\\mathbf{v}_3$ in the span of $\\{\\mathbf{v}_1, \\mathbf{v}_2\\}$?"
   ]
  },
  {
   "cell_type": "markdown",
   "metadata": {},
   "source": [
    "(c) Is $\\mathbf{v}_1 + \\mathbf{v}_3$ also an eigenvector of $A$? What about $3\\mathbf{v}_1 + 2\\mathbf{v}_3$?"
   ]
  },
  {
   "cell_type": "markdown",
   "metadata": {},
   "source": [
    "Problem 2\n",
    "$A$ is an $n\\times n$ symmetric matrix with $n$ eigenvectors; $\\mathbf{x}_1$ and $x_2$ are two of them, with different eigenvalues $\\lambda_1$ and $\\lambda_2$.\n",
    "\n",
    "(a) Show that $\\mathbf{x}_1$ and $\\mathbf{x}_2$ are perpendicular. "
   ]
  },
  {
   "cell_type": "markdown",
   "metadata": {},
   "source": [
    "(b) If there is a matrix $Q$ that satisfies $Q^{-1}AQ = \\Sigma$, where $\\Sigma$ is a diagonal matrix, how can you construct $Q$? How do you obtain $Q^{-1}$?\n",
    "\n",
    "\n"
   ]
  },
  {
   "cell_type": "markdown",
   "metadata": {},
   "source": [
    "## Problem 3\n",
    "Consider the matrix $A$ = \n",
    "$\\left[\n",
    "\\begin{matrix}\n",
    "1 & 5 & 0 \\\\\n",
    "2 & 3 & 1 \\\\\n",
    "2 & 1 & 2\n",
    "\\end{matrix}\n",
    "\\right]$.\n",
    "(a) What is its determinant?\n",
    "\n",
    "\n"
   ]
  },
  {
   "cell_type": "markdown",
   "metadata": {},
   "source": [
    "(a) What is the SVD of A? \n",
    "\n",
    "\n"
   ]
  },
  {
   "cell_type": "code",
   "execution_count": null,
   "metadata": {},
   "outputs": [],
   "source": []
  }
 ],
 "metadata": {
  "kernelspec": {
   "display_name": "Julia 1.5.1",
   "language": "julia",
   "name": "julia-1.5"
  },
  "language_info": {
   "file_extension": ".jl",
   "mimetype": "application/julia",
   "name": "julia",
   "version": "1.5.1"
  }
 },
 "nbformat": 4,
 "nbformat_minor": 4
}
