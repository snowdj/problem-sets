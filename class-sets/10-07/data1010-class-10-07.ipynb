{
 "cells": [
  {
   "cell_type": "markdown",
   "metadata": {},
   "source": [
    "# Class Notebook\n",
    "## DATA 1010\n",
    "## Brown University\n",
    "## 07 October 2020"
   ]
  },
  {
   "cell_type": "markdown",
   "metadata": {},
   "source": [
    "**Exercise 1**\n",
    "\n",
    "How can you look at a CDF and tell where the probability mass for the underlying measure is most concentrated?"
   ]
  },
  {
   "cell_type": "code",
   "execution_count": null,
   "metadata": {},
   "outputs": [],
   "source": []
  },
  {
   "cell_type": "markdown",
   "metadata": {},
   "source": [
    "**Exercise 2**  \n",
    "If we take a geometric CDF and scale it suitably in the horizontal direction, we get something which looks very close to an exponential CDF:\n",
    "```code\n",
    "plot(-2:0.01:3, \n",
    "     x -> cdf(Exponential(1), x), \n",
    "     seriestype = :jump,\n",
    "     label = \"Exponential(1)\", \n",
    "     legend = :topleft)\n",
    "plot!(-2:0.001:3, \n",
    "      x -> cdf(Geometric(1/10), 10x), \n",
    "      seriestype = :jump, \n",
    "      jumpsize=2e-3, \n",
    "      label = \"Geometric(1/10)/10\")\n",
    "```\n",
    "<center><img src=\"cdf-ebeac58a-f420-4b57-bad2-23b9bd15ab9e.svg\"></img></center>\n",
    "Explain this in terms of the definitions we laid out on Monday."
   ]
  },
  {
   "cell_type": "code",
   "execution_count": null,
   "metadata": {},
   "outputs": [],
   "source": []
  },
  {
   "cell_type": "markdown",
   "metadata": {},
   "source": [
    "**Exercise 3**  \n",
    "Sample from a Gaussian 2-vector whose components have variance 2 and 1 respectively, and correlation `-0.99`."
   ]
  },
  {
   "cell_type": "code",
   "execution_count": null,
   "metadata": {},
   "outputs": [],
   "source": []
  },
  {
   "cell_type": "markdown",
   "metadata": {},
   "source": [
    "**Exercise 4**  \n",
    "Play around with the `mysteryRV` function (defined in class) for a couple minutes and describe in words as much detail as you're able to figure out about the underlying distribution."
   ]
  },
  {
   "cell_type": "code",
   "execution_count": null,
   "metadata": {},
   "outputs": [],
   "source": []
  }
 ],
 "metadata": {
  "kernelspec": {
   "display_name": "Julia 1.5.1",
   "language": "julia",
   "name": "julia-1.5"
  },
  "language_info": {
   "file_extension": ".jl",
   "mimetype": "application/julia",
   "name": "julia",
   "version": "1.5.1"
  }
 },
 "nbformat": 4,
 "nbformat_minor": 4
}
