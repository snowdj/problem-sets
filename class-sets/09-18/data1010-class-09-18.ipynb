{
 "cells": [
  {
   "cell_type": "markdown",
   "metadata": {},
   "source": [
    "# DATA 1010\n",
    "\n",
    "### 18 September 2020: Multivariable Calculus Review\n",
    "### Classtime problem set"
   ]
  },
  {
   "cell_type": "code",
   "execution_count": null,
   "metadata": {},
   "outputs": [],
   "source": [
    "using Plots\n",
    "plotlyjs(legend = false, linewidth = 8)"
   ]
  },
  {
   "cell_type": "markdown",
   "metadata": {},
   "source": [
    "## Problem 1\n",
    "\n",
    "Consider the function $f(x,y) = 2 e^{- x^{2} - y^{2}} + e^{- \\left(x - 2\\right)^{2} - \\left(y - 1\\right)^{2}}$, graphed below."
   ]
  },
  {
   "cell_type": "code",
   "execution_count": null,
   "metadata": {},
   "outputs": [],
   "source": [
    "f(x,y) = 2exp(-x^2 - y^2) + exp(-(x-2)^2 - (y-1)^2)"
   ]
  },
  {
   "cell_type": "code",
   "execution_count": null,
   "metadata": {},
   "outputs": [],
   "source": [
    "xs = -2:0.1:3\n",
    "ys = -2:0.1:3\n",
    "surface(xs, ys, f)"
   ]
  },
  {
   "cell_type": "markdown",
   "metadata": {},
   "source": [
    "(a) How many local maxima does this function have? "
   ]
  },
  {
   "cell_type": "markdown",
   "metadata": {},
   "source": [
    "(b) Where are these local maxima?"
   ]
  },
  {
   "cell_type": "markdown",
   "metadata": {},
   "source": [
    "(c) Are there any other critical points?"
   ]
  },
  {
   "cell_type": "markdown",
   "metadata": {},
   "source": [
    "## Problem 2\n",
    "\n",
    "Maximize $3x^2 + 2y^2 + z^2$ subject to the constraint $x^2 + y^2 + z^2 = 1$. "
   ]
  },
  {
   "cell_type": "markdown",
   "metadata": {},
   "source": [
    "## Problem 3"
   ]
  },
  {
   "cell_type": "markdown",
   "metadata": {},
   "source": [
    "Find a Gaussian function which fits the following data points:"
   ]
  },
  {
   "cell_type": "code",
   "execution_count": 23,
   "metadata": {},
   "outputs": [
    {
     "data": {
      "image/svg+xml": [
       "<?xml version=\"1.0\" encoding=\"utf-8\"?>\n",
       "<svg xmlns=\"http://www.w3.org/2000/svg\" xmlns:xlink=\"http://www.w3.org/1999/xlink\" width=\"600\" height=\"600\" viewBox=\"0 0 2400 2400\">\n",
       "<defs>\n",
       "  <clipPath id=\"clip940\">\n",
       "    <rect x=\"0\" y=\"0\" width=\"2400\" height=\"2400\"/>\n",
       "  </clipPath>\n",
       "</defs>\n",
       "<path clip-path=\"url(#clip940)\" d=\"\n",
       "M0 2400 L2400 2400 L2400 0 L0 0  Z\n",
       "  \" fill=\"#ffffff\" fill-rule=\"evenodd\" fill-opacity=\"1\"/>\n",
       "<defs>\n",
       "  <clipPath id=\"clip941\">\n",
       "    <rect x=\"480\" y=\"240\" width=\"1681\" height=\"1681\"/>\n",
       "  </clipPath>\n",
       "</defs>\n",
       "<path clip-path=\"url(#clip940)\" d=\"\n",
       "M112.177 2261.17 L2352.76 2261.17 L2352.76 47.2441 L112.177 47.2441  Z\n",
       "  \" fill=\"#ffffff\" fill-rule=\"evenodd\" fill-opacity=\"1\"/>\n",
       "<defs>\n",
       "  <clipPath id=\"clip942\">\n",
       "    <rect x=\"112\" y=\"47\" width=\"2242\" height=\"2215\"/>\n",
       "  </clipPath>\n",
       "</defs>\n",
       "<polyline clip-path=\"url(#clip942)\" style=\"stroke:#000000; stroke-width:2; stroke-opacity:0.1; fill:none\" points=\"\n",
       "  175.59,2261.17 175.59,47.2441 \n",
       "  \"/>\n",
       "<polyline clip-path=\"url(#clip942)\" style=\"stroke:#000000; stroke-width:2; stroke-opacity:0.1; fill:none\" points=\"\n",
       "  779.519,2261.17 779.519,47.2441 \n",
       "  \"/>\n",
       "<polyline clip-path=\"url(#clip942)\" style=\"stroke:#000000; stroke-width:2; stroke-opacity:0.1; fill:none\" points=\"\n",
       "  1383.45,2261.17 1383.45,47.2441 \n",
       "  \"/>\n",
       "<polyline clip-path=\"url(#clip942)\" style=\"stroke:#000000; stroke-width:2; stroke-opacity:0.1; fill:none\" points=\"\n",
       "  1987.38,2261.17 1987.38,47.2441 \n",
       "  \"/>\n",
       "<polyline clip-path=\"url(#clip942)\" style=\"stroke:#000000; stroke-width:2; stroke-opacity:0.1; fill:none\" points=\"\n",
       "  112.177,2211.08 2352.76,2211.08 \n",
       "  \"/>\n",
       "<polyline clip-path=\"url(#clip942)\" style=\"stroke:#000000; stroke-width:2; stroke-opacity:0.1; fill:none\" points=\"\n",
       "  112.177,1607.15 2352.76,1607.15 \n",
       "  \"/>\n",
       "<polyline clip-path=\"url(#clip942)\" style=\"stroke:#000000; stroke-width:2; stroke-opacity:0.1; fill:none\" points=\"\n",
       "  112.177,1003.22 2352.76,1003.22 \n",
       "  \"/>\n",
       "<polyline clip-path=\"url(#clip942)\" style=\"stroke:#000000; stroke-width:2; stroke-opacity:0.1; fill:none\" points=\"\n",
       "  112.177,399.294 2352.76,399.294 \n",
       "  \"/>\n",
       "<polyline clip-path=\"url(#clip940)\" style=\"stroke:#000000; stroke-width:4; stroke-opacity:1; fill:none\" points=\"\n",
       "  112.177,2261.17 2352.76,2261.17 \n",
       "  \"/>\n",
       "<polyline clip-path=\"url(#clip940)\" style=\"stroke:#000000; stroke-width:4; stroke-opacity:1; fill:none\" points=\"\n",
       "  112.177,2261.17 112.177,47.2441 \n",
       "  \"/>\n",
       "<polyline clip-path=\"url(#clip940)\" style=\"stroke:#000000; stroke-width:4; stroke-opacity:1; fill:none\" points=\"\n",
       "  175.59,2261.17 175.59,2234.6 \n",
       "  \"/>\n",
       "<polyline clip-path=\"url(#clip940)\" style=\"stroke:#000000; stroke-width:4; stroke-opacity:1; fill:none\" points=\"\n",
       "  779.519,2261.17 779.519,2234.6 \n",
       "  \"/>\n",
       "<polyline clip-path=\"url(#clip940)\" style=\"stroke:#000000; stroke-width:4; stroke-opacity:1; fill:none\" points=\"\n",
       "  1383.45,2261.17 1383.45,2234.6 \n",
       "  \"/>\n",
       "<polyline clip-path=\"url(#clip940)\" style=\"stroke:#000000; stroke-width:4; stroke-opacity:1; fill:none\" points=\"\n",
       "  1987.38,2261.17 1987.38,2234.6 \n",
       "  \"/>\n",
       "<polyline clip-path=\"url(#clip940)\" style=\"stroke:#000000; stroke-width:4; stroke-opacity:1; fill:none\" points=\"\n",
       "  112.177,2211.08 139.064,2211.08 \n",
       "  \"/>\n",
       "<polyline clip-path=\"url(#clip940)\" style=\"stroke:#000000; stroke-width:4; stroke-opacity:1; fill:none\" points=\"\n",
       "  112.177,1607.15 139.064,1607.15 \n",
       "  \"/>\n",
       "<polyline clip-path=\"url(#clip940)\" style=\"stroke:#000000; stroke-width:4; stroke-opacity:1; fill:none\" points=\"\n",
       "  112.177,1003.22 139.064,1003.22 \n",
       "  \"/>\n",
       "<polyline clip-path=\"url(#clip940)\" style=\"stroke:#000000; stroke-width:4; stroke-opacity:1; fill:none\" points=\"\n",
       "  112.177,399.294 139.064,399.294 \n",
       "  \"/>\n",
       "<path clip-path=\"url(#clip940)\" d=\"M 0 0 M175.59 2283.16 Q171.979 2283.16 170.15 2286.72 Q168.344 2290.27 168.344 2297.39 Q168.344 2304.5 170.15 2308.07 Q171.979 2311.61 175.59 2311.61 Q179.224 2311.61 181.03 2308.07 Q182.858 2304.5 182.858 2297.39 Q182.858 2290.27 181.03 2286.72 Q179.224 2283.16 175.59 2283.16 M175.59 2279.45 Q181.4 2279.45 184.455 2284.06 Q187.534 2288.64 187.534 2297.39 Q187.534 2306.12 184.455 2310.73 Q181.4 2315.31 175.59 2315.31 Q169.78 2315.31 166.701 2310.73 Q163.645 2306.12 163.645 2297.39 Q163.645 2288.64 166.701 2284.06 Q169.78 2279.45 175.59 2279.45 Z\" fill=\"#000000\" fill-rule=\"evenodd\" fill-opacity=\"1\" /><path clip-path=\"url(#clip940)\" d=\"M 0 0 M774.172 2310.7 L790.492 2310.7 L790.492 2314.64 L768.547 2314.64 L768.547 2310.7 Q771.209 2307.95 775.793 2303.32 Q780.399 2298.67 781.58 2297.33 Q783.825 2294.8 784.705 2293.07 Q785.607 2291.31 785.607 2289.62 Q785.607 2286.86 783.663 2285.13 Q781.742 2283.39 778.64 2283.39 Q776.441 2283.39 773.987 2284.15 Q771.556 2284.92 768.779 2286.47 L768.779 2281.75 Q771.603 2280.61 774.056 2280.03 Q776.51 2279.45 778.547 2279.45 Q783.917 2279.45 787.112 2282.14 Q790.306 2284.83 790.306 2289.32 Q790.306 2291.45 789.496 2293.37 Q788.709 2295.26 786.603 2297.86 Q786.024 2298.53 782.922 2301.75 Q779.82 2304.94 774.172 2310.7 Z\" fill=\"#000000\" fill-rule=\"evenodd\" fill-opacity=\"1\" /><path clip-path=\"url(#clip940)\" d=\"M 0 0 M1386.46 2284.15 L1374.65 2302.6 L1386.46 2302.6 L1386.46 2284.15 M1385.23 2280.08 L1391.11 2280.08 L1391.11 2302.6 L1396.04 2302.6 L1396.04 2306.49 L1391.11 2306.49 L1391.11 2314.64 L1386.46 2314.64 L1386.46 2306.49 L1370.86 2306.49 L1370.86 2301.98 L1385.23 2280.08 Z\" fill=\"#000000\" fill-rule=\"evenodd\" fill-opacity=\"1\" /><path clip-path=\"url(#clip940)\" d=\"M 0 0 M1987.78 2295.5 Q1984.64 2295.5 1982.78 2297.65 Q1980.95 2299.8 1980.95 2303.55 Q1980.95 2307.28 1982.78 2309.45 Q1984.64 2311.61 1987.78 2311.61 Q1990.93 2311.61 1992.76 2309.45 Q1994.61 2307.28 1994.61 2303.55 Q1994.61 2299.8 1992.76 2297.65 Q1990.93 2295.5 1987.78 2295.5 M1997.07 2280.84 L1997.07 2285.1 Q1995.31 2284.27 1993.5 2283.83 Q1991.72 2283.39 1989.96 2283.39 Q1985.33 2283.39 1982.88 2286.52 Q1980.45 2289.64 1980.1 2295.96 Q1981.46 2293.95 1983.52 2292.88 Q1985.58 2291.79 1988.06 2291.79 Q1993.27 2291.79 1996.28 2294.96 Q1999.31 2298.11 1999.31 2303.55 Q1999.31 2308.88 1996.16 2312.09 Q1993.02 2315.31 1987.78 2315.31 Q1981.79 2315.31 1978.62 2310.73 Q1975.45 2306.12 1975.45 2297.39 Q1975.45 2289.2 1979.33 2284.34 Q1983.22 2279.45 1989.77 2279.45 Q1991.53 2279.45 1993.32 2279.8 Q1995.12 2280.15 1997.07 2280.84 Z\" fill=\"#000000\" fill-rule=\"evenodd\" fill-opacity=\"1\" /><path clip-path=\"url(#clip940)\" d=\"M 0 0 M76.2328 2196.88 Q72.6217 2196.88 70.793 2200.45 Q68.9875 2203.99 68.9875 2211.12 Q68.9875 2218.22 70.793 2221.79 Q72.6217 2225.33 76.2328 2225.33 Q79.867 2225.33 81.6726 2221.79 Q83.5013 2218.22 83.5013 2211.12 Q83.5013 2203.99 81.6726 2200.45 Q79.867 2196.88 76.2328 2196.88 M76.2328 2193.18 Q82.0429 2193.18 85.0985 2197.78 Q88.1772 2202.37 88.1772 2211.12 Q88.1772 2219.84 85.0985 2224.45 Q82.0429 2229.03 76.2328 2229.03 Q70.4226 2229.03 67.344 2224.45 Q64.2884 2219.84 64.2884 2211.12 Q64.2884 2202.37 67.344 2197.78 Q70.4226 2193.18 76.2328 2193.18 Z\" fill=\"#000000\" fill-rule=\"evenodd\" fill-opacity=\"1\" /><path clip-path=\"url(#clip940)\" d=\"M 0 0 M71.8578 1620.5 L88.1772 1620.5 L88.1772 1624.43 L66.2328 1624.43 L66.2328 1620.5 Q68.8949 1617.74 73.4782 1613.11 Q78.0846 1608.46 79.2652 1607.12 Q81.5105 1604.6 82.3902 1602.86 Q83.2929 1601.1 83.2929 1599.41 Q83.2929 1596.66 81.3485 1594.92 Q79.4272 1593.18 76.3254 1593.18 Q74.1263 1593.18 71.6726 1593.95 Q69.2421 1594.71 66.4643 1596.26 L66.4643 1591.54 Q69.2884 1590.41 71.7421 1589.83 Q74.1958 1589.25 76.2328 1589.25 Q81.6031 1589.25 84.7976 1591.93 Q87.992 1594.62 87.992 1599.11 Q87.992 1601.24 87.1818 1603.16 Q86.3948 1605.06 84.2883 1607.65 Q83.7096 1608.32 80.6078 1611.54 Q77.5059 1614.73 71.8578 1620.5 Z\" fill=\"#000000\" fill-rule=\"evenodd\" fill-opacity=\"1\" /><path clip-path=\"url(#clip940)\" d=\"M 0 0 M78.5939 990.018 L66.7884 1008.47 L78.5939 1008.47 L78.5939 990.018 M77.367 985.944 L83.2466 985.944 L83.2466 1008.47 L88.1772 1008.47 L88.1772 1012.36 L83.2466 1012.36 L83.2466 1020.5 L78.5939 1020.5 L78.5939 1012.36 L62.9921 1012.36 L62.9921 1007.84 L77.367 985.944 Z\" fill=\"#000000\" fill-rule=\"evenodd\" fill-opacity=\"1\" /><path clip-path=\"url(#clip940)\" d=\"M 0 0 M76.6495 397.431 Q73.5013 397.431 71.6495 399.583 Q69.8208 401.736 69.8208 405.486 Q69.8208 409.213 71.6495 411.389 Q73.5013 413.542 76.6495 413.542 Q79.7976 413.542 81.6263 411.389 Q83.4781 409.213 83.4781 405.486 Q83.4781 401.736 81.6263 399.583 Q79.7976 397.431 76.6495 397.431 M85.9318 382.778 L85.9318 387.037 Q84.1726 386.204 82.367 385.764 Q80.5846 385.324 78.8254 385.324 Q74.1958 385.324 71.7421 388.449 Q69.3115 391.574 68.9643 397.894 Q70.33 395.88 72.3902 394.815 Q74.4504 393.727 76.9272 393.727 Q82.1355 393.727 85.1448 396.898 Q88.1772 400.046 88.1772 405.486 Q88.1772 410.81 85.029 414.028 Q81.8809 417.245 76.6495 417.245 Q70.6541 417.245 67.4828 412.662 Q64.3116 408.056 64.3116 399.329 Q64.3116 391.134 68.2004 386.273 Q72.0893 381.389 78.6402 381.389 Q80.3994 381.389 82.1818 381.736 Q83.9874 382.083 85.9318 382.778 Z\" fill=\"#000000\" fill-rule=\"evenodd\" fill-opacity=\"1\" /><circle clip-path=\"url(#clip942)\" cx=\"1383.45\" cy=\"1607.15\" r=\"14\" fill=\"#009af9\" fill-rule=\"evenodd\" fill-opacity=\"1\" stroke=\"#000000\" stroke-opacity=\"1\" stroke-width=\"4.8\"/>\n",
       "<circle clip-path=\"url(#clip942)\" cx=\"175.59\" cy=\"701.259\" r=\"14\" fill=\"#009af9\" fill-rule=\"evenodd\" fill-opacity=\"1\" stroke=\"#000000\" stroke-opacity=\"1\" stroke-width=\"4.8\"/>\n",
       "<circle clip-path=\"url(#clip942)\" cx=\"2289.34\" cy=\"1607.15\" r=\"14\" fill=\"#009af9\" fill-rule=\"evenodd\" fill-opacity=\"1\" stroke=\"#000000\" stroke-opacity=\"1\" stroke-width=\"4.8\"/>\n",
       "<circle clip-path=\"url(#clip942)\" cx=\"175.59\" cy=\"1305.19\" r=\"14\" fill=\"#009af9\" fill-rule=\"evenodd\" fill-opacity=\"1\" stroke=\"#000000\" stroke-opacity=\"1\" stroke-width=\"4.8\"/>\n",
       "<circle clip-path=\"url(#clip942)\" cx=\"779.519\" cy=\"701.259\" r=\"14\" fill=\"#009af9\" fill-rule=\"evenodd\" fill-opacity=\"1\" stroke=\"#000000\" stroke-opacity=\"1\" stroke-width=\"4.8\"/>\n",
       "<circle clip-path=\"url(#clip942)\" cx=\"779.519\" cy=\"1305.19\" r=\"14\" fill=\"#009af9\" fill-rule=\"evenodd\" fill-opacity=\"1\" stroke=\"#000000\" stroke-opacity=\"1\" stroke-width=\"4.8\"/>\n",
       "<circle clip-path=\"url(#clip942)\" cx=\"1383.45\" cy=\"1305.19\" r=\"14\" fill=\"#009af9\" fill-rule=\"evenodd\" fill-opacity=\"1\" stroke=\"#000000\" stroke-opacity=\"1\" stroke-width=\"4.8\"/>\n",
       "<circle clip-path=\"url(#clip942)\" cx=\"779.519\" cy=\"1003.22\" r=\"14\" fill=\"#009af9\" fill-rule=\"evenodd\" fill-opacity=\"1\" stroke=\"#000000\" stroke-opacity=\"1\" stroke-width=\"4.8\"/>\n",
       "<circle clip-path=\"url(#clip942)\" cx=\"1383.45\" cy=\"701.259\" r=\"14\" fill=\"#009af9\" fill-rule=\"evenodd\" fill-opacity=\"1\" stroke=\"#000000\" stroke-opacity=\"1\" stroke-width=\"4.8\"/>\n",
       "</svg>\n"
      ]
     },
     "execution_count": 23,
     "metadata": {},
     "output_type": "execute_result"
    }
   ],
   "source": [
    "A = [4 2; 0 5; 7 2; 0 3; 2 5; 2 3; 4 3; 2 4; 4 5];\n",
    "default(ratio = 1, size = (600, 600))\n",
    "scatter([Tuple(row) for row in eachrow(A)])"
   ]
  },
  {
   "cell_type": "code",
   "execution_count": 24,
   "metadata": {},
   "outputs": [
    {
     "data": {
      "image/svg+xml": [
       "<?xml version=\"1.0\" encoding=\"utf-8\"?>\n",
       "<svg xmlns=\"http://www.w3.org/2000/svg\" xmlns:xlink=\"http://www.w3.org/1999/xlink\" width=\"600\" height=\"600\" viewBox=\"0 0 2400 2400\">\n",
       "<defs>\n",
       "  <clipPath id=\"clip980\">\n",
       "    <rect x=\"0\" y=\"0\" width=\"2400\" height=\"2400\"/>\n",
       "  </clipPath>\n",
       "</defs>\n",
       "<path clip-path=\"url(#clip980)\" d=\"\n",
       "M0 2400 L2400 2400 L2400 0 L0 0  Z\n",
       "  \" fill=\"#ffffff\" fill-rule=\"evenodd\" fill-opacity=\"1\"/>\n",
       "<defs>\n",
       "  <clipPath id=\"clip981\">\n",
       "    <rect x=\"480\" y=\"240\" width=\"1681\" height=\"1681\"/>\n",
       "  </clipPath>\n",
       "</defs>\n",
       "<defs>\n",
       "  <clipPath id=\"clip982\">\n",
       "    <rect x=\"148\" y=\"47\" width=\"2205\" height=\"2215\"/>\n",
       "  </clipPath>\n",
       "</defs>\n",
       "<path clip-path=\"url(#clip982)\" d=\"\n",
       "M148.334 2130.38 L148.334 439.594 L955.209 47.2441 L2352.76 178.027 L2352.76 1868.82 L1545.88 2261.17 L148.334 2130.38  Z\n",
       "  \" fill=\"#ffffff\" fill-rule=\"evenodd\" fill-opacity=\"1\"/>\n",
       "<polyline clip-path=\"url(#clip982)\" style=\"stroke:#000000; stroke-width:2; stroke-opacity:0.1; fill:none\" points=\"\n",
       "  148.334,2130.38 955.209,1738.04 \n",
       "  \"/>\n",
       "<polyline clip-path=\"url(#clip982)\" style=\"stroke:#000000; stroke-width:2; stroke-opacity:0.1; fill:none\" points=\"\n",
       "  955.209,1738.04 955.209,47.2441 \n",
       "  \"/>\n",
       "<polyline clip-path=\"url(#clip982)\" style=\"stroke:#000000; stroke-width:2; stroke-opacity:0.1; fill:none\" points=\"\n",
       "  497.721,2163.08 1304.6,1770.73 \n",
       "  \"/>\n",
       "<polyline clip-path=\"url(#clip982)\" style=\"stroke:#000000; stroke-width:2; stroke-opacity:0.1; fill:none\" points=\"\n",
       "  1304.6,1770.73 1304.6,79.9399 \n",
       "  \"/>\n",
       "<polyline clip-path=\"url(#clip982)\" style=\"stroke:#000000; stroke-width:2; stroke-opacity:0.1; fill:none\" points=\"\n",
       "  847.108,2195.78 1653.98,1803.43 \n",
       "  \"/>\n",
       "<polyline clip-path=\"url(#clip982)\" style=\"stroke:#000000; stroke-width:2; stroke-opacity:0.1; fill:none\" points=\"\n",
       "  1653.98,1803.43 1653.98,112.636 \n",
       "  \"/>\n",
       "<polyline clip-path=\"url(#clip982)\" style=\"stroke:#000000; stroke-width:2; stroke-opacity:0.1; fill:none\" points=\"\n",
       "  1196.49,2228.47 2003.37,1836.12 \n",
       "  \"/>\n",
       "<polyline clip-path=\"url(#clip982)\" style=\"stroke:#000000; stroke-width:2; stroke-opacity:0.1; fill:none\" points=\"\n",
       "  2003.37,1836.12 2003.37,145.331 \n",
       "  \"/>\n",
       "<polyline clip-path=\"url(#clip982)\" style=\"stroke:#000000; stroke-width:2; stroke-opacity:0.1; fill:none\" points=\"\n",
       "  1545.88,2261.17 2352.76,1868.82 \n",
       "  \"/>\n",
       "<polyline clip-path=\"url(#clip982)\" style=\"stroke:#000000; stroke-width:2; stroke-opacity:0.1; fill:none\" points=\"\n",
       "  2352.76,1868.82 2352.76,178.027 \n",
       "  \"/>\n",
       "<polyline clip-path=\"url(#clip982)\" style=\"stroke:#000000; stroke-width:2; stroke-opacity:0.1; fill:none\" points=\"\n",
       "  1547.61,2260.33 150.066,2129.54 \n",
       "  \"/>\n",
       "<polyline clip-path=\"url(#clip982)\" style=\"stroke:#000000; stroke-width:2; stroke-opacity:0.1; fill:none\" points=\"\n",
       "  150.066,2129.54 150.066,438.752 \n",
       "  \"/>\n",
       "<polyline clip-path=\"url(#clip982)\" style=\"stroke:#000000; stroke-width:2; stroke-opacity:0.1; fill:none\" points=\"\n",
       "  1748.47,2162.66 350.919,2031.88 \n",
       "  \"/>\n",
       "<polyline clip-path=\"url(#clip982)\" style=\"stroke:#000000; stroke-width:2; stroke-opacity:0.1; fill:none\" points=\"\n",
       "  350.919,2031.88 350.919,341.085 \n",
       "  \"/>\n",
       "<polyline clip-path=\"url(#clip982)\" style=\"stroke:#000000; stroke-width:2; stroke-opacity:0.1; fill:none\" points=\"\n",
       "  1949.32,2064.99 551.772,1934.21 \n",
       "  \"/>\n",
       "<polyline clip-path=\"url(#clip982)\" style=\"stroke:#000000; stroke-width:2; stroke-opacity:0.1; fill:none\" points=\"\n",
       "  551.772,1934.21 551.772,243.419 \n",
       "  \"/>\n",
       "<polyline clip-path=\"url(#clip982)\" style=\"stroke:#000000; stroke-width:2; stroke-opacity:0.1; fill:none\" points=\"\n",
       "  2150.17,1967.33 752.624,1836.54 \n",
       "  \"/>\n",
       "<polyline clip-path=\"url(#clip982)\" style=\"stroke:#000000; stroke-width:2; stroke-opacity:0.1; fill:none\" points=\"\n",
       "  752.624,1836.54 752.624,145.752 \n",
       "  \"/>\n",
       "<polyline clip-path=\"url(#clip982)\" style=\"stroke:#000000; stroke-width:2; stroke-opacity:0.1; fill:none\" points=\"\n",
       "  2351.02,1869.66 953.477,1738.88 \n",
       "  \"/>\n",
       "<polyline clip-path=\"url(#clip982)\" style=\"stroke:#000000; stroke-width:2; stroke-opacity:0.1; fill:none\" points=\"\n",
       "  953.477,1738.88 953.477,48.0861 \n",
       "  \"/>\n",
       "<polyline clip-path=\"url(#clip982)\" style=\"stroke:#000000; stroke-width:2; stroke-opacity:0.1; fill:none\" points=\"\n",
       "  148.334,2130.38 955.209,1738.04 \n",
       "  \"/>\n",
       "<polyline clip-path=\"url(#clip982)\" style=\"stroke:#000000; stroke-width:2; stroke-opacity:0.1; fill:none\" points=\"\n",
       "  955.209,1738.04 2352.76,1868.82 \n",
       "  \"/>\n",
       "<polyline clip-path=\"url(#clip982)\" style=\"stroke:#000000; stroke-width:2; stroke-opacity:0.1; fill:none\" points=\"\n",
       "  148.334,1792.23 955.209,1399.88 \n",
       "  \"/>\n",
       "<polyline clip-path=\"url(#clip982)\" style=\"stroke:#000000; stroke-width:2; stroke-opacity:0.1; fill:none\" points=\"\n",
       "  955.209,1399.88 2352.76,1530.66 \n",
       "  \"/>\n",
       "<polyline clip-path=\"url(#clip982)\" style=\"stroke:#000000; stroke-width:2; stroke-opacity:0.1; fill:none\" points=\"\n",
       "  148.334,1454.07 955.209,1061.72 \n",
       "  \"/>\n",
       "<polyline clip-path=\"url(#clip982)\" style=\"stroke:#000000; stroke-width:2; stroke-opacity:0.1; fill:none\" points=\"\n",
       "  955.209,1061.72 2352.76,1192.5 \n",
       "  \"/>\n",
       "<polyline clip-path=\"url(#clip982)\" style=\"stroke:#000000; stroke-width:2; stroke-opacity:0.1; fill:none\" points=\"\n",
       "  148.334,1115.91 955.209,723.561 \n",
       "  \"/>\n",
       "<polyline clip-path=\"url(#clip982)\" style=\"stroke:#000000; stroke-width:2; stroke-opacity:0.1; fill:none\" points=\"\n",
       "  955.209,723.561 2352.76,854.344 \n",
       "  \"/>\n",
       "<polyline clip-path=\"url(#clip982)\" style=\"stroke:#000000; stroke-width:2; stroke-opacity:0.1; fill:none\" points=\"\n",
       "  148.334,777.752 955.209,385.402 \n",
       "  \"/>\n",
       "<polyline clip-path=\"url(#clip982)\" style=\"stroke:#000000; stroke-width:2; stroke-opacity:0.1; fill:none\" points=\"\n",
       "  955.209,385.402 2352.76,516.185 \n",
       "  \"/>\n",
       "<polyline clip-path=\"url(#clip982)\" style=\"stroke:#000000; stroke-width:2; stroke-opacity:0.1; fill:none\" points=\"\n",
       "  148.334,439.594 955.209,47.2441 \n",
       "  \"/>\n",
       "<polyline clip-path=\"url(#clip982)\" style=\"stroke:#000000; stroke-width:2; stroke-opacity:0.1; fill:none\" points=\"\n",
       "  955.209,47.2441 2352.76,178.027 \n",
       "  \"/>\n",
       "<polyline clip-path=\"url(#clip980)\" style=\"stroke:#000000; stroke-width:4; stroke-opacity:1; fill:none\" points=\"\n",
       "  148.334,2130.38 1545.88,2261.17 \n",
       "  \"/>\n",
       "<polyline clip-path=\"url(#clip980)\" style=\"stroke:#000000; stroke-width:4; stroke-opacity:1; fill:none\" points=\"\n",
       "  1545.88,2261.17 2352.76,1868.82 \n",
       "  \"/>\n",
       "<polyline clip-path=\"url(#clip980)\" style=\"stroke:#000000; stroke-width:4; stroke-opacity:1; fill:none\" points=\"\n",
       "  148.334,2130.38 148.334,439.594 \n",
       "  \"/>\n",
       "<polyline clip-path=\"url(#clip980)\" style=\"stroke:#000000; stroke-width:4; stroke-opacity:1; fill:none\" points=\"\n",
       "  148.334,2130.38 158.017,2125.68 \n",
       "  \"/>\n",
       "<polyline clip-path=\"url(#clip980)\" style=\"stroke:#000000; stroke-width:4; stroke-opacity:1; fill:none\" points=\"\n",
       "  497.721,2163.08 507.404,2158.37 \n",
       "  \"/>\n",
       "<polyline clip-path=\"url(#clip980)\" style=\"stroke:#000000; stroke-width:4; stroke-opacity:1; fill:none\" points=\"\n",
       "  847.108,2195.78 856.791,2191.07 \n",
       "  \"/>\n",
       "<polyline clip-path=\"url(#clip980)\" style=\"stroke:#000000; stroke-width:4; stroke-opacity:1; fill:none\" points=\"\n",
       "  1196.49,2228.47 1206.18,2223.76 \n",
       "  \"/>\n",
       "<polyline clip-path=\"url(#clip980)\" style=\"stroke:#000000; stroke-width:4; stroke-opacity:1; fill:none\" points=\"\n",
       "  1545.88,2261.17 1555.56,2256.46 \n",
       "  \"/>\n",
       "<polyline clip-path=\"url(#clip980)\" style=\"stroke:#000000; stroke-width:4; stroke-opacity:1; fill:none\" points=\"\n",
       "  1547.61,2260.33 1530.84,2258.76 \n",
       "  \"/>\n",
       "<polyline clip-path=\"url(#clip980)\" style=\"stroke:#000000; stroke-width:4; stroke-opacity:1; fill:none\" points=\"\n",
       "  1748.47,2162.66 1731.7,2161.09 \n",
       "  \"/>\n",
       "<polyline clip-path=\"url(#clip980)\" style=\"stroke:#000000; stroke-width:4; stroke-opacity:1; fill:none\" points=\"\n",
       "  1949.32,2064.99 1932.55,2063.42 \n",
       "  \"/>\n",
       "<polyline clip-path=\"url(#clip980)\" style=\"stroke:#000000; stroke-width:4; stroke-opacity:1; fill:none\" points=\"\n",
       "  2150.17,1967.33 2133.4,1965.76 \n",
       "  \"/>\n",
       "<polyline clip-path=\"url(#clip980)\" style=\"stroke:#000000; stroke-width:4; stroke-opacity:1; fill:none\" points=\"\n",
       "  2351.02,1869.66 2334.25,1868.09 \n",
       "  \"/>\n",
       "<polyline clip-path=\"url(#clip980)\" style=\"stroke:#000000; stroke-width:4; stroke-opacity:1; fill:none\" points=\"\n",
       "  148.334,2130.38 158.017,2125.68 \n",
       "  \"/>\n",
       "<polyline clip-path=\"url(#clip980)\" style=\"stroke:#000000; stroke-width:4; stroke-opacity:1; fill:none\" points=\"\n",
       "  148.334,1792.23 158.017,1787.52 \n",
       "  \"/>\n",
       "<polyline clip-path=\"url(#clip980)\" style=\"stroke:#000000; stroke-width:4; stroke-opacity:1; fill:none\" points=\"\n",
       "  148.334,1454.07 158.017,1449.36 \n",
       "  \"/>\n",
       "<polyline clip-path=\"url(#clip980)\" style=\"stroke:#000000; stroke-width:4; stroke-opacity:1; fill:none\" points=\"\n",
       "  148.334,1115.91 158.017,1111.2 \n",
       "  \"/>\n",
       "<polyline clip-path=\"url(#clip980)\" style=\"stroke:#000000; stroke-width:4; stroke-opacity:1; fill:none\" points=\"\n",
       "  148.334,777.752 158.017,773.044 \n",
       "  \"/>\n",
       "<polyline clip-path=\"url(#clip980)\" style=\"stroke:#000000; stroke-width:4; stroke-opacity:1; fill:none\" points=\"\n",
       "  148.334,439.594 158.017,434.885 \n",
       "  \"/>\n",
       "<path clip-path=\"url(#clip980)\" d=\"M 0 0 M96.7882 2167.03 L126.464 2167.03 L126.464 2170.96 L96.7882 2170.96 L96.7882 2167.03 Z\" fill=\"#000000\" fill-rule=\"evenodd\" fill-opacity=\"1\" /><path clip-path=\"url(#clip980)\" d=\"M 0 0 M135.561 2179.92 L151.881 2179.92 L151.881 2183.86 L129.936 2183.86 L129.936 2179.92 Q132.598 2177.17 137.182 2172.54 Q141.788 2167.88 142.969 2166.54 Q145.214 2164.02 146.094 2162.28 Q146.996 2160.52 146.996 2158.83 Q146.996 2156.08 145.052 2154.34 Q143.131 2152.61 140.029 2152.61 Q137.83 2152.61 135.376 2153.37 Q132.945 2154.13 130.168 2155.69 L130.168 2150.96 Q132.992 2149.83 135.445 2149.25 Q137.899 2148.67 139.936 2148.67 Q145.306 2148.67 148.501 2151.36 Q151.695 2154.04 151.695 2158.53 Q151.695 2160.66 150.885 2162.58 Q150.098 2164.48 147.992 2167.07 Q147.413 2167.75 144.311 2170.96 Q141.209 2174.16 135.561 2179.92 Z\" fill=\"#000000\" fill-rule=\"evenodd\" fill-opacity=\"1\" /><path clip-path=\"url(#clip980)\" d=\"M 0 0 M445.99 2199.72 L475.666 2199.72 L475.666 2203.66 L445.99 2203.66 L445.99 2199.72 Z\" fill=\"#000000\" fill-rule=\"evenodd\" fill-opacity=\"1\" /><path clip-path=\"url(#clip980)\" d=\"M 0 0 M481.545 2212.62 L489.184 2212.62 L489.184 2186.25 L480.874 2187.92 L480.874 2183.66 L489.138 2181.99 L493.814 2181.99 L493.814 2212.62 L501.453 2212.62 L501.453 2216.55 L481.545 2216.55 L481.545 2212.62 Z\" fill=\"#000000\" fill-rule=\"evenodd\" fill-opacity=\"1\" /><path clip-path=\"url(#clip980)\" d=\"M 0 0 M823.108 2217.77 Q819.497 2217.77 817.668 2221.33 Q815.863 2224.87 815.863 2232 Q815.863 2239.11 817.668 2242.67 Q819.497 2246.22 823.108 2246.22 Q826.742 2246.22 828.548 2242.67 Q830.376 2239.11 830.376 2232 Q830.376 2224.87 828.548 2221.33 Q826.742 2217.77 823.108 2217.77 M823.108 2214.06 Q828.918 2214.06 831.974 2218.67 Q835.052 2223.25 835.052 2232 Q835.052 2240.73 831.974 2245.34 Q828.918 2249.92 823.108 2249.92 Q817.298 2249.92 814.219 2245.34 Q811.164 2240.73 811.164 2232 Q811.164 2223.25 814.219 2218.67 Q817.298 2214.06 823.108 2214.06 Z\" fill=\"#000000\" fill-rule=\"evenodd\" fill-opacity=\"1\" /><path clip-path=\"url(#clip980)\" d=\"M 0 0 M1162.88 2278.01 L1170.52 2278.01 L1170.52 2251.64 L1162.21 2253.31 L1162.21 2249.05 L1170.47 2247.38 L1175.15 2247.38 L1175.15 2278.01 L1182.78 2278.01 L1182.78 2281.94 L1162.88 2281.94 L1162.88 2278.01 Z\" fill=\"#000000\" fill-rule=\"evenodd\" fill-opacity=\"1\" /><path clip-path=\"url(#clip980)\" d=\"M 0 0 M1516.53 2310.7 L1532.85 2310.7 L1532.85 2314.64 L1510.91 2314.64 L1510.91 2310.7 Q1513.57 2307.95 1518.15 2303.32 Q1522.76 2298.67 1523.94 2297.33 Q1526.19 2294.8 1527.07 2293.07 Q1527.97 2291.31 1527.97 2289.62 Q1527.97 2286.86 1526.03 2285.13 Q1524.1 2283.39 1521 2283.39 Q1518.8 2283.39 1516.35 2284.15 Q1513.92 2284.92 1511.14 2286.47 L1511.14 2281.75 Q1513.97 2280.61 1516.42 2280.03 Q1518.87 2279.45 1520.91 2279.45 Q1526.28 2279.45 1529.47 2282.14 Q1532.67 2284.83 1532.67 2289.32 Q1532.67 2291.45 1531.86 2293.37 Q1531.07 2295.26 1528.96 2297.86 Q1528.39 2298.53 1525.28 2301.75 Q1522.18 2304.94 1516.53 2310.7 Z\" fill=\"#000000\" fill-rule=\"evenodd\" fill-opacity=\"1\" /><path clip-path=\"url(#clip980)\" d=\"M 0 0 M1544.07 2296.97 L1573.74 2296.97 L1573.74 2300.9 L1544.07 2300.9 L1544.07 2296.97 Z\" fill=\"#000000\" fill-rule=\"evenodd\" fill-opacity=\"1\" /><path clip-path=\"url(#clip980)\" d=\"M 0 0 M1582.84 2309.86 L1599.16 2309.86 L1599.16 2313.8 L1577.22 2313.8 L1577.22 2309.86 Q1579.88 2307.11 1584.46 2302.48 Q1589.07 2297.83 1590.25 2296.48 Q1592.49 2293.96 1593.37 2292.22 Q1594.28 2290.46 1594.28 2288.77 Q1594.28 2286.02 1592.33 2284.28 Q1590.41 2282.55 1587.31 2282.55 Q1585.11 2282.55 1582.65 2283.31 Q1580.22 2284.08 1577.45 2285.63 L1577.45 2280.9 Q1580.27 2279.77 1582.72 2279.19 Q1585.18 2278.61 1587.21 2278.61 Q1592.59 2278.61 1595.78 2281.3 Q1598.97 2283.98 1598.97 2288.47 Q1598.97 2290.6 1598.16 2292.52 Q1597.38 2294.42 1595.27 2297.02 Q1594.69 2297.69 1591.59 2300.9 Q1588.49 2304.1 1582.84 2309.86 Z\" fill=\"#000000\" fill-rule=\"evenodd\" fill-opacity=\"1\" /><path clip-path=\"url(#clip980)\" d=\"M 0 0 M1744.73 2199.3 L1774.41 2199.3 L1774.41 2203.24 L1744.73 2203.24 L1744.73 2199.3 Z\" fill=\"#000000\" fill-rule=\"evenodd\" fill-opacity=\"1\" /><path clip-path=\"url(#clip980)\" d=\"M 0 0 M1780.29 2212.2 L1787.93 2212.2 L1787.93 2185.83 L1779.62 2187.5 L1779.62 2183.24 L1787.88 2181.57 L1792.56 2181.57 L1792.56 2212.2 L1800.2 2212.2 L1800.2 2216.13 L1780.29 2216.13 L1780.29 2212.2 Z\" fill=\"#000000\" fill-rule=\"evenodd\" fill-opacity=\"1\" /><path clip-path=\"url(#clip980)\" d=\"M 0 0 M1973.32 2086.98 Q1969.71 2086.98 1967.88 2090.55 Q1966.07 2094.09 1966.07 2101.22 Q1966.07 2108.33 1967.88 2111.89 Q1969.71 2115.43 1973.32 2115.43 Q1976.95 2115.43 1978.76 2111.89 Q1980.59 2108.33 1980.59 2101.22 Q1980.59 2094.09 1978.76 2090.55 Q1976.95 2086.98 1973.32 2086.98 M1973.32 2083.28 Q1979.13 2083.28 1982.18 2087.89 Q1985.26 2092.47 1985.26 2101.22 Q1985.26 2109.95 1982.18 2114.55 Q1979.13 2119.14 1973.32 2119.14 Q1967.51 2119.14 1964.43 2114.55 Q1961.37 2109.95 1961.37 2101.22 Q1961.37 2092.47 1964.43 2087.89 Q1967.51 2083.28 1973.32 2083.28 Z\" fill=\"#000000\" fill-rule=\"evenodd\" fill-opacity=\"1\" /><path clip-path=\"url(#clip980)\" d=\"M 0 0 M2164.55 2016.86 L2172.19 2016.86 L2172.19 1990.5 L2163.88 1992.16 L2163.88 1987.91 L2172.15 1986.24 L2176.82 1986.24 L2176.82 2016.86 L2184.46 2016.86 L2184.46 2020.8 L2164.55 2020.8 L2164.55 2016.86 Z\" fill=\"#000000\" fill-rule=\"evenodd\" fill-opacity=\"1\" /><path clip-path=\"url(#clip980)\" d=\"M 0 0 M2369.68 1919.2 L2386 1919.2 L2386 1923.13 L2364.05 1923.13 L2364.05 1919.2 Q2366.71 1916.44 2371.3 1911.81 Q2375.9 1907.16 2377.08 1905.82 Q2379.33 1903.29 2380.21 1901.56 Q2381.11 1899.8 2381.11 1898.11 Q2381.11 1895.35 2379.17 1893.62 Q2377.25 1891.88 2374.14 1891.88 Q2371.95 1891.88 2369.49 1892.65 Q2367.06 1893.41 2364.28 1894.96 L2364.28 1890.24 Q2367.11 1889.1 2369.56 1888.53 Q2372.02 1887.95 2374.05 1887.95 Q2379.42 1887.95 2382.62 1890.63 Q2385.81 1893.32 2385.81 1897.81 Q2385.81 1899.94 2385 1901.86 Q2384.21 1903.76 2382.11 1906.35 Q2381.53 1907.02 2378.43 1910.24 Q2375.33 1913.43 2369.68 1919.2 Z\" fill=\"#000000\" fill-rule=\"evenodd\" fill-opacity=\"1\" /><path clip-path=\"url(#clip980)\" d=\"M 0 0 M75.4226 2116.18 Q71.8115 2116.18 69.9828 2119.75 Q68.1773 2123.29 68.1773 2130.42 Q68.1773 2137.53 69.9828 2141.09 Q71.8115 2144.63 75.4226 2144.63 Q79.0569 2144.63 80.8624 2141.09 Q82.6911 2137.53 82.6911 2130.42 Q82.6911 2123.29 80.8624 2119.75 Q79.0569 2116.18 75.4226 2116.18 M75.4226 2112.48 Q81.2328 2112.48 84.2883 2117.09 Q87.367 2121.67 87.367 2130.42 Q87.367 2139.15 84.2883 2143.75 Q81.2328 2148.34 75.4226 2148.34 Q69.6125 2148.34 66.5338 2143.75 Q63.4782 2139.15 63.4782 2130.42 Q63.4782 2121.67 66.5338 2117.09 Q69.6125 2112.48 75.4226 2112.48 Z\" fill=\"#000000\" fill-rule=\"evenodd\" fill-opacity=\"1\" /><path clip-path=\"url(#clip980)\" d=\"M 0 0 M92.4364 2141.79 L97.3206 2141.79 L97.3206 2147.66 L92.4364 2147.66 L92.4364 2141.79 Z\" fill=\"#000000\" fill-rule=\"evenodd\" fill-opacity=\"1\" /><path clip-path=\"url(#clip980)\" d=\"M 0 0 M112.39 2116.18 Q108.779 2116.18 106.95 2119.75 Q105.145 2123.29 105.145 2130.42 Q105.145 2137.53 106.95 2141.09 Q108.779 2144.63 112.39 2144.63 Q116.024 2144.63 117.83 2141.09 Q119.658 2137.53 119.658 2130.42 Q119.658 2123.29 117.83 2119.75 Q116.024 2116.18 112.39 2116.18 M112.39 2112.48 Q118.2 2112.48 121.256 2117.09 Q124.334 2121.67 124.334 2130.42 Q124.334 2139.15 121.256 2143.75 Q118.2 2148.34 112.39 2148.34 Q106.58 2148.34 103.501 2143.75 Q100.446 2139.15 100.446 2130.42 Q100.446 2121.67 103.501 2117.09 Q106.58 2112.48 112.39 2112.48 Z\" fill=\"#000000\" fill-rule=\"evenodd\" fill-opacity=\"1\" /><path clip-path=\"url(#clip980)\" d=\"M 0 0 M77.0198 1778.03 Q73.4087 1778.03 71.58 1781.59 Q69.7745 1785.13 69.7745 1792.26 Q69.7745 1799.37 71.58 1802.93 Q73.4087 1806.47 77.0198 1806.47 Q80.6541 1806.47 82.4596 1802.93 Q84.2883 1799.37 84.2883 1792.26 Q84.2883 1785.13 82.4596 1781.59 Q80.6541 1778.03 77.0198 1778.03 M77.0198 1774.32 Q82.83 1774.32 85.8855 1778.93 Q88.9642 1783.51 88.9642 1792.26 Q88.9642 1800.99 85.8855 1805.59 Q82.83 1810.18 77.0198 1810.18 Q71.2097 1810.18 68.131 1805.59 Q65.0754 1800.99 65.0754 1792.26 Q65.0754 1783.51 68.131 1778.93 Q71.2097 1774.32 77.0198 1774.32 Z\" fill=\"#000000\" fill-rule=\"evenodd\" fill-opacity=\"1\" /><path clip-path=\"url(#clip980)\" d=\"M 0 0 M94.0336 1803.63 L98.9179 1803.63 L98.9179 1809.51 L94.0336 1809.51 L94.0336 1803.63 Z\" fill=\"#000000\" fill-rule=\"evenodd\" fill-opacity=\"1\" /><path clip-path=\"url(#clip980)\" d=\"M 0 0 M108.015 1805.57 L124.334 1805.57 L124.334 1809.51 L102.39 1809.51 L102.39 1805.57 Q105.052 1802.82 109.635 1798.19 Q114.242 1793.53 115.422 1792.19 Q117.668 1789.67 118.547 1787.93 Q119.45 1786.17 119.45 1784.48 Q119.45 1781.73 117.506 1779.99 Q115.584 1778.26 112.483 1778.26 Q110.284 1778.26 107.83 1779.02 Q105.399 1779.78 102.622 1781.34 L102.622 1776.61 Q105.446 1775.48 107.899 1774.9 Q110.353 1774.32 112.39 1774.32 Q117.76 1774.32 120.955 1777.01 Q124.149 1779.69 124.149 1784.18 Q124.149 1786.31 123.339 1788.23 Q122.552 1790.13 120.446 1792.72 Q119.867 1793.4 116.765 1796.61 Q113.663 1799.81 108.015 1805.57 Z\" fill=\"#000000\" fill-rule=\"evenodd\" fill-opacity=\"1\" /><path clip-path=\"url(#clip980)\" d=\"M 0 0 M74.9365 1439.87 Q71.3254 1439.87 69.4967 1443.43 Q67.6912 1446.97 67.6912 1454.1 Q67.6912 1461.21 69.4967 1464.77 Q71.3254 1468.32 74.9365 1468.32 Q78.5707 1468.32 80.3763 1464.77 Q82.205 1461.21 82.205 1454.1 Q82.205 1446.97 80.3763 1443.43 Q78.5707 1439.87 74.9365 1439.87 M74.9365 1436.16 Q80.7467 1436.16 83.8022 1440.77 Q86.8809 1445.35 86.8809 1454.1 Q86.8809 1462.83 83.8022 1467.44 Q80.7467 1472.02 74.9365 1472.02 Q69.1264 1472.02 66.0477 1467.44 Q62.9921 1462.83 62.9921 1454.1 Q62.9921 1445.35 66.0477 1440.77 Q69.1264 1436.16 74.9365 1436.16 Z\" fill=\"#000000\" fill-rule=\"evenodd\" fill-opacity=\"1\" /><path clip-path=\"url(#clip980)\" d=\"M 0 0 M91.9503 1465.47 L96.8345 1465.47 L96.8345 1471.35 L91.9503 1471.35 L91.9503 1465.47 Z\" fill=\"#000000\" fill-rule=\"evenodd\" fill-opacity=\"1\" /><path clip-path=\"url(#clip980)\" d=\"M 0 0 M114.751 1440.86 L102.946 1459.31 L114.751 1459.31 L114.751 1440.86 M113.524 1436.79 L119.404 1436.79 L119.404 1459.31 L124.334 1459.31 L124.334 1463.2 L119.404 1463.2 L119.404 1471.35 L114.751 1471.35 L114.751 1463.2 L99.1493 1463.2 L99.1493 1458.69 L113.524 1436.79 Z\" fill=\"#000000\" fill-rule=\"evenodd\" fill-opacity=\"1\" /><path clip-path=\"url(#clip980)\" d=\"M 0 0 M75.2606 1101.71 Q71.6495 1101.71 69.8208 1105.27 Q68.0152 1108.82 68.0152 1115.94 Q68.0152 1123.05 69.8208 1126.62 Q71.6495 1130.16 75.2606 1130.16 Q78.8948 1130.16 80.7004 1126.62 Q82.5291 1123.05 82.5291 1115.94 Q82.5291 1108.82 80.7004 1105.27 Q78.8948 1101.71 75.2606 1101.71 M75.2606 1098.01 Q81.0707 1098.01 84.1263 1102.61 Q87.205 1107.19 87.205 1115.94 Q87.205 1124.67 84.1263 1129.28 Q81.0707 1133.86 75.2606 1133.86 Q69.4504 1133.86 66.3717 1129.28 Q63.3162 1124.67 63.3162 1115.94 Q63.3162 1107.19 66.3717 1102.61 Q69.4504 1098.01 75.2606 1098.01 Z\" fill=\"#000000\" fill-rule=\"evenodd\" fill-opacity=\"1\" /><path clip-path=\"url(#clip980)\" d=\"M 0 0 M92.2744 1127.31 L97.1586 1127.31 L97.1586 1133.19 L92.2744 1133.19 L92.2744 1127.31 Z\" fill=\"#000000\" fill-rule=\"evenodd\" fill-opacity=\"1\" /><path clip-path=\"url(#clip980)\" d=\"M 0 0 M112.807 1114.05 Q109.659 1114.05 107.807 1116.2 Q105.978 1118.35 105.978 1122.1 Q105.978 1125.83 107.807 1128 Q109.659 1130.16 112.807 1130.16 Q115.955 1130.16 117.783 1128 Q119.635 1125.83 119.635 1122.1 Q119.635 1118.35 117.783 1116.2 Q115.955 1114.05 112.807 1114.05 M122.089 1099.39 L122.089 1103.65 Q120.33 1102.82 118.524 1102.38 Q116.742 1101.94 114.983 1101.94 Q110.353 1101.94 107.899 1105.07 Q105.469 1108.19 105.122 1114.51 Q106.487 1112.5 108.547 1111.43 Q110.608 1110.34 113.084 1110.34 Q118.293 1110.34 121.302 1113.51 Q124.334 1116.66 124.334 1122.1 Q124.334 1127.43 121.186 1130.64 Q118.038 1133.86 112.807 1133.86 Q106.811 1133.86 103.64 1129.28 Q100.469 1124.67 100.469 1115.94 Q100.469 1107.75 104.358 1102.89 Q108.247 1098.01 114.797 1098.01 Q116.557 1098.01 118.339 1098.35 Q120.145 1098.7 122.089 1099.39 Z\" fill=\"#000000\" fill-rule=\"evenodd\" fill-opacity=\"1\" /><path clip-path=\"url(#clip980)\" d=\"M 0 0 M75.5152 763.55 Q71.9041 763.55 70.0754 767.115 Q68.2699 770.657 68.2699 777.787 Q68.2699 784.893 70.0754 788.458 Q71.9041 791.999 75.5152 791.999 Q79.1494 791.999 80.955 788.458 Q82.7837 784.893 82.7837 777.787 Q82.7837 770.657 80.955 767.115 Q79.1494 763.55 75.5152 763.55 M75.5152 759.847 Q81.3254 759.847 84.3809 764.453 Q87.4596 769.037 87.4596 777.787 Q87.4596 786.513 84.3809 791.12 Q81.3254 795.703 75.5152 795.703 Q69.7051 795.703 66.6264 791.12 Q63.5708 786.513 63.5708 777.787 Q63.5708 769.037 66.6264 764.453 Q69.7051 759.847 75.5152 759.847 Z\" fill=\"#000000\" fill-rule=\"evenodd\" fill-opacity=\"1\" /><path clip-path=\"url(#clip980)\" d=\"M 0 0 M92.529 789.152 L97.4132 789.152 L97.4132 795.032 L92.529 795.032 L92.529 789.152 Z\" fill=\"#000000\" fill-rule=\"evenodd\" fill-opacity=\"1\" /><path clip-path=\"url(#clip980)\" d=\"M 0 0 M112.483 778.62 Q109.149 778.62 107.228 780.402 Q105.33 782.185 105.33 785.31 Q105.33 788.435 107.228 790.217 Q109.149 791.999 112.483 791.999 Q115.816 791.999 117.737 790.217 Q119.658 788.411 119.658 785.31 Q119.658 782.185 117.737 780.402 Q115.839 778.62 112.483 778.62 M107.807 776.629 Q104.797 775.888 103.108 773.828 Q101.441 771.768 101.441 768.805 Q101.441 764.662 104.381 762.254 Q107.344 759.847 112.483 759.847 Q117.645 759.847 120.584 762.254 Q123.524 764.662 123.524 768.805 Q123.524 771.768 121.834 773.828 Q120.168 775.888 117.182 776.629 Q120.561 777.416 122.436 779.708 Q124.334 781.999 124.334 785.31 Q124.334 790.333 121.256 793.018 Q118.2 795.703 112.483 795.703 Q106.765 795.703 103.686 793.018 Q100.631 790.333 100.631 785.31 Q100.631 781.999 102.529 779.708 Q104.427 777.416 107.807 776.629 M106.094 769.245 Q106.094 771.93 107.76 773.435 Q109.45 774.939 112.483 774.939 Q115.492 774.939 117.182 773.435 Q118.895 771.93 118.895 769.245 Q118.895 766.56 117.182 765.055 Q115.492 763.55 112.483 763.55 Q109.45 763.55 107.76 765.055 Q106.094 766.56 106.094 769.245 Z\" fill=\"#000000\" fill-rule=\"evenodd\" fill-opacity=\"1\" /><path clip-path=\"url(#clip980)\" d=\"M 0 0 M67.4597 452.938 L75.0985 452.938 L75.0985 426.573 L66.7884 428.239 L66.7884 423.98 L75.0522 422.314 L79.7281 422.314 L79.7281 452.938 L87.367 452.938 L87.367 456.874 L67.4597 456.874 L67.4597 452.938 Z\" fill=\"#000000\" fill-rule=\"evenodd\" fill-opacity=\"1\" /><path clip-path=\"url(#clip980)\" d=\"M 0 0 M92.4364 450.994 L97.3206 450.994 L97.3206 456.874 L92.4364 456.874 L92.4364 450.994 Z\" fill=\"#000000\" fill-rule=\"evenodd\" fill-opacity=\"1\" /><path clip-path=\"url(#clip980)\" d=\"M 0 0 M112.39 425.392 Q108.779 425.392 106.95 428.957 Q105.145 432.499 105.145 439.628 Q105.145 446.735 106.95 450.3 Q108.779 453.841 112.39 453.841 Q116.024 453.841 117.83 450.3 Q119.658 446.735 119.658 439.628 Q119.658 432.499 117.83 428.957 Q116.024 425.392 112.39 425.392 M112.39 421.689 Q118.2 421.689 121.256 426.295 Q124.334 430.878 124.334 439.628 Q124.334 448.355 121.256 452.962 Q118.2 457.545 112.39 457.545 Q106.58 457.545 103.501 452.962 Q100.446 448.355 100.446 439.628 Q100.446 430.878 103.501 426.295 Q106.58 421.689 112.39 421.689 Z\" fill=\"#000000\" fill-rule=\"evenodd\" fill-opacity=\"1\" /><g clip-path=\"url(#clip982)\">\n",
       "<image width=\"2204\" height=\"2214\" xlink:href=\"data:image/png;base64,\n",
       "iVBORw0KGgoAAAANSUhEUgAACJwAAAimCAYAAACmdUmkAAAgAElEQVR4nOzaQQ0AIRDAwOP8e14s\n",
       "0BchmVFQAV0z8wEAAAAAAAAAwKn/dgAAAAAAAAAAAG8xnAAAAAAAAAAAkBhOAAAAAAAAAABIDCcA\n",
       "AAAAAAAAACSGEwAAAAAAAAAAEsMJAAAAAAAAAACJ4QQAAAAAAAAAgMRwAgAAAAAAAABAYjgBAAAA\n",
       "AAAAACAxnAAAAAAAAAAAkBhOAAAAAAAAAABIDCcAAAAAAAAAACSGEwAAAAAAAAAAEsMJAAAAAAAA\n",
       "AACJ4QQAAAAAAAAAgMRwAgAAAAAAAABAYjgBAAAAAAAAACAxnAAAAAAAAAAAkBhOAAAAAAAAAABI\n",
       "DCcAAAAAAAAAACSGEwAAAAAAAAAAEsMJAAAAAAAAAACJ4QQAAAAAAAAAgMRwAgAAAAAAAABAYjgB\n",
       "AAAAAAAAACAxnAAAAAAAAAAAkBhOAAAAAAAAAABIDCcAAAAAAAAAACSGEwAAAAAAAAAAEsMJAAAA\n",
       "AAAAAACJ4QQAAAAAAAAAgMRwAgAAAAAAAABAYjgBAAAAAAAAACAxnAAAAAAAAAAAkBhOAAAAAAAA\n",
       "AABIDCcAAAAAAAAAACSGEwAAAAAAAAAAEsMJAAAAAAAAAACJ4QQAAAAAAAAAgMRwAgAAAAAAAABA\n",
       "YjgBAAAAAAAAACAxnAAAAAAAAAAAkBhOAAAAAAAAAABIDCcAAAAAAAAAACSGEwAAAAAAAAAAEsMJ\n",
       "AAAAAAAAAACJ4QQAAAAAAAAAgMRwAgAAAAAAAABAYjgBAAAAAAAAACAxnAAAAAAAAAAAkBhOAAAA\n",
       "AAAAAABIDCcAAAAAAAAAACSGEwAAAAAAAAAAEsMJAAAAAAAAAACJ4QQAAAAAAAAAgMRwAgAAAAAA\n",
       "AABAYjgBAAAAAAAAACAxnAAAAAAAAAAAkBhOAAAAAAAAAABIDCcAAAAAAAAAACSGEwAAAAAAAAAA\n",
       "EsMJAAAAAAAAAACJ4QQAAAAAAAAAgMRwAgAAAAAAAABAYjgBAAAAAAAAACAxnAAAAAAAAAAAkBhO\n",
       "AAAAAAAAAABIDCcAAAAAAAAAACSGEwAAAAAAAAAAEsMJAAAAAAAAAACJ4QQAAAAAAAAAgMRwAgAA\n",
       "AAAAAABAYjgBAAAAAAAAACAxnAAAAAAAAAAAkBhOAAAAAAAAAABIDCcAAAAAAAAAACSGEwAAAAAA\n",
       "AAAAEsMJAAAAAAAAAACJ4QQAAAAAAAAAgMRwAgAAAAAAAABAYjgBAAAAAAAAACAxnAAAAAAAAAAA\n",
       "kBhOAAAAAAAAAABIDCcAAAAAAAAAACSGEwAAAAAAAAAAEsMJAAAAAAAAAACJ4QQAAAAAAAAAgMRw\n",
       "AgAAAAAAAABAYjgBAAAAAAAAACAxnAAAAAAAAAAAkBhOAAAAAAAAAABIDCcAAAAAAAAAACSGEwAA\n",
       "AAAAAAAAEsMJAAAAAAAAAACJ4QQAAAAAAAAAgMRwAgAAAAAAAABAYjgBAAAAAAAAACAxnAAAAAAA\n",
       "AAAAkBhOAAAAAAAAAABIDCcAAAAAAAAAACSGEwAAAAAAAAAAEsMJAAAAAAAAAACJ4QQAAAAAAAAA\n",
       "gMRwAgAAAAAAAABAYjgBAAAAAAAAACAxnAAAAAAAAAAAkBhOAAAAAAAAAABIDCcAAAAAAAAAACSG\n",
       "EwAAAAAAAAAAEsMJAAAAAAAAAACJ4QQAAAAAAAAAgMRwAgAAAAAAAABAYjgBAAAAAAAAACAxnAAA\n",
       "AAAAAAAAkBhOAAAAAAAAAABIDCcAAAAAAAAAACSGEwAAAAAAAAAAEsMJAAAAAAAAAACJ4QQAAAAA\n",
       "AAAAgMRwAgAAAAAAAABAYjgBAAAAAAAAACAxnAAAAAAAAAAAkBhOAAAAAAAAAABIDCcAAAAAAAAA\n",
       "ACSGEwAAAAAAAAAAEsMJAAAAAAAAAACJ4QQAAAAAAAAAgMRwAgAAAAAAAABAYjgBAAAAAAAAACAx\n",
       "nAAAAAAAAAAAkBhOAAAAAAAAAABIDCcAAAAAAAAAACSGEwAAAAAAAAAAEsMJAAAAAAAAAACJ4QQA\n",
       "AAAAAAAAgMRwAgAAAAAAAABAYjgBAAAAAAAAACAxnAAAAAAAAAAAkBhOAAAAAAAAAABIDCcAAAAA\n",
       "AAAAACSGEwAAAAAAAAAAEsMJAAAAAAAAAACJ4QQAAAAAAAAAgMRwAgAAAAAAAABAYjgBAAAAAAAA\n",
       "ACAxnAAAAAAAAAAAkBhOAAAAAAAAAABIDCcAAAAAAAAAACSGEwAAAAAAAAAAEsMJAAAAAAAAAACJ\n",
       "4QQAAAAAAAAAgMRwAgAAAAAAAABAYjgBAAAAAAAAACAxnAAAAAAAAAAAkBhOAAAAAAAAAABIDCcA\n",
       "AAAAAAAAACSGEwAAAAAAAAAAEsMJAAAAAAAAAACJ4QQAAAAAAAAAgMRwAgAAAAAAAABAYjgBAAAA\n",
       "AAAAACAxnAAAAAAAAAAAkBhOAAAAAAAAAABIDCcAAAAAAAAAACSGEwAAAAAAAAAAEsMJAAAAAAAA\n",
       "AACJ4QQAAAAAAAAAgMRwAgAAAAAAAABAYjgBAAAAAAAAACAxnAAAAAAAAAAAkBhOAAAAAAAAAABI\n",
       "DCcAAAAAAAAAACSGEwAAAAAAAAAAEsMJAAAAAAAAAACJ4QQAAAAAAAAAgMRwAgAAAAAAAABAYjgB\n",
       "AAAAAAAAACAxnAAAAAAAAAAAkBhOAAAAAAAAAABIDCcAAAAAAAAAACSGEwAAAAAAAAAAEsMJAAAA\n",
       "AAAAAACJ4QQAAAAAAAAAgMRwAgAAAAAAAABAYjgBAAAAAAAAACAxnAAAAAAAAAAAkBhOAAAAAAAA\n",
       "AABIDCcAAAAAAAAAACSGEwAAAAAAAAAAEsMJAAAAAAAAAACJ4QQAAAAAAAAAgMRwAgAAAAAAAABA\n",
       "YjgBAAAAAAAAACAxnAAAAAAAAAAAkBhOAAAAAAAAAABIDCcAAAAAAAAAACSGEwAAAAAAAAAAEsMJ\n",
       "AAAAAAAAAACJ4QQAAAAAAAAAgMRwAgAAAAAAAABAYjgBAAAAAAAAACAxnAAAAAAAAAAAkBhOAAAA\n",
       "AAAAAABIDCcAAAAAAAAAACSGEwAAAAAAAAAAEsMJAAAAAAAAAACJ4QQAAAAAAAAAgMRwAgAAAAAA\n",
       "AABAYjgBAAAAAAAAACAxnAAAAAAAAAAAkBhOAAAAAAAAAABIDCcAAAAAAAAAACSGEwAAAAAAAAAA\n",
       "EsMJAAAAAAAAAACJ4QQAAAAAAAAAgMRwAgAAAAAAAABAYjgBAAAAAAAAACAxnAAAAAAAAAAAkBhO\n",
       "AAAAAAAAAABIDCcAAAAAAAAAACSGEwAAAAAAAAAAEsMJAAAAAAAAAACJ4QQAAAAAAAAAgMRwAgAA\n",
       "AAAAAABAYjgBAAAAAAAAACAxnAAAAAAAAAAAkBhOAAAAAAAAAABIDCcAAAAAAAAAACSGEwAAAAAA\n",
       "AAAAEsMJAAAAAAAAAACJ4QQAAAAAAAAAgMRwAgAAAAAAAABAYjgBAAAAAAAAACAxnAAAAAAAAAAA\n",
       "kBhOAAAAAAAAAABIDCcAAAAAAAAAACSGEwAAAAAAAAAAEsMJAAAAAAAAAACJ4QQAAAAAAAAAgMRw\n",
       "AgAAAAAAAABAYjgBAAAAAAAAACAxnAAAAAAAAAAAkBhOAAAAAAAAAABIDCcAAAAAAAAAACSGEwAA\n",
       "AAAAAAAAEsMJAAAAAAAAAACJ4QQAAAAAAAAAgMRwAgAAAAAAAABAYjgBAAAAAAAAACAxnAAAAAAA\n",
       "AAAAkBhOAAAAAAAAAABIDCcAAAAAAAAAACSGEwAAAAAAAAAAEsMJAAAAAAAAAACJ4QQAAAAAAAAA\n",
       "gMRwAgAAAAAAAABAYjgBAAAAAAAAACAxnAAAAAAAAAAAkBhOAAAAAAAAAABIDCcAAAAAAAAAACSG\n",
       "EwAAAAAAAAAAEsMJAAAAAAAAAACJ4QQAAAAAAAAAgMRwAgAAAAAAAABAYjgBAAAAAAAAACAxnAAA\n",
       "AAAAAAAAkBhOAAAAAAAAAABIDCcAAAAAAAAAACSGEwAAAAAAAAAAEsMJAAAAAAAAAACJ4QQAAAAA\n",
       "AAAAgMRwAgAAAAAAAABAYjgBAAAAAAAAACAxnAAAAAAAAAAAkBhOAAAAAAAAAABIDCcAAAAAAAAA\n",
       "ACSGEwAAAAAAAAAAEsMJAAAAAAAAAACJ4QQAAAAAAAAAgMRwAgAAAAAAAABAYjgBAAAAAAAAACAx\n",
       "nAAAAAAAAAAAkBhOAAAAAAAAAABIDCcAAAAAAAAAACSGEwAAAAAAAAAAEsMJAAAAAAAAAACJ4QQA\n",
       "AAAAAAAAgMRwAgAAAAAAAABAYjgBAAAAAAAAACAxnAAAAAAAAAAAkBhOAAAAAAAAAABIDCcAAAAA\n",
       "AAAAACSGEwAAAAAAAAAAEsMJAAAAAAAAAACJ4QQAAAAAAAAAgMRwAgAAAAAAAABAYjgBAAAAAAAA\n",
       "ACAxnAAAAAAAAAAAkBhOAAAAAAAAAABIDCcAAAAAAAAAACSGEwAAAAAAAAAAEsMJAAAAAAAAAACJ\n",
       "4QQAAAAAAAAAgMRwAgAAAAAAAABAYjgBAAAAAAAAACAxnAAAAAAAAAAAkBhOAAAAAAAAAABIDCcA\n",
       "AAAAAAAAACSGEwAAAAAAAAAAEsMJAAAAAAAAAACJ4QQAAAAAAAAAgMRwAgAAAAAAAABAYjgBAAAA\n",
       "AAAAACAxnAAAAAAAAAAAkBhOAAAAAAAAAABIDCcAAAAAAAAAACSGEwAAAAAAAAAAEsMJAAAAAAAA\n",
       "AACJ4QQAAAAAAAAAgMRwAgAAAAAAAABAYjgBAAAAAAAAACAxnAAAAAAAAAAAkBhOAAAAAAAAAABI\n",
       "DCcAAAAAAAAAACSGEwAAAAAAAAAAEsMJAAAAAAAAAACJ4QQAAAAAAAAAgMRwAgAAAAAAAABAYjgB\n",
       "AAAAAAAAACAxnAAAAAAAAAAAkBhOAAAAAAAAAABIDCcAAAAAAAAAACSGEwAAAAAAAAAAEsMJAAAA\n",
       "AAAAAACJ4QQAAAAAAAAAgMRwAgAAAAAAAABAYjgBAAAAAAAAACAxnAAAAAAAAAAAkBhOAAAAAAAA\n",
       "AABIDCcAAAAAAAAAACSGEwAAAAAAAAAAEsMJAAAAAAAAAACJ4QQAAAAAAAAAgMRwAgAAAAAAAABA\n",
       "YjgBAAAAAAAAACAxnAAAAAAAAAAAkBhOAAAAAAAAAABIDCcAAAAAAAAAACSGEwAAAAAAAAAAEsMJ\n",
       "AAAAAAAAAACJ4QQAAAAAAAAAgMRwAgAAAAAAAABAYjgBAAAAAAAAACAxnAAAAAAAAAAAkBhOAAAA\n",
       "AAAAAABIDCcAAAAAAAAAACSGEwAAAAAAAAAAEsMJAAAAAAAAAACJ4QQAAAAAAAAAgMRwAgAAAAAA\n",
       "AABAYjgBAAAAAAAAACAxnAAAAAAAAAAAkBhOAAAAAAAAAABIDCcAAAAAAAAAACSGEwAAAAAAAAAA\n",
       "EsMJAAAAAAAAAACJ4QQAAAAAAAAAgMRwAgAAAAAAAABAYjgBAAAAAAAAACAxnAAAAAAAAAAAkBhO\n",
       "AAAAAAAAAABIDCcAAAAAAAAAACSGEwAAAAAAAAAAEsMJAAAAAAAAAACJ4QQAAAAAAAAAgMRwAgAA\n",
       "AAAAAABAYjgBAAAAAAAAACAxnAAAAAAAAAAAkBhOAAAAAAAAAABIDCcAAAAAAAAAACSGEwAAAAAA\n",
       "AAAAEsMJAAAAAAAAAACJ4QQAAAAAAAAAgMRwAgAAAAAAAABAYjgBAAAAAAAAACAxnAAAAAAAAAAA\n",
       "kBhOAAAAAAAAAABIDCcAAAAAAAAAACSGEwAAAAAAAAAAEsMJAAAAAAAAAACJ4QQAAAAAAAAAgMRw\n",
       "AgAAAAAAAABAYjgBAAAAAAAAACAxnAAAAAAAAAAAkBhOAAAAAAAAAABIDCcAAAAAAAAAACSGEwAA\n",
       "AAAAAAAAEsMJAAAAAAAAAACJ4QQAAAAAAAAAgMRwAgAAAAAAAABAYjgBAAAAAAAAACAxnAAAAAAA\n",
       "AAAAkBhOAAAAAAAAAABIDCcAAAAAAAAAACSGEwAAAAAAAAAAEsMJAAAAAAAAAACJ4QQAAAAAAAAA\n",
       "gMRwAgAAAAAAAABAYjgBAAAAAAAAACAxnAAAAAAAAAAAkBhOAAAAAAAAAABIDCcAAAAAAAAAACSG\n",
       "EwAAAAAAAAAAEsMJAAAAAAAAAACJ4QQAAAAAAAAAgMRwAgAAAAAAAABAYjgBAAAAAAAAACAxnAAA\n",
       "AAAAAAAAkBhOAAAAAAAAAABIDCcAAAAAAAAAACSGEwAAAAAAAAAAEsMJAAAAAAAAAACJ4QQAAAAA\n",
       "AAAAgMRwAgAAAAAAAABAYjgBAAAAAAAAACAxnAAAAAAAAAAAkBhOAAAAAAAAAABIDCcAAAAAAAAA\n",
       "ACSGEwAAAAAAAAAAEsMJAAAAAAAAAACJ4QQAAAAAAAAAgMRwAgAAAAAAAABAYjgBAAAAAAAAACAx\n",
       "nAAAAAAAAAAAkBhOAAAAAAAAAABIDCcAAAAAAAAAACSGEwAAAAAAAAAAEsMJAAAAAAAAAACJ4QQA\n",
       "AAAAAAAAgMRwAgAAAAAAAABAYjgBAAAAAAAAACAxnAAAAAAAAAAAkBhOAAAAAAAAAABIDCcAAAAA\n",
       "AAAAACSGEwAAAAAAAAAAEsMJAAAAAAAAAACJ4QQAAAAAAAAAgMRwAgAAAAAAAABAYjgBAAAAAAAA\n",
       "ACAxnAAAAAAAAAAAkBhOAAAAAAAAAABIDCcAAAAAAAAAACSGEwAAAAAAAAAAEsMJAAAAAAAAAACJ\n",
       "4QQAAAAAAAAAgMRwAgAAAAAAAABAYjgBAAAAAAAAACAxnAAAAAAAAAAAkBhOAAAAAAAAAABIDCcA\n",
       "AAAAAAAAACSGEwAAAAAAAAAAEsMJAAAAAAAAAACJ4QQAAAAAAAAAgMRwAgAAAAAAAABAYjgBAAAA\n",
       "AAAAACAxnAAAAAAAAAAAkBhOAAAAAAAAAIDNrh0LAAAAAAzytx7D/uIIFuEEAAAAAAAAAIBFOAEA\n",
       "AAAAAAAAYBFOAAAAAAAAAABYhBMAAAAAAAAAABbhBAAAAAAAAACARTgBAAAAAAAAAGARTgAAAAAA\n",
       "AAAAWIQTAAAAAAAAAAAW4QQAAAAAAAAAgEU4AQAAAAAAAABgEU4AAAAAAAAAAFiEEwAAAAAAAAAA\n",
       "FuEEAAAAAAAAAIBFOAEAAAAAAAAAYBFOAAAAAAAAAABYhBMAAAAAAAAAABbhBAAAAAAAAACARTgB\n",
       "AAAAAAAAAGARTgAAAAAAAAAAWIQTAAAAAAAAAAAW4QQAAAAAAAAAgEU4AQAAAAAAAABgEU4AAAAA\n",
       "AAAAAFiEEwAAAAAAAAAAFuEEAAAAAAAAAIBFOAEAAAAAAAAAYBFOAAAAAAAAAABYhBMAAAAAAAAA\n",
       "ABbhBAAAAAAAAACARTgBAAAAAAAAAGARTgAAAAAAAAAAWIQTAAAAAAAAAAAW4QQAAAAAAAAAgEU4\n",
       "AQAAAAAAAABgEU4AAAAAAAAAAFiEEwAAAAAAAAAAFuEEAAAAAAAAAIBFOAEAAAAAAAAAYBFOAAAA\n",
       "AAAAAABYhBMAAAAAAAAAABbhBAAAAAAAAACARTgBAAAAAAAAAGARTgAAAAAAAAAAWIQTAAAAAAAA\n",
       "AAAW4QQAAAAAAAAAgEU4AQAAAAAAAABgEU4AAAAAAAAAAFiEEwAAAAAAAAAAFuEEAAAAAAAAAIBF\n",
       "OAEAAAAAAAAAYBFOAAAAAAAAAABYhBMAAAAAAAAAABbhBAAAAAAAAACARTgBAAAAAAAAAGARTgAA\n",
       "AAAAAAAAWIQTAAAAAAAAAAAW4QQAAAAAAAAAgEU4AQAAAAAAAABgEU4AAAAAAAAAAFiEEwAAAAAA\n",
       "AAAAFuEEAAAAAAAAAIBFOAEAAAAAAAAAYBFOAAAAAAAAAABYhBMAAAAAAAAAABbhBAAAAAAAAACA\n",
       "RTgBAAAAAAAAAGARTgAAAAAAAAAAWIQTAAAAAAAAAAAW4QQAAAAAAAAAgEU4AQAAAAAAAABgEU4A\n",
       "AAAAAAAAAFiEEwAAAAAAAAAAFuEEAAAAAAAAAIBFOAEAAAAAAAAAYBFOAAAAAAAAAABYhBMAAAAA\n",
       "AAAAABbhBAAAAAAAAACARTgBAAAAAAAAAGARTgAAAAAAAAAAWIQTAAAAAAAAAAAW4QQAAAAAAAAA\n",
       "gEU4AQAAAAAAAABgEU4AAAAAAAAAAFiEEwAAAAAAAAAAFuEEAAAAAAAAAIBFOAEAAAAAAAAAYBFO\n",
       "AAAAAAAAAABYhBMAAAAAAAAAABbhBAAAAAAAAACARTgBAAAAAAAAAGARTgAAAAAAAAAAWIQTAAAA\n",
       "AAAAAAAW4QQAAAAAAAAAgEU4AQAAAAAAAABgEU4AAAAAAAAAAFiEEwAAAAAAAAAAFuEEAAAAAAAA\n",
       "AIBFOAEAAAAAAAAAYBFOAAAAAAAAAABYhBMAAAAAAAAAABbhBAAAAAAAAACARTgBAAAAAAAAAGAR\n",
       "TgAAAAAAAAAAWIQTAAAAAAAAAAAW4QQAAAAAAAAAgEU4AQAAAAAAAABgEU4AAAAAAAAAAFiEEwAA\n",
       "AAAAAAAAFuEEAAAAAAAAAIBFOAEAAAAAAAAAYBFOAAAAAAAAAABYhBMAAAAAAAAAABbhBAAAAAAA\n",
       "AACARTgBAAAAAAAAAGARTgAAAAAAAAAAWIQTAAAAAAAAAAAW4QQAAAAAAAAAgEU4AQAAAAAAAABg\n",
       "EU4AAAAAAAAAAFiEEwAAAAAAAAAAFuEEAAAAAAAAAIBFOAEAAAAAAAAAYBFOAAAAAAAAAABYhBMA\n",
       "AAAAAAAAABbhBAAAAAAAAACARTgBAAAAAAAAAGARTgAAAAAAAAAAWIQTAAAAAAAAAAAW4QQAAAAA\n",
       "AAAAgEU4AQAAAAAAAABgEU4AAAAAAAAAAFiEEwAAAAAAAAAAFuEEAAAAAAAAAIBFOAEAAAAAAAAA\n",
       "YBFOAAAAAAAAAABYhBMAAAAAAAAAABbhBAAAAAAAAACARTgBAAAAAAAAAGARTgAAAAAAAAAAWIQT\n",
       "AAAAAAAAAAAW4QQAAAAAAAAAgEU4AQAAAAAAAABgEU4AAAAAAAAAAFiEEwAAAAAAAAAAFuEEAAAA\n",
       "AAAAAIBFOAEAAAAAAAAAYBFOAAAAAAAAAABYhBMAAAAAAAAAABbhBAAAAAAAAACARTgBAAAAAAAA\n",
       "AGARTgAAAAAAAAAAWIQTAAAAAAAAAAAW4QQAAAAAAAAAgEU4AQAAAAAAAABgEU4AAAAAAAAAAFiE\n",
       "EwAAAAAAAAAAFuEEAAAAAAAAAIBFOAEAAAAAAAAAYBFOAAAAAAAAAABYhBMAAAAAAAAAABbhBAAA\n",
       "AAAAAACARTgBAAAAAAAAAGARTgAAAAAAAAAAWIQTAAAAAAAAAAAW4QQAAAAAAAAAgEU4AQAAAAAA\n",
       "AABgEU4AAAAAAAAAAFiEEwAAAAAAAAAAFuEEAAAAAAAAAIBFOAEAAAAAAAAAYBFOAAAAAAAAAABY\n",
       "hBMAAAAAAAAAABbhBAAAAAAAAACARTgBAAAAAAAAAGARTgAAAAAAAAAAWIQTAAAAAAAAAAAW4QQA\n",
       "AAAAAAAAgEU4AQAAAAAAAABgEU4AAAAAAAAAAFiEEwAAAAAAAAAAFuEEAAAAAAAAAIBFOAEAAAAA\n",
       "AAAAYBFOAAAAAAAAAABYhBMAAAAAAAAAABbhBAAAAAAAAACARTgBAAAAAAAAAGARTgAAAAAAAAAA\n",
       "WIQTAAAAAAAAAAAW4QQAAAAAAAAAgEU4AQAAAAAAAABgEU4AAAAAAAAAAFiEEwAAAAAAAAAAFuEE\n",
       "AAAAAAAAAIBFOAEAAAAAAAAAYBFOAAAAAAAAAABYhBMAAAAAAAAAABbhBAAAAAAAAACARTgBAAAA\n",
       "AAAAAGARTgAAAAAAAAAAWIQTAAAAAAAAAAAW4QQAAAAAAAAAgEU4AQAAAAAAAABgEU4AAAAAAAAA\n",
       "AFiEEwAAAAAAAAAAFuEEAAAAAAAAAIBFOAEAAAAAAAAAYBFOAAAAAAAAAABYhBMAAAAAAAAAABbh\n",
       "BAAAAAAAAACARTgBAAAAAAAAAGARTgAAAAAAAAAAWIQTAAAAAAAAAAAW4QQAAAAAAAAAgEU4AQAA\n",
       "AAAAAABgEU4AAAAAAAAAAFiEEwAAAAAAAAAAFuEEAAAAAAAAAIBFOAEAAAAAAAAAYBFOAAAAAAAA\n",
       "AABYhBMAAAAAAAAAABbhBAAAAAAAAACARTgBAAAAAAAAAGARTgAAAAAAAAAAWIQTAAAAAAAAAAAW\n",
       "4QQAAAAAAAAAgEU4AQAAAAAAAABgEU4AAAAAAAAAAFiEEwAAAAAAAAAAFuEEAAAAAAAAAIBFOAEA\n",
       "AAAAAAAAYBFOAAAAAAAAAABYhBMAAAAAAAAAABbhBAAAAAAAAACARTgBAAAAAAAAAGARTgAAAAAA\n",
       "AAAAWIQTAAAAAAAAAAAW4QQAAAAAAAAAgEU4AQAAAAAAAABgEU4AAAAAAAAAAFiEEwAAAAAAAAAA\n",
       "FuEEAAAAAAAAAIBFOAEAAAAAAAAAYBFOAAAAAAAAAABYhBMAAAAAAAAAABbhBAAAAAAAAACARTgB\n",
       "AAAAAAAAAGARTgAAAAAAAAAAWIQTAAAAAAAAAAAW4QQAAAAAAAAAgEU4AQAAAAAAAABgEU4AAAAA\n",
       "AAAAAFiEEwAAAAAAAAAAFuEEAAAAAAAAAIBFOAEAAAAAAAAAYBFOAAAAAAAAAABYhBMAAAAAAAAA\n",
       "ABbhBAAAAAAAAACARTgBAAAAAAAAAGARTgAAAAAAAAAAWIQTAAAAAAAAAAAW4QQAAAAAAAAAgEU4\n",
       "AQAAAAAAAABgEU4AAAAAAAAAAFiEEwAAAAAAAAAAFuEEAAAAAAAAAIBFOAEAAAAAAAAAYBFOAAAA\n",
       "AAAAAABYhBMAAAAAAAAAABbhBAAAAAAAAACARTgBAAAAAAAAAGARTgAAAAAAAAAAWIQTAAAAAAAA\n",
       "AAAW4QQAAAAAAAAAgEU4AQAAAAAAAABgEU4AAAAAAAAAAFiEEwAAAAAAAAAAFuEEAAAAAAAAAIBF\n",
       "OAEAAAAAAAAAYBFOAAAAAAAAAABYhBMAAAAAAAAAABbhBAAAAAAAAACARTgBAAAAAAAAAGARTgAA\n",
       "AAAAAAAAWIQTAAAAAAAAAAAW4QQAAAAAACulHjEAACAASURBVAAAgEU4AQAAAAAAAABgEU4AAAAA\n",
       "AAAAAFiEEwAAAAAAAAAAFuEEAAAAAAAAAIBFOAEAAAAAAAAAYBFOAAAAAAAAAABYhBMAAAAAAAAA\n",
       "ABbhBAAAAAAAAACARTgBAAAAAAAAAGARTgAAAAAAAAAAWIQTAAAAAAAAAAAW4QQAAAAAAAAAgEU4\n",
       "AQAAAAAAAABgEU4AAAAAAAAAAFiEEwAAAAAAAAAAFuEEAAAAAAAAAIBFOAEAAAAAAAAAYBFOAAAA\n",
       "AAAAAABYhBMAAAAAAAAAABbhBAAAAAAAAACARTgBAAAAAAAAAGARTgAAAAAAAAAAWIQTAAAAAAAA\n",
       "AAAW4QQAAAAAAAAAgEU4AQAAAAAAAABgEU4AAAAAAAAAAFiEEwAAAAAAAAAAFuEEAAAAAAAAAIBF\n",
       "OAEAAAAAAAAAYBFOAAAAAAAAAABYhBMAAAAAAAAAABbhBAAAAAAAAACARTgBAAAAAAAAAGARTgAA\n",
       "AAAAAAAAWIQTAAAAAAAAAAAW4QQAAAAAAAAAgEU4AQAAAAAAAABgEU4AAAAAAAAAAFiEEwAAAAAA\n",
       "AAAAFuEEAAAAAAAAAIBFOAEAAAAAAAAAYBFOAAAAAAAAAABYhBMAAAAAAAAAABbhBAAAAAAAAACA\n",
       "RTgBAAAAAAAAAGARTgAAAAAAAAAAWIQTAAAAAAAAAAAW4QQAAAAAAAAAgEU4AQAAAAAAAABgEU4A\n",
       "AAAAAAAAAFiEEwAAAAAAAAAAFuEEAAAAAAAAAIBFOAEAAAAAAAAAYBFOAAAAAAAAAABYhBMAAAAA\n",
       "AAAAABbhBAAAAAAAAACARTgBAAAAAAAAAGARTgAAAAAAAAAAWIQTAAAAAAAAAAAW4QQAAAAAAAAA\n",
       "gEU4AQAAAAAAAABgEU4AAAAAAAAAAFiEEwAAAAAAAAAAFuEEAAAAAAAAAIBFOAEAAAAAAAAAYBFO\n",
       "AAAAAAAAAABYhBMAAAAAAAAAABbhBAAAAAAAAACARTgBAAAAAAAAAGARTgAAAAAAAAAAWIQTAAAA\n",
       "AAAAAAAW4QQAAAAAAAAAgEU4AQAAAAAAAABgEU4AAAAAAAAAAFiEEwAAAAAAAAAAFuEEAAAAAAAA\n",
       "AIBFOAEAAAAAAAAAYBFOAAAAAAAAAABYhBMAAAAAAAAAABbhBAAAAAAAAACARTgBAAAAAAAAAGAR\n",
       "TgAAAAAAAAAAWIQTAAAAAAAAAAAW4QQAAAAAAAAAgEU4AQAAAAAAAABgEU4AAAAAAAAAAFiEEwAA\n",
       "AAAAAAAAFuEEAAAAAAAAAIBFOAEAAAAAAAAAYBFOAAAAAAAAAABYhBMAAAAAAAAAABbhBAAAAAAA\n",
       "AACARTgBAAAAAAAAAGARTgAAAAAAAAAAWIQTAAAAAAAAAAAW4QQAAAAAAAAAgEU4AQAAAAAAAABg\n",
       "EU4AAAAAAAAAAFiEEwAAAAAAAAAAFuEEAAAAAAAAAIBFOAEAAAAAAAAAYBFOAAAAAAAAAABYhBMA\n",
       "AAAAAAAAABbhBAAAAAAAAACARTgBAAAAAAAAAGARTgAAAAAAAAAAWIQTAAAAAAAAAAAW4QQAAAAA\n",
       "AAAAgEU4AQAAAAAAAABgEU4AAAAAAAAAAFiEEwAAAAAAAAAAFuEEAAAAAAAAAIBFOAEAAAAAAAAA\n",
       "YBFOAAAAAAAAAABYhBMAAAAAAAAAABbhBAAAAAAAAACARTgBAAAAAAAAAGARTgAAAAAAAAAAWIQT\n",
       "AAAAAAAAAAAW4QQAAAAAAAAAgEU4AQAAAAAAAABgEU4AAAAAAAAAAFiEEwAAAAAAAAAAFuEEAAAA\n",
       "AAAAAIBFOAEAAAAAAAAAYBFOAAAAAAAAAABYhBMAAAAAAAAAABbhBAAAAAAAAACARTgBAAAAAAAA\n",
       "AGARTgAAAAAAAAAAWIQTAAAAAAAAAAAW4QQAAAAAAAAAgEU4AQAAAAAAAABgEU4AAAAAAAAAAFiE\n",
       "EwAAAAAAAAAAFuEEAAAAAAAAAIBFOAEAAAAAAAAAYBFOAAAAAAAAAABYhBMAAAAAAAAAABbhBAAA\n",
       "AAAAAACARTgBAAAAAAAAAGARTgAAAAAAAAAAWIQTAAAAAAAAAAAW4QQAAAAAAAAAgEU4AQAAAAAA\n",
       "AABgEU4AAAAAAAAAAFiEEwAAAAAAAAAAFuEEAAAAAAAAAIBFOAEAAAAAAAAAYBFOAAAAAAAAAABY\n",
       "hBMAAAAAAAAAABbhBAAAAAAAAACARTgBAAAAAAAAAGARTgAAAAAAAAAAWIQTAAAAAAAAAAAW4QQA\n",
       "AAAAAAAAgEU4AQAAAAAAAABgEU4AAAAAAAAAAFiEEwAAAAAAAAAAFuEEAAAAAAAAAIBFOAEAAAAA\n",
       "AAAAYBFOAAAAAAAAAABYhBMAAAAAAAAAABbhBAAAAAAAAACARTgBAAAAAAAAAGARTgAAAAAAAAAA\n",
       "WIQTAAAAAAAAAAAW4QQAAAAAAAAAgEU4AQAAAAAAAABgEU4AAAAAAAAAAFiEEwAAAAAAAAAAFuEE\n",
       "AAAAAAAAAIBFOAEAAAAAAAAAYBFOAAAAAAAAAABYhBMAAAAAAAAAABbhBAAAAAAAAACARTgBAAAA\n",
       "AAAAAGARTgAAAAAAAAAAWIQTAAAAAAAAAAAW4QQAAAAAAAAAgEU4AQAAAAAAAABgEU4AAAAAAAAA\n",
       "AFiEEwAAAAAAAAAAlti1YwEAAACAQf7WY9hfHAknAAAAAAAAAAAswgkAAAAAAAAAAItwAgAAAAAA\n",
       "AADAIpwAAAAAAAAAALAIJwAAAAAAAAAALMIJAAAAAAAAAACLcAIAAAAAAAAAwCKcAAAAAAAAAACw\n",
       "CCcAAAAAAAAAACzCCQAAAAAAAAAAi3ACAAAAAAAAAMAinAAAAAAAAAAAsAgnAAAAAAAAAAAswgkA\n",
       "AAAAAAAAAItwAgAAAAAAAADAIpwAAAAAAAAAALAIJwAAAAAAAAAALMIJAAAAAAAAAACLcAIAAAAA\n",
       "AAAAwCKcAAAAAAAAAACwCCcAAAAAAAAAACzCCQAAAAAAAAAAi3ACAAAAAAAAAMAinAAAAAAAAAAA\n",
       "sAgnAAAAAAAAAAAswgkAAAAAAAAAAItwAgAAAAAAAADAIpwAAAAAAAAAALAIJwAAAAAAAAAALMIJ\n",
       "AAAAAAAAAACLcAIAAAAAAAAAwCKcAAAAAAAAAACwCCcAAAAAAAAAACzCCQAAAAAAAAAAi3ACAAAA\n",
       "AAAAAMAinAAAAAAAAAAAsAgnAAAAAAAAAAAswgkAAAAAAAAAAItwAgAAAAAAAADAIpwAAAAAAAAA\n",
       "ALAIJwAAAAAAAAAALMIJAAAAAAAAAACLcAIAAAAAAAAAwCKcAAAAAAAAAACwCCcAAAAAAAAAACzC\n",
       "CQAAAAAAAAAAi3ACAAAAAAAAAMAinAAAAAAAAAAAsAgnAAAAAAAAAAAswgkAAAAAAAAAAItwAgAA\n",
       "AAAAAADAIpwAAAAAAAAAALAIJwAAAAAAAAAALMIJAAAAAAAAAACLcAIAAAAAAAAAwCKcAAAAAAAA\n",
       "AACwCCcAAAAAAAAAACzCCQAAAAAAAAAAi3ACAAAAAAAAAMAinAAAAAAAAAAAsAgnAAAAAAAAAAAs\n",
       "wgkAAAAAAAAAAItwAgAAAAAAAADAIpwAAAAAAAAAALAIJwAAAAAAAAAALMIJAAAAAAAAAACLcAIA\n",
       "AAAAAAAAwCKcAAAAAAAAAACwCCcAAAAAAAAAACzCCQAAAAAAAAAAi3ACAAAAAAAAAMAinAAAAAAA\n",
       "AAAAsAgnAAAAAAAAAAAswgkAAAAAAAAAAItwAgAAAAAAAADAIpwAAAAAAAAAALAIJwAAAAAAAAAA\n",
       "LMIJAAAAAAAAAACLcAIAAAAAAAAAwCKcAAAAAAAAAACwCCcAAAAAAAAAACzCCQAAAAAAAAAAi3AC\n",
       "AAAAAAAAAMAinAAAAAAAAAAAsAgnAAAAAAAAAAAswgkAAAAAAAAAAItwAgAAAAAAAADAIpwAAAAA\n",
       "AAAAALAIJwAAAAAAAAAALMIJAAAAAAAAAACLcAIAAAAAAAAAwCKcAAAAAAAAAACwCCcAAAAAAAAA\n",
       "ACzCCQAAAAAAAAAAi3ACAAAAAAAAAMAinAAAAAAAAAAAsAgnAAAAAAAAAAAswgkAAAAAAAAAAItw\n",
       "AgAAAAAAAADAIpwAAAAAAAAAALAIJwAAAAAAAAAALMIJAAAAAAAAAACLcAIAAAAAAAAAwCKcAAAA\n",
       "AAAAAACwCCcAAAAAAAAAACzCCQAAAAAAAAAAi3ACAAAAAAAAAMAinAAAAAAAAAAAsAgnAAAAAAAA\n",
       "AAAswgkAAAAAAAAAAItwAgAAAAAAAADAIpwAAAAAAAAAALAIJwAAAAAAAAAALMIJAAAAAAAAAACL\n",
       "cAIAAAAAAAAAwCKcAAAAAAAAAACwCCcAAAAAAAAAACzCCQAAAAAAAAAAi3ACAAAAAAAAAMAinAAA\n",
       "AAAAAAAAsAgnAAAAAAAAAAAswgkAAAAAAAAAAItwAgAAAAAAAADAIpwAAAAAAAAAALAIJwAAAAAA\n",
       "AAAALMIJAAAAAAAAAACLcAIAAAAAAAAAwCKcAAAAAAAAAACwCCcAAAAAAAAAACzCCQAAAAAAAAAA\n",
       "i3ACAAAAAAAAAMAinAAAAAAAAAAAsAgnAAAAAAAAAAAswgkAAAAAAAAAAItwAgAAAAAAAADAIpwA\n",
       "AAAAAAAAALAIJwAAAAAAAAAALMIJAAAAAAAAAACLcAIAAAAAAAAAwCKcAAAAAAAAAACwCCcAAAAA\n",
       "AAAAACzCCQAAAAAAAAAAi3ACAAAAAAAAAMAinAAAAAAAAAAAsAgnAAAAAAAAAAAswgkAAAAAAAAA\n",
       "AItwAgAAAAAAAADAIpwAAAAAAAAAALAIJwAAAAAAAAAALMIJAAAAAAAAAACLcAIAAAAAAAAAwCKc\n",
       "AAAAAAAAAACwCCcAAAAAAAAAACzCCQAAAAAAAAAAi3ACAAAAAAAAAMAinAAAAAAAAAAAsAgnAAAA\n",
       "AAAAAAAswgkAAAAAAAAAAItwAgAAAAAAAADAIpwAAAAAAAAAALAIJwAAAAAAAAAALMIJAAAAAAAA\n",
       "AACLcAIAAAAAAAAAwCKcAAAAAAAAAACwCCcAAAAAAAAAACzCCQAAAAAAAAAAi3ACAAAAAAAAAMAi\n",
       "nAAAAAAAAAAAsAgnAAAAAAAAAAAswgkAAAAAAAAAAItwAgAAAAAAAADAIpwAAAAAAAAAALAIJwAA\n",
       "AAAAAAAALMIJAAAAAAAAAACLcAIAAAAAAAAAwCKcAAAAAAAAAACwCCcAAAAAAAAAACzCCQAAAAAA\n",
       "AAAAi3ACAAAAAAAAAMAinAAAAAAAAAAAsAgnAAAAAAAAAAAswgkAAAAAAAAAAItwAgAAAAAAAADA\n",
       "IpwAAAAAAAAAALAIJwAAAAAAAAAALMIJAAAAAAAAAACLcAIAAAAAAAAAwCKcAAAAAAAAAACwCCcA\n",
       "AAAAAAAAACzCCQAAAAAAAAAAi3ACAAAAAAAAAMAinAAAAAAAAAAAsAgnAAAAAAAAAAAswgkAAAAA\n",
       "AAAAAItwAgAAAAAAAADAIpwAAAAAAAAAALAIJwAAAAAAAAAALMIJAAAAAAAAAACLcAIAAAAAAAAA\n",
       "wCKcAAAAAAAAAACwCCcAAAAAAAAAACzCCQAAAAAAAAAAi3ACAAAAAAAAAMAinAAAAAAAAAAAsAgn\n",
       "AAAAAAAAAAAswgkAAAAAAAAAAItwAgAAAAAAAADAIpwAAAAAAAAAALAIJwAAAAAAAAAALMIJAAAA\n",
       "AAAAAACLcAIAAAAAAAAAwCKcAAAAAAAAAACwCCcAAAAAAAAAACzCCQAAAAAAAAAAi3ACAAAAAAAA\n",
       "AMAinAAAAAAAAAAAsAgnAAAAAAAAAAAswgkAAAAAAAAAAItwAgAAAAAAAADAIpwAAAAAAAAAALAI\n",
       "JwAAAAAAAAAALMIJAAAAAAAAAACLcAIAAAAAAAAAwCKcAAAAAAAAAACwCCcAAAAAAAAAACzCCQAA\n",
       "AAAAAAAAi3ACAAAAAAAAAMAinAAAAAAAAAAAsAgnAAAAAAAAAAAswgkAAAAAAAAAAItwAgAAAAAA\n",
       "AADAIpwAAAAAAAAAALAIJwAAAAAAAAAALMIJAAAAAAAAAACLcAIAAAAAAAAAwCKcAAAAAAAAAACw\n",
       "CCcAAAAAAAAAACzCCQAAAAAAAAAAi3ACAAAAAAAAAMAinAAAAAAAAAAAsAgnAAAAAAAAAAAswgkA\n",
       "AAAAAAAAAItwAgAAAAAAAADAIpwAAAAAAAAAALAIJwAAAAAAAAAALMIJAAAAAAAAAACLcAIAAAAA\n",
       "AAAAwCKcAAAAAAAAAACwCCcAAAAAAAAAACzCCQAAAAAAAAAAi3ACAAAAAAAAAMAinAAAAAAAAAAA\n",
       "sAgnAAAAAAAAAAAswgkAAAAAAAAAAItwAgAAAAAAAADAIpwAAAAAAAAAALAIJwAAAAAAAAAALMIJ\n",
       "AAAAAAAAAACLcAIAAAAAAAAAwCKcAAAAAAAAAACwCCcAAAAAAAAAACzCCQAAAAAAAAAAi3ACAAAA\n",
       "AAAAAMAinAAAAAAAAAAAsAgnAAAAAAAAAAAswgkAAAAAAAAAAItwAgAAAAAAAADAIpwAAAAAAAAA\n",
       "ALAIJwAAAAAAAAAALMIJAAAAAAAAAACLcAIAAAAAAAAAwCKcAAAAAAAAAACwCCcAAAAAAAAAACzC\n",
       "CQAAAAAAAAAAi3ACAAAAAAAAAMAinAAAAAAAAAAAsAgnAAAAAAAAAAAswgkAAAAAAAAAAItwAgAA\n",
       "AAAAAADAIpwAAAAAAAAAALAIJwAAAAAAAAAALMIJAAAAAAAAAACLcAIAAAAAAAAAwCKcAAAAAAAA\n",
       "AACwCCcAAAAAAAAAACzCCQAAAAAAAAAAi3ACAAAAAAAAAMAinAAAAAAAAAAAsAgnAAAAAAAAAAAs\n",
       "wgkAAAAAAAAAAItwAgAAAAAAAADAIpwAAAAAAAAAALAIJwAAAAAAAAAALMIJAAAAAAAAAACLcAIA\n",
       "AAAAAAAAwCKcAAAAAAAAAACwCCcAAAAAAAAAACzCCQAAAAAAAAAAi3ACAAAAAAAAAMAinAAAAAAA\n",
       "AAAAsAgnAAAAAAAAAAAswgkAAAAAAAAAAItwAgAAAAAAAADAIpwAAAAAAAAAALAIJwAAAAAAAAAA\n",
       "LMIJAAAAAAAAAACLcAIAAAAAAAAAwCKcAAAAAAAAAACwCCcAAAAAAAAAACzCCQAAAAAAAAAAi3AC\n",
       "AAAAAAAAAMAinAAAAAAAAAAAsAgnAAAAAAAAAAAswgkAAAAAAAAAAItwAgAAAAAAAADAIpwAAAAA\n",
       "AAAAALAIJwAAAAAAAAAALMIJAAAAAAAAAACLcAIAAAAAAAAAwCKcAAAAAAAAAACwCCcAAAAAAAAA\n",
       "ACzCCQAAAAAAAAAAi3ACAAAAAAAAAMAinAAAAAAAAAAAsAgnAAAAAAAAAAAswgkAAAAAAAAAAItw\n",
       "AgAAAAAAAADAIpwAAAAAAAAAALAIJwAAAAAAAAAALMIJAAAAAAAAAACLcAIAAAAAAAAAwCKcAAAA\n",
       "AAAAAACwCCcAAAAAAAAAACzCCQAAAAAAAAAAi3ACAAAAAAAAAMAinAAAAAAAAAAAsAgnAAAAAAAA\n",
       "AAAswgkAAAAAAAAAAItwAgAAAAAAAADAIpwAAAAAAAAAALAIJwAAAAAAAAAALMIJAAAAAAAAAACL\n",
       "cAIAAAAAAAAAwCKcAAAAAAAAAACwCCcAAAAAAAAAACzCCQAAAAAAAAAAi3ACAAAAAAAAAMAinAAA\n",
       "AAAAAAAAsAgnAAAAAAAAAAAswgkAAAAAAAAAAItwAgAAAAAAAADAIpwAAAAAAAAAALAIJwAAAAAA\n",
       "AAAALMIJAAAAAAAAAACLcAIAAAAAAAAAwCKcAAAAAAAAAACwCCcAAAAAAAAAACzCCQAAAAAAAAAA\n",
       "i3ACAAAAAAAAAMAinAAAAAAAAAAAsAgnAAAAAAAAAAAswgkAAAAAAAAAAItwAgAAAAAAAADAIpwA\n",
       "AAAAAAAAALAIJwAAAAAAAAAALMIJAAAAAAAAAACLcAIAAAAAAAAAwCKcAAAAAAAAAACwCCcAAAAA\n",
       "AAAAACzCCQAAAAAAAAAAi3ACAAAAAAAAAMAinAAAAAAAAAAAsAgnAAAAAAAAAAAswgkAAAAAAAAA\n",
       "AItwAgAAAAAAAADAIpwAAAAAAAAAALAIJwAAAAAAAAAALMIJAAAAAAAAAACLcAIAAAAAAAAAwCKc\n",
       "AAAAAAAAAACwCCcAAAAAAAAAACzCCQAAAAAAAAAAi3ACAAAAAAAAAMAinAAAAAAAAAAAsAgnAAAA\n",
       "AAAAAAAswgkAAAAAAAAAAItwAgAAAAAAAADAIpwAAAAAAAAAALAIJwAAAAAAAAAALMIJAAAAAAAA\n",
       "AACLcAIAAAAAAAAAwCKcAAAAAAAAAACwCCcAAAAAAAAAACzCCQAAAAAAAAAAi3ACAAAAAAAAAMAi\n",
       "nAAAAAAAAAAAsAgnAAAAAAAAAAAswgkAAAAAAAAAAItwAgAAAAAAAADAIpwAAAAAAAAAALAIJwAA\n",
       "AAAAAAAALMIJAAAAAAAAAACLcAIAAAAAAAAAwCKcAAAAAAAAAACwCCcAAAAAAAAAACzCCQAAAAAA\n",
       "AAAAi3ACAAAAAAAAAMAinAAAAAAAAAAAsAgnAAAAAAAAAAAswgkAAAAAAAAAAItwAgAAAAAAAADA\n",
       "IpwAAAAAAAAAALAIJwAAAAAAAAAALMIJAAAAAAAAAACLcAIAAAAAAAAAwCKcAAAAAAAAAACwCCcA\n",
       "AAAAAAAAACzCCQAAAAAAAAAAi3ACAAAAAAAAAMAinAAAAAAAAAAAsAgnAAAAAAAAAAAswgkAAAAA\n",
       "AAAAAItwAgAAAAAAAADAIpwAAAAAAAAAALAIJwAAAAAAAAAALMIJAAAAAAAAAACLcAIAAAAAAAAA\n",
       "wCKcAAAAAAAAAACwCCcAAAAAAAAAACzCCQAAAAAAAAAAi3ACAAAAAAAAAMAinAAAAAAAAAAAsAgn\n",
       "AAAAAAAAAAAswgkAAAAAAAAAAItwAgAAAAAAAADAIpwAAAAAAAAAALAIJwAAAAAAAAAALMIJAAAA\n",
       "AAAAAACLcAIAAAAAAAAAwCKcAAAAAAAAAACwCCcAAAAAAAAAACzCCQAAAAAAAAAAi3ACAAAAAAAA\n",
       "AMAinAAAAAAAAAAAsAgnAAAAAAAAAAAswgkAAAAAAAAAAItwAgAAAAAAAADAIpwAAAAAAAAAALAI\n",
       "JwAAAAAAAAAALMIJAAAAAAAAAACLcAIAAAAAAAAAwCKcAAAAAAAAAACwCCcAAAAAAAAAACzCCQAA\n",
       "AAAAAAAAi3ACAAAAAAAAAMAinAAAAAAAAAAAsAgnAAAAAAAAAAAswgkAAAAAAAAAAItwAgAAAAAA\n",
       "AADAIpwAAAAAAAAAALAIJwAAAAAAAAAALMIJAAAAAAAAAACLcAIAAAAAAAAAwCKcAAAAAAAAAACw\n",
       "CCcAAAAAAAAAACzCCQAAAAAAAAAAi3ACAAAAAAAAAMAinAAAAAAAAAAAsAgnELt2LAAAAAAwyN96\n",
       "DPuLIwAAAAAAAABgEU4AAAAAAAAAAFiEEwAAAAAAAAAAFuEEAAAAAAAAAIBFOAEAAAAAAAAAYBFO\n",
       "AAAAAAAAAABYhBMAAAAAAAAAABbhBAAAAAAAAACARTgBAAAAAAAAAGARTgAAAAAAAAAAWIQTAAAA\n",
       "AAAAAAAW4QQAAAAAAAAAgEU4AQAAAAAAAABgEU4AAAAAAAAAAFiEEwAAAAAAAAAAFuEEAAAAAAAA\n",
       "AIBFOAEAAAAAAAAAYBFOAAAAAAAAAABYhBMAAAAAAAAAABbhBAAAAAAAAACARTgBAAAAAAAAAGAR\n",
       "TgAAAAAAAAAAWIQTAAAAAAAAAAAW4QQAAAAAAAAAgEU4AQAAAAAAAABgEU4AAAAAAAAAAFiEEwAA\n",
       "AAAAAAAAFuEEAAAAAAAAAIBFOAEAAAAAAAAAYBFOAAAAAAAAAABYhBMAAAAAAAAAABbhBAAAAAAA\n",
       "AACARTgBAAAAAAAAAGARTgAAAAAAAAAAWIQTAAAAAAAAAAAW4QQAAAAAAAAAgEU4AQAAAAAAAABg\n",
       "EU4AAAAAAAAAAFiEEwAAAAAAAAAAFuEEAAAAAAAAAIBFOAEAAAAAAAAAYBFOAAAAAAAAAABYhBMA\n",
       "AAAAAAAAABbhBAAAAAAAAACARTgBAAAAAAAAAGARTgAAAAAAAAAAWIQTAAAAAAAAAAAW4QQAAAAA\n",
       "AAAAgEU4AQAAAAAAAABgEU4AAAAAAAAAAFiEEwAAAAAAAAAAFuEEAAAAAAAAAIBFOAEAAAAAAAAA\n",
       "YBFOAAAAAAAAAABYhBMAAAAAAAAAABbhBAAAAAAAAACARTgBAAAAAAAAAGARTgAAAAAAAAAAWIQT\n",
       "AAAAAAAAAAAW4QQAAAAAAAAAgEU4AQAAAAAAAABgEU4AAAAAAAAAAFiEEwAAAAAAAAAAFuEEAAAA\n",
       "AAAAAIBFOAEAAAAAAAAAYBFOAAAAAAAAAABYhBMAAAAAAAAAABbhBAAAAAAAAACARTgBAAAAAAAA\n",
       "AGARTgAAAAAAAAAAWIQTAAAAAAAAAAAW4QQAAAAAAAAAgEU4AQAAAAAAAABgEU4AAAAAAAAAAFiE\n",
       "EwAAAAAAAAAAFuEEAAAAAAAAAIBFOAEAAAAAAAAAYBFOAAAAAAAAAABYhBMAAAAAAAAAABbhBAAA\n",
       "AAAAAACARTgBAAAAAAAAAGARTgAAAAAAAAAAWIQTAAAAAAAAAAAW4QQAAAAAAAAAgEU4AQAAAAAA\n",
       "AABgEU4AAAAAAAAAAFiEEwAAAAAAAAAAFuEEAAAAAAAAAIBFOAEAAAAAAAAAYBFOAAAAAAAAAABY\n",
       "hBMAAAAAAAAAABbhBAAAAAAAAACARTgBAAAAAAAAAGARTgAAAAAAAAAAWIQTAAAAAAAAAAAW4QQA\n",
       "AAAAAAAAgEU4AQAAAAAAAABgEU4AAAAAAAAAAFiEEwAAAAAAAAAAFuEEAAAAAAAAAIBFOAEAAAAA\n",
       "AAAAYBFOAAAAAAAAAABYhBMAAAAAAAAAABbhBAAAAAAAAACARTgBAAAAAAAAAGARTgAAAAAAAAAA\n",
       "WIQTAAAAAAAAAAAW4QQAAAAAAAAAfhp5EQAAHZBJREFUgEU4AQAAAAAAAABgEU4AAAAAAAAAAFiE\n",
       "EwAAAAAAAAAAFuEEAAAAAAAAAIBFOAEAAAAAAAAAYBFOAAAAAAAAAABYhBMAAAAAAAAAABbhBAAA\n",
       "AAAAAACARTgBAAAAAAAAAGARTgAAAAAAAAAAWIQTAAAAAAAAAAAW4QQAAAAAAAAAgEU4AQAAAAAA\n",
       "AABgEU4AAAAAAAAAAFiEEwAAAAAAAAAAFuEEAAAAAAAAAIBFOAEAAAAAAAAAYBFOAAAAAAAAAABY\n",
       "hBMAAAAAAAAAABbhBAAAAAAAAACARTgBAAAAAAAAAGARTgAAAAAAAAAAWIQTAAAAAAAAAAAW4QQA\n",
       "AAAAAAAAgEU4AQAAAAAAAABgEU4AAAAAAAAAAFiEEwAAAAAAAAAAFuEEAAAAAAAAAIBFOAEAAAAA\n",
       "AAAAYBFOAAAAAAAAAABYhBMAAAAAAAAAABbhBAAAAAAAAACARTgBAAAAAAAAAGARTgAAAAAAAAAA\n",
       "WIQTAAAAAAAAAAAW4QQAAAAAAAAAgEU4AQAAAAAAAABgEU4AAAAAAAAAAFiEEwAAAAAAAAAAFuEE\n",
       "AAAAAAAAAIBFOAEAAAAAAAAAYBFOAAAAAAAAAABYhBMAAAAAAAAAABbhBAAAAAAAAACARTgBAAAA\n",
       "AAAAAGARTgAAAAAAAAAAWIQTAAAAAAAAAAAW4QQAAAAAAAAAgEU4AQAAAAAAAABgEU4AAAAAAAAA\n",
       "AFiEEwAAAAAAAAAAFuEEAAAAAAAAAIBFOAEAAAAAAAAAYBFOAAAAAAAAAABYhBMAAAAAAAAAABbh\n",
       "BAAAAAAAAACARTgBAAAAAAAAAGARTgAAAAAAAAAAWIQTAAAAAAAAAAAW4QQAAAAAAAAAgEU4AQAA\n",
       "AAAAAABgEU4AAAAAAAAAAFiEEwAAAAAAAAAAFuEEAAAAAAAAAIBFOAEAAAAAAAAAYBFOAAAAAAAA\n",
       "AABYhBMAAAAAAAAAABbhBAAAAAAAAACARTgBAAAAAAAAAGARTgAAAAAAAAAAWIQTAAAAAAAAAAAW\n",
       "4QQAAAAAAAAAgEU4AQAAAAAAAABgEU4AAAAAAAAAAFiEEwAAAAAAAAAAFuEEAAAAAAAAAIBFOAEA\n",
       "AAAAAAAAYBFOAAAAAAAAAABYhBMAAAAAAAAAABbhBAAAAAAAAACARTgBAAAAAAAAAGARTgAAAAAA\n",
       "AAAAWIQTAAAAAAAAAAAW4QQAAAAAAAAAgEU4AQAAAAAAAABgEU4AAAAAAAAAAFiEEwAAAAAAAAAA\n",
       "FuEEAAAAAAAAAIBFOAEAAAAAAAAAYBFOAAAAAAAAAABYhBMAAAAAAAAAABbhBAAAAAAAAACARTgB\n",
       "AAAAAAAAAGARTgAAAAAAAAAAWIQTAAAAAAAAAAAW4QQAAAAAAAAAgEU4AQAAAAAAAABgEU4AAAAA\n",
       "AAAAAFiEEwAAAAAAAAAAFuEEAAAAAAAAAIBFOAEAAAAAAAAAYBFOAAAAAAAAAABYhBMAAAAAAAAA\n",
       "ABbhBAAAAAAAAACARTgBAAAAAAAAAGARTgAAAAAAAAAAWIQTAAAAAAAAAAAW4QQAAAAAAAAAgEU4\n",
       "AQAAAAAAAABgEU4AAAAAAAAAAFiEEwAAAAAAAAAAFuEEAAAAAAAAAIBFOAEAAAAAAAAAYBFOAAAA\n",
       "AAAAAABYhBMAAAAAAAAAABbhBAAAAAAAAACARTgBAAAAAAAAAGARTgAAAAAAAAAAWIQTAAAAAAAA\n",
       "AAAW4QQAAAAAAAAAgEU4AQAAAAAAAABgEU4AAAAAAAAAAFiEEwAAAAAAAAAAFuEEAAAAAAAAAIBF\n",
       "OAEAAAAAAAAAYBFOAAAAAAAAAABYhBMAAAAAAAAAABbhBAAAAAAAAACARTgBAAAAAAAAAGARTgAA\n",
       "AAAAAAAAWIQTAAAAAAAAAAAW4QQAAAAAAAAAgEU4AQAAAAAAAABgEU4AAAAAAAAAAFiEEwAAAAAA\n",
       "AAAAFuEEAAAAAAAAAIBFOAEAAAAAAAAAYBFOAAAAAAAAAABYhBMAAAAAAAAAABbhBAAAAAAAAACA\n",
       "RTgBAAAAAAAAAGARTgAAAAAAAAAAWIQTAAAAAAAAAAAW4QQAAAAAAAAAgEU4AQAAAAAAAABgEU4A\n",
       "AAAAAAAAAFiEEwAAAAAAAAAAFuEEAAAAAAAAAIBFOAEAAAAAAAAAYBFOAAAAAAAAAABYhBMAAAAA\n",
       "AAAAABbhBAAAAAAAAACARTgBAAAAAAAAAGARTgAAAAAAAAAAWIQTAAAAAAAAAAAW4QQAAAAAAAAA\n",
       "gEU4AQAAAAAAAABgEU4AAAAAAAAAAFiEEwAAAAAAAAAAFuEEAAAAAAAAAIBFOAEAAAAAAAAAYBFO\n",
       "AAAAAAAAAABYhBMAAAAAAAAAABbhBAAAAAAAAACARTgBAAAAAAAAAGARTgAAAAAAAAAAWIQTAAAA\n",
       "AAAAAAAW4QQAAAAAAAAAgEU4AQAAAAAAAABgEU4AAAAAAAAAAFiEEwAAAAAAAAAAFuEEAAAAAAAA\n",
       "AIBFOAEAAAAAAAAAYBFOAAAAAAAAAABYhBMAAAAAAAAAABbhBAAAAAAAAACARTgBAAAAAAAAAGAR\n",
       "TgAAAAAAAAAAWIQTAAAAAAAAAAAW4QQAAAAAAAAAgEU4AQAAAAAAAABgEU4AAAAAAAAAAFiEEwAA\n",
       "AAAAAAAAFuEEAAAAAAAAAIBFOAEAAAAAAAAAYBFOAAAAAAAAAABYhBMAAAAAAAAAABbhBAAAAAAA\n",
       "AACARTgBAAAAAAAAAGARTgAAAAAAAAAAWIQTAAAAAAAAAAAW4QQAAAAAAAAAgEU4AQAAAAAAAABg\n",
       "EU4AAAAAAAAAAFiEEwAAAAAAAAAAFuEEAAAAAAAAAIBFOAEAAAAAAAAAYBFOAAAAAAAAAABYhBMA\n",
       "AAAAAAAAABbhBAAAAAAAAACARTgBAAAAAAAAAGARTgAAAAAAAAAAWIQTAAAAAAAAAAAW4QQAAAAA\n",
       "AAAAgEU4AQAAAAAAAABgEU4AAAAAAAAAAFiEEwAAAAAAAAAAFuEEAAAAAAAAAIBFOAEAAAAAAAAA\n",
       "YBFOAAAAAAAAAABYhBMAAAAAAAAAABbhBAAAAAAAAACARTgBAAAAAAAAAGARTgAAAAAAAAAAWIQT\n",
       "AAAAAAAAAAAW4QQAAAAAAAAAgEU4AQAAAAAAAABgEU4AAAAAAAAAAFiEEwAAAAAAAAAAFuEEAAAA\n",
       "AAAAAIBFOAEAAAAAAAAAYBFOAAAAAAAAAABYhBMAAAAAAAAAABbhBAAAAAAAAACARTgBAAAAAAAA\n",
       "AGARTgAAAAAAAAAAWIQTAAAAAAAAAAAW4QQAAAAAAAAAgEU4AQAAAAAAAABgEU4AAAAAAAAAAFiE\n",
       "EwAAAAAAAAAAFuEEAAAAAAAAAIBFOAEAAAAAAAAAYBFOAAAAAAAAAABYhBMAAAAAAAAAABbhBAAA\n",
       "AAAAAACARTgBAAAAAAAAAGARTgAAAAAAAAAAWIQTAAAAAAAAAAAW4QQAAAAAAAAAgEU4AQAAAAAA\n",
       "AABgEU4AAAAAAAAAAFiEEwAAAAAAAAAAFuEEAAAAAAAAAIBFOAEAAAAAAAAAYBFOAAAAAAAAAABY\n",
       "hBMAAAAAAAAAABbhBAAAAAAAAACARTgBAAAAAAAAAGARTgAAAAAAAAAAWIQTAAAAAAAAAAAW4QQA\n",
       "AAAAAAAAgEU4AQAAAAAAAABgEU4AAAAAAAAAAFiEEwAAAAAAAAAAFuEEAAAAAAAAAIBFOAEAAAAA\n",
       "AAAAYBFOAAAAAAAAAABYhBMAAAAAAAAAABbhBAAAAAAAAACARTgBAAAAAAAAAGARTgAAAAAAAAAA\n",
       "WIQTAAAAAAAAAAAW4QQAAAAAAAAAgEU4AQAAAAAAAABgEU4AAAAAAAAAAFiEEwAAAAAAAAAAFuEE\n",
       "AAAAAAAAAIBFOAEAAAAAAAAAYBFOAAAAAAAAAABYhBMAAAAAAAAAABbhBAAAAAAAAACARTgBAAAA\n",
       "AAAAAGARTgAAAAAAAAAAWIQTAAAAAAAAAAAW4QQAAAAAAAAAgEU4AQAAAAAAAABgEU4AAAAAAAAA\n",
       "AFiEEwAAAAAAAAAAFuEEAAAAAAAAAIBFOAEAAAAAAAAAYBFOAAAAAAAAAABYhBMAAAAAAAAAABbh\n",
       "BAAAAAAAAACARTgBAAAAAAAAAGARTgAAAAAAAAAAWIQTAAAAAAAAAAAW4QQAAAAAAAAAgEU4AQAA\n",
       "AAAAAABgEU4AAAAAAAAAAFiEEwAAAAAAAAAAFuEEAAAAAAAAAIBFOAEAAAAAAAAAYBFOAAAAAAAA\n",
       "AABYhBMAAAAAAAAAABbhBAAAAAAAAACARTgBAAAAAAAAAGARTgAAAAAAAAAAWIQTAAAAAAAAAAAW\n",
       "4QQAAAAAAAAAgEU4AQAAAAAAAABgEU4AAAAAAAAAAFiEEwAAAAAAAAAAFuEEAAAAAAAAAIBFOAEA\n",
       "AAAAAAAAYBFOAAAAAAAAAABYhBMAAAAAAAAAABbhBAAAAAAAAACARTgBAAAAAAAAAGARTgAAAAAA\n",
       "AAAAWIQTAAAAAAAAAAAW4QQAAAAAAAAAgEU4AQAAAAAAAABgEU4AAAAAAAAAAFiEEwAAAAAAAAAA\n",
       "FuEEAAAAAAAAAIBFOAEAAAAAAAAAYBFOAAAAAAAAAABYhBMAAAAAAAAAABbhBAAAAAAAAACARTgB\n",
       "AAAAAAAAAGARTgAAAAAAAAAAWIQTAAAAAAAAAAAW4QQAAAAAAAAAgEU4AQAAAAAAAABgEU4AAAAA\n",
       "AAAAAFiEEwAAAAAAAAAAFuEEAAAAAAAAAIBFOAEAAAAAAAAAYBFOAAAAAAAAAABYhBMAAAAAAAAA\n",
       "ABbhBAAAAAAAAACARTgBAAAAAAAAAGARTgAAAAAAAAAAWIQTAAAAAAAAAAAW4QQAAAAAAAAAgEU4\n",
       "AQAAAAAAAABgEU4AAAAAAAAAAFiEEwAAAAAAAAAAFuEEAAAAAAAAAIBFOAEAAAAAAAAAYBFOAAAA\n",
       "AAAAAABYhBMAAAAAAAAAABbhBAAAAAAAAACARTgBAAAAAAAAAGARTgAAAAAAAAAAWIQTAAAAAAAA\n",
       "AAAW4QQAAAAAAAAAgEU4AQAAAAAAAABgEU4AAAAAAAAAAFiEEwAAAAAAAAAAFuEEAAAAAAAAAIBF\n",
       "OAEAAAAAAAAAYBFOAAAAAAAAAABYhBMAAAAAAAAAABbhBAAAAAAAAACARTgBAAAAAAAAAGARTgAA\n",
       "AAAAAAAAWIQTAAAAAAAAAAAW4QQAAAAAAAAAgEU4AaB27VgAAAAAYJC/9Rj2F0cAAAAAAAAAi3AC\n",
       "AAAAAAAAAMAinAAAAAAAAAAAsAgnAAAAAAAAAAAswgkAAAAAAAAAAItwAgAAAAAAAADAIpwAAAAA\n",
       "AAAAALAIJwAAAAAAAAAALMIJAAAAAAAAAACLcAIAAAAAAAAAwCKcAAAAAAAAAACwCCcAAAAAAAAA\n",
       "ACzCCQAAAAAAAAAAi3ACAAAAAAAAAMAinAAAAAAAAAAAsAgnAAAAAAAAAAAswgkAAAAAAAAAAItw\n",
       "AgAAAAAAAADAIpwAAAAAAAAAALAIJwAAAAAAAAAALMIJAAAAAAAAAACLcAIAAAAAAAAAwCKcAAAA\n",
       "AAAAAACwCCcAAAAAAAAAACzCCQAAAAAAAAAAi3ACAAAAAAAAAMAinAAAAAAAAAAAsAgnAAAAAAAA\n",
       "AAAswgkAAAAAAAAAAItwAgAAAAAAAADAIpwAAAAAAAAAALAIJwAAAAAAAAAALMIJAAAAAAAAAACL\n",
       "cAIAAAAAAAAAwCKcAAAAAAAAAACwCCcAAAAAAAAAACzCCQAAAAAAAAAAi3ACAAAAAAAAAMAinAAA\n",
       "AAAAAAAAsAgnAAAAAAAAAAAswgkAAAAAAAAAAItwAgAAAAAAAADAIpwAAAAAAAAAALAIJwAAAAAA\n",
       "AAAALMIJAAAAAAAAAACLcAIAAAAAAAAAwCKcAAAAAAAAAACwCCcAAAAAAAAAACzCCQAAAAAAAAAA\n",
       "i3ACAAAAAAAAAMAinAAAAAAAAAAAsAgnAAAAAAAAAAAswgkAAAAAAAAAAItwAgAAAAAAAADAIpwA\n",
       "AAAAAAAAALAIJwAAAAAAAAAALMIJAAAAAAAAAACLcAIAAAAAAAAAwCKcAAAAAAAAAACwCCcAAAAA\n",
       "AAAAACzCCQAAAAAAAAAAi3ACAAAAAAAAAMAinAAAAAAAAAAAsAgnAAAAAAAAAAAswgkAAAAAAAAA\n",
       "AItwAgAAAAAAAADAIpwAAAAAAAAAALAIJwAAAAAAAAAALMIJAAAAAAAAAACLcAIAAAAAAAAAwCKc\n",
       "AAAAAAAAAACwCCcAAAAAAAAAACzCCQAAAAAAAAAAi3ACAAAAAAAAAMAinAAAAAAAAAAAsAgnAAAA\n",
       "AAAAAAAswgkAAAAAAAAAAItwAgAAAAAAAADAIpwAAAAAAAAAALAIJwAAAAAAAAAALMIJAAAAAAAA\n",
       "AACLcAIAAAAAAAAAwCKcAAAAAAAAAACwCCcAAAAAAAAAACzCCQAAAAAAAAAAi3ACAAAAAAAAAMAi\n",
       "nAAAAAAAAAAAsAgnAAAAAAAAAAAswgkAAAAAAAAAAItwAgAAAAAAAADAIpwAAAAAAAAAALAIJwAA\n",
       "AAAAAAAALMIJAAAAAAAAAACLcAIAAAAAAAAAwCKcAAAAAAAAAACwCCcAAAAAAAAAACzCCQAAAAAA\n",
       "AAAAi3ACAAAAAAAAAMAinAAAAAAAAAAAsAgnAAAAAAAAAAAswgkAAAAAAAAAAItwAgAAAAAAAADA\n",
       "IpwAAAAAAAAAALAIJwAAAAAAAAAALMIJAAAAAAAAAACLcAIAAAAAAAAAwCKcAAAAAAAAAACwCCcA\n",
       "AAAAAAAAACzCCQAAAAAAAAAAi3ACAAAAAAAAAMAinAAAAAAAAAAAsAgnAAAAAAAAAAAswgkAAAAA\n",
       "AAAAAItwAgAAAAAAAADAIpwAAAAAAAAAALAIJwAAAAAAAAAALMIJAAAAAAAAAACLcAIAAAAAAAAA\n",
       "wCKcAAAAAAAAAACwCCcAAAAAAAAAACzCCQAAAAAAAAAAi3ACAAAAAAAAAMAinAAAAAAAAAAAsAgn\n",
       "AAAAAAAAAAAswgkAAAAAAAAAAItwAgAAAAAAAADAIpwAAAAAAAAAALAIJwAAAAAAAAAALMIJAAAA\n",
       "AAAAAACLcAIAAAAAAAAAwCKcAAAAAAAAAACwCCcAAAAAAAAAACzCCQAAAAAAAAAAi3ACAAAAAAAA\n",
       "AMAinAAAAAAAAAAAsAgnAAAAAAAAAAAswgkAAAAAAAAAAItwAgAAAAAAAADAIpwAAAAAAAAAALAI\n",
       "JwAAAAAAAAAALMIJAAAAAAAAAACLcAIAAAAAAAAAwCKcAAAAAAAAAACwCCcAAAAAAAAAACzCCQAA\n",
       "AAAAAAAAi3ACAAAAAAAAAMAinAAAAAAAAAAAsAgnAAAAAAAAAAAswgkAAAAAAAAAAItwAgAAAAAA\n",
       "AADAIpwAAAAAAAAAALAIJwAAAAAAAAAALMIJAAAAAAAAAACLcAIAAAAAAAAAwCKcAAAAAAAAAACw\n",
       "CCcAAAAAAAAAACzCCQAAAAAAAAAAi3ACAAAAAAAAAMAinAAAAAAAAAAAsAgnAAAAAAAAAAAswgkA\n",
       "AAAAAAAAAItwAgAAAAAAAADAIpwAAAAAAAAAALAIJwAAAAAAAAAALMIJAAAAAAAAAACLcAIAAAAA\n",
       "AAAAwCKcAAAAAAAAAACwCCcAAAAAAAAAACzCCQAAAAAAAAAAi3ACAAAAAAAAAMAinAAAAAAAAAAA\n",
       "sAgnAAAAAAAAAAAswgkAAAAAAAAAAItwAgAAAAAAAADAIpwAAAAAAAAAALAIJwAAAAAAAAAALMIJ\n",
       "AAAAAAAAAACLcAIAAAAAAAAAwCKcAAAAAAAAAACwCCcAAAAAAAAAACzCCQAAAAAAAAAAi3ACAAAA\n",
       "AAAAAMAinAAAAAAAAAAAsAgnAAAAAAAAAAAswgkAAAAAAAAAAItwAgAAAAAAAADAIpwAAAAAAAAA\n",
       "ALAIJwAAAAAAAAAALMIJAAAAAAAAAACLcAIAAAAAAAAAwCKcAAAAAAAAAACwCCcAAAAAAAAAACzC\n",
       "CQAAAAAAAAAAi3ACAAAAAAAAAMAinAAAAAAAAAAAsAgnAAAAAAAAAAAswgkAAAAAAAAAAItwAgAA\n",
       "AAAAAADAIpwAAAAAAAAAALAIJwAAAAAAAAAALMIJAAAAAAAAAACLcAIAAAAAAAAAwCKcAAAAAAAA\n",
       "AACwCCcAAAAAAAAAACzCCQAAAAAAAAAAi3ACAAAAAAAAAMAinAAAAAAAAAAAsAgnAAAAAAAAAAAs\n",
       "wgkAAAAAAAAAAItwAgAAAAAAAADAIpwAAAAAAAAAALAIJwAAAAAAAAAALMIJAAAAAAAAAACLcAIA\n",
       "AAAAAAAAwCKcAAAAAAAAAACwCCcAAAAAAAAAACzCCQAAAAAAAAAAi3ACAAAAAAAAAMAinAAAAAAA\n",
       "AAAAsAgnAAAAAAAAAAAswgkAAAAAAAAAAItwAgAAAAAAAADAIpwAAAAAAAAAALAIJwAAAAAAAAAA\n",
       "LMIJAAAAAAAAAACLcAIAAAAAAAAAwCKcAAAAAAAAAACwCCcAAAAAAAAAACzCCQAAAAAAAAAAi3AC\n",
       "AAAAAAAAAMAinAAAAAAAAAAAsAgnAAAAAAAAAAAswgkAAAAAAAAAAItwAgAAAAAAAADAIpwAAAAA\n",
       "AAAAALAIJwAAAAAAAAAALMIJAAAAAAAAAACLcAIAAAAAAAAAwCKcAAAAAAAAAACwCCcAAAAAAAAA\n",
       "ACzCCQAAAAAAAAAAi3ACAAAAAAAAAMAinAAAAAAAAAAAsAgnAAAAAAAAAAAswgkAAAAAAAAAAItw\n",
       "AgAAAAAAAADAIpwAAAAAAAAAALAIJwAAAAAAAAAALMIJAAAAAAAAAACLcAIAAAAAAAAAwCKcAAAA\n",
       "AAAAAACwCCcAAAAAAAAAACzCCQAAAAAAAAAAi3ACAAAAAAAAAMAinAAAAAAAAAAAsAgnAAAAAAAA\n",
       "AAAswgkAAAAAAAAAAItwAgAAAAAAAADAIpwAAAAAAAAAALAIJwAAAAAAAAAALMIJAAAAAAAAAACL\n",
       "cAIAAAAAAAAAwCKcAAAAAAAAAACwCCcAAAAAAAAAACzCCQAAAAAAAAAAi3ACAAAAAAAAAMAinAAA\n",
       "AAAAAAAAsAgnAAAAAAAAAAAswgkAAAAAAAAAAItwAgAAAAAAAADAIpwAAAAAAAAAALAIJwAAAAAA\n",
       "AAAALMIJAAAAAAAAAACLcAIAAAAAAAAAwCKcAAAAAAAAAACwCCcAAAAAAAAAACzCCQAAAAAAAAAA\n",
       "i3ACAAAAAAAAAMAinAAAAAAAAAAAsAgnAAAAAAAAAAAswgkAAAAAAAAAAItwAgAAAAAAAADAIpwA\n",
       "AAAAAAAAALAIJwAAAAAAAAAALMIJAAAAAAAAAACLcAIAAAAAAAAAwCKcAAAAAAAAAACwCCcAAAAA\n",
       "AAAAACzCCQAAAAAAAAAAi3ACAAAAAAAAAMAinAAAAAAAAAAAsAgnAAAAAAAAAAAswgkAAAAAAAAA\n",
       "AItwAgAAAAAAAADAIpwAAAAAAAAAALAIJwAAAAAAAAAALMIJAAAAAAAAAACLcAIAAAAAAAAAwCKc\n",
       "AAAAAAAAAACwCCcAAAAAAAAAACzCCQAAAAAAAAAAi3ACAAAAAAAAAMAinAAAAAAAAAAAsAgnAAAA\n",
       "AAAAAAAswgkAAAAAAAAAAItwAgAAAAAAAADAIpwAAAAAAAAAALAIJwAAAAAAAAAALMIJAAAAAAAA\n",
       "AACLcAIAAAAAAAAAwCKcAAAAAAAAAACwCCcAAAAAAAAAACzCCQAAAAAAAAAAi3ACAAAAAAAAAMAi\n",
       "nAAAAAAAAAAAsAgnAAAAAAAAAAAswgkAAAAAAAAAAItwAgAAAAAAAADAIpwAAAAAAAAAALAIJwAA\n",
       "AAAAAAAALMIJAAAAAAAAAACLcAIAAAAAAAAAwCKcAAAAAAAAAACwCCcAAAAAAAAAACzCCQAAAAAA\n",
       "AAAAi3ACAAAAAAAAAMAinAAAAAAAAAAAsAgnAAAAAAAAAAAswgkAAAAAAAAAAItwAgAAAAAAAADA\n",
       "IpwAAAAAAAAAALAIJwAAAAAAAAAALMIJAAAAAAAAAACLcAIAAAAAAAAAwCKcAAAAAAAAAACwCCcA\n",
       "AAAAAAAAACzCCQAAAAAAAAAAi3ACAAAAAAAAAMAinAAAAAAAAAAAsAgnAAAAAAAAAAAswgkAAAAA\n",
       "AAAAAItwAgAAAAAAAADAEvKgFEk62pTsAAAAAElFTkSuQmCC\n",
       "\" transform=\"translate(148, 47)\"/>\n",
       "</g>\n",
       "</svg>\n"
      ]
     },
     "execution_count": 24,
     "metadata": {},
     "output_type": "execute_result"
    }
   ],
   "source": [
    "function density(x, y, m1, m2, a, b, c)\n",
    "    Σ = [a c\n",
    "         c b]\n",
    "    v = [x,y] - [m1, m2]\n",
    "    1/√(4π^2*det(Σ)) * exp(-1/2 * v' * Σ * v)\n",
    "end\n",
    "surface(-2:0.1:2, -2:0.1:2, (x,y) -> density(x, y, 0, 0, 1, 1, 1))"
   ]
  },
  {
   "cell_type": "code",
   "execution_count": 25,
   "metadata": {},
   "outputs": [
    {
     "data": {
      "application/vnd.webio.node+json": {
       "children": [
        {
         "children": [
          {
           "children": [
            {
             "children": [
              {
               "children": [
                {
                 "children": [
                  "m1"
                 ],
                 "instanceArgs": {
                  "namespace": "html",
                  "tag": "label"
                 },
                 "nodeType": "DOM",
                 "props": {
                  "className": "interact ",
                  "style": {
                   "padding": "5px 10px 0px 10px"
                  }
                 },
                 "type": "node"
                }
               ],
               "instanceArgs": {
                "namespace": "html",
                "tag": "div"
               },
               "nodeType": "DOM",
               "props": {
                "className": "interact-flex-row-left"
               },
               "type": "node"
              },
              {
               "children": [
                {
                 "children": [],
                 "instanceArgs": {
                  "namespace": "html",
                  "tag": "input"
                 },
                 "nodeType": "DOM",
                 "props": {
                  "attributes": {
                   "data-bind": "numericValue: index, valueUpdate: 'input', event: {change: function (){this.changes(this.changes()+1)}}",
                   "orient": "horizontal",
                   "type": "range"
                  },
                  "className": "slider slider is-fullwidth",
                  "max": 31,
                  "min": 1,
                  "step": 1,
                  "style": {}
                 },
                 "type": "node"
                }
               ],
               "instanceArgs": {
                "namespace": "html",
                "tag": "div"
               },
               "nodeType": "DOM",
               "props": {
                "className": "interact-flex-row-center"
               },
               "type": "node"
              },
              {
               "children": [
                {
                 "children": [],
                 "instanceArgs": {
                  "namespace": "html",
                  "tag": "p"
                 },
                 "nodeType": "DOM",
                 "props": {
                  "attributes": {
                   "data-bind": "text: formatted_val"
                  }
                 },
                 "type": "node"
                }
               ],
               "instanceArgs": {
                "namespace": "html",
                "tag": "div"
               },
               "nodeType": "DOM",
               "props": {
                "className": "interact-flex-row-right"
               },
               "type": "node"
              }
             ],
             "instanceArgs": {
              "namespace": "html",
              "tag": "div"
             },
             "nodeType": "DOM",
             "props": {
              "className": "interact-flex-row interact-widget"
             },
             "type": "node"
            }
           ],
           "instanceArgs": {
            "handlers": {
             "changes": [
              "(function (val){return (val!=this.model[\"changes\"]()) ? (this.valueFromJulia[\"changes\"]=true, this.model[\"changes\"](val)) : undefined})"
             ],
             "index": [
              "(function (val){return (val!=this.model[\"index\"]()) ? (this.valueFromJulia[\"index\"]=true, this.model[\"index\"](val)) : undefined})"
             ]
            },
            "id": "13239904883397043402",
            "imports": {
             "data": [
              {
               "name": "knockout",
               "type": "js",
               "url": "/assetserver/0cedf553a5154124f66c7c67e1c5a243325a593c-knockout.js"
              },
              {
               "name": "knockout_punches",
               "type": "js",
               "url": "/assetserver/624c410d777e23e946bee7a3f321fda94254d51d-knockout_punches.js"
              },
              {
               "name": null,
               "type": "js",
               "url": "/assetserver/f9ad4669612d57b9a452b1037b8366ac304a3f14-all.js"
              },
              {
               "name": null,
               "type": "css",
               "url": "/assetserver/02522e5a109e7e84d4c02ab9ef718d2622cff620-style.css"
              },
              {
               "name": null,
               "type": "css",
               "url": "/assetserver/1b487ca88261a11b71d9787b3e4e06ed11c66932-bulma_confined.min.css"
              }
             ],
             "type": "async_block"
            },
            "mount_callbacks": [
             "function () {\n    var handler = (function (ko, koPunches) {\n    ko.punches.enableAll();\n    ko.bindingHandlers.numericValue = {\n        init: function(element, valueAccessor, allBindings, data, context) {\n            var stringified = ko.observable(ko.unwrap(valueAccessor()));\n            stringified.subscribe(function(value) {\n                var val = parseFloat(value);\n                if (!isNaN(val)) {\n                    valueAccessor()(val);\n                }\n            });\n            valueAccessor().subscribe(function(value) {\n                var str = JSON.stringify(value);\n                if ((str == \"0\") && ([\"-0\", \"-0.\"].indexOf(stringified()) >= 0))\n                     return;\n                 if ([\"null\", \"\"].indexOf(str) >= 0)\n                     return;\n                stringified(str);\n            });\n            ko.applyBindingsToNode(\n                element,\n                {\n                    value: stringified,\n                    valueUpdate: allBindings.get('valueUpdate'),\n                },\n                context,\n            );\n        }\n    };\n    var json_data = {\"formatted_vals\":[\"0.0\",\"0.1\",\"0.2\",\"0.3\",\"0.4\",\"0.5\",\"0.6\",\"0.7\",\"0.8\",\"0.9\",\"1.0\",\"1.1\",\"1.2\",\"1.3\",\"1.4\",\"1.5\",\"1.6\",\"1.7\",\"1.8\",\"1.9\",\"2.0\",\"2.1\",\"2.2\",\"2.3\",\"2.4\",\"2.5\",\"2.6\",\"2.7\",\"2.8\",\"2.9\",\"3.0\"],\"changes\":WebIO.getval({\"name\":\"changes\",\"scope\":\"13239904883397043402\",\"id\":\"10939004317588570167\",\"type\":\"observable\"}),\"index\":WebIO.getval({\"name\":\"index\",\"scope\":\"13239904883397043402\",\"id\":\"9439813958945499371\",\"type\":\"observable\"})};\n    var self = this;\n    function AppViewModel() {\n        for (var key in json_data) {\n            var el = json_data[key];\n            this[key] = Array.isArray(el) ? ko.observableArray(el) : ko.observable(el);\n        }\n        \n        [this[\"formatted_val\"]=ko.computed(    function(){\n        return this.formatted_vals()[parseInt(this.index())-(1)];\n    }\n,this)]\n        [this[\"changes\"].subscribe((function (val){!(this.valueFromJulia[\"changes\"]) ? (WebIO.setval({\"name\":\"changes\",\"scope\":\"13239904883397043402\",\"id\":\"10939004317588570167\",\"type\":\"observable\"},val)) : undefined; return this.valueFromJulia[\"changes\"]=false}),self),this[\"index\"].subscribe((function (val){!(this.valueFromJulia[\"index\"]) ? (WebIO.setval({\"name\":\"index\",\"scope\":\"13239904883397043402\",\"id\":\"9439813958945499371\",\"type\":\"observable\"},val)) : undefined; return this.valueFromJulia[\"index\"]=false}),self)]\n        \n    }\n    self.model = new AppViewModel();\n    self.valueFromJulia = {};\n    for (var key in json_data) {\n        self.valueFromJulia[key] = false;\n    }\n    ko.applyBindings(self.model, self.dom);\n}\n);\n    (WebIO.importBlock({\"data\":[{\"name\":\"knockout\",\"type\":\"js\",\"url\":\"/assetserver/0cedf553a5154124f66c7c67e1c5a243325a593c-knockout.js\"},{\"name\":\"knockout_punches\",\"type\":\"js\",\"url\":\"/assetserver/624c410d777e23e946bee7a3f321fda94254d51d-knockout_punches.js\"}],\"type\":\"async_block\"})).then((imports) => handler.apply(this, imports));\n}\n"
            ],
            "observables": {
             "changes": {
              "id": "10939004317588570167",
              "sync": false,
              "value": 0
             },
             "index": {
              "id": "9439813958945499371",
              "sync": true,
              "value": 16
             }
            },
            "systemjs_options": null
           },
           "nodeType": "Scope",
           "props": {},
           "type": "node"
          }
         ],
         "instanceArgs": {
          "namespace": "html",
          "tag": "div"
         },
         "nodeType": "DOM",
         "props": {
          "className": "field interact-widget"
         },
         "type": "node"
        },
        {
         "children": [
          {
           "children": [
            {
             "children": [
              {
               "children": [
                {
                 "children": [
                  "m2"
                 ],
                 "instanceArgs": {
                  "namespace": "html",
                  "tag": "label"
                 },
                 "nodeType": "DOM",
                 "props": {
                  "className": "interact ",
                  "style": {
                   "padding": "5px 10px 0px 10px"
                  }
                 },
                 "type": "node"
                }
               ],
               "instanceArgs": {
                "namespace": "html",
                "tag": "div"
               },
               "nodeType": "DOM",
               "props": {
                "className": "interact-flex-row-left"
               },
               "type": "node"
              },
              {
               "children": [
                {
                 "children": [],
                 "instanceArgs": {
                  "namespace": "html",
                  "tag": "input"
                 },
                 "nodeType": "DOM",
                 "props": {
                  "attributes": {
                   "data-bind": "numericValue: index, valueUpdate: 'input', event: {change: function (){this.changes(this.changes()+1)}}",
                   "orient": "horizontal",
                   "type": "range"
                  },
                  "className": "slider slider is-fullwidth",
                  "max": 61,
                  "min": 1,
                  "step": 1,
                  "style": {}
                 },
                 "type": "node"
                }
               ],
               "instanceArgs": {
                "namespace": "html",
                "tag": "div"
               },
               "nodeType": "DOM",
               "props": {
                "className": "interact-flex-row-center"
               },
               "type": "node"
              },
              {
               "children": [
                {
                 "children": [],
                 "instanceArgs": {
                  "namespace": "html",
                  "tag": "p"
                 },
                 "nodeType": "DOM",
                 "props": {
                  "attributes": {
                   "data-bind": "text: formatted_val"
                  }
                 },
                 "type": "node"
                }
               ],
               "instanceArgs": {
                "namespace": "html",
                "tag": "div"
               },
               "nodeType": "DOM",
               "props": {
                "className": "interact-flex-row-right"
               },
               "type": "node"
              }
             ],
             "instanceArgs": {
              "namespace": "html",
              "tag": "div"
             },
             "nodeType": "DOM",
             "props": {
              "className": "interact-flex-row interact-widget"
             },
             "type": "node"
            }
           ],
           "instanceArgs": {
            "handlers": {
             "changes": [
              "(function (val){return (val!=this.model[\"changes\"]()) ? (this.valueFromJulia[\"changes\"]=true, this.model[\"changes\"](val)) : undefined})"
             ],
             "index": [
              "(function (val){return (val!=this.model[\"index\"]()) ? (this.valueFromJulia[\"index\"]=true, this.model[\"index\"](val)) : undefined})"
             ]
            },
            "id": "16202691901012483586",
            "imports": {
             "data": [
              {
               "name": "knockout",
               "type": "js",
               "url": "/assetserver/0cedf553a5154124f66c7c67e1c5a243325a593c-knockout.js"
              },
              {
               "name": "knockout_punches",
               "type": "js",
               "url": "/assetserver/624c410d777e23e946bee7a3f321fda94254d51d-knockout_punches.js"
              },
              {
               "name": null,
               "type": "js",
               "url": "/assetserver/f9ad4669612d57b9a452b1037b8366ac304a3f14-all.js"
              },
              {
               "name": null,
               "type": "css",
               "url": "/assetserver/02522e5a109e7e84d4c02ab9ef718d2622cff620-style.css"
              },
              {
               "name": null,
               "type": "css",
               "url": "/assetserver/1b487ca88261a11b71d9787b3e4e06ed11c66932-bulma_confined.min.css"
              }
             ],
             "type": "async_block"
            },
            "mount_callbacks": [
             "function () {\n    var handler = (function (ko, koPunches) {\n    ko.punches.enableAll();\n    ko.bindingHandlers.numericValue = {\n        init: function(element, valueAccessor, allBindings, data, context) {\n            var stringified = ko.observable(ko.unwrap(valueAccessor()));\n            stringified.subscribe(function(value) {\n                var val = parseFloat(value);\n                if (!isNaN(val)) {\n                    valueAccessor()(val);\n                }\n            });\n            valueAccessor().subscribe(function(value) {\n                var str = JSON.stringify(value);\n                if ((str == \"0\") && ([\"-0\", \"-0.\"].indexOf(stringified()) >= 0))\n                     return;\n                 if ([\"null\", \"\"].indexOf(str) >= 0)\n                     return;\n                stringified(str);\n            });\n            ko.applyBindingsToNode(\n                element,\n                {\n                    value: stringified,\n                    valueUpdate: allBindings.get('valueUpdate'),\n                },\n                context,\n            );\n        }\n    };\n    var json_data = {\"formatted_vals\":[\"0.0\",\"0.1\",\"0.2\",\"0.3\",\"0.4\",\"0.5\",\"0.6\",\"0.7\",\"0.8\",\"0.9\",\"1.0\",\"1.1\",\"1.2\",\"1.3\",\"1.4\",\"1.5\",\"1.6\",\"1.7\",\"1.8\",\"1.9\",\"2.0\",\"2.1\",\"2.2\",\"2.3\",\"2.4\",\"2.5\",\"2.6\",\"2.7\",\"2.8\",\"2.9\",\"3.0\",\"3.1\",\"3.2\",\"3.3\",\"3.4\",\"3.5\",\"3.6\",\"3.7\",\"3.8\",\"3.9\",\"4.0\",\"4.1\",\"4.2\",\"4.3\",\"4.4\",\"4.5\",\"4.6\",\"4.7\",\"4.8\",\"4.9\",\"5.0\",\"5.1\",\"5.2\",\"5.3\",\"5.4\",\"5.5\",\"5.6\",\"5.7\",\"5.8\",\"5.9\",\"6.0\"],\"changes\":WebIO.getval({\"name\":\"changes\",\"scope\":\"16202691901012483586\",\"id\":\"1369582352455202970\",\"type\":\"observable\"}),\"index\":WebIO.getval({\"name\":\"index\",\"scope\":\"16202691901012483586\",\"id\":\"1823999457475730580\",\"type\":\"observable\"})};\n    var self = this;\n    function AppViewModel() {\n        for (var key in json_data) {\n            var el = json_data[key];\n            this[key] = Array.isArray(el) ? ko.observableArray(el) : ko.observable(el);\n        }\n        \n        [this[\"formatted_val\"]=ko.computed(    function(){\n        return this.formatted_vals()[parseInt(this.index())-(1)];\n    }\n,this)]\n        [this[\"changes\"].subscribe((function (val){!(this.valueFromJulia[\"changes\"]) ? (WebIO.setval({\"name\":\"changes\",\"scope\":\"16202691901012483586\",\"id\":\"1369582352455202970\",\"type\":\"observable\"},val)) : undefined; return this.valueFromJulia[\"changes\"]=false}),self),this[\"index\"].subscribe((function (val){!(this.valueFromJulia[\"index\"]) ? (WebIO.setval({\"name\":\"index\",\"scope\":\"16202691901012483586\",\"id\":\"1823999457475730580\",\"type\":\"observable\"},val)) : undefined; return this.valueFromJulia[\"index\"]=false}),self)]\n        \n    }\n    self.model = new AppViewModel();\n    self.valueFromJulia = {};\n    for (var key in json_data) {\n        self.valueFromJulia[key] = false;\n    }\n    ko.applyBindings(self.model, self.dom);\n}\n);\n    (WebIO.importBlock({\"data\":[{\"name\":\"knockout\",\"type\":\"js\",\"url\":\"/assetserver/0cedf553a5154124f66c7c67e1c5a243325a593c-knockout.js\"},{\"name\":\"knockout_punches\",\"type\":\"js\",\"url\":\"/assetserver/624c410d777e23e946bee7a3f321fda94254d51d-knockout_punches.js\"}],\"type\":\"async_block\"})).then((imports) => handler.apply(this, imports));\n}\n"
            ],
            "observables": {
             "changes": {
              "id": "1369582352455202970",
              "sync": false,
              "value": 0
             },
             "index": {
              "id": "1823999457475730580",
              "sync": true,
              "value": 31
             }
            },
            "systemjs_options": null
           },
           "nodeType": "Scope",
           "props": {},
           "type": "node"
          }
         ],
         "instanceArgs": {
          "namespace": "html",
          "tag": "div"
         },
         "nodeType": "DOM",
         "props": {
          "className": "field interact-widget"
         },
         "type": "node"
        },
        {
         "children": [
          {
           "children": [
            {
             "children": [
              {
               "children": [
                {
                 "children": [
                  "a"
                 ],
                 "instanceArgs": {
                  "namespace": "html",
                  "tag": "label"
                 },
                 "nodeType": "DOM",
                 "props": {
                  "className": "interact ",
                  "style": {
                   "padding": "5px 10px 0px 10px"
                  }
                 },
                 "type": "node"
                }
               ],
               "instanceArgs": {
                "namespace": "html",
                "tag": "div"
               },
               "nodeType": "DOM",
               "props": {
                "className": "interact-flex-row-left"
               },
               "type": "node"
              },
              {
               "children": [
                {
                 "children": [],
                 "instanceArgs": {
                  "namespace": "html",
                  "tag": "input"
                 },
                 "nodeType": "DOM",
                 "props": {
                  "attributes": {
                   "data-bind": "numericValue: index, valueUpdate: 'input', event: {change: function (){this.changes(this.changes()+1)}}",
                   "orient": "horizontal",
                   "type": "range"
                  },
                  "className": "slider slider is-fullwidth",
                  "max": 21,
                  "min": 1,
                  "step": 1,
                  "style": {}
                 },
                 "type": "node"
                }
               ],
               "instanceArgs": {
                "namespace": "html",
                "tag": "div"
               },
               "nodeType": "DOM",
               "props": {
                "className": "interact-flex-row-center"
               },
               "type": "node"
              },
              {
               "children": [
                {
                 "children": [],
                 "instanceArgs": {
                  "namespace": "html",
                  "tag": "p"
                 },
                 "nodeType": "DOM",
                 "props": {
                  "attributes": {
                   "data-bind": "text: formatted_val"
                  }
                 },
                 "type": "node"
                }
               ],
               "instanceArgs": {
                "namespace": "html",
                "tag": "div"
               },
               "nodeType": "DOM",
               "props": {
                "className": "interact-flex-row-right"
               },
               "type": "node"
              }
             ],
             "instanceArgs": {
              "namespace": "html",
              "tag": "div"
             },
             "nodeType": "DOM",
             "props": {
              "className": "interact-flex-row interact-widget"
             },
             "type": "node"
            }
           ],
           "instanceArgs": {
            "handlers": {
             "changes": [
              "(function (val){return (val!=this.model[\"changes\"]()) ? (this.valueFromJulia[\"changes\"]=true, this.model[\"changes\"](val)) : undefined})"
             ],
             "index": [
              "(function (val){return (val!=this.model[\"index\"]()) ? (this.valueFromJulia[\"index\"]=true, this.model[\"index\"](val)) : undefined})"
             ]
            },
            "id": "17995774388535276065",
            "imports": {
             "data": [
              {
               "name": "knockout",
               "type": "js",
               "url": "/assetserver/0cedf553a5154124f66c7c67e1c5a243325a593c-knockout.js"
              },
              {
               "name": "knockout_punches",
               "type": "js",
               "url": "/assetserver/624c410d777e23e946bee7a3f321fda94254d51d-knockout_punches.js"
              },
              {
               "name": null,
               "type": "js",
               "url": "/assetserver/f9ad4669612d57b9a452b1037b8366ac304a3f14-all.js"
              },
              {
               "name": null,
               "type": "css",
               "url": "/assetserver/02522e5a109e7e84d4c02ab9ef718d2622cff620-style.css"
              },
              {
               "name": null,
               "type": "css",
               "url": "/assetserver/1b487ca88261a11b71d9787b3e4e06ed11c66932-bulma_confined.min.css"
              }
             ],
             "type": "async_block"
            },
            "mount_callbacks": [
             "function () {\n    var handler = (function (ko, koPunches) {\n    ko.punches.enableAll();\n    ko.bindingHandlers.numericValue = {\n        init: function(element, valueAccessor, allBindings, data, context) {\n            var stringified = ko.observable(ko.unwrap(valueAccessor()));\n            stringified.subscribe(function(value) {\n                var val = parseFloat(value);\n                if (!isNaN(val)) {\n                    valueAccessor()(val);\n                }\n            });\n            valueAccessor().subscribe(function(value) {\n                var str = JSON.stringify(value);\n                if ((str == \"0\") && ([\"-0\", \"-0.\"].indexOf(stringified()) >= 0))\n                     return;\n                 if ([\"null\", \"\"].indexOf(str) >= 0)\n                     return;\n                stringified(str);\n            });\n            ko.applyBindingsToNode(\n                element,\n                {\n                    value: stringified,\n                    valueUpdate: allBindings.get('valueUpdate'),\n                },\n                context,\n            );\n        }\n    };\n    var json_data = {\"formatted_vals\":[\"0.0\",\"0.1\",\"0.2\",\"0.3\",\"0.4\",\"0.5\",\"0.6\",\"0.7\",\"0.8\",\"0.9\",\"1.0\",\"1.1\",\"1.2\",\"1.3\",\"1.4\",\"1.5\",\"1.6\",\"1.7\",\"1.8\",\"1.9\",\"2.0\"],\"changes\":WebIO.getval({\"name\":\"changes\",\"scope\":\"17995774388535276065\",\"id\":\"13273747275915605438\",\"type\":\"observable\"}),\"index\":WebIO.getval({\"name\":\"index\",\"scope\":\"17995774388535276065\",\"id\":\"7417575125475106241\",\"type\":\"observable\"})};\n    var self = this;\n    function AppViewModel() {\n        for (var key in json_data) {\n            var el = json_data[key];\n            this[key] = Array.isArray(el) ? ko.observableArray(el) : ko.observable(el);\n        }\n        \n        [this[\"formatted_val\"]=ko.computed(    function(){\n        return this.formatted_vals()[parseInt(this.index())-(1)];\n    }\n,this)]\n        [this[\"changes\"].subscribe((function (val){!(this.valueFromJulia[\"changes\"]) ? (WebIO.setval({\"name\":\"changes\",\"scope\":\"17995774388535276065\",\"id\":\"13273747275915605438\",\"type\":\"observable\"},val)) : undefined; return this.valueFromJulia[\"changes\"]=false}),self),this[\"index\"].subscribe((function (val){!(this.valueFromJulia[\"index\"]) ? (WebIO.setval({\"name\":\"index\",\"scope\":\"17995774388535276065\",\"id\":\"7417575125475106241\",\"type\":\"observable\"},val)) : undefined; return this.valueFromJulia[\"index\"]=false}),self)]\n        \n    }\n    self.model = new AppViewModel();\n    self.valueFromJulia = {};\n    for (var key in json_data) {\n        self.valueFromJulia[key] = false;\n    }\n    ko.applyBindings(self.model, self.dom);\n}\n);\n    (WebIO.importBlock({\"data\":[{\"name\":\"knockout\",\"type\":\"js\",\"url\":\"/assetserver/0cedf553a5154124f66c7c67e1c5a243325a593c-knockout.js\"},{\"name\":\"knockout_punches\",\"type\":\"js\",\"url\":\"/assetserver/624c410d777e23e946bee7a3f321fda94254d51d-knockout_punches.js\"}],\"type\":\"async_block\"})).then((imports) => handler.apply(this, imports));\n}\n"
            ],
            "observables": {
             "changes": {
              "id": "13273747275915605438",
              "sync": false,
              "value": 0
             },
             "index": {
              "id": "7417575125475106241",
              "sync": true,
              "value": 11
             }
            },
            "systemjs_options": null
           },
           "nodeType": "Scope",
           "props": {},
           "type": "node"
          }
         ],
         "instanceArgs": {
          "namespace": "html",
          "tag": "div"
         },
         "nodeType": "DOM",
         "props": {
          "className": "field interact-widget"
         },
         "type": "node"
        },
        {
         "children": [
          {
           "children": [
            {
             "children": [
              {
               "children": [
                {
                 "children": [
                  "b"
                 ],
                 "instanceArgs": {
                  "namespace": "html",
                  "tag": "label"
                 },
                 "nodeType": "DOM",
                 "props": {
                  "className": "interact ",
                  "style": {
                   "padding": "5px 10px 0px 10px"
                  }
                 },
                 "type": "node"
                }
               ],
               "instanceArgs": {
                "namespace": "html",
                "tag": "div"
               },
               "nodeType": "DOM",
               "props": {
                "className": "interact-flex-row-left"
               },
               "type": "node"
              },
              {
               "children": [
                {
                 "children": [],
                 "instanceArgs": {
                  "namespace": "html",
                  "tag": "input"
                 },
                 "nodeType": "DOM",
                 "props": {
                  "attributes": {
                   "data-bind": "numericValue: index, valueUpdate: 'input', event: {change: function (){this.changes(this.changes()+1)}}",
                   "orient": "horizontal",
                   "type": "range"
                  },
                  "className": "slider slider is-fullwidth",
                  "max": 21,
                  "min": 1,
                  "step": 1,
                  "style": {}
                 },
                 "type": "node"
                }
               ],
               "instanceArgs": {
                "namespace": "html",
                "tag": "div"
               },
               "nodeType": "DOM",
               "props": {
                "className": "interact-flex-row-center"
               },
               "type": "node"
              },
              {
               "children": [
                {
                 "children": [],
                 "instanceArgs": {
                  "namespace": "html",
                  "tag": "p"
                 },
                 "nodeType": "DOM",
                 "props": {
                  "attributes": {
                   "data-bind": "text: formatted_val"
                  }
                 },
                 "type": "node"
                }
               ],
               "instanceArgs": {
                "namespace": "html",
                "tag": "div"
               },
               "nodeType": "DOM",
               "props": {
                "className": "interact-flex-row-right"
               },
               "type": "node"
              }
             ],
             "instanceArgs": {
              "namespace": "html",
              "tag": "div"
             },
             "nodeType": "DOM",
             "props": {
              "className": "interact-flex-row interact-widget"
             },
             "type": "node"
            }
           ],
           "instanceArgs": {
            "handlers": {
             "changes": [
              "(function (val){return (val!=this.model[\"changes\"]()) ? (this.valueFromJulia[\"changes\"]=true, this.model[\"changes\"](val)) : undefined})"
             ],
             "index": [
              "(function (val){return (val!=this.model[\"index\"]()) ? (this.valueFromJulia[\"index\"]=true, this.model[\"index\"](val)) : undefined})"
             ]
            },
            "id": "12846603554558712007",
            "imports": {
             "data": [
              {
               "name": "knockout",
               "type": "js",
               "url": "/assetserver/0cedf553a5154124f66c7c67e1c5a243325a593c-knockout.js"
              },
              {
               "name": "knockout_punches",
               "type": "js",
               "url": "/assetserver/624c410d777e23e946bee7a3f321fda94254d51d-knockout_punches.js"
              },
              {
               "name": null,
               "type": "js",
               "url": "/assetserver/f9ad4669612d57b9a452b1037b8366ac304a3f14-all.js"
              },
              {
               "name": null,
               "type": "css",
               "url": "/assetserver/02522e5a109e7e84d4c02ab9ef718d2622cff620-style.css"
              },
              {
               "name": null,
               "type": "css",
               "url": "/assetserver/1b487ca88261a11b71d9787b3e4e06ed11c66932-bulma_confined.min.css"
              }
             ],
             "type": "async_block"
            },
            "mount_callbacks": [
             "function () {\n    var handler = (function (ko, koPunches) {\n    ko.punches.enableAll();\n    ko.bindingHandlers.numericValue = {\n        init: function(element, valueAccessor, allBindings, data, context) {\n            var stringified = ko.observable(ko.unwrap(valueAccessor()));\n            stringified.subscribe(function(value) {\n                var val = parseFloat(value);\n                if (!isNaN(val)) {\n                    valueAccessor()(val);\n                }\n            });\n            valueAccessor().subscribe(function(value) {\n                var str = JSON.stringify(value);\n                if ((str == \"0\") && ([\"-0\", \"-0.\"].indexOf(stringified()) >= 0))\n                     return;\n                 if ([\"null\", \"\"].indexOf(str) >= 0)\n                     return;\n                stringified(str);\n            });\n            ko.applyBindingsToNode(\n                element,\n                {\n                    value: stringified,\n                    valueUpdate: allBindings.get('valueUpdate'),\n                },\n                context,\n            );\n        }\n    };\n    var json_data = {\"formatted_vals\":[\"0.0\",\"0.1\",\"0.2\",\"0.3\",\"0.4\",\"0.5\",\"0.6\",\"0.7\",\"0.8\",\"0.9\",\"1.0\",\"1.1\",\"1.2\",\"1.3\",\"1.4\",\"1.5\",\"1.6\",\"1.7\",\"1.8\",\"1.9\",\"2.0\"],\"changes\":WebIO.getval({\"name\":\"changes\",\"scope\":\"12846603554558712007\",\"id\":\"12655299840013629845\",\"type\":\"observable\"}),\"index\":WebIO.getval({\"name\":\"index\",\"scope\":\"12846603554558712007\",\"id\":\"10688815145267578191\",\"type\":\"observable\"})};\n    var self = this;\n    function AppViewModel() {\n        for (var key in json_data) {\n            var el = json_data[key];\n            this[key] = Array.isArray(el) ? ko.observableArray(el) : ko.observable(el);\n        }\n        \n        [this[\"formatted_val\"]=ko.computed(    function(){\n        return this.formatted_vals()[parseInt(this.index())-(1)];\n    }\n,this)]\n        [this[\"changes\"].subscribe((function (val){!(this.valueFromJulia[\"changes\"]) ? (WebIO.setval({\"name\":\"changes\",\"scope\":\"12846603554558712007\",\"id\":\"12655299840013629845\",\"type\":\"observable\"},val)) : undefined; return this.valueFromJulia[\"changes\"]=false}),self),this[\"index\"].subscribe((function (val){!(this.valueFromJulia[\"index\"]) ? (WebIO.setval({\"name\":\"index\",\"scope\":\"12846603554558712007\",\"id\":\"10688815145267578191\",\"type\":\"observable\"},val)) : undefined; return this.valueFromJulia[\"index\"]=false}),self)]\n        \n    }\n    self.model = new AppViewModel();\n    self.valueFromJulia = {};\n    for (var key in json_data) {\n        self.valueFromJulia[key] = false;\n    }\n    ko.applyBindings(self.model, self.dom);\n}\n);\n    (WebIO.importBlock({\"data\":[{\"name\":\"knockout\",\"type\":\"js\",\"url\":\"/assetserver/0cedf553a5154124f66c7c67e1c5a243325a593c-knockout.js\"},{\"name\":\"knockout_punches\",\"type\":\"js\",\"url\":\"/assetserver/624c410d777e23e946bee7a3f321fda94254d51d-knockout_punches.js\"}],\"type\":\"async_block\"})).then((imports) => handler.apply(this, imports));\n}\n"
            ],
            "observables": {
             "changes": {
              "id": "12655299840013629845",
              "sync": false,
              "value": 0
             },
             "index": {
              "id": "10688815145267578191",
              "sync": true,
              "value": 11
             }
            },
            "systemjs_options": null
           },
           "nodeType": "Scope",
           "props": {},
           "type": "node"
          }
         ],
         "instanceArgs": {
          "namespace": "html",
          "tag": "div"
         },
         "nodeType": "DOM",
         "props": {
          "className": "field interact-widget"
         },
         "type": "node"
        },
        {
         "children": [
          {
           "children": [
            {
             "children": [
              {
               "children": [
                {
                 "children": [
                  "c"
                 ],
                 "instanceArgs": {
                  "namespace": "html",
                  "tag": "label"
                 },
                 "nodeType": "DOM",
                 "props": {
                  "className": "interact ",
                  "style": {
                   "padding": "5px 10px 0px 10px"
                  }
                 },
                 "type": "node"
                }
               ],
               "instanceArgs": {
                "namespace": "html",
                "tag": "div"
               },
               "nodeType": "DOM",
               "props": {
                "className": "interact-flex-row-left"
               },
               "type": "node"
              },
              {
               "children": [
                {
                 "children": [],
                 "instanceArgs": {
                  "namespace": "html",
                  "tag": "input"
                 },
                 "nodeType": "DOM",
                 "props": {
                  "attributes": {
                   "data-bind": "numericValue: index, valueUpdate: 'input', event: {change: function (){this.changes(this.changes()+1)}}",
                   "orient": "horizontal",
                   "type": "range"
                  },
                  "className": "slider slider is-fullwidth",
                  "max": 401,
                  "min": 1,
                  "step": 1,
                  "style": {}
                 },
                 "type": "node"
                }
               ],
               "instanceArgs": {
                "namespace": "html",
                "tag": "div"
               },
               "nodeType": "DOM",
               "props": {
                "className": "interact-flex-row-center"
               },
               "type": "node"
              },
              {
               "children": [
                {
                 "children": [],
                 "instanceArgs": {
                  "namespace": "html",
                  "tag": "p"
                 },
                 "nodeType": "DOM",
                 "props": {
                  "attributes": {
                   "data-bind": "text: formatted_val"
                  }
                 },
                 "type": "node"
                }
               ],
               "instanceArgs": {
                "namespace": "html",
                "tag": "div"
               },
               "nodeType": "DOM",
               "props": {
                "className": "interact-flex-row-right"
               },
               "type": "node"
              }
             ],
             "instanceArgs": {
              "namespace": "html",
              "tag": "div"
             },
             "nodeType": "DOM",
             "props": {
              "className": "interact-flex-row interact-widget"
             },
             "type": "node"
            }
           ],
           "instanceArgs": {
            "handlers": {
             "changes": [
              "(function (val){return (val!=this.model[\"changes\"]()) ? (this.valueFromJulia[\"changes\"]=true, this.model[\"changes\"](val)) : undefined})"
             ],
             "index": [
              "(function (val){return (val!=this.model[\"index\"]()) ? (this.valueFromJulia[\"index\"]=true, this.model[\"index\"](val)) : undefined})"
             ]
            },
            "id": "9063526848729606375",
            "imports": {
             "data": [
              {
               "name": "knockout",
               "type": "js",
               "url": "/assetserver/0cedf553a5154124f66c7c67e1c5a243325a593c-knockout.js"
              },
              {
               "name": "knockout_punches",
               "type": "js",
               "url": "/assetserver/624c410d777e23e946bee7a3f321fda94254d51d-knockout_punches.js"
              },
              {
               "name": null,
               "type": "js",
               "url": "/assetserver/f9ad4669612d57b9a452b1037b8366ac304a3f14-all.js"
              },
              {
               "name": null,
               "type": "css",
               "url": "/assetserver/02522e5a109e7e84d4c02ab9ef718d2622cff620-style.css"
              },
              {
               "name": null,
               "type": "css",
               "url": "/assetserver/1b487ca88261a11b71d9787b3e4e06ed11c66932-bulma_confined.min.css"
              }
             ],
             "type": "async_block"
            },
            "mount_callbacks": [
             "function () {\n    var handler = (function (ko, koPunches) {\n    ko.punches.enableAll();\n    ko.bindingHandlers.numericValue = {\n        init: function(element, valueAccessor, allBindings, data, context) {\n            var stringified = ko.observable(ko.unwrap(valueAccessor()));\n            stringified.subscribe(function(value) {\n                var val = parseFloat(value);\n                if (!isNaN(val)) {\n                    valueAccessor()(val);\n                }\n            });\n            valueAccessor().subscribe(function(value) {\n                var str = JSON.stringify(value);\n                if ((str == \"0\") && ([\"-0\", \"-0.\"].indexOf(stringified()) >= 0))\n                     return;\n                 if ([\"null\", \"\"].indexOf(str) >= 0)\n                     return;\n                stringified(str);\n            });\n            ko.applyBindingsToNode(\n                element,\n                {\n                    value: stringified,\n                    valueUpdate: allBindings.get('valueUpdate'),\n                },\n                context,\n            );\n        }\n    };\n    var json_data = {\"formatted_vals\":[\"-2.0\",\"-1.99\",\"-1.98\",\"-1.97\",\"-1.96\",\"-1.95\",\"-1.94\",\"-1.93\",\"-1.92\",\"-1.91\",\"-1.9\",\"-1.89\",\"-1.88\",\"-1.87\",\"-1.86\",\"-1.85\",\"-1.84\",\"-1.83\",\"-1.82\",\"-1.81\",\"-1.8\",\"-1.79\",\"-1.78\",\"-1.77\",\"-1.76\",\"-1.75\",\"-1.74\",\"-1.73\",\"-1.72\",\"-1.71\",\"-1.7\",\"-1.69\",\"-1.68\",\"-1.67\",\"-1.66\",\"-1.65\",\"-1.64\",\"-1.63\",\"-1.62\",\"-1.61\",\"-1.6\",\"-1.59\",\"-1.58\",\"-1.57\",\"-1.56\",\"-1.55\",\"-1.54\",\"-1.53\",\"-1.52\",\"-1.51\",\"-1.5\",\"-1.49\",\"-1.48\",\"-1.47\",\"-1.46\",\"-1.45\",\"-1.44\",\"-1.43\",\"-1.42\",\"-1.41\",\"-1.4\",\"-1.39\",\"-1.38\",\"-1.37\",\"-1.36\",\"-1.35\",\"-1.34\",\"-1.33\",\"-1.32\",\"-1.31\",\"-1.3\",\"-1.29\",\"-1.28\",\"-1.27\",\"-1.26\",\"-1.25\",\"-1.24\",\"-1.23\",\"-1.22\",\"-1.21\",\"-1.2\",\"-1.19\",\"-1.18\",\"-1.17\",\"-1.16\",\"-1.15\",\"-1.14\",\"-1.13\",\"-1.12\",\"-1.11\",\"-1.1\",\"-1.09\",\"-1.08\",\"-1.07\",\"-1.06\",\"-1.05\",\"-1.04\",\"-1.03\",\"-1.02\",\"-1.01\",\"-1.0\",\"-0.99\",\"-0.98\",\"-0.97\",\"-0.96\",\"-0.95\",\"-0.94\",\"-0.93\",\"-0.92\",\"-0.91\",\"-0.9\",\"-0.89\",\"-0.88\",\"-0.87\",\"-0.86\",\"-0.85\",\"-0.84\",\"-0.83\",\"-0.82\",\"-0.81\",\"-0.8\",\"-0.79\",\"-0.78\",\"-0.77\",\"-0.76\",\"-0.75\",\"-0.74\",\"-0.73\",\"-0.72\",\"-0.71\",\"-0.7\",\"-0.69\",\"-0.68\",\"-0.67\",\"-0.66\",\"-0.65\",\"-0.64\",\"-0.63\",\"-0.62\",\"-0.61\",\"-0.6\",\"-0.59\",\"-0.58\",\"-0.57\",\"-0.56\",\"-0.55\",\"-0.54\",\"-0.53\",\"-0.52\",\"-0.51\",\"-0.5\",\"-0.49\",\"-0.48\",\"-0.47\",\"-0.46\",\"-0.45\",\"-0.44\",\"-0.43\",\"-0.42\",\"-0.41\",\"-0.4\",\"-0.39\",\"-0.38\",\"-0.37\",\"-0.36\",\"-0.35\",\"-0.34\",\"-0.33\",\"-0.32\",\"-0.31\",\"-0.3\",\"-0.29\",\"-0.28\",\"-0.27\",\"-0.26\",\"-0.25\",\"-0.24\",\"-0.23\",\"-0.22\",\"-0.21\",\"-0.2\",\"-0.19\",\"-0.18\",\"-0.17\",\"-0.16\",\"-0.15\",\"-0.14\",\"-0.13\",\"-0.12\",\"-0.11\",\"-0.1\",\"-0.09\",\"-0.08\",\"-0.07\",\"-0.06\",\"-0.05\",\"-0.04\",\"-0.03\",\"-0.02\",\"-0.01\",\"0.0\",\"0.01\",\"0.02\",\"0.03\",\"0.04\",\"0.05\",\"0.06\",\"0.07\",\"0.08\",\"0.09\",\"0.1\",\"0.11\",\"0.12\",\"0.13\",\"0.14\",\"0.15\",\"0.16\",\"0.17\",\"0.18\",\"0.19\",\"0.2\",\"0.21\",\"0.22\",\"0.23\",\"0.24\",\"0.25\",\"0.26\",\"0.27\",\"0.28\",\"0.29\",\"0.3\",\"0.31\",\"0.32\",\"0.33\",\"0.34\",\"0.35\",\"0.36\",\"0.37\",\"0.38\",\"0.39\",\"0.4\",\"0.41\",\"0.42\",\"0.43\",\"0.44\",\"0.45\",\"0.46\",\"0.47\",\"0.48\",\"0.49\",\"0.5\",\"0.51\",\"0.52\",\"0.53\",\"0.54\",\"0.55\",\"0.56\",\"0.57\",\"0.58\",\"0.59\",\"0.6\",\"0.61\",\"0.62\",\"0.63\",\"0.64\",\"0.65\",\"0.66\",\"0.67\",\"0.68\",\"0.69\",\"0.7\",\"0.71\",\"0.72\",\"0.73\",\"0.74\",\"0.75\",\"0.76\",\"0.77\",\"0.78\",\"0.79\",\"0.8\",\"0.81\",\"0.82\",\"0.83\",\"0.84\",\"0.85\",\"0.86\",\"0.87\",\"0.88\",\"0.89\",\"0.9\",\"0.91\",\"0.92\",\"0.93\",\"0.94\",\"0.95\",\"0.96\",\"0.97\",\"0.98\",\"0.99\",\"1.0\",\"1.01\",\"1.02\",\"1.03\",\"1.04\",\"1.05\",\"1.06\",\"1.07\",\"1.08\",\"1.09\",\"1.1\",\"1.11\",\"1.12\",\"1.13\",\"1.14\",\"1.15\",\"1.16\",\"1.17\",\"1.18\",\"1.19\",\"1.2\",\"1.21\",\"1.22\",\"1.23\",\"1.24\",\"1.25\",\"1.26\",\"1.27\",\"1.28\",\"1.29\",\"1.3\",\"1.31\",\"1.32\",\"1.33\",\"1.34\",\"1.35\",\"1.36\",\"1.37\",\"1.38\",\"1.39\",\"1.4\",\"1.41\",\"1.42\",\"1.43\",\"1.44\",\"1.45\",\"1.46\",\"1.47\",\"1.48\",\"1.49\",\"1.5\",\"1.51\",\"1.52\",\"1.53\",\"1.54\",\"1.55\",\"1.56\",\"1.57\",\"1.58\",\"1.59\",\"1.6\",\"1.61\",\"1.62\",\"1.63\",\"1.64\",\"1.65\",\"1.66\",\"1.67\",\"1.68\",\"1.69\",\"1.7\",\"1.71\",\"1.72\",\"1.73\",\"1.74\",\"1.75\",\"1.76\",\"1.77\",\"1.78\",\"1.79\",\"1.8\",\"1.81\",\"1.82\",\"1.83\",\"1.84\",\"1.85\",\"1.86\",\"1.87\",\"1.88\",\"1.89\",\"1.9\",\"1.91\",\"1.92\",\"1.93\",\"1.94\",\"1.95\",\"1.96\",\"1.97\",\"1.98\",\"1.99\",\"2.0\"],\"changes\":WebIO.getval({\"name\":\"changes\",\"scope\":\"9063526848729606375\",\"id\":\"3091126771591082160\",\"type\":\"observable\"}),\"index\":WebIO.getval({\"name\":\"index\",\"scope\":\"9063526848729606375\",\"id\":\"11239578818581439628\",\"type\":\"observable\"})};\n    var self = this;\n    function AppViewModel() {\n        for (var key in json_data) {\n            var el = json_data[key];\n            this[key] = Array.isArray(el) ? ko.observableArray(el) : ko.observable(el);\n        }\n        \n        [this[\"formatted_val\"]=ko.computed(    function(){\n        return this.formatted_vals()[parseInt(this.index())-(1)];\n    }\n,this)]\n        [this[\"changes\"].subscribe((function (val){!(this.valueFromJulia[\"changes\"]) ? (WebIO.setval({\"name\":\"changes\",\"scope\":\"9063526848729606375\",\"id\":\"3091126771591082160\",\"type\":\"observable\"},val)) : undefined; return this.valueFromJulia[\"changes\"]=false}),self),this[\"index\"].subscribe((function (val){!(this.valueFromJulia[\"index\"]) ? (WebIO.setval({\"name\":\"index\",\"scope\":\"9063526848729606375\",\"id\":\"11239578818581439628\",\"type\":\"observable\"},val)) : undefined; return this.valueFromJulia[\"index\"]=false}),self)]\n        \n    }\n    self.model = new AppViewModel();\n    self.valueFromJulia = {};\n    for (var key in json_data) {\n        self.valueFromJulia[key] = false;\n    }\n    ko.applyBindings(self.model, self.dom);\n}\n);\n    (WebIO.importBlock({\"data\":[{\"name\":\"knockout\",\"type\":\"js\",\"url\":\"/assetserver/0cedf553a5154124f66c7c67e1c5a243325a593c-knockout.js\"},{\"name\":\"knockout_punches\",\"type\":\"js\",\"url\":\"/assetserver/624c410d777e23e946bee7a3f321fda94254d51d-knockout_punches.js\"}],\"type\":\"async_block\"})).then((imports) => handler.apply(this, imports));\n}\n"
            ],
            "observables": {
             "changes": {
              "id": "3091126771591082160",
              "sync": false,
              "value": 0
             },
             "index": {
              "id": "11239578818581439628",
              "sync": true,
              "value": 201
             }
            },
            "systemjs_options": null
           },
           "nodeType": "Scope",
           "props": {},
           "type": "node"
          }
         ],
         "instanceArgs": {
          "namespace": "html",
          "tag": "div"
         },
         "nodeType": "DOM",
         "props": {
          "className": "field interact-widget"
         },
         "type": "node"
        },
        {
         "children": [
          {
           "children": [],
           "instanceArgs": {
            "id": "5476683556544046899",
            "name": "obs-node"
           },
           "nodeType": "ObservableNode",
           "props": {},
           "type": "node"
          }
         ],
         "instanceArgs": {
          "handlers": {},
          "id": "9785353063114025155",
          "imports": {
           "data": [],
           "type": "async_block"
          },
          "mount_callbacks": [],
          "observables": {
           "obs-node": {
            "id": "5476683556544046899",
            "sync": false,
            "value": {
             "children": [
              {
               "children": [],
               "instanceArgs": {
                "namespace": "html",
                "tag": "div"
               },
               "nodeType": "DOM",
               "props": {
                "setInnerHtml": "<?xml version=\"1.0\" encoding=\"utf-8\"?>\n<svg xmlns=\"http://www.w3.org/2000/svg\" xmlns:xlink=\"http://www.w3.org/1999/xlink\" width=\"600\" height=\"600\" viewBox=\"0 0 2400 2400\">\n<defs>\n  <clipPath id=\"clip060\">\n    <rect x=\"0\" y=\"0\" width=\"2400\" height=\"2400\"/>\n  </clipPath>\n</defs>\n<path clip-path=\"url(#clip060)\" d=\"\nM0 2400 L2400 2400 L2400 0 L0 0  Z\n  \" fill=\"#ffffff\" fill-rule=\"evenodd\" fill-opacity=\"1\"/>\n<defs>\n  <clipPath id=\"clip061\">\n    <rect x=\"480\" y=\"240\" width=\"1681\" height=\"1681\"/>\n  </clipPath>\n</defs>\n<path clip-path=\"url(#clip060)\" d=\"\nM142.084 2261.17 L2352.76 2261.17 L2352.76 47.2441 L142.084 47.2441  Z\n  \" fill=\"#ffffff\" fill-rule=\"evenodd\" fill-opacity=\"1\"/>\n<defs>\n  <clipPath id=\"clip062\">\n    <rect x=\"142\" y=\"47\" width=\"2212\" height=\"2215\"/>\n  </clipPath>\n</defs>\n<polyline clip-path=\"url(#clip062)\" style=\"stroke:#000000; stroke-width:2; stroke-opacity:0.1; fill:none\" points=\"\n  232.834,2261.17 232.834,47.2441 \n  \"/>\n<polyline clip-path=\"url(#clip062)\" style=\"stroke:#000000; stroke-width:2; stroke-opacity:0.1; fill:none\" points=\"\n  683.761,2261.17 683.761,47.2441 \n  \"/>\n<polyline clip-path=\"url(#clip062)\" style=\"stroke:#000000; stroke-width:2; stroke-opacity:0.1; fill:none\" points=\"\n  1134.69,2261.17 1134.69,47.2441 \n  \"/>\n<polyline clip-path=\"url(#clip062)\" style=\"stroke:#000000; stroke-width:2; stroke-opacity:0.1; fill:none\" points=\"\n  1585.62,2261.17 1585.62,47.2441 \n  \"/>\n<polyline clip-path=\"url(#clip062)\" style=\"stroke:#000000; stroke-width:2; stroke-opacity:0.1; fill:none\" points=\"\n  2036.54,2261.17 2036.54,47.2441 \n  \"/>\n<polyline clip-path=\"url(#clip062)\" style=\"stroke:#000000; stroke-width:2; stroke-opacity:0.1; fill:none\" points=\"\n  142.084,2168.79 2352.76,2168.79 \n  \"/>\n<polyline clip-path=\"url(#clip062)\" style=\"stroke:#000000; stroke-width:2; stroke-opacity:0.1; fill:none\" points=\"\n  142.084,1717.87 2352.76,1717.87 \n  \"/>\n<polyline clip-path=\"url(#clip062)\" style=\"stroke:#000000; stroke-width:2; stroke-opacity:0.1; fill:none\" points=\"\n  142.084,1266.94 2352.76,1266.94 \n  \"/>\n<polyline clip-path=\"url(#clip062)\" style=\"stroke:#000000; stroke-width:2; stroke-opacity:0.1; fill:none\" points=\"\n  142.084,816.01 2352.76,816.01 \n  \"/>\n<polyline clip-path=\"url(#clip062)\" style=\"stroke:#000000; stroke-width:2; stroke-opacity:0.1; fill:none\" points=\"\n  142.084,365.083 2352.76,365.083 \n  \"/>\n<polyline clip-path=\"url(#clip060)\" style=\"stroke:#000000; stroke-width:4; stroke-opacity:1; fill:none\" points=\"\n  142.084,2261.17 2352.76,2261.17 \n  \"/>\n<polyline clip-path=\"url(#clip060)\" style=\"stroke:#000000; stroke-width:4; stroke-opacity:1; fill:none\" points=\"\n  142.084,2261.17 142.084,47.2441 \n  \"/>\n<polyline clip-path=\"url(#clip060)\" style=\"stroke:#000000; stroke-width:4; stroke-opacity:1; fill:none\" points=\"\n  232.834,2261.17 232.834,2234.6 \n  \"/>\n<polyline clip-path=\"url(#clip060)\" style=\"stroke:#000000; stroke-width:4; stroke-opacity:1; fill:none\" points=\"\n  683.761,2261.17 683.761,2234.6 \n  \"/>\n<polyline clip-path=\"url(#clip060)\" style=\"stroke:#000000; stroke-width:4; stroke-opacity:1; fill:none\" points=\"\n  1134.69,2261.17 1134.69,2234.6 \n  \"/>\n<polyline clip-path=\"url(#clip060)\" style=\"stroke:#000000; stroke-width:4; stroke-opacity:1; fill:none\" points=\"\n  1585.62,2261.17 1585.62,2234.6 \n  \"/>\n<polyline clip-path=\"url(#clip060)\" style=\"stroke:#000000; stroke-width:4; stroke-opacity:1; fill:none\" points=\"\n  2036.54,2261.17 2036.54,2234.6 \n  \"/>\n<polyline clip-path=\"url(#clip060)\" style=\"stroke:#000000; stroke-width:4; stroke-opacity:1; fill:none\" points=\"\n  142.084,2168.79 168.612,2168.79 \n  \"/>\n<polyline clip-path=\"url(#clip060)\" style=\"stroke:#000000; stroke-width:4; stroke-opacity:1; fill:none\" points=\"\n  142.084,1717.87 168.612,1717.87 \n  \"/>\n<polyline clip-path=\"url(#clip060)\" style=\"stroke:#000000; stroke-width:4; stroke-opacity:1; fill:none\" points=\"\n  142.084,1266.94 168.612,1266.94 \n  \"/>\n<polyline clip-path=\"url(#clip060)\" style=\"stroke:#000000; stroke-width:4; stroke-opacity:1; fill:none\" points=\"\n  142.084,816.01 168.612,816.01 \n  \"/>\n<polyline clip-path=\"url(#clip060)\" style=\"stroke:#000000; stroke-width:4; stroke-opacity:1; fill:none\" points=\"\n  142.084,365.083 168.612,365.083 \n  \"/>\n<path clip-path=\"url(#clip060)\" d=\"M 0 0 M205.287 2297.81 L234.963 2297.81 L234.963 2301.75 L205.287 2301.75 L205.287 2297.81 Z\" fill=\"#000000\" fill-rule=\"evenodd\" fill-opacity=\"1\" /><path clip-path=\"url(#clip060)\" d=\"M 0 0 M244.06 2310.7 L260.38 2310.7 L260.38 2314.64 L238.435 2314.64 L238.435 2310.7 Q241.097 2307.95 245.681 2303.32 Q250.287 2298.67 251.468 2297.33 Q253.713 2294.8 254.593 2293.07 Q255.495 2291.31 255.495 2289.62 Q255.495 2286.86 253.551 2285.13 Q251.63 2283.39 248.528 2283.39 Q246.329 2283.39 243.875 2284.15 Q241.445 2284.92 238.667 2286.47 L238.667 2281.75 Q241.491 2280.61 243.945 2280.03 Q246.398 2279.45 248.435 2279.45 Q253.806 2279.45 257 2282.14 Q260.195 2284.83 260.195 2289.32 Q260.195 2291.45 259.384 2293.37 Q258.597 2295.26 256.491 2297.86 Q255.912 2298.53 252.81 2301.75 Q249.708 2304.94 244.06 2310.7 Z\" fill=\"#000000\" fill-rule=\"evenodd\" fill-opacity=\"1\" /><path clip-path=\"url(#clip060)\" d=\"M 0 0 M683.761 2283.16 Q680.15 2283.16 678.321 2286.72 Q676.516 2290.27 676.516 2297.39 Q676.516 2304.5 678.321 2308.07 Q680.15 2311.61 683.761 2311.61 Q687.395 2311.61 689.201 2308.07 Q691.029 2304.5 691.029 2297.39 Q691.029 2290.27 689.201 2286.72 Q687.395 2283.16 683.761 2283.16 M683.761 2279.45 Q689.571 2279.45 692.627 2284.06 Q695.705 2288.64 695.705 2297.39 Q695.705 2306.12 692.627 2310.73 Q689.571 2315.31 683.761 2315.31 Q677.951 2315.31 674.872 2310.73 Q671.817 2306.12 671.817 2297.39 Q671.817 2288.64 674.872 2284.06 Q677.951 2279.45 683.761 2279.45 Z\" fill=\"#000000\" fill-rule=\"evenodd\" fill-opacity=\"1\" /><path clip-path=\"url(#clip060)\" d=\"M 0 0 M1129.34 2310.7 L1145.66 2310.7 L1145.66 2314.64 L1123.72 2314.64 L1123.72 2310.7 Q1126.38 2307.95 1130.96 2303.32 Q1135.57 2298.67 1136.75 2297.33 Q1138.99 2294.8 1139.87 2293.07 Q1140.78 2291.31 1140.78 2289.62 Q1140.78 2286.86 1138.83 2285.13 Q1136.91 2283.39 1133.81 2283.39 Q1131.61 2283.39 1129.16 2284.15 Q1126.73 2284.92 1123.95 2286.47 L1123.95 2281.75 Q1126.77 2280.61 1129.23 2280.03 Q1131.68 2279.45 1133.72 2279.45 Q1139.09 2279.45 1142.28 2282.14 Q1145.48 2284.83 1145.48 2289.32 Q1145.48 2291.45 1144.67 2293.37 Q1143.88 2295.26 1141.77 2297.86 Q1141.19 2298.53 1138.09 2301.75 Q1134.99 2304.94 1129.34 2310.7 Z\" fill=\"#000000\" fill-rule=\"evenodd\" fill-opacity=\"1\" /><path clip-path=\"url(#clip060)\" d=\"M 0 0 M1588.62 2284.15 L1576.82 2302.6 L1588.62 2302.6 L1588.62 2284.15 M1587.4 2280.08 L1593.28 2280.08 L1593.28 2302.6 L1598.21 2302.6 L1598.21 2306.49 L1593.28 2306.49 L1593.28 2314.64 L1588.62 2314.64 L1588.62 2306.49 L1573.02 2306.49 L1573.02 2301.98 L1587.4 2280.08 Z\" fill=\"#000000\" fill-rule=\"evenodd\" fill-opacity=\"1\" /><path clip-path=\"url(#clip060)\" d=\"M 0 0 M2036.95 2295.5 Q2033.8 2295.5 2031.95 2297.65 Q2030.12 2299.8 2030.12 2303.55 Q2030.12 2307.28 2031.95 2309.45 Q2033.8 2311.61 2036.95 2311.61 Q2040.1 2311.61 2041.92 2309.45 Q2043.78 2307.28 2043.78 2303.55 Q2043.78 2299.8 2041.92 2297.65 Q2040.1 2295.5 2036.95 2295.5 M2046.23 2280.84 L2046.23 2285.1 Q2044.47 2284.27 2042.67 2283.83 Q2040.88 2283.39 2039.12 2283.39 Q2034.49 2283.39 2032.04 2286.52 Q2029.61 2289.64 2029.26 2295.96 Q2030.63 2293.95 2032.69 2292.88 Q2034.75 2291.79 2037.23 2291.79 Q2042.43 2291.79 2045.44 2294.96 Q2048.48 2298.11 2048.48 2303.55 Q2048.48 2308.88 2045.33 2312.09 Q2042.18 2315.31 2036.95 2315.31 Q2030.95 2315.31 2027.78 2310.73 Q2024.61 2306.12 2024.61 2297.39 Q2024.61 2289.2 2028.5 2284.34 Q2032.39 2279.45 2038.94 2279.45 Q2040.7 2279.45 2042.48 2279.8 Q2044.29 2280.15 2046.23 2280.84 Z\" fill=\"#000000\" fill-rule=\"evenodd\" fill-opacity=\"1\" /><path clip-path=\"url(#clip060)\" d=\"M 0 0 M62.9921 2169.24 L92.6679 2169.24 L92.6679 2173.18 L62.9921 2173.18 L62.9921 2169.24 Z\" fill=\"#000000\" fill-rule=\"evenodd\" fill-opacity=\"1\" /><path clip-path=\"url(#clip060)\" d=\"M 0 0 M101.765 2182.14 L118.084 2182.14 L118.084 2186.07 L96.1401 2186.07 L96.1401 2182.14 Q98.8021 2179.38 103.385 2174.75 Q107.992 2170.1 109.172 2168.76 Q111.418 2166.23 112.297 2164.5 Q113.2 2162.74 113.2 2161.05 Q113.2 2158.29 111.256 2156.56 Q109.334 2154.82 106.233 2154.82 Q104.034 2154.82 101.58 2155.59 Q99.1493 2156.35 96.3716 2157.9 L96.3716 2153.18 Q99.1956 2152.04 101.649 2151.47 Q104.103 2150.89 106.14 2150.89 Q111.51 2150.89 114.705 2153.57 Q117.899 2156.26 117.899 2160.75 Q117.899 2162.88 117.089 2164.8 Q116.302 2166.7 114.196 2169.29 Q113.617 2169.96 110.515 2173.18 Q107.413 2176.37 101.765 2182.14 Z\" fill=\"#000000\" fill-rule=\"evenodd\" fill-opacity=\"1\" /><path clip-path=\"url(#clip060)\" d=\"M 0 0 M106.14 1703.66 Q102.529 1703.66 100.7 1707.23 Q98.8947 1710.77 98.8947 1717.9 Q98.8947 1725.01 100.7 1728.57 Q102.529 1732.11 106.14 1732.11 Q109.774 1732.11 111.58 1728.57 Q113.409 1725.01 113.409 1717.9 Q113.409 1710.77 111.58 1707.23 Q109.774 1703.66 106.14 1703.66 M106.14 1699.96 Q111.95 1699.96 115.006 1704.57 Q118.084 1709.15 118.084 1717.9 Q118.084 1726.63 115.006 1731.23 Q111.95 1735.82 106.14 1735.82 Q100.33 1735.82 97.2512 1731.23 Q94.1957 1726.63 94.1957 1717.9 Q94.1957 1709.15 97.2512 1704.57 Q100.33 1699.96 106.14 1699.96 Z\" fill=\"#000000\" fill-rule=\"evenodd\" fill-opacity=\"1\" /><path clip-path=\"url(#clip060)\" d=\"M 0 0 M101.765 1280.28 L118.084 1280.28 L118.084 1284.22 L96.1401 1284.22 L96.1401 1280.28 Q98.8021 1277.53 103.385 1272.9 Q107.992 1268.25 109.172 1266.9 Q111.418 1264.38 112.297 1262.64 Q113.2 1260.88 113.2 1259.19 Q113.2 1256.44 111.256 1254.7 Q109.334 1252.97 106.233 1252.97 Q104.034 1252.97 101.58 1253.73 Q99.1493 1254.5 96.3716 1256.05 L96.3716 1251.32 Q99.1956 1250.19 101.649 1249.61 Q104.103 1249.03 106.14 1249.03 Q111.51 1249.03 114.705 1251.72 Q117.899 1254.4 117.899 1258.89 Q117.899 1261.02 117.089 1262.94 Q116.302 1264.84 114.196 1267.44 Q113.617 1268.11 110.515 1271.32 Q107.413 1274.52 101.765 1280.28 Z\" fill=\"#000000\" fill-rule=\"evenodd\" fill-opacity=\"1\" /><path clip-path=\"url(#clip060)\" d=\"M 0 0 M108.501 802.805 L96.6956 821.253 L108.501 821.253 L108.501 802.805 M107.274 798.73 L113.154 798.73 L113.154 821.253 L118.084 821.253 L118.084 825.142 L113.154 825.142 L113.154 833.29 L108.501 833.29 L108.501 825.142 L92.8994 825.142 L92.8994 820.628 L107.274 798.73 Z\" fill=\"#000000\" fill-rule=\"evenodd\" fill-opacity=\"1\" /><path clip-path=\"url(#clip060)\" d=\"M 0 0 M106.557 363.22 Q103.409 363.22 101.557 365.372 Q99.728 367.525 99.728 371.275 Q99.728 375.002 101.557 377.178 Q103.409 379.331 106.557 379.331 Q109.705 379.331 111.534 377.178 Q113.385 375.002 113.385 371.275 Q113.385 367.525 111.534 365.372 Q109.705 363.22 106.557 363.22 M115.839 348.567 L115.839 352.826 Q114.08 351.993 112.274 351.553 Q110.492 351.113 108.733 351.113 Q104.103 351.113 101.649 354.238 Q99.2188 357.363 98.8716 363.683 Q100.237 361.669 102.297 360.604 Q104.358 359.516 106.834 359.516 Q112.043 359.516 115.052 362.687 Q118.084 365.835 118.084 371.275 Q118.084 376.599 114.936 379.817 Q111.788 383.034 106.557 383.034 Q100.561 383.034 97.3901 378.451 Q94.2188 373.845 94.2188 365.118 Q94.2188 356.923 98.1077 352.062 Q101.997 347.178 108.547 347.178 Q110.307 347.178 112.089 347.525 Q113.895 347.873 115.839 348.567 Z\" fill=\"#000000\" fill-rule=\"evenodd\" fill-opacity=\"1\" /><circle clip-path=\"url(#clip062)\" cx=\"1585.62\" cy=\"1266.94\" r=\"14\" fill=\"#009af9\" fill-rule=\"evenodd\" fill-opacity=\"1\" stroke=\"#000000\" stroke-opacity=\"1\" stroke-width=\"4.8\"/>\n<circle clip-path=\"url(#clip062)\" cx=\"683.761\" cy=\"590.547\" r=\"14\" fill=\"#009af9\" fill-rule=\"evenodd\" fill-opacity=\"1\" stroke=\"#000000\" stroke-opacity=\"1\" stroke-width=\"4.8\"/>\n<circle clip-path=\"url(#clip062)\" cx=\"2262.01\" cy=\"1266.94\" r=\"14\" fill=\"#009af9\" fill-rule=\"evenodd\" fill-opacity=\"1\" stroke=\"#000000\" stroke-opacity=\"1\" stroke-width=\"4.8\"/>\n<circle clip-path=\"url(#clip062)\" cx=\"683.761\" cy=\"1041.47\" r=\"14\" fill=\"#009af9\" fill-rule=\"evenodd\" fill-opacity=\"1\" stroke=\"#000000\" stroke-opacity=\"1\" stroke-width=\"4.8\"/>\n<circle clip-path=\"url(#clip062)\" cx=\"1134.69\" cy=\"590.547\" r=\"14\" fill=\"#009af9\" fill-rule=\"evenodd\" fill-opacity=\"1\" stroke=\"#000000\" stroke-opacity=\"1\" stroke-width=\"4.8\"/>\n<circle clip-path=\"url(#clip062)\" cx=\"1134.69\" cy=\"1041.47\" r=\"14\" fill=\"#009af9\" fill-rule=\"evenodd\" fill-opacity=\"1\" stroke=\"#000000\" stroke-opacity=\"1\" stroke-width=\"4.8\"/>\n<circle clip-path=\"url(#clip062)\" cx=\"1585.62\" cy=\"1041.47\" r=\"14\" fill=\"#009af9\" fill-rule=\"evenodd\" fill-opacity=\"1\" stroke=\"#000000\" stroke-opacity=\"1\" stroke-width=\"4.8\"/>\n<circle clip-path=\"url(#clip062)\" cx=\"1134.69\" cy=\"816.01\" r=\"14\" fill=\"#009af9\" fill-rule=\"evenodd\" fill-opacity=\"1\" stroke=\"#000000\" stroke-opacity=\"1\" stroke-width=\"4.8\"/>\n<circle clip-path=\"url(#clip062)\" cx=\"1585.62\" cy=\"590.547\" r=\"14\" fill=\"#009af9\" fill-rule=\"evenodd\" fill-opacity=\"1\" stroke=\"#000000\" stroke-opacity=\"1\" stroke-width=\"4.8\"/>\n<g clip-path=\"url(#clip062)\">\n<image width=\"2086\" height=\"2086\" xlink:href=\"data:image/png;base64,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\nABsxAQAAAAAAAADYBNq6AeoP6/19AAAAAElFTkSuQmCC\n\" transform=\"translate(205, 111)\"/>\n</g>\n</svg>\n"
               },
               "type": "node"
              }
             ],
             "instanceArgs": {
              "namespace": "html",
              "tag": "div"
             },
             "nodeType": "DOM",
             "props": {
              "className": "interact-flex-row interact-widget"
             },
             "type": "node"
            }
           }
          },
          "systemjs_options": null
         },
         "nodeType": "Scope",
         "props": {},
         "type": "node"
        }
       ],
       "instanceArgs": {
        "namespace": "html",
        "tag": "div"
       },
       "nodeType": "DOM",
       "props": {},
       "type": "node"
      },
      "text/html": [
       "<div\n",
       "    class=\"webio-mountpoint\"\n",
       "    data-webio-mountpoint=\"4809741064210029127\"\n",
       ">\n",
       "    <script>\n",
       "    if (window.require && require.defined && require.defined(\"nbextensions/webio-jupyter-notebook\")) {\n",
       "        console.log(\"Jupyter WebIO extension detected, not mounting.\");\n",
       "    } else if (window.WebIO) {\n",
       "        WebIO.mount(\n",
       "            document.querySelector('[data-webio-mountpoint=\"4809741064210029127\"]'),\n",
       "            {\"props\":{},\"nodeType\":\"DOM\",\"type\":\"node\",\"instanceArgs\":{\"namespace\":\"html\",\"tag\":\"div\"},\"children\":[{\"props\":{\"className\":\"field interact-widget\"},\"nodeType\":\"DOM\",\"type\":\"node\",\"instanceArgs\":{\"namespace\":\"html\",\"tag\":\"div\"},\"children\":[{\"props\":{},\"nodeType\":\"Scope\",\"type\":\"node\",\"instanceArgs\":{\"imports\":{\"data\":[{\"name\":\"knockout\",\"type\":\"js\",\"url\":\"\\/assetserver\\/0cedf553a5154124f66c7c67e1c5a243325a593c-knockout.js\"},{\"name\":\"knockout_punches\",\"type\":\"js\",\"url\":\"\\/assetserver\\/624c410d777e23e946bee7a3f321fda94254d51d-knockout_punches.js\"},{\"name\":null,\"type\":\"js\",\"url\":\"\\/assetserver\\/f9ad4669612d57b9a452b1037b8366ac304a3f14-all.js\"},{\"name\":null,\"type\":\"css\",\"url\":\"\\/assetserver\\/02522e5a109e7e84d4c02ab9ef718d2622cff620-style.css\"},{\"name\":null,\"type\":\"css\",\"url\":\"\\/assetserver\\/1b487ca88261a11b71d9787b3e4e06ed11c66932-bulma_confined.min.css\"}],\"type\":\"async_block\"},\"id\":\"13239904883397043402\",\"handlers\":{\"changes\":[\"(function (val){return (val!=this.model[\\\"changes\\\"]()) ? (this.valueFromJulia[\\\"changes\\\"]=true, this.model[\\\"changes\\\"](val)) : undefined})\"],\"index\":[\"(function (val){return (val!=this.model[\\\"index\\\"]()) ? (this.valueFromJulia[\\\"index\\\"]=true, this.model[\\\"index\\\"](val)) : undefined})\"]},\"systemjs_options\":null,\"mount_callbacks\":[\"function () {\\n    var handler = (function (ko, koPunches) {\\n    ko.punches.enableAll();\\n    ko.bindingHandlers.numericValue = {\\n        init: function(element, valueAccessor, allBindings, data, context) {\\n            var stringified = ko.observable(ko.unwrap(valueAccessor()));\\n            stringified.subscribe(function(value) {\\n                var val = parseFloat(value);\\n                if (!isNaN(val)) {\\n                    valueAccessor()(val);\\n                }\\n            });\\n            valueAccessor().subscribe(function(value) {\\n                var str = JSON.stringify(value);\\n                if ((str == \\\"0\\\") && ([\\\"-0\\\", \\\"-0.\\\"].indexOf(stringified()) >= 0))\\n                     return;\\n                 if ([\\\"null\\\", \\\"\\\"].indexOf(str) >= 0)\\n                     return;\\n                stringified(str);\\n            });\\n            ko.applyBindingsToNode(\\n                element,\\n                {\\n                    value: stringified,\\n                    valueUpdate: allBindings.get('valueUpdate'),\\n                },\\n                context,\\n            );\\n        }\\n    };\\n    var json_data = {\\\"formatted_vals\\\":[\\\"0.0\\\",\\\"0.1\\\",\\\"0.2\\\",\\\"0.3\\\",\\\"0.4\\\",\\\"0.5\\\",\\\"0.6\\\",\\\"0.7\\\",\\\"0.8\\\",\\\"0.9\\\",\\\"1.0\\\",\\\"1.1\\\",\\\"1.2\\\",\\\"1.3\\\",\\\"1.4\\\",\\\"1.5\\\",\\\"1.6\\\",\\\"1.7\\\",\\\"1.8\\\",\\\"1.9\\\",\\\"2.0\\\",\\\"2.1\\\",\\\"2.2\\\",\\\"2.3\\\",\\\"2.4\\\",\\\"2.5\\\",\\\"2.6\\\",\\\"2.7\\\",\\\"2.8\\\",\\\"2.9\\\",\\\"3.0\\\"],\\\"changes\\\":WebIO.getval({\\\"name\\\":\\\"changes\\\",\\\"scope\\\":\\\"13239904883397043402\\\",\\\"id\\\":\\\"10939004317588570167\\\",\\\"type\\\":\\\"observable\\\"}),\\\"index\\\":WebIO.getval({\\\"name\\\":\\\"index\\\",\\\"scope\\\":\\\"13239904883397043402\\\",\\\"id\\\":\\\"9439813958945499371\\\",\\\"type\\\":\\\"observable\\\"})};\\n    var self = this;\\n    function AppViewModel() {\\n        for (var key in json_data) {\\n            var el = json_data[key];\\n            this[key] = Array.isArray(el) ? ko.observableArray(el) : ko.observable(el);\\n        }\\n        \\n        [this[\\\"formatted_val\\\"]=ko.computed(    function(){\\n        return this.formatted_vals()[parseInt(this.index())-(1)];\\n    }\\n,this)]\\n        [this[\\\"changes\\\"].subscribe((function (val){!(this.valueFromJulia[\\\"changes\\\"]) ? (WebIO.setval({\\\"name\\\":\\\"changes\\\",\\\"scope\\\":\\\"13239904883397043402\\\",\\\"id\\\":\\\"10939004317588570167\\\",\\\"type\\\":\\\"observable\\\"},val)) : undefined; return this.valueFromJulia[\\\"changes\\\"]=false}),self),this[\\\"index\\\"].subscribe((function (val){!(this.valueFromJulia[\\\"index\\\"]) ? (WebIO.setval({\\\"name\\\":\\\"index\\\",\\\"scope\\\":\\\"13239904883397043402\\\",\\\"id\\\":\\\"9439813958945499371\\\",\\\"type\\\":\\\"observable\\\"},val)) : undefined; return this.valueFromJulia[\\\"index\\\"]=false}),self)]\\n        \\n    }\\n    self.model = new AppViewModel();\\n    self.valueFromJulia = {};\\n    for (var key in json_data) {\\n        self.valueFromJulia[key] = false;\\n    }\\n    ko.applyBindings(self.model, self.dom);\\n}\\n);\\n    (WebIO.importBlock({\\\"data\\\":[{\\\"name\\\":\\\"knockout\\\",\\\"type\\\":\\\"js\\\",\\\"url\\\":\\\"\\/assetserver\\/0cedf553a5154124f66c7c67e1c5a243325a593c-knockout.js\\\"},{\\\"name\\\":\\\"knockout_punches\\\",\\\"type\\\":\\\"js\\\",\\\"url\\\":\\\"\\/assetserver\\/624c410d777e23e946bee7a3f321fda94254d51d-knockout_punches.js\\\"}],\\\"type\\\":\\\"async_block\\\"})).then((imports) => handler.apply(this, imports));\\n}\\n\"],\"observables\":{\"changes\":{\"sync\":false,\"id\":\"10939004317588570167\",\"value\":0},\"index\":{\"sync\":true,\"id\":\"9439813958945499371\",\"value\":16}}},\"children\":[{\"props\":{\"className\":\"interact-flex-row interact-widget\"},\"nodeType\":\"DOM\",\"type\":\"node\",\"instanceArgs\":{\"namespace\":\"html\",\"tag\":\"div\"},\"children\":[{\"props\":{\"className\":\"interact-flex-row-left\"},\"nodeType\":\"DOM\",\"type\":\"node\",\"instanceArgs\":{\"namespace\":\"html\",\"tag\":\"div\"},\"children\":[{\"props\":{\"className\":\"interact \",\"style\":{\"padding\":\"5px 10px 0px 10px\"}},\"nodeType\":\"DOM\",\"type\":\"node\",\"instanceArgs\":{\"namespace\":\"html\",\"tag\":\"label\"},\"children\":[\"m1\"]}]},{\"props\":{\"className\":\"interact-flex-row-center\"},\"nodeType\":\"DOM\",\"type\":\"node\",\"instanceArgs\":{\"namespace\":\"html\",\"tag\":\"div\"},\"children\":[{\"props\":{\"max\":31,\"min\":1,\"attributes\":{\"type\":\"range\",\"data-bind\":\"numericValue: index, valueUpdate: 'input', event: {change: function (){this.changes(this.changes()+1)}}\",\"orient\":\"horizontal\"},\"step\":1,\"className\":\"slider slider is-fullwidth\",\"style\":{}},\"nodeType\":\"DOM\",\"type\":\"node\",\"instanceArgs\":{\"namespace\":\"html\",\"tag\":\"input\"},\"children\":[]}]},{\"props\":{\"className\":\"interact-flex-row-right\"},\"nodeType\":\"DOM\",\"type\":\"node\",\"instanceArgs\":{\"namespace\":\"html\",\"tag\":\"div\"},\"children\":[{\"props\":{\"attributes\":{\"data-bind\":\"text: formatted_val\"}},\"nodeType\":\"DOM\",\"type\":\"node\",\"instanceArgs\":{\"namespace\":\"html\",\"tag\":\"p\"},\"children\":[]}]}]}]}]},{\"props\":{\"className\":\"field interact-widget\"},\"nodeType\":\"DOM\",\"type\":\"node\",\"instanceArgs\":{\"namespace\":\"html\",\"tag\":\"div\"},\"children\":[{\"props\":{},\"nodeType\":\"Scope\",\"type\":\"node\",\"instanceArgs\":{\"imports\":{\"data\":[{\"name\":\"knockout\",\"type\":\"js\",\"url\":\"\\/assetserver\\/0cedf553a5154124f66c7c67e1c5a243325a593c-knockout.js\"},{\"name\":\"knockout_punches\",\"type\":\"js\",\"url\":\"\\/assetserver\\/624c410d777e23e946bee7a3f321fda94254d51d-knockout_punches.js\"},{\"name\":null,\"type\":\"js\",\"url\":\"\\/assetserver\\/f9ad4669612d57b9a452b1037b8366ac304a3f14-all.js\"},{\"name\":null,\"type\":\"css\",\"url\":\"\\/assetserver\\/02522e5a109e7e84d4c02ab9ef718d2622cff620-style.css\"},{\"name\":null,\"type\":\"css\",\"url\":\"\\/assetserver\\/1b487ca88261a11b71d9787b3e4e06ed11c66932-bulma_confined.min.css\"}],\"type\":\"async_block\"},\"id\":\"16202691901012483586\",\"handlers\":{\"changes\":[\"(function (val){return (val!=this.model[\\\"changes\\\"]()) ? (this.valueFromJulia[\\\"changes\\\"]=true, this.model[\\\"changes\\\"](val)) : undefined})\"],\"index\":[\"(function (val){return (val!=this.model[\\\"index\\\"]()) ? (this.valueFromJulia[\\\"index\\\"]=true, this.model[\\\"index\\\"](val)) : undefined})\"]},\"systemjs_options\":null,\"mount_callbacks\":[\"function () {\\n    var handler = (function (ko, koPunches) {\\n    ko.punches.enableAll();\\n    ko.bindingHandlers.numericValue = {\\n        init: function(element, valueAccessor, allBindings, data, context) {\\n            var stringified = ko.observable(ko.unwrap(valueAccessor()));\\n            stringified.subscribe(function(value) {\\n                var val = parseFloat(value);\\n                if (!isNaN(val)) {\\n                    valueAccessor()(val);\\n                }\\n            });\\n            valueAccessor().subscribe(function(value) {\\n                var str = JSON.stringify(value);\\n                if ((str == \\\"0\\\") && ([\\\"-0\\\", \\\"-0.\\\"].indexOf(stringified()) >= 0))\\n                     return;\\n                 if ([\\\"null\\\", \\\"\\\"].indexOf(str) >= 0)\\n                     return;\\n                stringified(str);\\n            });\\n            ko.applyBindingsToNode(\\n                element,\\n                {\\n                    value: stringified,\\n                    valueUpdate: allBindings.get('valueUpdate'),\\n                },\\n                context,\\n            );\\n        }\\n    };\\n    var json_data = {\\\"formatted_vals\\\":[\\\"0.0\\\",\\\"0.1\\\",\\\"0.2\\\",\\\"0.3\\\",\\\"0.4\\\",\\\"0.5\\\",\\\"0.6\\\",\\\"0.7\\\",\\\"0.8\\\",\\\"0.9\\\",\\\"1.0\\\",\\\"1.1\\\",\\\"1.2\\\",\\\"1.3\\\",\\\"1.4\\\",\\\"1.5\\\",\\\"1.6\\\",\\\"1.7\\\",\\\"1.8\\\",\\\"1.9\\\",\\\"2.0\\\",\\\"2.1\\\",\\\"2.2\\\",\\\"2.3\\\",\\\"2.4\\\",\\\"2.5\\\",\\\"2.6\\\",\\\"2.7\\\",\\\"2.8\\\",\\\"2.9\\\",\\\"3.0\\\",\\\"3.1\\\",\\\"3.2\\\",\\\"3.3\\\",\\\"3.4\\\",\\\"3.5\\\",\\\"3.6\\\",\\\"3.7\\\",\\\"3.8\\\",\\\"3.9\\\",\\\"4.0\\\",\\\"4.1\\\",\\\"4.2\\\",\\\"4.3\\\",\\\"4.4\\\",\\\"4.5\\\",\\\"4.6\\\",\\\"4.7\\\",\\\"4.8\\\",\\\"4.9\\\",\\\"5.0\\\",\\\"5.1\\\",\\\"5.2\\\",\\\"5.3\\\",\\\"5.4\\\",\\\"5.5\\\",\\\"5.6\\\",\\\"5.7\\\",\\\"5.8\\\",\\\"5.9\\\",\\\"6.0\\\"],\\\"changes\\\":WebIO.getval({\\\"name\\\":\\\"changes\\\",\\\"scope\\\":\\\"16202691901012483586\\\",\\\"id\\\":\\\"1369582352455202970\\\",\\\"type\\\":\\\"observable\\\"}),\\\"index\\\":WebIO.getval({\\\"name\\\":\\\"index\\\",\\\"scope\\\":\\\"16202691901012483586\\\",\\\"id\\\":\\\"1823999457475730580\\\",\\\"type\\\":\\\"observable\\\"})};\\n    var self = this;\\n    function AppViewModel() {\\n        for (var key in json_data) {\\n            var el = json_data[key];\\n            this[key] = Array.isArray(el) ? ko.observableArray(el) : ko.observable(el);\\n        }\\n        \\n        [this[\\\"formatted_val\\\"]=ko.computed(    function(){\\n        return this.formatted_vals()[parseInt(this.index())-(1)];\\n    }\\n,this)]\\n        [this[\\\"changes\\\"].subscribe((function (val){!(this.valueFromJulia[\\\"changes\\\"]) ? (WebIO.setval({\\\"name\\\":\\\"changes\\\",\\\"scope\\\":\\\"16202691901012483586\\\",\\\"id\\\":\\\"1369582352455202970\\\",\\\"type\\\":\\\"observable\\\"},val)) : undefined; return this.valueFromJulia[\\\"changes\\\"]=false}),self),this[\\\"index\\\"].subscribe((function (val){!(this.valueFromJulia[\\\"index\\\"]) ? (WebIO.setval({\\\"name\\\":\\\"index\\\",\\\"scope\\\":\\\"16202691901012483586\\\",\\\"id\\\":\\\"1823999457475730580\\\",\\\"type\\\":\\\"observable\\\"},val)) : undefined; return this.valueFromJulia[\\\"index\\\"]=false}),self)]\\n        \\n    }\\n    self.model = new AppViewModel();\\n    self.valueFromJulia = {};\\n    for (var key in json_data) {\\n        self.valueFromJulia[key] = false;\\n    }\\n    ko.applyBindings(self.model, self.dom);\\n}\\n);\\n    (WebIO.importBlock({\\\"data\\\":[{\\\"name\\\":\\\"knockout\\\",\\\"type\\\":\\\"js\\\",\\\"url\\\":\\\"\\/assetserver\\/0cedf553a5154124f66c7c67e1c5a243325a593c-knockout.js\\\"},{\\\"name\\\":\\\"knockout_punches\\\",\\\"type\\\":\\\"js\\\",\\\"url\\\":\\\"\\/assetserver\\/624c410d777e23e946bee7a3f321fda94254d51d-knockout_punches.js\\\"}],\\\"type\\\":\\\"async_block\\\"})).then((imports) => handler.apply(this, imports));\\n}\\n\"],\"observables\":{\"changes\":{\"sync\":false,\"id\":\"1369582352455202970\",\"value\":0},\"index\":{\"sync\":true,\"id\":\"1823999457475730580\",\"value\":31}}},\"children\":[{\"props\":{\"className\":\"interact-flex-row interact-widget\"},\"nodeType\":\"DOM\",\"type\":\"node\",\"instanceArgs\":{\"namespace\":\"html\",\"tag\":\"div\"},\"children\":[{\"props\":{\"className\":\"interact-flex-row-left\"},\"nodeType\":\"DOM\",\"type\":\"node\",\"instanceArgs\":{\"namespace\":\"html\",\"tag\":\"div\"},\"children\":[{\"props\":{\"className\":\"interact \",\"style\":{\"padding\":\"5px 10px 0px 10px\"}},\"nodeType\":\"DOM\",\"type\":\"node\",\"instanceArgs\":{\"namespace\":\"html\",\"tag\":\"label\"},\"children\":[\"m2\"]}]},{\"props\":{\"className\":\"interact-flex-row-center\"},\"nodeType\":\"DOM\",\"type\":\"node\",\"instanceArgs\":{\"namespace\":\"html\",\"tag\":\"div\"},\"children\":[{\"props\":{\"max\":61,\"min\":1,\"attributes\":{\"type\":\"range\",\"data-bind\":\"numericValue: index, valueUpdate: 'input', event: {change: function (){this.changes(this.changes()+1)}}\",\"orient\":\"horizontal\"},\"step\":1,\"className\":\"slider slider is-fullwidth\",\"style\":{}},\"nodeType\":\"DOM\",\"type\":\"node\",\"instanceArgs\":{\"namespace\":\"html\",\"tag\":\"input\"},\"children\":[]}]},{\"props\":{\"className\":\"interact-flex-row-right\"},\"nodeType\":\"DOM\",\"type\":\"node\",\"instanceArgs\":{\"namespace\":\"html\",\"tag\":\"div\"},\"children\":[{\"props\":{\"attributes\":{\"data-bind\":\"text: formatted_val\"}},\"nodeType\":\"DOM\",\"type\":\"node\",\"instanceArgs\":{\"namespace\":\"html\",\"tag\":\"p\"},\"children\":[]}]}]}]}]},{\"props\":{\"className\":\"field interact-widget\"},\"nodeType\":\"DOM\",\"type\":\"node\",\"instanceArgs\":{\"namespace\":\"html\",\"tag\":\"div\"},\"children\":[{\"props\":{},\"nodeType\":\"Scope\",\"type\":\"node\",\"instanceArgs\":{\"imports\":{\"data\":[{\"name\":\"knockout\",\"type\":\"js\",\"url\":\"\\/assetserver\\/0cedf553a5154124f66c7c67e1c5a243325a593c-knockout.js\"},{\"name\":\"knockout_punches\",\"type\":\"js\",\"url\":\"\\/assetserver\\/624c410d777e23e946bee7a3f321fda94254d51d-knockout_punches.js\"},{\"name\":null,\"type\":\"js\",\"url\":\"\\/assetserver\\/f9ad4669612d57b9a452b1037b8366ac304a3f14-all.js\"},{\"name\":null,\"type\":\"css\",\"url\":\"\\/assetserver\\/02522e5a109e7e84d4c02ab9ef718d2622cff620-style.css\"},{\"name\":null,\"type\":\"css\",\"url\":\"\\/assetserver\\/1b487ca88261a11b71d9787b3e4e06ed11c66932-bulma_confined.min.css\"}],\"type\":\"async_block\"},\"id\":\"17995774388535276065\",\"handlers\":{\"changes\":[\"(function (val){return (val!=this.model[\\\"changes\\\"]()) ? (this.valueFromJulia[\\\"changes\\\"]=true, this.model[\\\"changes\\\"](val)) : undefined})\"],\"index\":[\"(function (val){return (val!=this.model[\\\"index\\\"]()) ? (this.valueFromJulia[\\\"index\\\"]=true, this.model[\\\"index\\\"](val)) : undefined})\"]},\"systemjs_options\":null,\"mount_callbacks\":[\"function () {\\n    var handler = (function (ko, koPunches) {\\n    ko.punches.enableAll();\\n    ko.bindingHandlers.numericValue = {\\n        init: function(element, valueAccessor, allBindings, data, context) {\\n            var stringified = ko.observable(ko.unwrap(valueAccessor()));\\n            stringified.subscribe(function(value) {\\n                var val = parseFloat(value);\\n                if (!isNaN(val)) {\\n                    valueAccessor()(val);\\n                }\\n            });\\n            valueAccessor().subscribe(function(value) {\\n                var str = JSON.stringify(value);\\n                if ((str == \\\"0\\\") && ([\\\"-0\\\", \\\"-0.\\\"].indexOf(stringified()) >= 0))\\n                     return;\\n                 if ([\\\"null\\\", \\\"\\\"].indexOf(str) >= 0)\\n                     return;\\n                stringified(str);\\n            });\\n            ko.applyBindingsToNode(\\n                element,\\n                {\\n                    value: stringified,\\n                    valueUpdate: allBindings.get('valueUpdate'),\\n                },\\n                context,\\n            );\\n        }\\n    };\\n    var json_data = {\\\"formatted_vals\\\":[\\\"0.0\\\",\\\"0.1\\\",\\\"0.2\\\",\\\"0.3\\\",\\\"0.4\\\",\\\"0.5\\\",\\\"0.6\\\",\\\"0.7\\\",\\\"0.8\\\",\\\"0.9\\\",\\\"1.0\\\",\\\"1.1\\\",\\\"1.2\\\",\\\"1.3\\\",\\\"1.4\\\",\\\"1.5\\\",\\\"1.6\\\",\\\"1.7\\\",\\\"1.8\\\",\\\"1.9\\\",\\\"2.0\\\"],\\\"changes\\\":WebIO.getval({\\\"name\\\":\\\"changes\\\",\\\"scope\\\":\\\"17995774388535276065\\\",\\\"id\\\":\\\"13273747275915605438\\\",\\\"type\\\":\\\"observable\\\"}),\\\"index\\\":WebIO.getval({\\\"name\\\":\\\"index\\\",\\\"scope\\\":\\\"17995774388535276065\\\",\\\"id\\\":\\\"7417575125475106241\\\",\\\"type\\\":\\\"observable\\\"})};\\n    var self = this;\\n    function AppViewModel() {\\n        for (var key in json_data) {\\n            var el = json_data[key];\\n            this[key] = Array.isArray(el) ? ko.observableArray(el) : ko.observable(el);\\n        }\\n        \\n        [this[\\\"formatted_val\\\"]=ko.computed(    function(){\\n        return this.formatted_vals()[parseInt(this.index())-(1)];\\n    }\\n,this)]\\n        [this[\\\"changes\\\"].subscribe((function (val){!(this.valueFromJulia[\\\"changes\\\"]) ? (WebIO.setval({\\\"name\\\":\\\"changes\\\",\\\"scope\\\":\\\"17995774388535276065\\\",\\\"id\\\":\\\"13273747275915605438\\\",\\\"type\\\":\\\"observable\\\"},val)) : undefined; return this.valueFromJulia[\\\"changes\\\"]=false}),self),this[\\\"index\\\"].subscribe((function (val){!(this.valueFromJulia[\\\"index\\\"]) ? (WebIO.setval({\\\"name\\\":\\\"index\\\",\\\"scope\\\":\\\"17995774388535276065\\\",\\\"id\\\":\\\"7417575125475106241\\\",\\\"type\\\":\\\"observable\\\"},val)) : undefined; return this.valueFromJulia[\\\"index\\\"]=false}),self)]\\n        \\n    }\\n    self.model = new AppViewModel();\\n    self.valueFromJulia = {};\\n    for (var key in json_data) {\\n        self.valueFromJulia[key] = false;\\n    }\\n    ko.applyBindings(self.model, self.dom);\\n}\\n);\\n    (WebIO.importBlock({\\\"data\\\":[{\\\"name\\\":\\\"knockout\\\",\\\"type\\\":\\\"js\\\",\\\"url\\\":\\\"\\/assetserver\\/0cedf553a5154124f66c7c67e1c5a243325a593c-knockout.js\\\"},{\\\"name\\\":\\\"knockout_punches\\\",\\\"type\\\":\\\"js\\\",\\\"url\\\":\\\"\\/assetserver\\/624c410d777e23e946bee7a3f321fda94254d51d-knockout_punches.js\\\"}],\\\"type\\\":\\\"async_block\\\"})).then((imports) => handler.apply(this, imports));\\n}\\n\"],\"observables\":{\"changes\":{\"sync\":false,\"id\":\"13273747275915605438\",\"value\":0},\"index\":{\"sync\":true,\"id\":\"7417575125475106241\",\"value\":11}}},\"children\":[{\"props\":{\"className\":\"interact-flex-row interact-widget\"},\"nodeType\":\"DOM\",\"type\":\"node\",\"instanceArgs\":{\"namespace\":\"html\",\"tag\":\"div\"},\"children\":[{\"props\":{\"className\":\"interact-flex-row-left\"},\"nodeType\":\"DOM\",\"type\":\"node\",\"instanceArgs\":{\"namespace\":\"html\",\"tag\":\"div\"},\"children\":[{\"props\":{\"className\":\"interact \",\"style\":{\"padding\":\"5px 10px 0px 10px\"}},\"nodeType\":\"DOM\",\"type\":\"node\",\"instanceArgs\":{\"namespace\":\"html\",\"tag\":\"label\"},\"children\":[\"a\"]}]},{\"props\":{\"className\":\"interact-flex-row-center\"},\"nodeType\":\"DOM\",\"type\":\"node\",\"instanceArgs\":{\"namespace\":\"html\",\"tag\":\"div\"},\"children\":[{\"props\":{\"max\":21,\"min\":1,\"attributes\":{\"type\":\"range\",\"data-bind\":\"numericValue: index, valueUpdate: 'input', event: {change: function (){this.changes(this.changes()+1)}}\",\"orient\":\"horizontal\"},\"step\":1,\"className\":\"slider slider is-fullwidth\",\"style\":{}},\"nodeType\":\"DOM\",\"type\":\"node\",\"instanceArgs\":{\"namespace\":\"html\",\"tag\":\"input\"},\"children\":[]}]},{\"props\":{\"className\":\"interact-flex-row-right\"},\"nodeType\":\"DOM\",\"type\":\"node\",\"instanceArgs\":{\"namespace\":\"html\",\"tag\":\"div\"},\"children\":[{\"props\":{\"attributes\":{\"data-bind\":\"text: formatted_val\"}},\"nodeType\":\"DOM\",\"type\":\"node\",\"instanceArgs\":{\"namespace\":\"html\",\"tag\":\"p\"},\"children\":[]}]}]}]}]},{\"props\":{\"className\":\"field interact-widget\"},\"nodeType\":\"DOM\",\"type\":\"node\",\"instanceArgs\":{\"namespace\":\"html\",\"tag\":\"div\"},\"children\":[{\"props\":{},\"nodeType\":\"Scope\",\"type\":\"node\",\"instanceArgs\":{\"imports\":{\"data\":[{\"name\":\"knockout\",\"type\":\"js\",\"url\":\"\\/assetserver\\/0cedf553a5154124f66c7c67e1c5a243325a593c-knockout.js\"},{\"name\":\"knockout_punches\",\"type\":\"js\",\"url\":\"\\/assetserver\\/624c410d777e23e946bee7a3f321fda94254d51d-knockout_punches.js\"},{\"name\":null,\"type\":\"js\",\"url\":\"\\/assetserver\\/f9ad4669612d57b9a452b1037b8366ac304a3f14-all.js\"},{\"name\":null,\"type\":\"css\",\"url\":\"\\/assetserver\\/02522e5a109e7e84d4c02ab9ef718d2622cff620-style.css\"},{\"name\":null,\"type\":\"css\",\"url\":\"\\/assetserver\\/1b487ca88261a11b71d9787b3e4e06ed11c66932-bulma_confined.min.css\"}],\"type\":\"async_block\"},\"id\":\"12846603554558712007\",\"handlers\":{\"changes\":[\"(function (val){return (val!=this.model[\\\"changes\\\"]()) ? (this.valueFromJulia[\\\"changes\\\"]=true, this.model[\\\"changes\\\"](val)) : undefined})\"],\"index\":[\"(function (val){return (val!=this.model[\\\"index\\\"]()) ? (this.valueFromJulia[\\\"index\\\"]=true, this.model[\\\"index\\\"](val)) : undefined})\"]},\"systemjs_options\":null,\"mount_callbacks\":[\"function () {\\n    var handler = (function (ko, koPunches) {\\n    ko.punches.enableAll();\\n    ko.bindingHandlers.numericValue = {\\n        init: function(element, valueAccessor, allBindings, data, context) {\\n            var stringified = ko.observable(ko.unwrap(valueAccessor()));\\n            stringified.subscribe(function(value) {\\n                var val = parseFloat(value);\\n                if (!isNaN(val)) {\\n                    valueAccessor()(val);\\n                }\\n            });\\n            valueAccessor().subscribe(function(value) {\\n                var str = JSON.stringify(value);\\n                if ((str == \\\"0\\\") && ([\\\"-0\\\", \\\"-0.\\\"].indexOf(stringified()) >= 0))\\n                     return;\\n                 if ([\\\"null\\\", \\\"\\\"].indexOf(str) >= 0)\\n                     return;\\n                stringified(str);\\n            });\\n            ko.applyBindingsToNode(\\n                element,\\n                {\\n                    value: stringified,\\n                    valueUpdate: allBindings.get('valueUpdate'),\\n                },\\n                context,\\n            );\\n        }\\n    };\\n    var json_data = {\\\"formatted_vals\\\":[\\\"0.0\\\",\\\"0.1\\\",\\\"0.2\\\",\\\"0.3\\\",\\\"0.4\\\",\\\"0.5\\\",\\\"0.6\\\",\\\"0.7\\\",\\\"0.8\\\",\\\"0.9\\\",\\\"1.0\\\",\\\"1.1\\\",\\\"1.2\\\",\\\"1.3\\\",\\\"1.4\\\",\\\"1.5\\\",\\\"1.6\\\",\\\"1.7\\\",\\\"1.8\\\",\\\"1.9\\\",\\\"2.0\\\"],\\\"changes\\\":WebIO.getval({\\\"name\\\":\\\"changes\\\",\\\"scope\\\":\\\"12846603554558712007\\\",\\\"id\\\":\\\"12655299840013629845\\\",\\\"type\\\":\\\"observable\\\"}),\\\"index\\\":WebIO.getval({\\\"name\\\":\\\"index\\\",\\\"scope\\\":\\\"12846603554558712007\\\",\\\"id\\\":\\\"10688815145267578191\\\",\\\"type\\\":\\\"observable\\\"})};\\n    var self = this;\\n    function AppViewModel() {\\n        for (var key in json_data) {\\n            var el = json_data[key];\\n            this[key] = Array.isArray(el) ? ko.observableArray(el) : ko.observable(el);\\n        }\\n        \\n        [this[\\\"formatted_val\\\"]=ko.computed(    function(){\\n        return this.formatted_vals()[parseInt(this.index())-(1)];\\n    }\\n,this)]\\n        [this[\\\"changes\\\"].subscribe((function (val){!(this.valueFromJulia[\\\"changes\\\"]) ? (WebIO.setval({\\\"name\\\":\\\"changes\\\",\\\"scope\\\":\\\"12846603554558712007\\\",\\\"id\\\":\\\"12655299840013629845\\\",\\\"type\\\":\\\"observable\\\"},val)) : undefined; return this.valueFromJulia[\\\"changes\\\"]=false}),self),this[\\\"index\\\"].subscribe((function (val){!(this.valueFromJulia[\\\"index\\\"]) ? (WebIO.setval({\\\"name\\\":\\\"index\\\",\\\"scope\\\":\\\"12846603554558712007\\\",\\\"id\\\":\\\"10688815145267578191\\\",\\\"type\\\":\\\"observable\\\"},val)) : undefined; return this.valueFromJulia[\\\"index\\\"]=false}),self)]\\n        \\n    }\\n    self.model = new AppViewModel();\\n    self.valueFromJulia = {};\\n    for (var key in json_data) {\\n        self.valueFromJulia[key] = false;\\n    }\\n    ko.applyBindings(self.model, self.dom);\\n}\\n);\\n    (WebIO.importBlock({\\\"data\\\":[{\\\"name\\\":\\\"knockout\\\",\\\"type\\\":\\\"js\\\",\\\"url\\\":\\\"\\/assetserver\\/0cedf553a5154124f66c7c67e1c5a243325a593c-knockout.js\\\"},{\\\"name\\\":\\\"knockout_punches\\\",\\\"type\\\":\\\"js\\\",\\\"url\\\":\\\"\\/assetserver\\/624c410d777e23e946bee7a3f321fda94254d51d-knockout_punches.js\\\"}],\\\"type\\\":\\\"async_block\\\"})).then((imports) => handler.apply(this, imports));\\n}\\n\"],\"observables\":{\"changes\":{\"sync\":false,\"id\":\"12655299840013629845\",\"value\":0},\"index\":{\"sync\":true,\"id\":\"10688815145267578191\",\"value\":11}}},\"children\":[{\"props\":{\"className\":\"interact-flex-row interact-widget\"},\"nodeType\":\"DOM\",\"type\":\"node\",\"instanceArgs\":{\"namespace\":\"html\",\"tag\":\"div\"},\"children\":[{\"props\":{\"className\":\"interact-flex-row-left\"},\"nodeType\":\"DOM\",\"type\":\"node\",\"instanceArgs\":{\"namespace\":\"html\",\"tag\":\"div\"},\"children\":[{\"props\":{\"className\":\"interact \",\"style\":{\"padding\":\"5px 10px 0px 10px\"}},\"nodeType\":\"DOM\",\"type\":\"node\",\"instanceArgs\":{\"namespace\":\"html\",\"tag\":\"label\"},\"children\":[\"b\"]}]},{\"props\":{\"className\":\"interact-flex-row-center\"},\"nodeType\":\"DOM\",\"type\":\"node\",\"instanceArgs\":{\"namespace\":\"html\",\"tag\":\"div\"},\"children\":[{\"props\":{\"max\":21,\"min\":1,\"attributes\":{\"type\":\"range\",\"data-bind\":\"numericValue: index, valueUpdate: 'input', event: {change: function (){this.changes(this.changes()+1)}}\",\"orient\":\"horizontal\"},\"step\":1,\"className\":\"slider slider is-fullwidth\",\"style\":{}},\"nodeType\":\"DOM\",\"type\":\"node\",\"instanceArgs\":{\"namespace\":\"html\",\"tag\":\"input\"},\"children\":[]}]},{\"props\":{\"className\":\"interact-flex-row-right\"},\"nodeType\":\"DOM\",\"type\":\"node\",\"instanceArgs\":{\"namespace\":\"html\",\"tag\":\"div\"},\"children\":[{\"props\":{\"attributes\":{\"data-bind\":\"text: formatted_val\"}},\"nodeType\":\"DOM\",\"type\":\"node\",\"instanceArgs\":{\"namespace\":\"html\",\"tag\":\"p\"},\"children\":[]}]}]}]}]},{\"props\":{\"className\":\"field interact-widget\"},\"nodeType\":\"DOM\",\"type\":\"node\",\"instanceArgs\":{\"namespace\":\"html\",\"tag\":\"div\"},\"children\":[{\"props\":{},\"nodeType\":\"Scope\",\"type\":\"node\",\"instanceArgs\":{\"imports\":{\"data\":[{\"name\":\"knockout\",\"type\":\"js\",\"url\":\"\\/assetserver\\/0cedf553a5154124f66c7c67e1c5a243325a593c-knockout.js\"},{\"name\":\"knockout_punches\",\"type\":\"js\",\"url\":\"\\/assetserver\\/624c410d777e23e946bee7a3f321fda94254d51d-knockout_punches.js\"},{\"name\":null,\"type\":\"js\",\"url\":\"\\/assetserver\\/f9ad4669612d57b9a452b1037b8366ac304a3f14-all.js\"},{\"name\":null,\"type\":\"css\",\"url\":\"\\/assetserver\\/02522e5a109e7e84d4c02ab9ef718d2622cff620-style.css\"},{\"name\":null,\"type\":\"css\",\"url\":\"\\/assetserver\\/1b487ca88261a11b71d9787b3e4e06ed11c66932-bulma_confined.min.css\"}],\"type\":\"async_block\"},\"id\":\"9063526848729606375\",\"handlers\":{\"changes\":[\"(function (val){return (val!=this.model[\\\"changes\\\"]()) ? (this.valueFromJulia[\\\"changes\\\"]=true, this.model[\\\"changes\\\"](val)) : undefined})\"],\"index\":[\"(function (val){return (val!=this.model[\\\"index\\\"]()) ? (this.valueFromJulia[\\\"index\\\"]=true, this.model[\\\"index\\\"](val)) : undefined})\"]},\"systemjs_options\":null,\"mount_callbacks\":[\"function () {\\n    var handler = (function (ko, koPunches) {\\n    ko.punches.enableAll();\\n    ko.bindingHandlers.numericValue = {\\n        init: function(element, valueAccessor, allBindings, data, context) {\\n            var stringified = ko.observable(ko.unwrap(valueAccessor()));\\n            stringified.subscribe(function(value) {\\n                var val = parseFloat(value);\\n                if (!isNaN(val)) {\\n                    valueAccessor()(val);\\n                }\\n            });\\n            valueAccessor().subscribe(function(value) {\\n                var str = JSON.stringify(value);\\n                if ((str == \\\"0\\\") && ([\\\"-0\\\", \\\"-0.\\\"].indexOf(stringified()) >= 0))\\n                     return;\\n                 if ([\\\"null\\\", \\\"\\\"].indexOf(str) >= 0)\\n                     return;\\n                stringified(str);\\n            });\\n            ko.applyBindingsToNode(\\n                element,\\n                {\\n                    value: stringified,\\n                    valueUpdate: allBindings.get('valueUpdate'),\\n                },\\n                context,\\n            );\\n        }\\n    };\\n    var json_data = {\\\"formatted_vals\\\":[\\\"-2.0\\\",\\\"-1.99\\\",\\\"-1.98\\\",\\\"-1.97\\\",\\\"-1.96\\\",\\\"-1.95\\\",\\\"-1.94\\\",\\\"-1.93\\\",\\\"-1.92\\\",\\\"-1.91\\\",\\\"-1.9\\\",\\\"-1.89\\\",\\\"-1.88\\\",\\\"-1.87\\\",\\\"-1.86\\\",\\\"-1.85\\\",\\\"-1.84\\\",\\\"-1.83\\\",\\\"-1.82\\\",\\\"-1.81\\\",\\\"-1.8\\\",\\\"-1.79\\\",\\\"-1.78\\\",\\\"-1.77\\\",\\\"-1.76\\\",\\\"-1.75\\\",\\\"-1.74\\\",\\\"-1.73\\\",\\\"-1.72\\\",\\\"-1.71\\\",\\\"-1.7\\\",\\\"-1.69\\\",\\\"-1.68\\\",\\\"-1.67\\\",\\\"-1.66\\\",\\\"-1.65\\\",\\\"-1.64\\\",\\\"-1.63\\\",\\\"-1.62\\\",\\\"-1.61\\\",\\\"-1.6\\\",\\\"-1.59\\\",\\\"-1.58\\\",\\\"-1.57\\\",\\\"-1.56\\\",\\\"-1.55\\\",\\\"-1.54\\\",\\\"-1.53\\\",\\\"-1.52\\\",\\\"-1.51\\\",\\\"-1.5\\\",\\\"-1.49\\\",\\\"-1.48\\\",\\\"-1.47\\\",\\\"-1.46\\\",\\\"-1.45\\\",\\\"-1.44\\\",\\\"-1.43\\\",\\\"-1.42\\\",\\\"-1.41\\\",\\\"-1.4\\\",\\\"-1.39\\\",\\\"-1.38\\\",\\\"-1.37\\\",\\\"-1.36\\\",\\\"-1.35\\\",\\\"-1.34\\\",\\\"-1.33\\\",\\\"-1.32\\\",\\\"-1.31\\\",\\\"-1.3\\\",\\\"-1.29\\\",\\\"-1.28\\\",\\\"-1.27\\\",\\\"-1.26\\\",\\\"-1.25\\\",\\\"-1.24\\\",\\\"-1.23\\\",\\\"-1.22\\\",\\\"-1.21\\\",\\\"-1.2\\\",\\\"-1.19\\\",\\\"-1.18\\\",\\\"-1.17\\\",\\\"-1.16\\\",\\\"-1.15\\\",\\\"-1.14\\\",\\\"-1.13\\\",\\\"-1.12\\\",\\\"-1.11\\\",\\\"-1.1\\\",\\\"-1.09\\\",\\\"-1.08\\\",\\\"-1.07\\\",\\\"-1.06\\\",\\\"-1.05\\\",\\\"-1.04\\\",\\\"-1.03\\\",\\\"-1.02\\\",\\\"-1.01\\\",\\\"-1.0\\\",\\\"-0.99\\\",\\\"-0.98\\\",\\\"-0.97\\\",\\\"-0.96\\\",\\\"-0.95\\\",\\\"-0.94\\\",\\\"-0.93\\\",\\\"-0.92\\\",\\\"-0.91\\\",\\\"-0.9\\\",\\\"-0.89\\\",\\\"-0.88\\\",\\\"-0.87\\\",\\\"-0.86\\\",\\\"-0.85\\\",\\\"-0.84\\\",\\\"-0.83\\\",\\\"-0.82\\\",\\\"-0.81\\\",\\\"-0.8\\\",\\\"-0.79\\\",\\\"-0.78\\\",\\\"-0.77\\\",\\\"-0.76\\\",\\\"-0.75\\\",\\\"-0.74\\\",\\\"-0.73\\\",\\\"-0.72\\\",\\\"-0.71\\\",\\\"-0.7\\\",\\\"-0.69\\\",\\\"-0.68\\\",\\\"-0.67\\\",\\\"-0.66\\\",\\\"-0.65\\\",\\\"-0.64\\\",\\\"-0.63\\\",\\\"-0.62\\\",\\\"-0.61\\\",\\\"-0.6\\\",\\\"-0.59\\\",\\\"-0.58\\\",\\\"-0.57\\\",\\\"-0.56\\\",\\\"-0.55\\\",\\\"-0.54\\\",\\\"-0.53\\\",\\\"-0.52\\\",\\\"-0.51\\\",\\\"-0.5\\\",\\\"-0.49\\\",\\\"-0.48\\\",\\\"-0.47\\\",\\\"-0.46\\\",\\\"-0.45\\\",\\\"-0.44\\\",\\\"-0.43\\\",\\\"-0.42\\\",\\\"-0.41\\\",\\\"-0.4\\\",\\\"-0.39\\\",\\\"-0.38\\\",\\\"-0.37\\\",\\\"-0.36\\\",\\\"-0.35\\\",\\\"-0.34\\\",\\\"-0.33\\\",\\\"-0.32\\\",\\\"-0.31\\\",\\\"-0.3\\\",\\\"-0.29\\\",\\\"-0.28\\\",\\\"-0.27\\\",\\\"-0.26\\\",\\\"-0.25\\\",\\\"-0.24\\\",\\\"-0.23\\\",\\\"-0.22\\\",\\\"-0.21\\\",\\\"-0.2\\\",\\\"-0.19\\\",\\\"-0.18\\\",\\\"-0.17\\\",\\\"-0.16\\\",\\\"-0.15\\\",\\\"-0.14\\\",\\\"-0.13\\\",\\\"-0.12\\\",\\\"-0.11\\\",\\\"-0.1\\\",\\\"-0.09\\\",\\\"-0.08\\\",\\\"-0.07\\\",\\\"-0.06\\\",\\\"-0.05\\\",\\\"-0.04\\\",\\\"-0.03\\\",\\\"-0.02\\\",\\\"-0.01\\\",\\\"0.0\\\",\\\"0.01\\\",\\\"0.02\\\",\\\"0.03\\\",\\\"0.04\\\",\\\"0.05\\\",\\\"0.06\\\",\\\"0.07\\\",\\\"0.08\\\",\\\"0.09\\\",\\\"0.1\\\",\\\"0.11\\\",\\\"0.12\\\",\\\"0.13\\\",\\\"0.14\\\",\\\"0.15\\\",\\\"0.16\\\",\\\"0.17\\\",\\\"0.18\\\",\\\"0.19\\\",\\\"0.2\\\",\\\"0.21\\\",\\\"0.22\\\",\\\"0.23\\\",\\\"0.24\\\",\\\"0.25\\\",\\\"0.26\\\",\\\"0.27\\\",\\\"0.28\\\",\\\"0.29\\\",\\\"0.3\\\",\\\"0.31\\\",\\\"0.32\\\",\\\"0.33\\\",\\\"0.34\\\",\\\"0.35\\\",\\\"0.36\\\",\\\"0.37\\\",\\\"0.38\\\",\\\"0.39\\\",\\\"0.4\\\",\\\"0.41\\\",\\\"0.42\\\",\\\"0.43\\\",\\\"0.44\\\",\\\"0.45\\\",\\\"0.46\\\",\\\"0.47\\\",\\\"0.48\\\",\\\"0.49\\\",\\\"0.5\\\",\\\"0.51\\\",\\\"0.52\\\",\\\"0.53\\\",\\\"0.54\\\",\\\"0.55\\\",\\\"0.56\\\",\\\"0.57\\\",\\\"0.58\\\",\\\"0.59\\\",\\\"0.6\\\",\\\"0.61\\\",\\\"0.62\\\",\\\"0.63\\\",\\\"0.64\\\",\\\"0.65\\\",\\\"0.66\\\",\\\"0.67\\\",\\\"0.68\\\",\\\"0.69\\\",\\\"0.7\\\",\\\"0.71\\\",\\\"0.72\\\",\\\"0.73\\\",\\\"0.74\\\",\\\"0.75\\\",\\\"0.76\\\",\\\"0.77\\\",\\\"0.78\\\",\\\"0.79\\\",\\\"0.8\\\",\\\"0.81\\\",\\\"0.82\\\",\\\"0.83\\\",\\\"0.84\\\",\\\"0.85\\\",\\\"0.86\\\",\\\"0.87\\\",\\\"0.88\\\",\\\"0.89\\\",\\\"0.9\\\",\\\"0.91\\\",\\\"0.92\\\",\\\"0.93\\\",\\\"0.94\\\",\\\"0.95\\\",\\\"0.96\\\",\\\"0.97\\\",\\\"0.98\\\",\\\"0.99\\\",\\\"1.0\\\",\\\"1.01\\\",\\\"1.02\\\",\\\"1.03\\\",\\\"1.04\\\",\\\"1.05\\\",\\\"1.06\\\",\\\"1.07\\\",\\\"1.08\\\",\\\"1.09\\\",\\\"1.1\\\",\\\"1.11\\\",\\\"1.12\\\",\\\"1.13\\\",\\\"1.14\\\",\\\"1.15\\\",\\\"1.16\\\",\\\"1.17\\\",\\\"1.18\\\",\\\"1.19\\\",\\\"1.2\\\",\\\"1.21\\\",\\\"1.22\\\",\\\"1.23\\\",\\\"1.24\\\",\\\"1.25\\\",\\\"1.26\\\",\\\"1.27\\\",\\\"1.28\\\",\\\"1.29\\\",\\\"1.3\\\",\\\"1.31\\\",\\\"1.32\\\",\\\"1.33\\\",\\\"1.34\\\",\\\"1.35\\\",\\\"1.36\\\",\\\"1.37\\\",\\\"1.38\\\",\\\"1.39\\\",\\\"1.4\\\",\\\"1.41\\\",\\\"1.42\\\",\\\"1.43\\\",\\\"1.44\\\",\\\"1.45\\\",\\\"1.46\\\",\\\"1.47\\\",\\\"1.48\\\",\\\"1.49\\\",\\\"1.5\\\",\\\"1.51\\\",\\\"1.52\\\",\\\"1.53\\\",\\\"1.54\\\",\\\"1.55\\\",\\\"1.56\\\",\\\"1.57\\\",\\\"1.58\\\",\\\"1.59\\\",\\\"1.6\\\",\\\"1.61\\\",\\\"1.62\\\",\\\"1.63\\\",\\\"1.64\\\",\\\"1.65\\\",\\\"1.66\\\",\\\"1.67\\\",\\\"1.68\\\",\\\"1.69\\\",\\\"1.7\\\",\\\"1.71\\\",\\\"1.72\\\",\\\"1.73\\\",\\\"1.74\\\",\\\"1.75\\\",\\\"1.76\\\",\\\"1.77\\\",\\\"1.78\\\",\\\"1.79\\\",\\\"1.8\\\",\\\"1.81\\\",\\\"1.82\\\",\\\"1.83\\\",\\\"1.84\\\",\\\"1.85\\\",\\\"1.86\\\",\\\"1.87\\\",\\\"1.88\\\",\\\"1.89\\\",\\\"1.9\\\",\\\"1.91\\\",\\\"1.92\\\",\\\"1.93\\\",\\\"1.94\\\",\\\"1.95\\\",\\\"1.96\\\",\\\"1.97\\\",\\\"1.98\\\",\\\"1.99\\\",\\\"2.0\\\"],\\\"changes\\\":WebIO.getval({\\\"name\\\":\\\"changes\\\",\\\"scope\\\":\\\"9063526848729606375\\\",\\\"id\\\":\\\"3091126771591082160\\\",\\\"type\\\":\\\"observable\\\"}),\\\"index\\\":WebIO.getval({\\\"name\\\":\\\"index\\\",\\\"scope\\\":\\\"9063526848729606375\\\",\\\"id\\\":\\\"11239578818581439628\\\",\\\"type\\\":\\\"observable\\\"})};\\n    var self = this;\\n    function AppViewModel() {\\n        for (var key in json_data) {\\n            var el = json_data[key];\\n            this[key] = Array.isArray(el) ? ko.observableArray(el) : ko.observable(el);\\n        }\\n        \\n        [this[\\\"formatted_val\\\"]=ko.computed(    function(){\\n        return this.formatted_vals()[parseInt(this.index())-(1)];\\n    }\\n,this)]\\n        [this[\\\"changes\\\"].subscribe((function (val){!(this.valueFromJulia[\\\"changes\\\"]) ? (WebIO.setval({\\\"name\\\":\\\"changes\\\",\\\"scope\\\":\\\"9063526848729606375\\\",\\\"id\\\":\\\"3091126771591082160\\\",\\\"type\\\":\\\"observable\\\"},val)) : undefined; return this.valueFromJulia[\\\"changes\\\"]=false}),self),this[\\\"index\\\"].subscribe((function (val){!(this.valueFromJulia[\\\"index\\\"]) ? (WebIO.setval({\\\"name\\\":\\\"index\\\",\\\"scope\\\":\\\"9063526848729606375\\\",\\\"id\\\":\\\"11239578818581439628\\\",\\\"type\\\":\\\"observable\\\"},val)) : undefined; return this.valueFromJulia[\\\"index\\\"]=false}),self)]\\n        \\n    }\\n    self.model = new AppViewModel();\\n    self.valueFromJulia = {};\\n    for (var key in json_data) {\\n        self.valueFromJulia[key] = false;\\n    }\\n    ko.applyBindings(self.model, self.dom);\\n}\\n);\\n    (WebIO.importBlock({\\\"data\\\":[{\\\"name\\\":\\\"knockout\\\",\\\"type\\\":\\\"js\\\",\\\"url\\\":\\\"\\/assetserver\\/0cedf553a5154124f66c7c67e1c5a243325a593c-knockout.js\\\"},{\\\"name\\\":\\\"knockout_punches\\\",\\\"type\\\":\\\"js\\\",\\\"url\\\":\\\"\\/assetserver\\/624c410d777e23e946bee7a3f321fda94254d51d-knockout_punches.js\\\"}],\\\"type\\\":\\\"async_block\\\"})).then((imports) => handler.apply(this, imports));\\n}\\n\"],\"observables\":{\"changes\":{\"sync\":false,\"id\":\"3091126771591082160\",\"value\":0},\"index\":{\"sync\":true,\"id\":\"11239578818581439628\",\"value\":201}}},\"children\":[{\"props\":{\"className\":\"interact-flex-row interact-widget\"},\"nodeType\":\"DOM\",\"type\":\"node\",\"instanceArgs\":{\"namespace\":\"html\",\"tag\":\"div\"},\"children\":[{\"props\":{\"className\":\"interact-flex-row-left\"},\"nodeType\":\"DOM\",\"type\":\"node\",\"instanceArgs\":{\"namespace\":\"html\",\"tag\":\"div\"},\"children\":[{\"props\":{\"className\":\"interact \",\"style\":{\"padding\":\"5px 10px 0px 10px\"}},\"nodeType\":\"DOM\",\"type\":\"node\",\"instanceArgs\":{\"namespace\":\"html\",\"tag\":\"label\"},\"children\":[\"c\"]}]},{\"props\":{\"className\":\"interact-flex-row-center\"},\"nodeType\":\"DOM\",\"type\":\"node\",\"instanceArgs\":{\"namespace\":\"html\",\"tag\":\"div\"},\"children\":[{\"props\":{\"max\":401,\"min\":1,\"attributes\":{\"type\":\"range\",\"data-bind\":\"numericValue: index, valueUpdate: 'input', event: {change: function (){this.changes(this.changes()+1)}}\",\"orient\":\"horizontal\"},\"step\":1,\"className\":\"slider slider is-fullwidth\",\"style\":{}},\"nodeType\":\"DOM\",\"type\":\"node\",\"instanceArgs\":{\"namespace\":\"html\",\"tag\":\"input\"},\"children\":[]}]},{\"props\":{\"className\":\"interact-flex-row-right\"},\"nodeType\":\"DOM\",\"type\":\"node\",\"instanceArgs\":{\"namespace\":\"html\",\"tag\":\"div\"},\"children\":[{\"props\":{\"attributes\":{\"data-bind\":\"text: formatted_val\"}},\"nodeType\":\"DOM\",\"type\":\"node\",\"instanceArgs\":{\"namespace\":\"html\",\"tag\":\"p\"},\"children\":[]}]}]}]}]},{\"props\":{},\"nodeType\":\"Scope\",\"type\":\"node\",\"instanceArgs\":{\"imports\":{\"data\":[],\"type\":\"async_block\"},\"id\":\"13944942283220758997\",\"handlers\":{},\"systemjs_options\":null,\"mount_callbacks\":[],\"observables\":{\"obs-node\":{\"sync\":false,\"id\":\"3033418716684654564\",\"value\":{\"props\":{\"className\":\"interact-flex-row interact-widget\"},\"nodeType\":\"DOM\",\"type\":\"node\",\"instanceArgs\":{\"namespace\":\"html\",\"tag\":\"div\"},\"children\":[{\"props\":{\"setInnerHtml\":\"<?xml version=\\\"1.0\\\" encoding=\\\"utf-8\\\"?>\\n<svg xmlns=\\\"http:\\/\\/www.w3.org\\/2000\\/svg\\\" xmlns:xlink=\\\"http:\\/\\/www.w3.org\\/1999\\/xlink\\\" width=\\\"600\\\" height=\\\"600\\\" viewBox=\\\"0 0 2400 2400\\\">\\n<defs>\\n  <clipPath id=\\\"clip020\\\">\\n    <rect x=\\\"0\\\" y=\\\"0\\\" width=\\\"2400\\\" height=\\\"2400\\\"\\/>\\n  <\\/clipPath>\\n<\\/defs>\\n<path clip-path=\\\"url(#clip020)\\\" d=\\\"\\nM0 2400 L2400 2400 L2400 0 L0 0  Z\\n  \\\" fill=\\\"#ffffff\\\" fill-rule=\\\"evenodd\\\" fill-opacity=\\\"1\\\"\\/>\\n<defs>\\n  <clipPath id=\\\"clip021\\\">\\n    <rect x=\\\"480\\\" y=\\\"240\\\" width=\\\"1681\\\" height=\\\"1681\\\"\\/>\\n  <\\/clipPath>\\n<\\/defs>\\n<path clip-path=\\\"url(#clip020)\\\" d=\\\"\\nM142.084 2261.17 L2352.76 2261.17 L2352.76 47.2441 L142.084 47.2441  Z\\n  \\\" fill=\\\"#ffffff\\\" fill-rule=\\\"evenodd\\\" fill-opacity=\\\"1\\\"\\/>\\n<defs>\\n  <clipPath id=\\\"clip022\\\">\\n    <rect x=\\\"142\\\" y=\\\"47\\\" width=\\\"2212\\\" height=\\\"2215\\\"\\/>\\n  <\\/clipPath>\\n<\\/defs>\\n<polyline clip-path=\\\"url(#clip022)\\\" style=\\\"stroke:#000000; stroke-width:2; stroke-opacity:0.1; fill:none\\\" points=\\\"\\n  232.834,2261.17 232.834,47.2441 \\n  \\\"\\/>\\n<polyline clip-path=\\\"url(#clip022)\\\" style=\\\"stroke:#000000; stroke-width:2; stroke-opacity:0.1; fill:none\\\" points=\\\"\\n  683.761,2261.17 683.761,47.2441 \\n  \\\"\\/>\\n<polyline clip-path=\\\"url(#clip022)\\\" style=\\\"stroke:#000000; stroke-width:2; stroke-opacity:0.1; fill:none\\\" points=\\\"\\n  1134.69,2261.17 1134.69,47.2441 \\n  \\\"\\/>\\n<polyline clip-path=\\\"url(#clip022)\\\" style=\\\"stroke:#000000; stroke-width:2; stroke-opacity:0.1; fill:none\\\" points=\\\"\\n  1585.62,2261.17 1585.62,47.2441 \\n  \\\"\\/>\\n<polyline clip-path=\\\"url(#clip022)\\\" style=\\\"stroke:#000000; stroke-width:2; stroke-opacity:0.1; fill:none\\\" points=\\\"\\n  2036.54,2261.17 2036.54,47.2441 \\n  \\\"\\/>\\n<polyline clip-path=\\\"url(#clip022)\\\" style=\\\"stroke:#000000; stroke-width:2; stroke-opacity:0.1; fill:none\\\" points=\\\"\\n  142.084,2168.79 2352.76,2168.79 \\n  \\\"\\/>\\n<polyline clip-path=\\\"url(#clip022)\\\" style=\\\"stroke:#000000; stroke-width:2; stroke-opacity:0.1; fill:none\\\" points=\\\"\\n  142.084,1717.87 2352.76,1717.87 \\n  \\\"\\/>\\n<polyline clip-path=\\\"url(#clip022)\\\" style=\\\"stroke:#000000; stroke-width:2; stroke-opacity:0.1; fill:none\\\" points=\\\"\\n  142.084,1266.94 2352.76,1266.94 \\n  \\\"\\/>\\n<polyline clip-path=\\\"url(#clip022)\\\" style=\\\"stroke:#000000; stroke-width:2; stroke-opacity:0.1; fill:none\\\" points=\\\"\\n  142.084,816.01 2352.76,816.01 \\n  \\\"\\/>\\n<polyline clip-path=\\\"url(#clip022)\\\" style=\\\"stroke:#000000; stroke-width:2; stroke-opacity:0.1; fill:none\\\" points=\\\"\\n  142.084,365.083 2352.76,365.083 \\n  \\\"\\/>\\n<polyline clip-path=\\\"url(#clip020)\\\" style=\\\"stroke:#000000; stroke-width:4; stroke-opacity:1; fill:none\\\" points=\\\"\\n  142.084,2261.17 2352.76,2261.17 \\n  \\\"\\/>\\n<polyline clip-path=\\\"url(#clip020)\\\" style=\\\"stroke:#000000; stroke-width:4; stroke-opacity:1; fill:none\\\" points=\\\"\\n  142.084,2261.17 142.084,47.2441 \\n  \\\"\\/>\\n<polyline clip-path=\\\"url(#clip020)\\\" style=\\\"stroke:#000000; stroke-width:4; stroke-opacity:1; fill:none\\\" points=\\\"\\n  232.834,2261.17 232.834,2234.6 \\n  \\\"\\/>\\n<polyline clip-path=\\\"url(#clip020)\\\" style=\\\"stroke:#000000; stroke-width:4; stroke-opacity:1; fill:none\\\" points=\\\"\\n  683.761,2261.17 683.761,2234.6 \\n  \\\"\\/>\\n<polyline clip-path=\\\"url(#clip020)\\\" style=\\\"stroke:#000000; stroke-width:4; stroke-opacity:1; fill:none\\\" points=\\\"\\n  1134.69,2261.17 1134.69,2234.6 \\n  \\\"\\/>\\n<polyline clip-path=\\\"url(#clip020)\\\" style=\\\"stroke:#000000; stroke-width:4; stroke-opacity:1; fill:none\\\" points=\\\"\\n  1585.62,2261.17 1585.62,2234.6 \\n  \\\"\\/>\\n<polyline clip-path=\\\"url(#clip020)\\\" style=\\\"stroke:#000000; stroke-width:4; stroke-opacity:1; fill:none\\\" points=\\\"\\n  2036.54,2261.17 2036.54,2234.6 \\n  \\\"\\/>\\n<polyline clip-path=\\\"url(#clip020)\\\" style=\\\"stroke:#000000; stroke-width:4; stroke-opacity:1; fill:none\\\" points=\\\"\\n  142.084,2168.79 168.612,2168.79 \\n  \\\"\\/>\\n<polyline clip-path=\\\"url(#clip020)\\\" style=\\\"stroke:#000000; stroke-width:4; stroke-opacity:1; fill:none\\\" points=\\\"\\n  142.084,1717.87 168.612,1717.87 \\n  \\\"\\/>\\n<polyline clip-path=\\\"url(#clip020)\\\" style=\\\"stroke:#000000; stroke-width:4; stroke-opacity:1; fill:none\\\" points=\\\"\\n  142.084,1266.94 168.612,1266.94 \\n  \\\"\\/>\\n<polyline clip-path=\\\"url(#clip020)\\\" style=\\\"stroke:#000000; stroke-width:4; stroke-opacity:1; fill:none\\\" points=\\\"\\n  142.084,816.01 168.612,816.01 \\n  \\\"\\/>\\n<polyline clip-path=\\\"url(#clip020)\\\" style=\\\"stroke:#000000; stroke-width:4; stroke-opacity:1; fill:none\\\" points=\\\"\\n  142.084,365.083 168.612,365.083 \\n  \\\"\\/>\\n<path clip-path=\\\"url(#clip020)\\\" d=\\\"M 0 0 M205.287 2297.81 L234.963 2297.81 L234.963 2301.75 L205.287 2301.75 L205.287 2297.81 Z\\\" fill=\\\"#000000\\\" fill-rule=\\\"evenodd\\\" fill-opacity=\\\"1\\\" \\/><path clip-path=\\\"url(#clip020)\\\" d=\\\"M 0 0 M244.06 2310.7 L260.38 2310.7 L260.38 2314.64 L238.435 2314.64 L238.435 2310.7 Q241.097 2307.95 245.681 2303.32 Q250.287 2298.67 251.468 2297.33 Q253.713 2294.8 254.593 2293.07 Q255.495 2291.31 255.495 2289.62 Q255.495 2286.86 253.551 2285.13 Q251.63 2283.39 248.528 2283.39 Q246.329 2283.39 243.875 2284.15 Q241.445 2284.92 238.667 2286.47 L238.667 2281.75 Q241.491 2280.61 243.945 2280.03 Q246.398 2279.45 248.435 2279.45 Q253.806 2279.45 257 2282.14 Q260.195 2284.83 260.195 2289.32 Q260.195 2291.45 259.384 2293.37 Q258.597 2295.26 256.491 2297.86 Q255.912 2298.53 252.81 2301.75 Q249.708 2304.94 244.06 2310.7 Z\\\" fill=\\\"#000000\\\" fill-rule=\\\"evenodd\\\" fill-opacity=\\\"1\\\" \\/><path clip-path=\\\"url(#clip020)\\\" d=\\\"M 0 0 M683.761 2283.16 Q680.15 2283.16 678.321 2286.72 Q676.516 2290.27 676.516 2297.39 Q676.516 2304.5 678.321 2308.07 Q680.15 2311.61 683.761 2311.61 Q687.395 2311.61 689.201 2308.07 Q691.029 2304.5 691.029 2297.39 Q691.029 2290.27 689.201 2286.72 Q687.395 2283.16 683.761 2283.16 M683.761 2279.45 Q689.571 2279.45 692.627 2284.06 Q695.705 2288.64 695.705 2297.39 Q695.705 2306.12 692.627 2310.73 Q689.571 2315.31 683.761 2315.31 Q677.951 2315.31 674.872 2310.73 Q671.817 2306.12 671.817 2297.39 Q671.817 2288.64 674.872 2284.06 Q677.951 2279.45 683.761 2279.45 Z\\\" fill=\\\"#000000\\\" fill-rule=\\\"evenodd\\\" fill-opacity=\\\"1\\\" \\/><path clip-path=\\\"url(#clip020)\\\" d=\\\"M 0 0 M1129.34 2310.7 L1145.66 2310.7 L1145.66 2314.64 L1123.72 2314.64 L1123.72 2310.7 Q1126.38 2307.95 1130.96 2303.32 Q1135.57 2298.67 1136.75 2297.33 Q1138.99 2294.8 1139.87 2293.07 Q1140.78 2291.31 1140.78 2289.62 Q1140.78 2286.86 1138.83 2285.13 Q1136.91 2283.39 1133.81 2283.39 Q1131.61 2283.39 1129.16 2284.15 Q1126.73 2284.92 1123.95 2286.47 L1123.95 2281.75 Q1126.77 2280.61 1129.23 2280.03 Q1131.68 2279.45 1133.72 2279.45 Q1139.09 2279.45 1142.28 2282.14 Q1145.48 2284.83 1145.48 2289.32 Q1145.48 2291.45 1144.67 2293.37 Q1143.88 2295.26 1141.77 2297.86 Q1141.19 2298.53 1138.09 2301.75 Q1134.99 2304.94 1129.34 2310.7 Z\\\" fill=\\\"#000000\\\" fill-rule=\\\"evenodd\\\" fill-opacity=\\\"1\\\" \\/><path clip-path=\\\"url(#clip020)\\\" d=\\\"M 0 0 M1588.62 2284.15 L1576.82 2302.6 L1588.62 2302.6 L1588.62 2284.15 M1587.4 2280.08 L1593.28 2280.08 L1593.28 2302.6 L1598.21 2302.6 L1598.21 2306.49 L1593.28 2306.49 L1593.28 2314.64 L1588.62 2314.64 L1588.62 2306.49 L1573.02 2306.49 L1573.02 2301.98 L1587.4 2280.08 Z\\\" fill=\\\"#000000\\\" fill-rule=\\\"evenodd\\\" fill-opacity=\\\"1\\\" \\/><path clip-path=\\\"url(#clip020)\\\" d=\\\"M 0 0 M2036.95 2295.5 Q2033.8 2295.5 2031.95 2297.65 Q2030.12 2299.8 2030.12 2303.55 Q2030.12 2307.28 2031.95 2309.45 Q2033.8 2311.61 2036.95 2311.61 Q2040.1 2311.61 2041.92 2309.45 Q2043.78 2307.28 2043.78 2303.55 Q2043.78 2299.8 2041.92 2297.65 Q2040.1 2295.5 2036.95 2295.5 M2046.23 2280.84 L2046.23 2285.1 Q2044.47 2284.27 2042.67 2283.83 Q2040.88 2283.39 2039.12 2283.39 Q2034.49 2283.39 2032.04 2286.52 Q2029.61 2289.64 2029.26 2295.96 Q2030.63 2293.95 2032.69 2292.88 Q2034.75 2291.79 2037.23 2291.79 Q2042.43 2291.79 2045.44 2294.96 Q2048.48 2298.11 2048.48 2303.55 Q2048.48 2308.88 2045.33 2312.09 Q2042.18 2315.31 2036.95 2315.31 Q2030.95 2315.31 2027.78 2310.73 Q2024.61 2306.12 2024.61 2297.39 Q2024.61 2289.2 2028.5 2284.34 Q2032.39 2279.45 2038.94 2279.45 Q2040.7 2279.45 2042.48 2279.8 Q2044.29 2280.15 2046.23 2280.84 Z\\\" fill=\\\"#000000\\\" fill-rule=\\\"evenodd\\\" fill-opacity=\\\"1\\\" \\/><path clip-path=\\\"url(#clip020)\\\" d=\\\"M 0 0 M62.9921 2169.24 L92.6679 2169.24 L92.6679 2173.18 L62.9921 2173.18 L62.9921 2169.24 Z\\\" fill=\\\"#000000\\\" fill-rule=\\\"evenodd\\\" fill-opacity=\\\"1\\\" \\/><path clip-path=\\\"url(#clip020)\\\" d=\\\"M 0 0 M101.765 2182.14 L118.084 2182.14 L118.084 2186.07 L96.1401 2186.07 L96.1401 2182.14 Q98.8021 2179.38 103.385 2174.75 Q107.992 2170.1 109.172 2168.76 Q111.418 2166.23 112.297 2164.5 Q113.2 2162.74 113.2 2161.05 Q113.2 2158.29 111.256 2156.56 Q109.334 2154.82 106.233 2154.82 Q104.034 2154.82 101.58 2155.59 Q99.1493 2156.35 96.3716 2157.9 L96.3716 2153.18 Q99.1956 2152.04 101.649 2151.47 Q104.103 2150.89 106.14 2150.89 Q111.51 2150.89 114.705 2153.57 Q117.899 2156.26 117.899 2160.75 Q117.899 2162.88 117.089 2164.8 Q116.302 2166.7 114.196 2169.29 Q113.617 2169.96 110.515 2173.18 Q107.413 2176.37 101.765 2182.14 Z\\\" fill=\\\"#000000\\\" fill-rule=\\\"evenodd\\\" fill-opacity=\\\"1\\\" \\/><path clip-path=\\\"url(#clip020)\\\" d=\\\"M 0 0 M106.14 1703.66 Q102.529 1703.66 100.7 1707.23 Q98.8947 1710.77 98.8947 1717.9 Q98.8947 1725.01 100.7 1728.57 Q102.529 1732.11 106.14 1732.11 Q109.774 1732.11 111.58 1728.57 Q113.409 1725.01 113.409 1717.9 Q113.409 1710.77 111.58 1707.23 Q109.774 1703.66 106.14 1703.66 M106.14 1699.96 Q111.95 1699.96 115.006 1704.57 Q118.084 1709.15 118.084 1717.9 Q118.084 1726.63 115.006 1731.23 Q111.95 1735.82 106.14 1735.82 Q100.33 1735.82 97.2512 1731.23 Q94.1957 1726.63 94.1957 1717.9 Q94.1957 1709.15 97.2512 1704.57 Q100.33 1699.96 106.14 1699.96 Z\\\" fill=\\\"#000000\\\" fill-rule=\\\"evenodd\\\" fill-opacity=\\\"1\\\" \\/><path clip-path=\\\"url(#clip020)\\\" d=\\\"M 0 0 M101.765 1280.28 L118.084 1280.28 L118.084 1284.22 L96.1401 1284.22 L96.1401 1280.28 Q98.8021 1277.53 103.385 1272.9 Q107.992 1268.25 109.172 1266.9 Q111.418 1264.38 112.297 1262.64 Q113.2 1260.88 113.2 1259.19 Q113.2 1256.44 111.256 1254.7 Q109.334 1252.97 106.233 1252.97 Q104.034 1252.97 101.58 1253.73 Q99.1493 1254.5 96.3716 1256.05 L96.3716 1251.32 Q99.1956 1250.19 101.649 1249.61 Q104.103 1249.03 106.14 1249.03 Q111.51 1249.03 114.705 1251.72 Q117.899 1254.4 117.899 1258.89 Q117.899 1261.02 117.089 1262.94 Q116.302 1264.84 114.196 1267.44 Q113.617 1268.11 110.515 1271.32 Q107.413 1274.52 101.765 1280.28 Z\\\" fill=\\\"#000000\\\" fill-rule=\\\"evenodd\\\" fill-opacity=\\\"1\\\" \\/><path clip-path=\\\"url(#clip020)\\\" d=\\\"M 0 0 M108.501 802.805 L96.6956 821.253 L108.501 821.253 L108.501 802.805 M107.274 798.73 L113.154 798.73 L113.154 821.253 L118.084 821.253 L118.084 825.142 L113.154 825.142 L113.154 833.29 L108.501 833.29 L108.501 825.142 L92.8994 825.142 L92.8994 820.628 L107.274 798.73 Z\\\" fill=\\\"#000000\\\" fill-rule=\\\"evenodd\\\" fill-opacity=\\\"1\\\" \\/><path clip-path=\\\"url(#clip020)\\\" d=\\\"M 0 0 M106.557 363.22 Q103.409 363.22 101.557 365.372 Q99.728 367.525 99.728 371.275 Q99.728 375.002 101.557 377.178 Q103.409 379.331 106.557 379.331 Q109.705 379.331 111.534 377.178 Q113.385 375.002 113.385 371.275 Q113.385 367.525 111.534 365.372 Q109.705 363.22 106.557 363.22 M115.839 348.567 L115.839 352.826 Q114.08 351.993 112.274 351.553 Q110.492 351.113 108.733 351.113 Q104.103 351.113 101.649 354.238 Q99.2188 357.363 98.8716 363.683 Q100.237 361.669 102.297 360.604 Q104.358 359.516 106.834 359.516 Q112.043 359.516 115.052 362.687 Q118.084 365.835 118.084 371.275 Q118.084 376.599 114.936 379.817 Q111.788 383.034 106.557 383.034 Q100.561 383.034 97.3901 378.451 Q94.2188 373.845 94.2188 365.118 Q94.2188 356.923 98.1077 352.062 Q101.997 347.178 108.547 347.178 Q110.307 347.178 112.089 347.525 Q113.895 347.873 115.839 348.567 Z\\\" fill=\\\"#000000\\\" fill-rule=\\\"evenodd\\\" fill-opacity=\\\"1\\\" \\/><circle clip-path=\\\"url(#clip022)\\\" cx=\\\"1585.62\\\" cy=\\\"1266.94\\\" r=\\\"14\\\" fill=\\\"#009af9\\\" fill-rule=\\\"evenodd\\\" fill-opacity=\\\"1\\\" stroke=\\\"#000000\\\" stroke-opacity=\\\"1\\\" stroke-width=\\\"4.8\\\"\\/>\\n<circle clip-path=\\\"url(#clip022)\\\" cx=\\\"683.761\\\" cy=\\\"590.547\\\" r=\\\"14\\\" fill=\\\"#009af9\\\" fill-rule=\\\"evenodd\\\" fill-opacity=\\\"1\\\" stroke=\\\"#000000\\\" stroke-opacity=\\\"1\\\" stroke-width=\\\"4.8\\\"\\/>\\n<circle clip-path=\\\"url(#clip022)\\\" cx=\\\"2262.01\\\" cy=\\\"1266.94\\\" r=\\\"14\\\" fill=\\\"#009af9\\\" fill-rule=\\\"evenodd\\\" fill-opacity=\\\"1\\\" stroke=\\\"#000000\\\" stroke-opacity=\\\"1\\\" stroke-width=\\\"4.8\\\"\\/>\\n<circle clip-path=\\\"url(#clip022)\\\" cx=\\\"683.761\\\" cy=\\\"1041.47\\\" r=\\\"14\\\" fill=\\\"#009af9\\\" fill-rule=\\\"evenodd\\\" fill-opacity=\\\"1\\\" stroke=\\\"#000000\\\" stroke-opacity=\\\"1\\\" stroke-width=\\\"4.8\\\"\\/>\\n<circle clip-path=\\\"url(#clip022)\\\" cx=\\\"1134.69\\\" cy=\\\"590.547\\\" r=\\\"14\\\" fill=\\\"#009af9\\\" fill-rule=\\\"evenodd\\\" fill-opacity=\\\"1\\\" stroke=\\\"#000000\\\" stroke-opacity=\\\"1\\\" stroke-width=\\\"4.8\\\"\\/>\\n<circle clip-path=\\\"url(#clip022)\\\" cx=\\\"1134.69\\\" cy=\\\"1041.47\\\" r=\\\"14\\\" fill=\\\"#009af9\\\" fill-rule=\\\"evenodd\\\" fill-opacity=\\\"1\\\" stroke=\\\"#000000\\\" stroke-opacity=\\\"1\\\" stroke-width=\\\"4.8\\\"\\/>\\n<circle clip-path=\\\"url(#clip022)\\\" cx=\\\"1585.62\\\" cy=\\\"1041.47\\\" r=\\\"14\\\" fill=\\\"#009af9\\\" fill-rule=\\\"evenodd\\\" fill-opacity=\\\"1\\\" stroke=\\\"#000000\\\" stroke-opacity=\\\"1\\\" stroke-width=\\\"4.8\\\"\\/>\\n<circle clip-path=\\\"url(#clip022)\\\" cx=\\\"1134.69\\\" cy=\\\"816.01\\\" r=\\\"14\\\" fill=\\\"#009af9\\\" fill-rule=\\\"evenodd\\\" fill-opacity=\\\"1\\\" stroke=\\\"#000000\\\" stroke-opacity=\\\"1\\\" stroke-width=\\\"4.8\\\"\\/>\\n<circle clip-path=\\\"url(#clip022)\\\" cx=\\\"1585.62\\\" cy=\\\"590.547\\\" r=\\\"14\\\" fill=\\\"#009af9\\\" fill-rule=\\\"evenodd\\\" fill-opacity=\\\"1\\\" stroke=\\\"#000000\\\" stroke-opacity=\\\"1\\\" stroke-width=\\\"4.8\\\"\\/>\\n<g clip-path=\\\"url(#clip022)\\\">\\n<image width=\\\"2086\\\" height=\\\"2086\\\" xlink:href=\\\"data:image\\/png;base64,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\\nABsxAQAAAAAAAADYBNq6AeoP6\\/19AAAAAElFTkSuQmCC\\n\\\" transform=\\\"translate(205, 111)\\\"\\/>\\n<\\/g>\\n<\\/svg>\\n\"},\"nodeType\":\"DOM\",\"type\":\"node\",\"instanceArgs\":{\"namespace\":\"html\",\"tag\":\"div\"},\"children\":[]}]}}}},\"children\":[{\"props\":{},\"nodeType\":\"ObservableNode\",\"type\":\"node\",\"instanceArgs\":{\"id\":\"3033418716684654564\",\"name\":\"obs-node\"},\"children\":[]}]}]},\n",
       "            window,\n",
       "        );\n",
       "    } else {\n",
       "        document\n",
       "            .querySelector('[data-webio-mountpoint=\"4809741064210029127\"]')\n",
       "            .innerHTML = (\n",
       "                '<div style=\"padding: 1em; background-color: #f8d6da; border: 1px solid #f5c6cb\">' +\n",
       "                '<p><strong>WebIO not detected.</strong></p>' +\n",
       "                '<p>Please read ' +\n",
       "                '<a href=\"https://juliagizmos.github.io/WebIO.jl/latest/troubleshooting/not-detected/\" target=\"_blank\">the troubleshooting guide</a> ' +\n",
       "                'for more information on how to resolve this issue.</p>' +\n",
       "                '<p><a href=\"https://juliagizmos.github.io/WebIO.jl/latest/troubleshooting/not-detected/\" target=\"_blank\">https://juliagizmos.github.io/WebIO.jl/latest/troubleshooting/not-detected/</a></p>' +\n",
       "                '</div>'\n",
       "            );\n",
       "    }\n",
       "    </script>\n",
       "</div>\n"
      ],
      "text/plain": [
       "Node{WebIO.DOM}(WebIO.DOM(:html, :div), Any[Node{WebIO.DOM}(WebIO.DOM(:html, :div), Any[Scope(Node{WebIO.DOM}(WebIO.DOM(:html, :div), Any[Node{WebIO.DOM}(WebIO.DOM(:html, :div), Any[Node{WebIO.DOM}(WebIO.DOM(:html, :label), Any[\"m1\"], Dict{Symbol,Any}(:className => \"interact \",:style => Dict{Any,Any}(:padding => \"5px 10px 0px 10px\")))], Dict{Symbol,Any}(:className => \"interact-flex-row-left\")), Node{WebIO.DOM}(WebIO.DOM(:html, :div), Any[Node{WebIO.DOM}(WebIO.DOM(:html, :input), Any[], Dict{Symbol,Any}(:max => 31,:min => 1,:attributes => Dict{Any,Any}(:type => \"range\",Symbol(\"data-bind\") => \"numericValue: index, valueUpdate: 'input', event: {change: function (){this.changes(this.changes()+1)}}\",\"orient\" => \"horizontal\"),:step => 1,:className => \"slider slider is-fullwidth\",:style => Dict{Any,Any}()))], Dict{Symbol,Any}(:className => \"interact-flex-row-center\")), Node{WebIO.DOM}(WebIO.DOM(:html, :div), Any[Node{WebIO.DOM}(WebIO.DOM(:html, :p), Any[], Dict{Symbol,Any}(:attributes => Dict(\"data-bind\" => \"text: formatted_val\")))], Dict{Symbol,Any}(:className => \"interact-flex-row-right\"))], Dict{Symbol,Any}(:className => \"interact-flex-row interact-widget\")), Dict{String,Tuple{Observables.AbstractObservable,Union{Nothing, Bool}}}(\"changes\" => (Observable{Int64} with 1 listeners. Value:\n",
       "0, nothing),\"index\" => (Observable{Any} with 2 listeners. Value:\n",
       "16, nothing)), Set{String}(), nothing, Asset[Asset(\"js\", \"knockout\", \"/Users/sswatson/.julia/packages/Knockout/IP1uR/src/../assets/knockout.js\"), Asset(\"js\", \"knockout_punches\", \"/Users/sswatson/.julia/packages/Knockout/IP1uR/src/../assets/knockout_punches.js\"), Asset(\"js\", nothing, \"/Users/sswatson/.julia/packages/InteractBase/sOe2Z/src/../assets/all.js\"), Asset(\"css\", nothing, \"/Users/sswatson/.julia/packages/InteractBase/sOe2Z/src/../assets/style.css\"), Asset(\"css\", nothing, \"/Users/sswatson/.julia/packages/Interact/SbgIk/src/../assets/bulma_confined.min.css\")], Dict{Any,Any}(\"changes\" => Any[WebIO.JSString(\"(function (val){return (val!=this.model[\\\"changes\\\"]()) ? (this.valueFromJulia[\\\"changes\\\"]=true, this.model[\\\"changes\\\"](val)) : undefined})\")],\"index\" => Any[WebIO.JSString(\"(function (val){return (val!=this.model[\\\"index\\\"]()) ? (this.valueFromJulia[\\\"index\\\"]=true, this.model[\\\"index\\\"](val)) : undefined})\")]), WebIO.ConnectionPool(Channel{Any}(sz_max:32,sz_curr:0), Set{AbstractConnection}(), Base.GenericCondition{Base.AlwaysLockedST}(Base.InvasiveLinkedList{Task}(Task (runnable) @0x000000011b518010, Task (runnable) @0x000000011b518010), Base.AlwaysLockedST(1))), WebIO.JSString[WebIO.JSString(\"function () {\\n    var handler = (function (ko, koPunches) {\\n    ko.punches.enableAll();\\n    ko.bindingHandlers.numericValue = {\\n        init: function(element, valueAccessor, allBindings, data, context) {\\n            var stringified = ko.observable(ko.unwrap(valueAccessor()));\\n            stringified.subscribe(function(value) {\\n                var val = parseFloat(value);\\n                if (!isNaN(val)) {\\n                    valueAccessor()(val);\\n                }\\n            });\\n            valueAccessor().subscribe(function(value) {\\n                var str = JSON.stringify(value);\\n                if ((str == \\\"0\\\") && ([\\\"-0\\\", \\\"-0.\\\"].indexOf(stringified()) >= 0))\\n                     return;\\n                 if ([\\\"null\\\", \\\"\\\"].indexOf(str) >= 0)\\n                     return;\\n                stringified(str);\\n            });\\n            ko.applyBindingsToNode(\\n                element,\\n                {\\n                    value: stringified,\\n                    valueUpdate: allBindings.get('valueUpdate'),\\n                },\\n                context,\\n            );\\n        }\\n    };\\n    var json_data = {\\\"formatted_vals\\\":[\\\"0.0\\\",\\\"0.1\\\",\\\"0.2\\\",\\\"0.3\\\",\\\"0.4\\\",\\\"0.5\\\",\\\"0.6\\\",\\\"0.7\\\",\\\"0.8\\\",\\\"0.9\\\",\\\"1.0\\\",\\\"1.1\\\",\\\"1.2\\\",\\\"1.3\\\",\\\"1.4\\\",\\\"1.5\\\",\\\"1.6\\\",\\\"1.7\\\",\\\"1.8\\\",\\\"1.9\\\",\\\"2.0\\\",\\\"2.1\\\",\\\"2.2\\\",\\\"2.3\\\",\\\"2.4\\\",\\\"2.5\\\",\\\"2.6\\\",\\\"2.7\\\",\\\"2.8\\\",\\\"2.9\\\",\\\"3.0\\\"],\\\"changes\\\":WebIO.getval({\\\"name\\\":\\\"changes\\\",\\\"scope\\\":\\\"13239904883397043402\\\",\\\"id\\\":\\\"10939004317588570167\\\",\\\"type\\\":\\\"observable\\\"}),\\\"index\\\":WebIO.getval({\\\"name\\\":\\\"index\\\",\\\"scope\\\":\\\"13239904883397043402\\\",\\\"id\\\":\\\"9439813958945499371\\\",\\\"type\\\":\\\"observable\\\"})};\\n    var self = this;\\n    function AppViewModel() {\\n        for (var key in json_data) {\\n            var el = json_data[key];\\n            this[key] = Array.isArray(el) ? ko.observableArray(el) : ko.observable(el);\\n        }\\n        \\n        [this[\\\"formatted_val\\\"]=ko.computed(    function(){\\n        return this.formatted_vals()[parseInt(this.index())-(1)];\\n    }\\n,this)]\\n        [this[\\\"changes\\\"].subscribe((function (val){!(this.valueFromJulia[\\\"changes\\\"]) ? (WebIO.setval({\\\"name\\\":\\\"changes\\\",\\\"scope\\\":\\\"13239904883397043402\\\",\\\"id\\\":\\\"10939004317588570167\\\",\\\"type\\\":\\\"observable\\\"},val)) : undefined; return this.valueFromJulia[\\\"changes\\\"]=false}),self),this[\\\"index\\\"].subscribe((function (val){!(this.valueFromJulia[\\\"index\\\"]) ? (WebIO.setval({\\\"name\\\":\\\"index\\\",\\\"scope\\\":\\\"13239904883397043402\\\",\\\"id\\\":\\\"9439813958945499371\\\",\\\"type\\\":\\\"observable\\\"},val)) : undefined; return this.valueFromJulia[\\\"index\\\"]=false}),self)]\\n        \\n    }\\n    self.model = new AppViewModel();\\n    self.valueFromJulia = {};\\n    for (var key in json_data) {\\n        self.valueFromJulia[key] = false;\\n    }\\n    ko.applyBindings(self.model, self.dom);\\n}\\n);\\n    (WebIO.importBlock({\\\"data\\\":[{\\\"name\\\":\\\"knockout\\\",\\\"type\\\":\\\"js\\\",\\\"url\\\":\\\"/assetserver/0cedf553a5154124f66c7c67e1c5a243325a593c-knockout.js\\\"},{\\\"name\\\":\\\"knockout_punches\\\",\\\"type\\\":\\\"js\\\",\\\"url\\\":\\\"/assetserver/624c410d777e23e946bee7a3f321fda94254d51d-knockout_punches.js\\\"}],\\\"type\\\":\\\"async_block\\\"})).then((imports) => handler.apply(this, imports));\\n}\\n\")])], Dict{Symbol,Any}(:className => \"field interact-widget\")), Node{WebIO.DOM}(WebIO.DOM(:html, :div), Any[Scope(Node{WebIO.DOM}(WebIO.DOM(:html, :div), Any[Node{WebIO.DOM}(WebIO.DOM(:html, :div), Any[Node{WebIO.DOM}(WebIO.DOM(:html, :label), Any[\"m2\"], Dict{Symbol,Any}(:className => \"interact \",:style => Dict{Any,Any}(:padding => \"5px 10px 0px 10px\")))], Dict{Symbol,Any}(:className => \"interact-flex-row-left\")), Node{WebIO.DOM}(WebIO.DOM(:html, :div), Any[Node{WebIO.DOM}(WebIO.DOM(:html, :input), Any[], Dict{Symbol,Any}(:max => 61,:min => 1,:attributes => Dict{Any,Any}(:type => \"range\",Symbol(\"data-bind\") => \"numericValue: index, valueUpdate: 'input', event: {change: function (){this.changes(this.changes()+1)}}\",\"orient\" => \"horizontal\"),:step => 1,:className => \"slider slider is-fullwidth\",:style => Dict{Any,Any}()))], Dict{Symbol,Any}(:className => \"interact-flex-row-center\")), Node{WebIO.DOM}(WebIO.DOM(:html, :div), Any[Node{WebIO.DOM}(WebIO.DOM(:html, :p), Any[], Dict{Symbol,Any}(:attributes => Dict(\"data-bind\" => \"text: formatted_val\")))], Dict{Symbol,Any}(:className => \"interact-flex-row-right\"))], Dict{Symbol,Any}(:className => \"interact-flex-row interact-widget\")), Dict{String,Tuple{Observables.AbstractObservable,Union{Nothing, Bool}}}(\"changes\" => (Observable{Int64} with 1 listeners. Value:\n",
       "0, nothing),\"index\" => (Observable{Any} with 2 listeners. Value:\n",
       "31, nothing)), Set{String}(), nothing, Asset[Asset(\"js\", \"knockout\", \"/Users/sswatson/.julia/packages/Knockout/IP1uR/src/../assets/knockout.js\"), Asset(\"js\", \"knockout_punches\", \"/Users/sswatson/.julia/packages/Knockout/IP1uR/src/../assets/knockout_punches.js\"), Asset(\"js\", nothing, \"/Users/sswatson/.julia/packages/InteractBase/sOe2Z/src/../assets/all.js\"), Asset(\"css\", nothing, \"/Users/sswatson/.julia/packages/InteractBase/sOe2Z/src/../assets/style.css\"), Asset(\"css\", nothing, \"/Users/sswatson/.julia/packages/Interact/SbgIk/src/../assets/bulma_confined.min.css\")], Dict{Any,Any}(\"changes\" => Any[WebIO.JSString(\"(function (val){return (val!=this.model[\\\"changes\\\"]()) ? (this.valueFromJulia[\\\"changes\\\"]=true, this.model[\\\"changes\\\"](val)) : undefined})\")],\"index\" => Any[WebIO.JSString(\"(function (val){return (val!=this.model[\\\"index\\\"]()) ? (this.valueFromJulia[\\\"index\\\"]=true, this.model[\\\"index\\\"](val)) : undefined})\")]), WebIO.ConnectionPool(Channel{Any}(sz_max:32,sz_curr:0), Set{AbstractConnection}(), Base.GenericCondition{Base.AlwaysLockedST}(Base.InvasiveLinkedList{Task}(Task (runnable) @0x000000011b51a410, Task (runnable) @0x000000011b51a410), Base.AlwaysLockedST(1))), WebIO.JSString[WebIO.JSString(\"function () {\\n    var handler = (function (ko, koPunches) {\\n    ko.punches.enableAll();\\n    ko.bindingHandlers.numericValue = {\\n        init: function(element, valueAccessor, allBindings, data, context) {\\n            var stringified = ko.observable(ko.unwrap(valueAccessor()));\\n            stringified.subscribe(function(value) {\\n                var val = parseFloat(value);\\n                if (!isNaN(val)) {\\n                    valueAccessor()(val);\\n                }\\n            });\\n            valueAccessor().subscribe(function(value) {\\n                var str = JSON.stringify(value);\\n                if ((str == \\\"0\\\") && ([\\\"-0\\\", \\\"-0.\\\"].indexOf(stringified()) >= 0))\\n                     return;\\n                 if ([\\\"null\\\", \\\"\\\"].indexOf(str) >= 0)\\n                     return;\\n                stringified(str);\\n            });\\n            ko.applyBindingsToNode(\\n                element,\\n                {\\n                    value: stringified,\\n                    valueUpdate: allBindings.get('valueUpdate'),\\n                },\\n                context,\\n            );\\n        }\\n    };\\n    var json_data = {\\\"formatted_vals\\\":[\\\"0.0\\\",\\\"0.1\\\",\\\"0.2\\\",\\\"0.3\\\",\\\"0.4\\\",\\\"0.5\\\",\\\"0.6\\\",\\\"0.7\\\",\\\"0.8\\\",\\\"0.9\\\",\\\"1.0\\\",\\\"1.1\\\",\\\"1.2\\\",\\\"1.3\\\",\\\"1.4\\\",\\\"1.5\\\",\\\"1.6\\\",\\\"1.7\\\",\\\"1.8\\\",\\\"1.9\\\",\\\"2.0\\\",\\\"2.1\\\",\\\"2.2\\\",\\\"2.3\\\",\\\"2.4\\\",\\\"2.5\\\",\\\"2.6\\\",\\\"2.7\\\",\\\"2.8\\\",\\\"2.9\\\",\\\"3.0\\\",\\\"3.1\\\",\\\"3.2\\\",\\\"3.3\\\",\\\"3.4\\\",\\\"3.5\\\",\\\"3.6\\\",\\\"3.7\\\",\\\"3.8\\\",\\\"3.9\\\",\\\"4.0\\\",\\\"4.1\\\",\\\"4.2\\\",\\\"4.3\\\",\\\"4.4\\\",\\\"4.5\\\",\\\"4.6\\\",\\\"4.7\\\",\\\"4.8\\\",\\\"4.9\\\",\\\"5.0\\\",\\\"5.1\\\",\\\"5.2\\\",\\\"5.3\\\",\\\"5.4\\\",\\\"5.5\\\",\\\"5.6\\\",\\\"5.7\\\",\\\"5.8\\\",\\\"5.9\\\",\\\"6.0\\\"],\\\"changes\\\":WebIO.getval({\\\"name\\\":\\\"changes\\\",\\\"scope\\\":\\\"16202691901012483586\\\",\\\"id\\\":\\\"1369582352455202970\\\",\\\"type\\\":\\\"observable\\\"}),\\\"index\\\":WebIO.getval({\\\"name\\\":\\\"index\\\",\\\"scope\\\":\\\"16202691901012483586\\\",\\\"id\\\":\\\"1823999457475730580\\\",\\\"type\\\":\\\"observable\\\"})};\\n    var self = this;\\n    function AppViewModel() {\\n        for (var key in json_data) {\\n            var el = json_data[key];\\n            this[key] = Array.isArray(el) ? ko.observableArray(el) : ko.observable(el);\\n        }\\n        \\n        [this[\\\"formatted_val\\\"]=ko.computed(    function(){\\n        return this.formatted_vals()[parseInt(this.index())-(1)];\\n    }\\n,this)]\\n        [this[\\\"changes\\\"].subscribe((function (val){!(this.valueFromJulia[\\\"changes\\\"]) ? (WebIO.setval({\\\"name\\\":\\\"changes\\\",\\\"scope\\\":\\\"16202691901012483586\\\",\\\"id\\\":\\\"1369582352455202970\\\",\\\"type\\\":\\\"observable\\\"},val)) : undefined; return this.valueFromJulia[\\\"changes\\\"]=false}),self),this[\\\"index\\\"].subscribe((function (val){!(this.valueFromJulia[\\\"index\\\"]) ? (WebIO.setval({\\\"name\\\":\\\"index\\\",\\\"scope\\\":\\\"16202691901012483586\\\",\\\"id\\\":\\\"1823999457475730580\\\",\\\"type\\\":\\\"observable\\\"},val)) : undefined; return this.valueFromJulia[\\\"index\\\"]=false}),self)]\\n        \\n    }\\n    self.model = new AppViewModel();\\n    self.valueFromJulia = {};\\n    for (var key in json_data) {\\n        self.valueFromJulia[key] = false;\\n    }\\n    ko.applyBindings(self.model, self.dom);\\n}\\n);\\n    (WebIO.importBlock({\\\"data\\\":[{\\\"name\\\":\\\"knockout\\\",\\\"type\\\":\\\"js\\\",\\\"url\\\":\\\"/assetserver/0cedf553a5154124f66c7c67e1c5a243325a593c-knockout.js\\\"},{\\\"name\\\":\\\"knockout_punches\\\",\\\"type\\\":\\\"js\\\",\\\"url\\\":\\\"/assetserver/624c410d777e23e946bee7a3f321fda94254d51d-knockout_punches.js\\\"}],\\\"type\\\":\\\"async_block\\\"})).then((imports) => handler.apply(this, imports));\\n}\\n\")])], Dict{Symbol,Any}(:className => \"field interact-widget\")), Node{WebIO.DOM}(WebIO.DOM(:html, :div), Any[Scope(Node{WebIO.DOM}(WebIO.DOM(:html, :div), Any[Node{WebIO.DOM}(WebIO.DOM(:html, :div), Any[Node{WebIO.DOM}(WebIO.DOM(:html, :label), Any[\"a\"], Dict{Symbol,Any}(:className => \"interact \",:style => Dict{Any,Any}(:padding => \"5px 10px 0px 10px\")))], Dict{Symbol,Any}(:className => \"interact-flex-row-left\")), Node{WebIO.DOM}(WebIO.DOM(:html, :div), Any[Node{WebIO.DOM}(WebIO.DOM(:html, :input), Any[], Dict{Symbol,Any}(:max => 21,:min => 1,:attributes => Dict{Any,Any}(:type => \"range\",Symbol(\"data-bind\") => \"numericValue: index, valueUpdate: 'input', event: {change: function (){this.changes(this.changes()+1)}}\",\"orient\" => \"horizontal\"),:step => 1,:className => \"slider slider is-fullwidth\",:style => Dict{Any,Any}()))], Dict{Symbol,Any}(:className => \"interact-flex-row-center\")), Node{WebIO.DOM}(WebIO.DOM(:html, :div), Any[Node{WebIO.DOM}(WebIO.DOM(:html, :p), Any[], Dict{Symbol,Any}(:attributes => Dict(\"data-bind\" => \"text: formatted_val\")))], Dict{Symbol,Any}(:className => \"interact-flex-row-right\"))], Dict{Symbol,Any}(:className => \"interact-flex-row interact-widget\")), Dict{String,Tuple{Observables.AbstractObservable,Union{Nothing, Bool}}}(\"changes\" => (Observable{Int64} with 1 listeners. Value:\n",
       "0, nothing),\"index\" => (Observable{Any} with 2 listeners. Value:\n",
       "11, nothing)), Set{String}(), nothing, Asset[Asset(\"js\", \"knockout\", \"/Users/sswatson/.julia/packages/Knockout/IP1uR/src/../assets/knockout.js\"), Asset(\"js\", \"knockout_punches\", \"/Users/sswatson/.julia/packages/Knockout/IP1uR/src/../assets/knockout_punches.js\"), Asset(\"js\", nothing, \"/Users/sswatson/.julia/packages/InteractBase/sOe2Z/src/../assets/all.js\"), Asset(\"css\", nothing, \"/Users/sswatson/.julia/packages/InteractBase/sOe2Z/src/../assets/style.css\"), Asset(\"css\", nothing, \"/Users/sswatson/.julia/packages/Interact/SbgIk/src/../assets/bulma_confined.min.css\")], Dict{Any,Any}(\"changes\" => Any[WebIO.JSString(\"(function (val){return (val!=this.model[\\\"changes\\\"]()) ? (this.valueFromJulia[\\\"changes\\\"]=true, this.model[\\\"changes\\\"](val)) : undefined})\")],\"index\" => Any[WebIO.JSString(\"(function (val){return (val!=this.model[\\\"index\\\"]()) ? (this.valueFromJulia[\\\"index\\\"]=true, this.model[\\\"index\\\"](val)) : undefined})\")]), WebIO.ConnectionPool(Channel{Any}(sz_max:32,sz_curr:0), Set{AbstractConnection}(), Base.GenericCondition{Base.AlwaysLockedST}(Base.InvasiveLinkedList{Task}(Task (runnable) @0x000000011b51a890, Task (runnable) @0x000000011b51a890), Base.AlwaysLockedST(1))), WebIO.JSString[WebIO.JSString(\"function () {\\n    var handler = (function (ko, koPunches) {\\n    ko.punches.enableAll();\\n    ko.bindingHandlers.numericValue = {\\n        init: function(element, valueAccessor, allBindings, data, context) {\\n            var stringified = ko.observable(ko.unwrap(valueAccessor()));\\n            stringified.subscribe(function(value) {\\n                var val = parseFloat(value);\\n                if (!isNaN(val)) {\\n                    valueAccessor()(val);\\n                }\\n            });\\n            valueAccessor().subscribe(function(value) {\\n                var str = JSON.stringify(value);\\n                if ((str == \\\"0\\\") && ([\\\"-0\\\", \\\"-0.\\\"].indexOf(stringified()) >= 0))\\n                     return;\\n                 if ([\\\"null\\\", \\\"\\\"].indexOf(str) >= 0)\\n                     return;\\n                stringified(str);\\n            });\\n            ko.applyBindingsToNode(\\n                element,\\n                {\\n                    value: stringified,\\n                    valueUpdate: allBindings.get('valueUpdate'),\\n                },\\n                context,\\n            );\\n        }\\n    };\\n    var json_data = {\\\"formatted_vals\\\":[\\\"0.0\\\",\\\"0.1\\\",\\\"0.2\\\",\\\"0.3\\\",\\\"0.4\\\",\\\"0.5\\\",\\\"0.6\\\",\\\"0.7\\\",\\\"0.8\\\",\\\"0.9\\\",\\\"1.0\\\",\\\"1.1\\\",\\\"1.2\\\",\\\"1.3\\\",\\\"1.4\\\",\\\"1.5\\\",\\\"1.6\\\",\\\"1.7\\\",\\\"1.8\\\",\\\"1.9\\\",\\\"2.0\\\"],\\\"changes\\\":WebIO.getval({\\\"name\\\":\\\"changes\\\",\\\"scope\\\":\\\"17995774388535276065\\\",\\\"id\\\":\\\"13273747275915605438\\\",\\\"type\\\":\\\"observable\\\"}),\\\"index\\\":WebIO.getval({\\\"name\\\":\\\"index\\\",\\\"scope\\\":\\\"17995774388535276065\\\",\\\"id\\\":\\\"7417575125475106241\\\",\\\"type\\\":\\\"observable\\\"})};\\n    var self = this;\\n    function AppViewModel() {\\n        for (var key in json_data) {\\n            var el = json_data[key];\\n            this[key] = Array.isArray(el) ? ko.observableArray(el) : ko.observable(el);\\n        }\\n        \\n        [this[\\\"formatted_val\\\"]=ko.computed(    function(){\\n        return this.formatted_vals()[parseInt(this.index())-(1)];\\n    }\\n,this)]\\n        [this[\\\"changes\\\"].subscribe((function (val){!(this.valueFromJulia[\\\"changes\\\"]) ? (WebIO.setval({\\\"name\\\":\\\"changes\\\",\\\"scope\\\":\\\"17995774388535276065\\\",\\\"id\\\":\\\"13273747275915605438\\\",\\\"type\\\":\\\"observable\\\"},val)) : undefined; return this.valueFromJulia[\\\"changes\\\"]=false}),self),this[\\\"index\\\"].subscribe((function (val){!(this.valueFromJulia[\\\"index\\\"]) ? (WebIO.setval({\\\"name\\\":\\\"index\\\",\\\"scope\\\":\\\"17995774388535276065\\\",\\\"id\\\":\\\"7417575125475106241\\\",\\\"type\\\":\\\"observable\\\"},val)) : undefined; return this.valueFromJulia[\\\"index\\\"]=false}),self)]\\n        \\n    }\\n    self.model = new AppViewModel();\\n    self.valueFromJulia = {};\\n    for (var key in json_data) {\\n        self.valueFromJulia[key] = false;\\n    }\\n    ko.applyBindings(self.model, self.dom);\\n}\\n);\\n    (WebIO.importBlock({\\\"data\\\":[{\\\"name\\\":\\\"knockout\\\",\\\"type\\\":\\\"js\\\",\\\"url\\\":\\\"/assetserver/0cedf553a5154124f66c7c67e1c5a243325a593c-knockout.js\\\"},{\\\"name\\\":\\\"knockout_punches\\\",\\\"type\\\":\\\"js\\\",\\\"url\\\":\\\"/assetserver/624c410d777e23e946bee7a3f321fda94254d51d-knockout_punches.js\\\"}],\\\"type\\\":\\\"async_block\\\"})).then((imports) => handler.apply(this, imports));\\n}\\n\")])], Dict{Symbol,Any}(:className => \"field interact-widget\")), Node{WebIO.DOM}(WebIO.DOM(:html, :div), Any[Scope(Node{WebIO.DOM}(WebIO.DOM(:html, :div), Any[Node{WebIO.DOM}(WebIO.DOM(:html, :div), Any[Node{WebIO.DOM}(WebIO.DOM(:html, :label), Any[\"b\"], Dict{Symbol,Any}(:className => \"interact \",:style => Dict{Any,Any}(:padding => \"5px 10px 0px 10px\")))], Dict{Symbol,Any}(:className => \"interact-flex-row-left\")), Node{WebIO.DOM}(WebIO.DOM(:html, :div), Any[Node{WebIO.DOM}(WebIO.DOM(:html, :input), Any[], Dict{Symbol,Any}(:max => 21,:min => 1,:attributes => Dict{Any,Any}(:type => \"range\",Symbol(\"data-bind\") => \"numericValue: index, valueUpdate: 'input', event: {change: function (){this.changes(this.changes()+1)}}\",\"orient\" => \"horizontal\"),:step => 1,:className => \"slider slider is-fullwidth\",:style => Dict{Any,Any}()))], Dict{Symbol,Any}(:className => \"interact-flex-row-center\")), Node{WebIO.DOM}(WebIO.DOM(:html, :div), Any[Node{WebIO.DOM}(WebIO.DOM(:html, :p), Any[], Dict{Symbol,Any}(:attributes => Dict(\"data-bind\" => \"text: formatted_val\")))], Dict{Symbol,Any}(:className => \"interact-flex-row-right\"))], Dict{Symbol,Any}(:className => \"interact-flex-row interact-widget\")), Dict{String,Tuple{Observables.AbstractObservable,Union{Nothing, Bool}}}(\"changes\" => (Observable{Int64} with 1 listeners. Value:\n",
       "0, nothing),\"index\" => (Observable{Any} with 2 listeners. Value:\n",
       "11, nothing)), Set{String}(), nothing, Asset[Asset(\"js\", \"knockout\", \"/Users/sswatson/.julia/packages/Knockout/IP1uR/src/../assets/knockout.js\"), Asset(\"js\", \"knockout_punches\", \"/Users/sswatson/.julia/packages/Knockout/IP1uR/src/../assets/knockout_punches.js\"), Asset(\"js\", nothing, \"/Users/sswatson/.julia/packages/InteractBase/sOe2Z/src/../assets/all.js\"), Asset(\"css\", nothing, \"/Users/sswatson/.julia/packages/InteractBase/sOe2Z/src/../assets/style.css\"), Asset(\"css\", nothing, \"/Users/sswatson/.julia/packages/Interact/SbgIk/src/../assets/bulma_confined.min.css\")], Dict{Any,Any}(\"changes\" => Any[WebIO.JSString(\"(function (val){return (val!=this.model[\\\"changes\\\"]()) ? (this.valueFromJulia[\\\"changes\\\"]=true, this.model[\\\"changes\\\"](val)) : undefined})\")],\"index\" => Any[WebIO.JSString(\"(function (val){return (val!=this.model[\\\"index\\\"]()) ? (this.valueFromJulia[\\\"index\\\"]=true, this.model[\\\"index\\\"](val)) : undefined})\")]), WebIO.ConnectionPool(Channel{Any}(sz_max:32,sz_curr:0), Set{AbstractConnection}(), Base.GenericCondition{Base.AlwaysLockedST}(Base.InvasiveLinkedList{Task}(Task (runnable) @0x000000011b51b850, Task (runnable) @0x000000011b51b850), Base.AlwaysLockedST(1))), WebIO.JSString[WebIO.JSString(\"function () {\\n    var handler = (function (ko, koPunches) {\\n    ko.punches.enableAll();\\n    ko.bindingHandlers.numericValue = {\\n        init: function(element, valueAccessor, allBindings, data, context) {\\n            var stringified = ko.observable(ko.unwrap(valueAccessor()));\\n            stringified.subscribe(function(value) {\\n                var val = parseFloat(value);\\n                if (!isNaN(val)) {\\n                    valueAccessor()(val);\\n                }\\n            });\\n            valueAccessor().subscribe(function(value) {\\n                var str = JSON.stringify(value);\\n                if ((str == \\\"0\\\") && ([\\\"-0\\\", \\\"-0.\\\"].indexOf(stringified()) >= 0))\\n                     return;\\n                 if ([\\\"null\\\", \\\"\\\"].indexOf(str) >= 0)\\n                     return;\\n                stringified(str);\\n            });\\n            ko.applyBindingsToNode(\\n                element,\\n                {\\n                    value: stringified,\\n                    valueUpdate: allBindings.get('valueUpdate'),\\n                },\\n                context,\\n            );\\n        }\\n    };\\n    var json_data = {\\\"formatted_vals\\\":[\\\"0.0\\\",\\\"0.1\\\",\\\"0.2\\\",\\\"0.3\\\",\\\"0.4\\\",\\\"0.5\\\",\\\"0.6\\\",\\\"0.7\\\",\\\"0.8\\\",\\\"0.9\\\",\\\"1.0\\\",\\\"1.1\\\",\\\"1.2\\\",\\\"1.3\\\",\\\"1.4\\\",\\\"1.5\\\",\\\"1.6\\\",\\\"1.7\\\",\\\"1.8\\\",\\\"1.9\\\",\\\"2.0\\\"],\\\"changes\\\":WebIO.getval({\\\"name\\\":\\\"changes\\\",\\\"scope\\\":\\\"12846603554558712007\\\",\\\"id\\\":\\\"12655299840013629845\\\",\\\"type\\\":\\\"observable\\\"}),\\\"index\\\":WebIO.getval({\\\"name\\\":\\\"index\\\",\\\"scope\\\":\\\"12846603554558712007\\\",\\\"id\\\":\\\"10688815145267578191\\\",\\\"type\\\":\\\"observable\\\"})};\\n    var self = this;\\n    function AppViewModel() {\\n        for (var key in json_data) {\\n            var el = json_data[key];\\n            this[key] = Array.isArray(el) ? ko.observableArray(el) : ko.observable(el);\\n        }\\n        \\n        [this[\\\"formatted_val\\\"]=ko.computed(    function(){\\n        return this.formatted_vals()[parseInt(this.index())-(1)];\\n    }\\n,this)]\\n        [this[\\\"changes\\\"].subscribe((function (val){!(this.valueFromJulia[\\\"changes\\\"]) ? (WebIO.setval({\\\"name\\\":\\\"changes\\\",\\\"scope\\\":\\\"12846603554558712007\\\",\\\"id\\\":\\\"12655299840013629845\\\",\\\"type\\\":\\\"observable\\\"},val)) : undefined; return this.valueFromJulia[\\\"changes\\\"]=false}),self),this[\\\"index\\\"].subscribe((function (val){!(this.valueFromJulia[\\\"index\\\"]) ? (WebIO.setval({\\\"name\\\":\\\"index\\\",\\\"scope\\\":\\\"12846603554558712007\\\",\\\"id\\\":\\\"10688815145267578191\\\",\\\"type\\\":\\\"observable\\\"},val)) : undefined; return this.valueFromJulia[\\\"index\\\"]=false}),self)]\\n        \\n    }\\n    self.model = new AppViewModel();\\n    self.valueFromJulia = {};\\n    for (var key in json_data) {\\n        self.valueFromJulia[key] = false;\\n    }\\n    ko.applyBindings(self.model, self.dom);\\n}\\n);\\n    (WebIO.importBlock({\\\"data\\\":[{\\\"name\\\":\\\"knockout\\\",\\\"type\\\":\\\"js\\\",\\\"url\\\":\\\"/assetserver/0cedf553a5154124f66c7c67e1c5a243325a593c-knockout.js\\\"},{\\\"name\\\":\\\"knockout_punches\\\",\\\"type\\\":\\\"js\\\",\\\"url\\\":\\\"/assetserver/624c410d777e23e946bee7a3f321fda94254d51d-knockout_punches.js\\\"}],\\\"type\\\":\\\"async_block\\\"})).then((imports) => handler.apply(this, imports));\\n}\\n\")])], Dict{Symbol,Any}(:className => \"field interact-widget\")), Node{WebIO.DOM}(WebIO.DOM(:html, :div), Any[Scope(Node{WebIO.DOM}(WebIO.DOM(:html, :div), Any[Node{WebIO.DOM}(WebIO.DOM(:html, :div), Any[Node{WebIO.DOM}(WebIO.DOM(:html, :label), Any[\"c\"], Dict{Symbol,Any}(:className => \"interact \",:style => Dict{Any,Any}(:padding => \"5px 10px 0px 10px\")))], Dict{Symbol,Any}(:className => \"interact-flex-row-left\")), Node{WebIO.DOM}(WebIO.DOM(:html, :div), Any[Node{WebIO.DOM}(WebIO.DOM(:html, :input), Any[], Dict{Symbol,Any}(:max => 401,:min => 1,:attributes => Dict{Any,Any}(:type => \"range\",Symbol(\"data-bind\") => \"numericValue: index, valueUpdate: 'input', event: {change: function (){this.changes(this.changes()+1)}}\",\"orient\" => \"horizontal\"),:step => 1,:className => \"slider slider is-fullwidth\",:style => Dict{Any,Any}()))], Dict{Symbol,Any}(:className => \"interact-flex-row-center\")), Node{WebIO.DOM}(WebIO.DOM(:html, :div), Any[Node{WebIO.DOM}(WebIO.DOM(:html, :p), Any[], Dict{Symbol,Any}(:attributes => Dict(\"data-bind\" => \"text: formatted_val\")))], Dict{Symbol,Any}(:className => \"interact-flex-row-right\"))], Dict{Symbol,Any}(:className => \"interact-flex-row interact-widget\")), Dict{String,Tuple{Observables.AbstractObservable,Union{Nothing, Bool}}}(\"changes\" => (Observable{Int64} with 1 listeners. Value:\n",
       "0, nothing),\"index\" => (Observable{Any} with 2 listeners. Value:\n",
       "201, nothing)), Set{String}(), nothing, Asset[Asset(\"js\", \"knockout\", \"/Users/sswatson/.julia/packages/Knockout/IP1uR/src/../assets/knockout.js\"), Asset(\"js\", \"knockout_punches\", \"/Users/sswatson/.julia/packages/Knockout/IP1uR/src/../assets/knockout_punches.js\"), Asset(\"js\", nothing, \"/Users/sswatson/.julia/packages/InteractBase/sOe2Z/src/../assets/all.js\"), Asset(\"css\", nothing, \"/Users/sswatson/.julia/packages/InteractBase/sOe2Z/src/../assets/style.css\"), Asset(\"css\", nothing, \"/Users/sswatson/.julia/packages/Interact/SbgIk/src/../assets/bulma_confined.min.css\")], Dict{Any,Any}(\"changes\" => Any[WebIO.JSString(\"(function (val){return (val!=this.model[\\\"changes\\\"]()) ? (this.valueFromJulia[\\\"changes\\\"]=true, this.model[\\\"changes\\\"](val)) : undefined})\")],\"index\" => Any[WebIO.JSString(\"(function (val){return (val!=this.model[\\\"index\\\"]()) ? (this.valueFromJulia[\\\"index\\\"]=true, this.model[\\\"index\\\"](val)) : undefined})\")]), WebIO.ConnectionPool(Channel{Any}(sz_max:32,sz_curr:0), Set{AbstractConnection}(), Base.GenericCondition{Base.AlwaysLockedST}(Base.InvasiveLinkedList{Task}(Task (runnable) @0x000000011ba65b10, Task (runnable) @0x000000011ba65b10), Base.AlwaysLockedST(1))), WebIO.JSString[WebIO.JSString(\"function () {\\n    var handler = (function (ko, koPunches) {\\n    ko.punches.enableAll();\\n    ko.bindingHandlers.numericValue = {\\n        init: function(element, valueAccessor, allBindings, data, context) {\\n            var stringified = ko.observable(ko.unwrap(valueAccessor()));\\n            stringified.subscribe(function(value) {\\n                var val = parseFloat(value);\\n                if (!isNaN(val)) {\\n                    valueAccessor()(val);\\n                }\\n            });\\n            valueAccessor().subscribe(function(value) {\\n                var str = JSON.stringify(value);\\n                if ((str == \\\"0\\\") && ([\\\"-0\\\", \\\"-0.\\\"].indexOf(stringified()) >= 0))\\n                     return;\\n                 if ([\\\"null\\\", \\\"\\\"].indexOf(str) >= 0)\\n                     return;\\n                stringified(str);\\n            });\\n            ko.applyBindingsToNode(\\n                element,\\n                {\\n                    value: stringified,\\n                    valueUpdate: allBindings.get('valueUpdate'),\\n                },\\n                context,\\n            );\\n        }\\n    };\\n    var json_data = {\\\"formatted_vals\\\":[\\\"-2.0\\\",\\\"-1.99\\\",\\\"-1.98\\\",\\\"-1.97\\\",\\\"-1.96\\\",\\\"-1.95\\\",\\\"-1.94\\\",\\\"-1.93\\\",\\\"-1.92\\\",\\\"-1.91\\\",\\\"-1.9\\\",\\\"-1.89\\\",\\\"-1.88\\\",\\\"-1.87\\\",\\\"-1.86\\\",\\\"-1.85\\\",\\\"-1.84\\\",\\\"-1.83\\\",\\\"-1.82\\\",\\\"-1.81\\\",\\\"-1.8\\\",\\\"-1.79\\\",\\\"-1.78\\\",\\\"-1.77\\\",\\\"-1.76\\\",\\\"-1.75\\\",\\\"-1.74\\\",\\\"-1.73\\\",\\\"-1.72\\\",\\\"-1.71\\\",\\\"-1.7\\\",\\\"-1.69\\\",\\\"-1.68\\\",\\\"-1.67\\\",\\\"-1.66\\\",\\\"-1.65\\\",\\\"-1.64\\\",\\\"-1.63\\\",\\\"-1.62\\\",\\\"-1.61\\\",\\\"-1.6\\\",\\\"-1.59\\\",\\\"-1.58\\\",\\\"-1.57\\\",\\\"-1.56\\\",\\\"-1.55\\\",\\\"-1.54\\\",\\\"-1.53\\\",\\\"-1.52\\\",\\\"-1.51\\\",\\\"-1.5\\\",\\\"-1.49\\\",\\\"-1.48\\\",\\\"-1.47\\\",\\\"-1.46\\\",\\\"-1.45\\\",\\\"-1.44\\\",\\\"-1.43\\\",\\\"-1.42\\\",\\\"-1.41\\\",\\\"-1.4\\\",\\\"-1.39\\\",\\\"-1.38\\\",\\\"-1.37\\\",\\\"-1.36\\\",\\\"-1.35\\\",\\\"-1.34\\\",\\\"-1.33\\\",\\\"-1.32\\\",\\\"-1.31\\\",\\\"-1.3\\\",\\\"-1.29\\\",\\\"-1.28\\\",\\\"-1.27\\\",\\\"-1.26\\\",\\\"-1.25\\\",\\\"-1.24\\\",\\\"-1.23\\\",\\\"-1.22\\\",\\\"-1.21\\\",\\\"-1.2\\\",\\\"-1.19\\\",\\\"-1.18\\\",\\\"-1.17\\\",\\\"-1.16\\\",\\\"-1.15\\\",\\\"-1.14\\\",\\\"-1.13\\\",\\\"-1.12\\\",\\\"-1.11\\\",\\\"-1.1\\\",\\\"-1.09\\\",\\\"-1.08\\\",\\\"-1.07\\\",\\\"-1.06\\\",\\\"-1.05\\\",\\\"-1.04\\\",\\\"-1.03\\\",\\\"-1.02\\\",\\\"-1.01\\\",\\\"-1.0\\\",\\\"-0.99\\\",\\\"-0.98\\\",\\\"-0.97\\\",\\\"-0.96\\\",\\\"-0.95\\\",\\\"-0.94\\\",\\\"-0.93\\\",\\\"-0.92\\\",\\\"-0.91\\\",\\\"-0.9\\\",\\\"-0.89\\\",\\\"-0.88\\\",\\\"-0.87\\\",\\\"-0.86\\\",\\\"-0.85\\\",\\\"-0.84\\\",\\\"-0.83\\\",\\\"-0.82\\\",\\\"-0.81\\\",\\\"-0.8\\\",\\\"-0.79\\\",\\\"-0.78\\\",\\\"-0.77\\\",\\\"-0.76\\\",\\\"-0.75\\\",\\\"-0.74\\\",\\\"-0.73\\\",\\\"-0.72\\\",\\\"-0.71\\\",\\\"-0.7\\\",\\\"-0.69\\\",\\\"-0.68\\\",\\\"-0.67\\\",\\\"-0.66\\\",\\\"-0.65\\\",\\\"-0.64\\\",\\\"-0.63\\\",\\\"-0.62\\\",\\\"-0.61\\\",\\\"-0.6\\\",\\\"-0.59\\\",\\\"-0.58\\\",\\\"-0.57\\\",\\\"-0.56\\\",\\\"-0.55\\\",\\\"-0.54\\\",\\\"-0.53\\\",\\\"-0.52\\\",\\\"-0.51\\\",\\\"-0.5\\\",\\\"-0.49\\\",\\\"-0.48\\\",\\\"-0.47\\\",\\\"-0.46\\\",\\\"-0.45\\\",\\\"-0.44\\\",\\\"-0.43\\\",\\\"-0.42\\\",\\\"-0.41\\\",\\\"-0.4\\\",\\\"-0.39\\\",\\\"-0.38\\\",\\\"-0.37\\\",\\\"-0.36\\\",\\\"-0.35\\\",\\\"-0.34\\\",\\\"-0.33\\\",\\\"-0.32\\\",\\\"-0.31\\\",\\\"-0.3\\\",\\\"-0.29\\\",\\\"-0.28\\\",\\\"-0.27\\\",\\\"-0.26\\\",\\\"-0.25\\\",\\\"-0.24\\\",\\\"-0.23\\\",\\\"-0.22\\\",\\\"-0.21\\\",\\\"-0.2\\\",\\\"-0.19\\\",\\\"-0.18\\\",\\\"-0.17\\\",\\\"-0.16\\\",\\\"-0.15\\\",\\\"-0.14\\\",\\\"-0.13\\\",\\\"-0.12\\\",\\\"-0.11\\\",\\\"-0.1\\\",\\\"-0.09\\\",\\\"-0.08\\\",\\\"-0.07\\\",\\\"-0.06\\\",\\\"-0.05\\\",\\\"-0.04\\\",\\\"-0.03\\\",\\\"-0.02\\\",\\\"-0.01\\\",\\\"0.0\\\",\\\"0.01\\\",\\\"0.02\\\",\\\"0.03\\\",\\\"0.04\\\",\\\"0.05\\\",\\\"0.06\\\",\\\"0.07\\\",\\\"0.08\\\",\\\"0.09\\\",\\\"0.1\\\",\\\"0.11\\\",\\\"0.12\\\",\\\"0.13\\\",\\\"0.14\\\",\\\"0.15\\\",\\\"0.16\\\",\\\"0.17\\\",\\\"0.18\\\",\\\"0.19\\\",\\\"0.2\\\",\\\"0.21\\\",\\\"0.22\\\",\\\"0.23\\\",\\\"0.24\\\",\\\"0.25\\\",\\\"0.26\\\",\\\"0.27\\\",\\\"0.28\\\",\\\"0.29\\\",\\\"0.3\\\",\\\"0.31\\\",\\\"0.32\\\",\\\"0.33\\\",\\\"0.34\\\",\\\"0.35\\\",\\\"0.36\\\",\\\"0.37\\\",\\\"0.38\\\",\\\"0.39\\\",\\\"0.4\\\",\\\"0.41\\\",\\\"0.42\\\",\\\"0.43\\\",\\\"0.44\\\",\\\"0.45\\\",\\\"0.46\\\",\\\"0.47\\\",\\\"0.48\\\",\\\"0.49\\\",\\\"0.5\\\",\\\"0.51\\\",\\\"0.52\\\",\\\"0.53\\\",\\\"0.54\\\",\\\"0.55\\\",\\\"0.56\\\",\\\"0.57\\\",\\\"0.58\\\",\\\"0.59\\\",\\\"0.6\\\",\\\"0.61\\\",\\\"0.62\\\",\\\"0.63\\\",\\\"0.64\\\",\\\"0.65\\\",\\\"0.66\\\",\\\"0.67\\\",\\\"0.68\\\",\\\"0.69\\\",\\\"0.7\\\",\\\"0.71\\\",\\\"0.72\\\",\\\"0.73\\\",\\\"0.74\\\",\\\"0.75\\\",\\\"0.76\\\",\\\"0.77\\\",\\\"0.78\\\",\\\"0.79\\\",\\\"0.8\\\",\\\"0.81\\\",\\\"0.82\\\",\\\"0.83\\\",\\\"0.84\\\",\\\"0.85\\\",\\\"0.86\\\",\\\"0.87\\\",\\\"0.88\\\",\\\"0.89\\\",\\\"0.9\\\",\\\"0.91\\\",\\\"0.92\\\",\\\"0.93\\\",\\\"0.94\\\",\\\"0.95\\\",\\\"0.96\\\",\\\"0.97\\\",\\\"0.98\\\",\\\"0.99\\\",\\\"1.0\\\",\\\"1.01\\\",\\\"1.02\\\",\\\"1.03\\\",\\\"1.04\\\",\\\"1.05\\\",\\\"1.06\\\",\\\"1.07\\\",\\\"1.08\\\",\\\"1.09\\\",\\\"1.1\\\",\\\"1.11\\\",\\\"1.12\\\",\\\"1.13\\\",\\\"1.14\\\",\\\"1.15\\\",\\\"1.16\\\",\\\"1.17\\\",\\\"1.18\\\",\\\"1.19\\\",\\\"1.2\\\",\\\"1.21\\\",\\\"1.22\\\",\\\"1.23\\\",\\\"1.24\\\",\\\"1.25\\\",\\\"1.26\\\",\\\"1.27\\\",\\\"1.28\\\",\\\"1.29\\\",\\\"1.3\\\",\\\"1.31\\\",\\\"1.32\\\",\\\"1.33\\\",\\\"1.34\\\",\\\"1.35\\\",\\\"1.36\\\",\\\"1.37\\\",\\\"1.38\\\",\\\"1.39\\\",\\\"1.4\\\",\\\"1.41\\\",\\\"1.42\\\",\\\"1.43\\\",\\\"1.44\\\",\\\"1.45\\\",\\\"1.46\\\",\\\"1.47\\\",\\\"1.48\\\",\\\"1.49\\\",\\\"1.5\\\",\\\"1.51\\\",\\\"1.52\\\",\\\"1.53\\\",\\\"1.54\\\",\\\"1.55\\\",\\\"1.56\\\",\\\"1.57\\\",\\\"1.58\\\",\\\"1.59\\\",\\\"1.6\\\",\\\"1.61\\\",\\\"1.62\\\",\\\"1.63\\\",\\\"1.64\\\",\\\"1.65\\\",\\\"1.66\\\",\\\"1.67\\\",\\\"1.68\\\",\\\"1.69\\\",\\\"1.7\\\",\\\"1.71\\\",\\\"1.72\\\",\\\"1.73\\\",\\\"1.74\\\",\\\"1.75\\\",\\\"1.76\\\",\\\"1.77\\\",\\\"1.78\\\",\\\"1.79\\\",\\\"1.8\\\",\\\"1.81\\\",\\\"1.82\\\",\\\"1.83\\\",\\\"1.84\\\",\\\"1.85\\\",\\\"1.86\\\",\\\"1.87\\\",\\\"1.88\\\",\\\"1.89\\\",\\\"1.9\\\",\\\"1.91\\\",\\\"1.92\\\",\\\"1.93\\\",\\\"1.94\\\",\\\"1.95\\\",\\\"1.96\\\",\\\"1.97\\\",\\\"1.98\\\",\\\"1.99\\\",\\\"2.0\\\"],\\\"changes\\\":WebIO.getval({\\\"name\\\":\\\"changes\\\",\\\"scope\\\":\\\"9063526848729606375\\\",\\\"id\\\":\\\"3091126771591082160\\\",\\\"type\\\":\\\"observable\\\"}),\\\"index\\\":WebIO.getval({\\\"name\\\":\\\"index\\\",\\\"scope\\\":\\\"9063526848729606375\\\",\\\"id\\\":\\\"11239578818581439628\\\",\\\"type\\\":\\\"observable\\\"})};\\n    var self = this;\\n    function AppViewModel() {\\n        for (var key in json_data) {\\n            var el = json_data[key];\\n            this[key] = Array.isArray(el) ? ko.observableArray(el) : ko.observable(el);\\n        }\\n        \\n        [this[\\\"formatted_val\\\"]=ko.computed(    function(){\\n        return this.formatted_vals()[parseInt(this.index())-(1)];\\n    }\\n,this)]\\n        [this[\\\"changes\\\"].subscribe((function (val){!(this.valueFromJulia[\\\"changes\\\"]) ? (WebIO.setval({\\\"name\\\":\\\"changes\\\",\\\"scope\\\":\\\"9063526848729606375\\\",\\\"id\\\":\\\"3091126771591082160\\\",\\\"type\\\":\\\"observable\\\"},val)) : undefined; return this.valueFromJulia[\\\"changes\\\"]=false}),self),this[\\\"index\\\"].subscribe((function (val){!(this.valueFromJulia[\\\"index\\\"]) ? (WebIO.setval({\\\"name\\\":\\\"index\\\",\\\"scope\\\":\\\"9063526848729606375\\\",\\\"id\\\":\\\"11239578818581439628\\\",\\\"type\\\":\\\"observable\\\"},val)) : undefined; return this.valueFromJulia[\\\"index\\\"]=false}),self)]\\n        \\n    }\\n    self.model = new AppViewModel();\\n    self.valueFromJulia = {};\\n    for (var key in json_data) {\\n        self.valueFromJulia[key] = false;\\n    }\\n    ko.applyBindings(self.model, self.dom);\\n}\\n);\\n    (WebIO.importBlock({\\\"data\\\":[{\\\"name\\\":\\\"knockout\\\",\\\"type\\\":\\\"js\\\",\\\"url\\\":\\\"/assetserver/0cedf553a5154124f66c7c67e1c5a243325a593c-knockout.js\\\"},{\\\"name\\\":\\\"knockout_punches\\\",\\\"type\\\":\\\"js\\\",\\\"url\\\":\\\"/assetserver/624c410d777e23e946bee7a3f321fda94254d51d-knockout_punches.js\\\"}],\\\"type\\\":\\\"async_block\\\"})).then((imports) => handler.apply(this, imports));\\n}\\n\")])], Dict{Symbol,Any}(:className => \"field interact-widget\")), Observable{Any} with 0 listeners. Value:\n",
       "Node{WebIO.DOM}(WebIO.DOM(:html, :div), Any[Plot{Plots.GRBackend() n=2}], Dict{Symbol,Any}(:className => \"interact-flex-row interact-widget\"))], Dict{Symbol,Any}())"
      ]
     },
     "execution_count": 25,
     "metadata": {
      "@webio": {
       "kernelId": "9d348606-9a29-4521-aad5-5d21c582c8f3"
      }
     },
     "output_type": "execute_result"
    }
   ],
   "source": [
    "using Interact\n",
    "gr()\n",
    "@manipulate for m1 in 0:0.1:3, m2 in 0:0.1:6, a in 0:0.1:2, b in 0:0.1:2, c in -2:0.01:2\n",
    "    scatter([Tuple(row) for row in eachrow(A)])\n",
    "    heatmap!(-2:0.25:7, -2:0.25:7, (x,y) -> density(x, y, m1, m2, a, b, c), opacity = 0.4)\n",
    "end"
   ]
  },
  {
   "cell_type": "markdown",
   "metadata": {},
   "source": [
    "(a) Think of one rigorous way of saying whether a particular Gaussian fits the data points better than another."
   ]
  },
  {
   "cell_type": "markdown",
   "metadata": {},
   "source": [
    "(b) How might you set about finding the optimal Gaussian, according to the approach you came up with in (a)?"
   ]
  }
 ],
 "metadata": {
  "@webio": {
   "lastCommId": "79a8450a-c0fc-47c6-b35e-a6ab3687de95",
   "lastKernelId": "7df074dc-8879-44cd-aa4d-4609e19fdaf0"
  },
  "kernelspec": {
   "display_name": "Julia 1.5.1",
   "language": "julia",
   "name": "julia-1.5"
  },
  "language_info": {
   "file_extension": ".jl",
   "mimetype": "application/julia",
   "name": "julia",
   "version": "1.5.1"
  }
 },
 "nbformat": 4,
 "nbformat_minor": 4
}
