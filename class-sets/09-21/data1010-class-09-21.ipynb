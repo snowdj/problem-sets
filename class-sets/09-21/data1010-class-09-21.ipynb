{
 "cells": [
  {
   "cell_type": "markdown",
   "metadata": {},
   "source": [
    "# DATA 1010\n",
    "\n",
    "### 21 September 2020: Matrix differentiation\n",
    "### Classtime problem set"
   ]
  },
  {
   "cell_type": "markdown",
   "metadata": {},
   "source": [
    "## Problem 1\n",
    "Find a formula for the vector $\\mathbf{x}$ which minimizes $|A\\mathbf{x} - \\mathbf{b}|^2$."
   ]
  },
  {
   "cell_type": "code",
   "execution_count": null,
   "metadata": {},
   "outputs": [],
   "source": []
  },
  {
   "cell_type": "markdown",
   "metadata": {},
   "source": [
    "## Problem 2\n",
    "Use matrix differentiation to find the vector $\\mathbf{x} \\in \\mathbb{R}^n$ which minimizes the expression  $|W(A\\mathbf{x} - \\mathbf{b})|^2$, where A is an $m \\times n$ matrix and W is an $m \\times m$ matrix. You may assume that $WA$ is full-rank.\n",
    "\n",
    "\n"
   ]
  },
  {
   "cell_type": "code",
   "execution_count": null,
   "metadata": {},
   "outputs": [],
   "source": []
  },
  {
   "cell_type": "markdown",
   "metadata": {},
   "source": [
    "## Problem 3\n",
    "Show that the second derivative (the Hessian) of $\\frac{1}{2}\\mathbf{x}'H\\mathbf{x}$ is equal to $H$ if $H$ is symmetric."
   ]
  },
  {
   "cell_type": "code",
   "execution_count": null,
   "metadata": {},
   "outputs": [],
   "source": []
  },
  {
   "cell_type": "markdown",
   "metadata": {},
   "source": [
    "## Problem 4\n",
    "\n",
    "Differentiate the following composition: \n",
    "\n",
    "$$\n",
    "\\mathbf{x} \\mapsto A \\mathbf{x} \\mapsto \\exp.(A \\mathbf{x}) \\mapsto|\\exp.(A \\mathbf{x})-\\mathbf{b}|^{2}\n",
    "$$"
   ]
  },
  {
   "cell_type": "code",
   "execution_count": null,
   "metadata": {},
   "outputs": [],
   "source": []
  }
 ],
 "metadata": {
  "@webio": {
   "lastCommId": "fe292e30-b6f4-43c6-ad05-655a0b35afa4",
   "lastKernelId": "ee673872-c126-4f28-9620-9debddc1dbbb"
  },
  "kernelspec": {
   "display_name": "Julia 1.5.1",
   "language": "julia",
   "name": "julia-1.5"
  },
  "language_info": {
   "file_extension": ".jl",
   "mimetype": "application/julia",
   "name": "julia",
   "version": "1.5.1"
  }
 },
 "nbformat": 4,
 "nbformat_minor": 4
}
