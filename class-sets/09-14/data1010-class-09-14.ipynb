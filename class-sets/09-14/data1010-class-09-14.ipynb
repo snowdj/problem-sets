{
 "cells": [
  {
   "cell_type": "markdown",
   "metadata": {},
   "source": [
    "# DATA 1010\n",
    "\n",
    "### 14 September 2020: Linear Algebra\n",
    "### Classtime problem set"
   ]
  },
  {
   "cell_type": "code",
   "execution_count": 3,
   "metadata": {},
   "outputs": [],
   "source": [
    "using LinearAlgebra"
   ]
  },
  {
   "cell_type": "markdown",
   "metadata": {},
   "source": [
    "## Problem 1\n",
    "Consider two vectors $\\mathbf{a} = [0, 1, 1, 1, 0]$ and $\\mathbf{b} = [0, 1, 1, 0, 1]$."
   ]
  },
  {
   "cell_type": "markdown",
   "metadata": {},
   "source": [
    "(a) Is the list $\\{\\mathbf{a}, \\mathbf{b}\\}$ linearly independent?"
   ]
  },
  {
   "cell_type": "markdown",
   "metadata": {},
   "source": [
    "(b) Is $\\mathbf{x} = [1, 1, 1, 1, 1]$ in the span of $\\mathbf{a}$ and $\\mathbf{b}$?"
   ]
  },
  {
   "cell_type": "markdown",
   "metadata": {},
   "source": [
    "(c) Find another vector $\\mathbf{c}$ such that:\n",
    "- All of $\\mathbf{c}$ are either zero or one, with as few ones as possible, and\n",
    "- $\\mathbf{x}$ is in the span of $\\mathbf{a}$, $\\mathbf{b}$, and $\\mathbf{c}$."
   ]
  },
  {
   "cell_type": "markdown",
   "metadata": {},
   "source": [
    "(d) Suppose $\\mathbf{c} = [0, 1, 0, 1, 0]$. Find $\\mathbf{b}^o$ and $\\mathbf{c}^o$ such that\n",
    "\n",
    "$$\\mathrm{span}(\\{\\mathbf{a}, \\mathbf{b}\\}) = \\mathrm{span}(\\{\\mathbf{a}, \\mathbf{b}^o\\})$$\n",
    "and\n",
    "$$\\mathrm{span}(\\{\\mathbf{a}, \\mathbf{b}, \\mathbf{c}\\}) = \\mathrm{span}(\\{\\mathbf{a}, \\mathbf{b}^o, \\mathbf{c}^o\\}).$$"
   ]
  },
  {
   "cell_type": "markdown",
   "metadata": {},
   "source": [
    "(e) How could we find the coordinates of $\\mathbf{c} = [0, 1, 0, 1, 0]$ with respect to this new orthogonal basis?\n",
    "\n",
    "\n"
   ]
  },
  {
   "cell_type": "markdown",
   "metadata": {},
   "source": [
    "## Problem 2\n",
    "Does there exist a linearly dependent list of 10 vectors with the property that there are exactly 21 ways to remove two vectors from the list to obtain a linearly independent list?\n",
    "\n",
    "\n"
   ]
  },
  {
   "cell_type": "markdown",
   "metadata": {},
   "source": [
    "## Problem 3\n",
    "(a) Show that if $\\mathbf{x}'A\\mathbf{x} = \\mathbf{x}'B\\mathbf{x}$ for every vector $\\mathbf{x}$, then $A = B$. Here $A$ and $B$ are $n \\times n$ matrices, for some $n \\geq 1$, and $\\mathbf{x}$ is a vector in $\\mathbb{R}^n$.\n",
    "\n",
    "(b) Suppose that $U$ is a matrix corresponding to a length-preserving linear transformation. Show that $U'U = I$.\n",
    "\n",
    "\n"
   ]
  },
  {
   "cell_type": "markdown",
   "metadata": {},
   "source": [
    "Problem 4\n",
    "(a) What is the rank and nullity of the transformation represented by the matrix\n",
    "\n",
    "$$\\left[\n",
    "\\begin{matrix}\n",
    "1 & 0 & 2 \\\\\n",
    "2 & 1 & 0 \\\\\n",
    "1 & 0 & 2\n",
    "\\end{matrix}\n",
    "\\right]?$$\n",
    "\n",
    "\n"
   ]
  },
  {
   "cell_type": "markdown",
   "metadata": {},
   "source": [
    "## Problem 4"
   ]
  },
  {
   "cell_type": "markdown",
   "metadata": {},
   "source": [
    "Confirm that $A^\\dagger \\mathbf{b}$ is the vector $\\mathbf{x}$ which minimizes $|A \\mathbf{x} - \\mathbf{b}|^2$, where $A^\\dagger$ is the Moore-Penrose pseudoinverse of $A$ (computed in Julia as `pinv(A)`) and $A$ and $\\mathbf{b}$ are as defined below."
   ]
  },
  {
   "cell_type": "code",
   "execution_count": 2,
   "metadata": {},
   "outputs": [
    {
     "data": {
      "text/plain": [
       "3-element Array{Int64,1}:\n",
       " -2\n",
       "  5\n",
       "  3"
      ]
     },
     "execution_count": 2,
     "metadata": {},
     "output_type": "execute_result"
    }
   ],
   "source": [
    "A = [\n",
    " 1 2\n",
    " 3 4\n",
    " 5 6\n",
    "]\n",
    "b = [-2, 5, 3]"
   ]
  },
  {
   "cell_type": "code",
   "execution_count": null,
   "metadata": {},
   "outputs": [],
   "source": []
  }
 ],
 "metadata": {
  "kernelspec": {
   "display_name": "Julia 1.5.1",
   "language": "julia",
   "name": "julia-1.5"
  },
  "language_info": {
   "file_extension": ".jl",
   "mimetype": "application/julia",
   "name": "julia",
   "version": "1.5.1"
  }
 },
 "nbformat": 4,
 "nbformat_minor": 4
}
