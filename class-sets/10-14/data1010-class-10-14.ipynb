{
 "cells": [
  {
   "cell_type": "markdown",
   "metadata": {},
   "source": [
    "# Class Notebook\n",
    "## DATA 1010\n",
    "## Brown University\n",
    "## 14 October 2020"
   ]
  },
  {
   "cell_type": "markdown",
   "metadata": {},
   "source": [
    "**Exercise 1**  \n",
    "\n",
    "Explain what's incorrect about the following reasonable-sounding statement: _Given the observations of $(X,Y)$ shown below, I computed the line of best fit and was therefore able to plot the regression function (shown in red) for the joint distribution of $X$ and $Y$._\n",
    "\n",
    "You may assume that the line shown is indeed the line of best fit for these data.\n",
    "\n",
    "<center><img src=\"linear-regression-example.svg\"></img></center>"
   ]
  },
  {
   "cell_type": "markdown",
   "metadata": {},
   "source": [
    "**Exercise 2**  \n",
    "\n",
    "Consider the larger of two independent observations drawn from a measure $\\nu$. Is this a statistical functional?"
   ]
  },
  {
   "cell_type": "markdown",
   "metadata": {},
   "source": [
    "**Exercise 3**  \n",
    "\n",
    "Consider a sequence of independent random variables $X_1, \\ldots, X_n$ with common distribution $\\nu$, and suppose that $T(\\nu)$ is defined to be the mean of $\\nu$.\n",
    "\n",
    "Propose an estimator of the statistical functional $T$ _other than_ $\\displaystyle \\frac{X_1+X_2+\\cdots +X_n}{n}$."
   ]
  },
  {
   "cell_type": "markdown",
   "metadata": {},
   "source": [
    "**Exercise 4**  \n",
    "\n",
    "Now apply your estimator to the data below. What value do you get?"
   ]
  },
  {
   "cell_type": "code",
   "execution_count": 2,
   "metadata": {},
   "outputs": [
    {
     "data": {
      "text/plain": [
       "7-element Array{Float64,1}:\n",
       " 2.4\n",
       " 0.5\n",
       " 7.1\n",
       " 0.62\n",
       " 3.4\n",
       " 3.4\n",
       " 4.2"
      ]
     },
     "execution_count": 2,
     "metadata": {},
     "output_type": "execute_result"
    }
   ],
   "source": [
    "observations = [2.4, 0.5, 7.1, 0.62, 3.4, 3.4, 4.2]"
   ]
  },
  {
   "cell_type": "markdown",
   "metadata": {},
   "source": [
    "**Exercise 5**  \n",
    "\n",
    "Suppose that $T(\\nu)$ is defined to be the range of $\\nu$ (in other words, the least value of $b -a $ such that there exists an interval $[a,b]$ with the property that $\\nu([a,b])=1$). \n",
    "Suppose that $\\nu$ is a standard normal distribution. Draw 100 observations from $\\nu$ and calculate $T(\\widehat{\\nu})$ for the resulting distribution.\n",
    "\n",
    "(Bonus challenge if you finish early: repeat this experiment 10,000 times and make a histogram of the resulting empirical ranges.)"
   ]
  },
  {
   "cell_type": "markdown",
   "metadata": {},
   "source": [
    "**Exercise 6**  \n",
    "The empirical range is [positively biased | negatively biased]."
   ]
  },
  {
   "cell_type": "markdown",
   "metadata": {},
   "source": [
    "**Exercise 7**  \n",
    "\n",
    "What's the relationship between mean squared error, bias, and variance?"
   ]
  },
  {
   "cell_type": "markdown",
   "metadata": {},
   "source": [
    "**Exercise 8**  \n",
    "\n",
    "Show that the plug-in estimator of the variance is a biased."
   ]
  },
  {
   "cell_type": "markdown",
   "metadata": {},
   "source": [
    "**Exercise 9.**\n",
    "\n",
    "If $T$ is a statistical functional is $[T(\\nu) - 1, T(\\nu)+1]$ a confidence interval for $\\theta = T(\\nu)$? What is its confidence level?"
   ]
  },
  {
   "cell_type": "markdown",
   "metadata": {},
   "source": [
    "**Exercise 10.**\n",
    "\n",
    "Suppose $I$ is a 95% confidence interval for $\\theta = T(\\nu)$. Is $\\theta$ a random variable which has a 95% probability of falling in the interval $I$?"
   ]
  }
 ],
 "metadata": {
  "kernelspec": {
   "display_name": "Julia 1.5.1",
   "language": "julia",
   "name": "julia-1.5"
  },
  "language_info": {
   "file_extension": ".jl",
   "mimetype": "application/julia",
   "name": "julia",
   "version": "1.5.1"
  }
 },
 "nbformat": 4,
 "nbformat_minor": 4
}
