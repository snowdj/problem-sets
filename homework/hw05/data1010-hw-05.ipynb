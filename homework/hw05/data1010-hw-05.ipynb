{
 "cells": [
  {
   "cell_type": "markdown",
   "metadata": {},
   "source": [
    "# Homework 05\n",
    "## Brown University\n",
    "## DATA 1010\n",
    "## Fall 2020"
   ]
  },
  {
   "cell_type": "markdown",
   "metadata": {},
   "source": [
    "## Problem 1\n",
    "\n",
    "Use the inverse CDF trick to sample from the probability measure whose density function is $f(x) = 2xe^{-x^2} \\mathbf{1}_{x \\geq 0}$. You can take as given a random number generator which samples from $\\mathrm{Uniform}(0, 1)$. Explain your answer mathematically, and confirm that it works empirically by implementing your solution in code."
   ]
  },
  {
   "cell_type": "code",
   "execution_count": null,
   "metadata": {},
   "outputs": [],
   "source": []
  },
  {
   "cell_type": "markdown",
   "metadata": {},
   "source": [
    "## Problem 2\n",
    "\n",
    "In this problem, we'll discover a concrete connection between the probabilistic notion of correlation and the mental picture you might have of correlation which involves a line cutting through some representation of the joint distribution.\n",
    "\n",
    "*Note: I highly recommend working this one out following the hints rather than trying to look up anything online. Every source I could find does this problem from a statistical point of view, working with $n$ observations, rather than a probabilistic point of view, working directly from the joint distribution. This method is more straightforward and offers more insight, since it shows how the connection does not actually depend on the statistical context.*\n",
    "\n",
    "Recall that the correlation between two variables is defined by\n",
    "$$\n",
    "\\rho = \\frac{\\mathrm{Cov}(X, Y)}{\\sigma_X \\sigma_Y}. \n",
    "$$\n",
    "\n",
    "(a) Consider two real-valued, non-constant random variables $X$ and $Y$. Find the line in the plane which minimizes the expected squared vertical distance from a point selected from the joint distribution of $X$ and $Y$ to the line. Relate the slope of this line to the correlation $\\rho$ and the standard deviations $\\sigma_X$ and $\\sigma_Y$. \n",
    "\n",
    "*Hint 1: Represent the line as $y = mx + b$ and write an expression for the vertical distance from the point $(X,Y)$ to the line. Take the expectation of that expression (which makes sense because $X$ and $Y$ are random variables).* \n",
    "\n",
    "*Hint 2: Use your multivariable calculus knowledge to find the values of $m$ and $b$ which minimize this expression. Note that expectations involving $X$ and $Y$ are constant with respect to the optimization over $m$ and $b$. It works out that the resulting system of equations is solvable by hand and only has one solution.*\n",
    "\n",
    "(b) Verify this on a few random examples of a bivariate Gaussians with nonzero correlation. Plot the density function or mass function as well as the line which minimizes probability-mass-weighted the sum of squared vertical distances to the line.\n",
    "\n",
    "*Note: You can generate a random positive semidefinite matrix $\\Sigma$ by generating a random matrix $A$ and setting $\\Sigma = AA'$.*\n",
    "\n",
    "(c) In part (b), the graph you get might look a bit surprising. Describe what you would need to do with a $2 \\times 2$ matrix $\\Sigma$ if you wanted to find the directions of the major and minor axes of the ellipses which are the level sets of the multivariate Gaussian with covariance matrix $\\Sigma$. \n",
    "\n",
    "*Hint: you want to split this problem into two parts: (i) find the major and minor axes of the ellipse obtained by applying the linear transformation $A$ to the unit circle, and (ii) compute an appropriate transformation $A$ so that the desired vector is $AZ + \\mu$, where $A$ is a standard multivariate Gaussian. Note that each of these parts were done in class.*"
   ]
  },
  {
   "cell_type": "code",
   "execution_count": null,
   "metadata": {},
   "outputs": [],
   "source": []
  },
  {
   "cell_type": "markdown",
   "metadata": {},
   "source": [
    "# Problem 3 \n",
    "\n",
    "In class we discussed a connection between the exponential distribution and the gaps between points which are randomly sprinkled on the number line. In this problem, we'll make that more concrete. Let's use the context of calls arriving at a fire department.\n",
    "\n",
    "(a) Suppose that at each second there's a 1/100 chance of a call arriving that second (suppose for simplicity that calls don't arrive in the same second). How many calls arrive in an hour? Express the answer exactly as a named distribution, and also state another named distribution which approximately describes this random in a way that's more practically useful.\n",
    "\n",
    "(b) Simulate this experiment many times, and plot a histogram of all of the lengths of the time intervals between calls. For example, if a call arrived at the 10-minute mark, then another at the 20-minute mark, and then another at the 50-minute mark, then the time intervals would be 10 and 30 minutes. \n",
    "\n",
    "(c) Consider the random interval between consecutive calls which contains the hour's 30-minute mark. What's the distribution of this random variable? Answer by using a simulation to make a histogram, and answer analytically as well only if you wish. \n",
    "\n",
    "(d) Let's change the model. Suppose that there are 36 people who are going to call in that hour, and each one chooses independently from the others, and uniformly at random from the available 3600 seconds, at which second they're going to call. Repeat part (b); do you get noticably different results? Consider musing on why it might make sense that this would be the case."
   ]
  },
  {
   "cell_type": "code",
   "execution_count": null,
   "metadata": {},
   "outputs": [],
   "source": []
  },
  {
   "cell_type": "markdown",
   "metadata": {},
   "source": [
    "## Problem 4\n",
    "\n",
    "The integral of a positive-valued function $f$ defined on $[a,b]$ can be defined as the area between the four curves $x = a, x = b, y = 0,$ and $y = f(x)$.\n",
    "\n",
    "One way of estimating an area is by using random sampling: Suppose we would like to estimate the value of $\\int_0^1 x^2 dx$. We sample uniformly at random from the unit square $\\{0 \\leq x, y \\leq 1\\}$, and count the proportion of sampled points satisfy the equation $y \\leq x^2$. The more observations sampled, the closer this proportion gets to $\\int_0^1 x^2 dx$.\n",
    "\n",
    "(a) Implement the method described above, and compare your results with the mathematical integral value to check that this method is in fact correct. Please explain why this method makes sense.\n",
    "\n",
    "(b) Using the method above (with a different function), estimate the value of $\\pi$."
   ]
  },
  {
   "cell_type": "code",
   "execution_count": null,
   "metadata": {},
   "outputs": [],
   "source": []
  },
  {
   "cell_type": "markdown",
   "metadata": {},
   "source": [
    "## Problem 5\n",
    "\n",
    "(a) Simulate $n=1000$ observations from the joint distribution of $X$ and $Y$, given that $X$ is uniform on $[0,1]$ and $Y=2+1.2X+ϵ$, where $ϵ∼\\mathbf{N}(0,0.5)$. Record the integrated squared error for the Nadaraya-Watson estimator (with bandwidth selected by *direct* cross-validation, so you're going to minimize the average over all left-out points of the squared error at the left-out point for the leave-one-out regression estimator) and for the line of best fit. \n",
    "\n",
    "(b) Do some simulations for a reasonably wide range of values for $n$ and compute the optimal $\\lambda$ for each one. Plot the result; is it somewhat reminiscent of the part Stone's theorem which specifies the asymptotic behavior of the optimal $\\lambda$ value?\n",
    "\n",
    "*Note: you'll have to write code for simulating from the joint distribution of $X$ and $Y$ and for the cross-validation, but the other aspects of Nadaraya-Watson estimation you can draw pretty substantially from Data Gymnasia.*"
   ]
  },
  {
   "cell_type": "code",
   "execution_count": null,
   "metadata": {},
   "outputs": [],
   "source": []
  }
 ],
 "metadata": {
  "kernelspec": {
   "display_name": "Julia 1.5.1",
   "language": "julia",
   "name": "julia-1.5"
  },
  "language_info": {
   "file_extension": ".jl",
   "mimetype": "application/julia",
   "name": "julia",
   "version": "1.5.1"
  }
 },
 "nbformat": 4,
 "nbformat_minor": 4
}
